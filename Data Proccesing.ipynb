{
 "cells": [
  {
   "cell_type": "code",
   "execution_count": 1,
   "metadata": {},
   "outputs": [],
   "source": [
    "#import packages for plotting\n",
    "\n",
    "import numpy as np\n",
    "import matplotlib.pyplot as plt\n",
    "import pandas as pd\n",
    "\n",
    "\n",
    "\n",
    "from Bandpass import butter_bandpass_filter\n",
    "from Hilbert import Hilbert_transform,phase\n",
    "from CoherenceMap import CoherenceMap"
   ]
  },
  {
   "cell_type": "code",
   "execution_count": 2,
   "metadata": {},
   "outputs": [
    {
     "ename": "KeyboardInterrupt",
     "evalue": "",
     "output_type": "error",
     "traceback": [
      "\u001b[0;31m---------------------------------------------------------------------------\u001b[0m",
      "\u001b[0;31mKeyboardInterrupt\u001b[0m                         Traceback (most recent call last)",
      "\u001b[1;32m/Users/magnusharder/Documents/UNI-DTU/4. Semester/Fagprojekt-f-mri/Data Proccesing.ipynb Cell 2'\u001b[0m in \u001b[0;36m<module>\u001b[0;34m\u001b[0m\n\u001b[1;32m     <a href='vscode-notebook-cell:/Users/magnusharder/Documents/UNI-DTU/4.%20Semester/Fagprojekt-f-mri/Data%20Proccesing.ipynb#ch0000001?line=23'>24</a>\u001b[0m     Theta[idx,:] \u001b[39m=\u001b[39m Theta_t\n\u001b[1;32m     <a href='vscode-notebook-cell:/Users/magnusharder/Documents/UNI-DTU/4.%20Semester/Fagprojekt-f-mri/Data%20Proccesing.ipynb#ch0000001?line=26'>27</a>\u001b[0m \u001b[39m# Creating coherance map and extracting leading eigenvector\u001b[39;00m\n\u001b[0;32m---> <a href='vscode-notebook-cell:/Users/magnusharder/Documents/UNI-DTU/4.%20Semester/Fagprojekt-f-mri/Data%20Proccesing.ipynb#ch0000001?line=27'>28</a>\u001b[0m LEiDA_Signal \u001b[39m=\u001b[39m CoherenceMap(Theta)\n\u001b[1;32m     <a href='vscode-notebook-cell:/Users/magnusharder/Documents/UNI-DTU/4.%20Semester/Fagprojekt-f-mri/Data%20Proccesing.ipynb#ch0000001?line=29'>30</a>\u001b[0m \u001b[39m#Add the i'th subject  to dataframe \u001b[39;00m\n\u001b[1;32m     <a href='vscode-notebook-cell:/Users/magnusharder/Documents/UNI-DTU/4.%20Semester/Fagprojekt-f-mri/Data%20Proccesing.ipynb#ch0000001?line=30'>31</a>\u001b[0m X \u001b[39m=\u001b[39m LEiDA_Signal \u001b[39mif\u001b[39;00m i \u001b[39m==\u001b[39m \u001b[39m0\u001b[39m \u001b[39melse\u001b[39;00m np\u001b[39m.\u001b[39mhstack((X,LEiDA_Signal))\n",
      "File \u001b[0;32m~/Documents/UNI-DTU/4. Semester/Fagprojekt-f-mri/CoherenceMap.py:23\u001b[0m, in \u001b[0;36mCoherenceMap\u001b[0;34m(Theta)\u001b[0m\n\u001b[1;32m     <a href='file:///Users/magnusharder/Documents/UNI-DTU/4.%20Semester/Fagprojekt-f-mri/CoherenceMap.py?line=20'>21</a>\u001b[0m     \u001b[39mfor\u001b[39;00m j \u001b[39min\u001b[39;00m \u001b[39mrange\u001b[39m(N):\n\u001b[1;32m     <a href='file:///Users/magnusharder/Documents/UNI-DTU/4.%20Semester/Fagprojekt-f-mri/CoherenceMap.py?line=21'>22</a>\u001b[0m         \u001b[39mfor\u001b[39;00m k \u001b[39min\u001b[39;00m \u001b[39mrange\u001b[39m(N):\n\u001b[0;32m---> <a href='file:///Users/magnusharder/Documents/UNI-DTU/4.%20Semester/Fagprojekt-f-mri/CoherenceMap.py?line=22'>23</a>\u001b[0m             At[j,k]\u001b[39m=\u001b[39mnp\u001b[39m.\u001b[39mcos(CurrentSample[j]\u001b[39m-\u001b[39mCurrentSample[k])\n\u001b[1;32m     <a href='file:///Users/magnusharder/Documents/UNI-DTU/4.%20Semester/Fagprojekt-f-mri/CoherenceMap.py?line=24'>25</a>\u001b[0m     LEiDA_Signal[:,t] \u001b[39m=\u001b[39m LeadingEigenVector(At)\n\u001b[1;32m     <a href='file:///Users/magnusharder/Documents/UNI-DTU/4.%20Semester/Fagprojekt-f-mri/CoherenceMap.py?line=26'>27</a>\u001b[0m \u001b[39mreturn\u001b[39;00m LEiDA_Signal\n",
      "\u001b[0;31mKeyboardInterrupt\u001b[0m: "
     ]
    }
   ],
   "source": [
    "#read all datafiles\n",
    "\n",
    "n = 215 #highest ID of face filename\n",
    "\n",
    "notfound = {}\n",
    "\n",
    "for i in range(n):\n",
    "    try:\n",
    "            df = pd.read_csv(f\"AALdata/sub-{(i+1):04d}_faces.csv\",sep=\",\",header=None)\n",
    "    except FileNotFoundError:\n",
    "            notfound[i] = f\"{(i+1):04d}\"\n",
    "            continue\n",
    "    \n",
    "    # Filtering signal with bandpass filter\n",
    "    X_filtered = butter_bandpass_filter(df.values)\n",
    "\n",
    "\n",
    "    # Hilbert transform to extract phase data.\n",
    "    N,T = X_filtered.shape\n",
    "    Theta = np.zeros((N,T))\n",
    "    for idx, x in enumerate(X_filtered):\n",
    "        s_t,sh_t=Hilbert_transform(x)\n",
    "        Theta_t = phase(s_t, sh_t)\n",
    "        Theta[idx,:] = Theta_t\n",
    "\n",
    "\n",
    "    # Creating coherance map and extracting leading eigenvector\n",
    "    LEiDA_Signal = CoherenceMap(Theta)\n",
    "    \n",
    "    #Add the i'th subject  to dataframe \n",
    "    X = LEiDA_Signal if i == 0 else np.hstack((X,LEiDA_Signal))\n",
    "\n",
    "print(f\"files not found {[*notfound.values()]}\")\n",
    "print(f\"Number of files not found: {len(notfound)}\")\n",
    "print(f\"Dimentions of data ({X.shape[0],X.shape[1]})\")"
   ]
  },
  {
   "cell_type": "code",
   "execution_count": 3,
   "metadata": {},
   "outputs": [],
   "source": [
    "import pickle\n",
    "with open('.Data_LEiDA_Representation.pickle','wb') as f:\n",
    "    pickle.dump(X, f)"
   ]
  }
 ],
 "metadata": {
  "interpreter": {
   "hash": "40d3a090f54c6569ab1632332b64b2c03c39dcf918b08424e98f38b5ae0af88f"
  },
  "kernelspec": {
   "display_name": "Python 3.8.8 ('base')",
   "language": "python",
   "name": "python3"
  },
  "language_info": {
   "codemirror_mode": {
    "name": "ipython",
    "version": 3
   },
   "file_extension": ".py",
   "mimetype": "text/x-python",
   "name": "python",
   "nbconvert_exporter": "python",
   "pygments_lexer": "ipython3",
   "version": "3.8.8"
  },
  "orig_nbformat": 4
 },
 "nbformat": 4,
 "nbformat_minor": 2
}
