{
 "cells": [
  {
   "cell_type": "code",
   "execution_count": 1,
   "metadata": {},
   "outputs": [
    {
     "name": "stdout",
     "output_type": "stream",
     "text": [
      "def Accumulated_HHM_LL(X: Tensor,\n",
      "    Pinit: Tensor,\n",
      "    kappa: Tensor,\n",
      "    mu: Tensor,\n",
      "    Tk: Tensor,\n",
      "    n: int,\n",
      "    p: int,\n",
      "    K: int) -> Tensor:\n",
      "  _0 = __torch__.HMM_Likelyhood.HMM_log_likelihood\n",
      "  kappa_con = torch.minimum(^<python_value>()(kappa), torch.tensor([800]))\n",
      "  _1 = torch.sqrt(torch.sum(torch.pow(mu, 2), [0]))\n",
      "  mu_con = torch.div(mu, _1)\n",
      "  Subjectlog_Likelihood = torch.zeros([n])\n",
      "  for subject in range(n):\n",
      "    _2 = torch.slice(X)\n",
      "    _3 = torch.mul(330, subject)\n",
      "    _4 = torch.mul(330, torch.add(subject, 1))\n",
      "    _5 = torch.slice(_2, 1, _3, _4)\n",
      "    _6 = torch.select(torch.slice(Pinit), 1, subject)\n",
      "    _7 = ^<python_value>()(_6)\n",
      "    _8 = ^<python_value>()(torch.select(Tk, 0, subject))\n",
      "    _9 = _0(_5, _7, kappa_con, mu_con, _8, p, K, )\n",
      "    _10 = torch.select(Subjectlog_Likelihood, 0, subject)\n",
      "    _11 = torch.copy_(_10, _9)\n",
      "  return torch.sum(Subjectlog_Likelihood)\n",
      "\n"
     ]
    }
   ],
   "source": [
    "import torch\n",
    "import pandas as pd\n",
    "import numpy as np\n",
    "import pickle\n",
    "import HMM_Likelyhood\n",
    "import plotly.express as px\n",
    "\n",
    "with open('DataPhase.pickle','rb') as f:\n",
    "    X = pickle.load(f) \n",
    "X_tensor = X_tensor = torch.from_numpy(X).to(torch.float64)\n",
    "#X_tensor = torch.reshape(X_tensor.T,(-1,90,330))\n",
    "torch.set_default_dtype(torch.float64)\n"
   ]
  },
  {
   "cell_type": "code",
   "execution_count": 2,
   "metadata": {},
   "outputs": [],
   "source": [
    "Repetetions = 5\n",
    "Subjects = 20\n",
    "Likelihoods = np.zeros((5,19))\n",
    "Xtrain = torch.zeros((90,165*Subjects))\n",
    "Xtest = torch.zeros((90,165*Subjects))\n",
    "for i in range(Subjects):\n",
    "    Xtrain[:,i*(165):((i+1)*165)] = X_tensor[:,i*(330):((i*330+165))]\n",
    "    Xtest[:,i*(165):((i+1)*165)] = X_tensor[:,i*(330)+165:((i*330+330))]\n",
    "\n",
    "lr= 1.2\n",
    "n_iters=1000"
   ]
  },
  {
   "cell_type": "code",
   "execution_count": null,
   "metadata": {},
   "outputs": [],
   "source": [
    "kappa,mu,Tk,Pinit = HMM_Likelyhood.InitializeParametersFF(X_tensor,Subjects,p=90,K=7)"
   ]
  },
  {
   "cell_type": "code",
   "execution_count": 12,
   "metadata": {},
   "outputs": [],
   "source": [
    "for idx,K in enumerate(range(2,3)):\n",
    "    for rep in range(Repetetions):\n",
    "            kappa,mu,Tk,Pinit = HMM_Likelyhood.InitializeParametersFF(X_tensor,Subjects,p=90,K=7)\n",
    "\n",
    "            Parameters = [\n",
    "                {'params':Pinit},\n",
    "                {'params':kappa},\n",
    "                {'params':mu},\n",
    "                {'params':Tk},\n",
    "            ]\n",
    "\n",
    "            Adam = torch.optim.Adam(Parameters,lr=lr)\n",
    "            HMM_Likelyhood.OptimizationTraj(Xtrain,[Pinit,kappa,mu,Tk],lose=HMM_Likelyhood.Accumulated_HHM_LLHalf,Optimizer=Adam,n=Subjects,n_iters=n_iters,K=K)\n",
    "\n",
    "            Likelihoods[rep,K-2] = HMM_Likelyhood.Accumulated_HHM_LLHalf(Xtest,Pinit,kappa,mu,Tk,n=Subjects,p=90,K=K)"
   ]
  },
  {
   "cell_type": "code",
   "execution_count": 5,
   "metadata": {},
   "outputs": [],
   "source": [
    "with open('HMM_K_Eval.pickle','wb') as f:\n",
    "    pickle.dump([Likelihoods], f)"
   ]
  }
 ],
 "metadata": {
  "kernelspec": {
   "display_name": "Python 3.9.13 ('Computing')",
   "language": "python",
   "name": "python3"
  },
  "language_info": {
   "codemirror_mode": {
    "name": "ipython",
    "version": 3
   },
   "file_extension": ".py",
   "mimetype": "text/x-python",
   "name": "python",
   "nbconvert_exporter": "python",
   "pygments_lexer": "ipython3",
   "version": "3.9.13"
  },
  "orig_nbformat": 4,
  "vscode": {
   "interpreter": {
    "hash": "7186f50bc7e4f6fc7d934fcdcff9c9c1209c61688b8009ca21f1565a7a0186c9"
   }
  }
 },
 "nbformat": 4,
 "nbformat_minor": 2
}
