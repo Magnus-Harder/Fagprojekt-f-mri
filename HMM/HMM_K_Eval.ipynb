{
 "cells": [
  {
   "cell_type": "code",
   "execution_count": 1,
   "metadata": {},
   "outputs": [
    {
     "name": "stdout",
     "output_type": "stream",
     "text": [
      "def Accumulated_HHM_LL(X: Tensor,\n",
      "    Pinit: Tensor,\n",
      "    kappa: Tensor,\n",
      "    mu: Tensor,\n",
      "    Tk: Tensor,\n",
      "    n: int,\n",
      "    p: int,\n",
      "    K: int) -> Tensor:\n",
      "  _0 = __torch__.HMM_Likelyhood.HMM_log_likelihood\n",
      "  kappa_con = torch.minimum(^<python_value>()(kappa), torch.tensor([800]))\n",
      "  _1 = torch.sqrt(torch.sum(torch.pow(mu, 2), [0]))\n",
      "  mu_con = torch.div(mu, _1)\n",
      "  Subjectlog_Likelihood = torch.zeros([n])\n",
      "  for subject in range(n):\n",
      "    _2 = torch.slice(X)\n",
      "    _3 = torch.mul(330, subject)\n",
      "    _4 = torch.mul(330, torch.add(subject, 1))\n",
      "    _5 = torch.slice(_2, 1, _3, _4)\n",
      "    _6 = torch.select(torch.slice(Pinit), 1, subject)\n",
      "    _7 = ^<python_value>()(_6)\n",
      "    _8 = ^<python_value>()(torch.select(Tk, 0, subject))\n",
      "    _9 = _0(_5, _7, kappa_con, mu_con, _8, p, K, )\n",
      "    _10 = torch.select(Subjectlog_Likelihood, 0, subject)\n",
      "    _11 = torch.copy_(_10, _9)\n",
      "  return torch.sum(Subjectlog_Likelihood)\n",
      "\n"
     ]
    }
   ],
   "source": [
    "import torch\n",
    "import pandas as pd\n",
    "import numpy as np\n",
    "import pickle\n",
    "import HMM_Likelyhood\n",
    "import plotly.express as px\n",
    "\n",
    "with open('DataPhase.pickle','rb') as f:\n",
    "    X = pickle.load(f) \n",
    "X_tensor = X_tensor = torch.from_numpy(X).to(torch.float64)\n",
    "#X_tensor = torch.reshape(X_tensor.T,(-1,90,330))\n",
    "torch.set_default_dtype(torch.float64)\n"
   ]
  },
  {
   "cell_type": "code",
   "execution_count": 15,
   "metadata": {},
   "outputs": [
    {
     "data": {
      "application/vnd.plotly.v1+json": {
       "config": {
        "plotlyServerURL": "https://plot.ly"
       },
       "data": [
        {
         "hovertemplate": "variable=0<br>index=%{x}<br>value=%{y}<extra></extra>",
         "legendgroup": "0",
         "line": {
          "color": "#636efa",
          "dash": "solid"
         },
         "marker": {
          "symbol": "circle"
         },
         "mode": "lines",
         "name": "0",
         "orientation": "v",
         "showlegend": true,
         "type": "scatter",
         "x": [
          0,
          1,
          2,
          3
         ],
         "xaxis": "x",
         "y": [
          297291.05161158333,
          299886.2492046176,
          304399.70885845553,
          301937.7823889304
         ],
         "yaxis": "y"
        }
       ],
       "layout": {
        "legend": {
         "title": {
          "text": "variable"
         },
         "tracegroupgap": 0
        },
        "margin": {
         "t": 60
        },
        "template": {
         "data": {
          "bar": [
           {
            "error_x": {
             "color": "#2a3f5f"
            },
            "error_y": {
             "color": "#2a3f5f"
            },
            "marker": {
             "line": {
              "color": "#E5ECF6",
              "width": 0.5
             },
             "pattern": {
              "fillmode": "overlay",
              "size": 10,
              "solidity": 0.2
             }
            },
            "type": "bar"
           }
          ],
          "barpolar": [
           {
            "marker": {
             "line": {
              "color": "#E5ECF6",
              "width": 0.5
             },
             "pattern": {
              "fillmode": "overlay",
              "size": 10,
              "solidity": 0.2
             }
            },
            "type": "barpolar"
           }
          ],
          "carpet": [
           {
            "aaxis": {
             "endlinecolor": "#2a3f5f",
             "gridcolor": "white",
             "linecolor": "white",
             "minorgridcolor": "white",
             "startlinecolor": "#2a3f5f"
            },
            "baxis": {
             "endlinecolor": "#2a3f5f",
             "gridcolor": "white",
             "linecolor": "white",
             "minorgridcolor": "white",
             "startlinecolor": "#2a3f5f"
            },
            "type": "carpet"
           }
          ],
          "choropleth": [
           {
            "colorbar": {
             "outlinewidth": 0,
             "ticks": ""
            },
            "type": "choropleth"
           }
          ],
          "contour": [
           {
            "colorbar": {
             "outlinewidth": 0,
             "ticks": ""
            },
            "colorscale": [
             [
              0,
              "#0d0887"
             ],
             [
              0.1111111111111111,
              "#46039f"
             ],
             [
              0.2222222222222222,
              "#7201a8"
             ],
             [
              0.3333333333333333,
              "#9c179e"
             ],
             [
              0.4444444444444444,
              "#bd3786"
             ],
             [
              0.5555555555555556,
              "#d8576b"
             ],
             [
              0.6666666666666666,
              "#ed7953"
             ],
             [
              0.7777777777777778,
              "#fb9f3a"
             ],
             [
              0.8888888888888888,
              "#fdca26"
             ],
             [
              1,
              "#f0f921"
             ]
            ],
            "type": "contour"
           }
          ],
          "contourcarpet": [
           {
            "colorbar": {
             "outlinewidth": 0,
             "ticks": ""
            },
            "type": "contourcarpet"
           }
          ],
          "heatmap": [
           {
            "colorbar": {
             "outlinewidth": 0,
             "ticks": ""
            },
            "colorscale": [
             [
              0,
              "#0d0887"
             ],
             [
              0.1111111111111111,
              "#46039f"
             ],
             [
              0.2222222222222222,
              "#7201a8"
             ],
             [
              0.3333333333333333,
              "#9c179e"
             ],
             [
              0.4444444444444444,
              "#bd3786"
             ],
             [
              0.5555555555555556,
              "#d8576b"
             ],
             [
              0.6666666666666666,
              "#ed7953"
             ],
             [
              0.7777777777777778,
              "#fb9f3a"
             ],
             [
              0.8888888888888888,
              "#fdca26"
             ],
             [
              1,
              "#f0f921"
             ]
            ],
            "type": "heatmap"
           }
          ],
          "heatmapgl": [
           {
            "colorbar": {
             "outlinewidth": 0,
             "ticks": ""
            },
            "colorscale": [
             [
              0,
              "#0d0887"
             ],
             [
              0.1111111111111111,
              "#46039f"
             ],
             [
              0.2222222222222222,
              "#7201a8"
             ],
             [
              0.3333333333333333,
              "#9c179e"
             ],
             [
              0.4444444444444444,
              "#bd3786"
             ],
             [
              0.5555555555555556,
              "#d8576b"
             ],
             [
              0.6666666666666666,
              "#ed7953"
             ],
             [
              0.7777777777777778,
              "#fb9f3a"
             ],
             [
              0.8888888888888888,
              "#fdca26"
             ],
             [
              1,
              "#f0f921"
             ]
            ],
            "type": "heatmapgl"
           }
          ],
          "histogram": [
           {
            "marker": {
             "pattern": {
              "fillmode": "overlay",
              "size": 10,
              "solidity": 0.2
             }
            },
            "type": "histogram"
           }
          ],
          "histogram2d": [
           {
            "colorbar": {
             "outlinewidth": 0,
             "ticks": ""
            },
            "colorscale": [
             [
              0,
              "#0d0887"
             ],
             [
              0.1111111111111111,
              "#46039f"
             ],
             [
              0.2222222222222222,
              "#7201a8"
             ],
             [
              0.3333333333333333,
              "#9c179e"
             ],
             [
              0.4444444444444444,
              "#bd3786"
             ],
             [
              0.5555555555555556,
              "#d8576b"
             ],
             [
              0.6666666666666666,
              "#ed7953"
             ],
             [
              0.7777777777777778,
              "#fb9f3a"
             ],
             [
              0.8888888888888888,
              "#fdca26"
             ],
             [
              1,
              "#f0f921"
             ]
            ],
            "type": "histogram2d"
           }
          ],
          "histogram2dcontour": [
           {
            "colorbar": {
             "outlinewidth": 0,
             "ticks": ""
            },
            "colorscale": [
             [
              0,
              "#0d0887"
             ],
             [
              0.1111111111111111,
              "#46039f"
             ],
             [
              0.2222222222222222,
              "#7201a8"
             ],
             [
              0.3333333333333333,
              "#9c179e"
             ],
             [
              0.4444444444444444,
              "#bd3786"
             ],
             [
              0.5555555555555556,
              "#d8576b"
             ],
             [
              0.6666666666666666,
              "#ed7953"
             ],
             [
              0.7777777777777778,
              "#fb9f3a"
             ],
             [
              0.8888888888888888,
              "#fdca26"
             ],
             [
              1,
              "#f0f921"
             ]
            ],
            "type": "histogram2dcontour"
           }
          ],
          "mesh3d": [
           {
            "colorbar": {
             "outlinewidth": 0,
             "ticks": ""
            },
            "type": "mesh3d"
           }
          ],
          "parcoords": [
           {
            "line": {
             "colorbar": {
              "outlinewidth": 0,
              "ticks": ""
             }
            },
            "type": "parcoords"
           }
          ],
          "pie": [
           {
            "automargin": true,
            "type": "pie"
           }
          ],
          "scatter": [
           {
            "fillpattern": {
             "fillmode": "overlay",
             "size": 10,
             "solidity": 0.2
            },
            "type": "scatter"
           }
          ],
          "scatter3d": [
           {
            "line": {
             "colorbar": {
              "outlinewidth": 0,
              "ticks": ""
             }
            },
            "marker": {
             "colorbar": {
              "outlinewidth": 0,
              "ticks": ""
             }
            },
            "type": "scatter3d"
           }
          ],
          "scattercarpet": [
           {
            "marker": {
             "colorbar": {
              "outlinewidth": 0,
              "ticks": ""
             }
            },
            "type": "scattercarpet"
           }
          ],
          "scattergeo": [
           {
            "marker": {
             "colorbar": {
              "outlinewidth": 0,
              "ticks": ""
             }
            },
            "type": "scattergeo"
           }
          ],
          "scattergl": [
           {
            "marker": {
             "colorbar": {
              "outlinewidth": 0,
              "ticks": ""
             }
            },
            "type": "scattergl"
           }
          ],
          "scattermapbox": [
           {
            "marker": {
             "colorbar": {
              "outlinewidth": 0,
              "ticks": ""
             }
            },
            "type": "scattermapbox"
           }
          ],
          "scatterpolar": [
           {
            "marker": {
             "colorbar": {
              "outlinewidth": 0,
              "ticks": ""
             }
            },
            "type": "scatterpolar"
           }
          ],
          "scatterpolargl": [
           {
            "marker": {
             "colorbar": {
              "outlinewidth": 0,
              "ticks": ""
             }
            },
            "type": "scatterpolargl"
           }
          ],
          "scatterternary": [
           {
            "marker": {
             "colorbar": {
              "outlinewidth": 0,
              "ticks": ""
             }
            },
            "type": "scatterternary"
           }
          ],
          "surface": [
           {
            "colorbar": {
             "outlinewidth": 0,
             "ticks": ""
            },
            "colorscale": [
             [
              0,
              "#0d0887"
             ],
             [
              0.1111111111111111,
              "#46039f"
             ],
             [
              0.2222222222222222,
              "#7201a8"
             ],
             [
              0.3333333333333333,
              "#9c179e"
             ],
             [
              0.4444444444444444,
              "#bd3786"
             ],
             [
              0.5555555555555556,
              "#d8576b"
             ],
             [
              0.6666666666666666,
              "#ed7953"
             ],
             [
              0.7777777777777778,
              "#fb9f3a"
             ],
             [
              0.8888888888888888,
              "#fdca26"
             ],
             [
              1,
              "#f0f921"
             ]
            ],
            "type": "surface"
           }
          ],
          "table": [
           {
            "cells": {
             "fill": {
              "color": "#EBF0F8"
             },
             "line": {
              "color": "white"
             }
            },
            "header": {
             "fill": {
              "color": "#C8D4E3"
             },
             "line": {
              "color": "white"
             }
            },
            "type": "table"
           }
          ]
         },
         "layout": {
          "annotationdefaults": {
           "arrowcolor": "#2a3f5f",
           "arrowhead": 0,
           "arrowwidth": 1
          },
          "autotypenumbers": "strict",
          "coloraxis": {
           "colorbar": {
            "outlinewidth": 0,
            "ticks": ""
           }
          },
          "colorscale": {
           "diverging": [
            [
             0,
             "#8e0152"
            ],
            [
             0.1,
             "#c51b7d"
            ],
            [
             0.2,
             "#de77ae"
            ],
            [
             0.3,
             "#f1b6da"
            ],
            [
             0.4,
             "#fde0ef"
            ],
            [
             0.5,
             "#f7f7f7"
            ],
            [
             0.6,
             "#e6f5d0"
            ],
            [
             0.7,
             "#b8e186"
            ],
            [
             0.8,
             "#7fbc41"
            ],
            [
             0.9,
             "#4d9221"
            ],
            [
             1,
             "#276419"
            ]
           ],
           "sequential": [
            [
             0,
             "#0d0887"
            ],
            [
             0.1111111111111111,
             "#46039f"
            ],
            [
             0.2222222222222222,
             "#7201a8"
            ],
            [
             0.3333333333333333,
             "#9c179e"
            ],
            [
             0.4444444444444444,
             "#bd3786"
            ],
            [
             0.5555555555555556,
             "#d8576b"
            ],
            [
             0.6666666666666666,
             "#ed7953"
            ],
            [
             0.7777777777777778,
             "#fb9f3a"
            ],
            [
             0.8888888888888888,
             "#fdca26"
            ],
            [
             1,
             "#f0f921"
            ]
           ],
           "sequentialminus": [
            [
             0,
             "#0d0887"
            ],
            [
             0.1111111111111111,
             "#46039f"
            ],
            [
             0.2222222222222222,
             "#7201a8"
            ],
            [
             0.3333333333333333,
             "#9c179e"
            ],
            [
             0.4444444444444444,
             "#bd3786"
            ],
            [
             0.5555555555555556,
             "#d8576b"
            ],
            [
             0.6666666666666666,
             "#ed7953"
            ],
            [
             0.7777777777777778,
             "#fb9f3a"
            ],
            [
             0.8888888888888888,
             "#fdca26"
            ],
            [
             1,
             "#f0f921"
            ]
           ]
          },
          "colorway": [
           "#636efa",
           "#EF553B",
           "#00cc96",
           "#ab63fa",
           "#FFA15A",
           "#19d3f3",
           "#FF6692",
           "#B6E880",
           "#FF97FF",
           "#FECB52"
          ],
          "font": {
           "color": "#2a3f5f"
          },
          "geo": {
           "bgcolor": "white",
           "lakecolor": "white",
           "landcolor": "#E5ECF6",
           "showlakes": true,
           "showland": true,
           "subunitcolor": "white"
          },
          "hoverlabel": {
           "align": "left"
          },
          "hovermode": "closest",
          "mapbox": {
           "style": "light"
          },
          "paper_bgcolor": "white",
          "plot_bgcolor": "#E5ECF6",
          "polar": {
           "angularaxis": {
            "gridcolor": "white",
            "linecolor": "white",
            "ticks": ""
           },
           "bgcolor": "#E5ECF6",
           "radialaxis": {
            "gridcolor": "white",
            "linecolor": "white",
            "ticks": ""
           }
          },
          "scene": {
           "xaxis": {
            "backgroundcolor": "#E5ECF6",
            "gridcolor": "white",
            "gridwidth": 2,
            "linecolor": "white",
            "showbackground": true,
            "ticks": "",
            "zerolinecolor": "white"
           },
           "yaxis": {
            "backgroundcolor": "#E5ECF6",
            "gridcolor": "white",
            "gridwidth": 2,
            "linecolor": "white",
            "showbackground": true,
            "ticks": "",
            "zerolinecolor": "white"
           },
           "zaxis": {
            "backgroundcolor": "#E5ECF6",
            "gridcolor": "white",
            "gridwidth": 2,
            "linecolor": "white",
            "showbackground": true,
            "ticks": "",
            "zerolinecolor": "white"
           }
          },
          "shapedefaults": {
           "line": {
            "color": "#2a3f5f"
           }
          },
          "ternary": {
           "aaxis": {
            "gridcolor": "white",
            "linecolor": "white",
            "ticks": ""
           },
           "baxis": {
            "gridcolor": "white",
            "linecolor": "white",
            "ticks": ""
           },
           "bgcolor": "#E5ECF6",
           "caxis": {
            "gridcolor": "white",
            "linecolor": "white",
            "ticks": ""
           }
          },
          "title": {
           "x": 0.05
          },
          "xaxis": {
           "automargin": true,
           "gridcolor": "white",
           "linecolor": "white",
           "ticks": "",
           "title": {
            "standoff": 15
           },
           "zerolinecolor": "white",
           "zerolinewidth": 2
          },
          "yaxis": {
           "automargin": true,
           "gridcolor": "white",
           "linecolor": "white",
           "ticks": "",
           "title": {
            "standoff": 15
           },
           "zerolinecolor": "white",
           "zerolinewidth": 2
          }
         }
        },
        "xaxis": {
         "anchor": "y",
         "domain": [
          0,
          1
         ],
         "title": {
          "text": "index"
         }
        },
        "yaxis": {
         "anchor": "x",
         "domain": [
          0,
          1
         ],
         "title": {
          "text": "value"
         }
        }
       }
      }
     },
     "metadata": {},
     "output_type": "display_data"
    }
   ],
   "source": [
    "px.line(Likelihoods[:,10:14].mean(0))"
   ]
  },
  {
   "cell_type": "code",
   "execution_count": 2,
   "metadata": {},
   "outputs": [],
   "source": [
    "Repetetions = 5\n",
    "Subjects = 20\n",
    "Likelihoods = np.zeros((5,19))\n",
    "Xtrain = torch.zeros((90,165*Subjects))\n",
    "Xtest = torch.zeros((90,165*Subjects))\n",
    "for i in range(Subjects):\n",
    "    Xtrain[:,i*(165):((i+1)*165)] = X_tensor[:,i*(330):((i*330+165))]\n",
    "    Xtest[:,i*(165):((i+1)*165)] = X_tensor[:,i*(330)+165:((i*330+330))]\n",
    "\n",
    "lr= 1.2\n",
    "n_iters=1000"
   ]
  },
  {
   "cell_type": "code",
   "execution_count": 7,
   "metadata": {},
   "outputs": [
    {
     "name": "stdout",
     "output_type": "stream",
     "text": [
      "epoch 1; Log-Likelihood = -241355.07676478272\n",
      "epoch 101; Log-Likelihood = -307795.64725452114\n",
      "epoch 201; Log-Likelihood = -316093.08925743366\n",
      "epoch 301; Log-Likelihood = -326623.6857789706\n",
      "epoch 401; Log-Likelihood = -337269.22867965803\n",
      "epoch 501; Log-Likelihood = -347851.98984003474\n",
      "epoch 601; Log-Likelihood = -357233.1812167928\n",
      "epoch 701; Log-Likelihood = -365964.1567597541\n",
      "epoch 801; Log-Likelihood = -374183.6240303109\n",
      "epoch 901; Log-Likelihood = -379781.3561943339\n",
      "epoch 1000; Log-Likelihood = -380227.71817153285\n",
      "epoch 1; Log-Likelihood = -241364.42196062612\n",
      "epoch 101; Log-Likelihood = -311497.7848102171\n",
      "epoch 201; Log-Likelihood = -319636.1436369316\n",
      "epoch 301; Log-Likelihood = -329518.09883851476\n",
      "epoch 401; Log-Likelihood = -341140.294809267\n",
      "epoch 501; Log-Likelihood = -355193.80690752156\n",
      "epoch 601; Log-Likelihood = -370123.69981088006\n",
      "epoch 701; Log-Likelihood = -378858.766466527\n",
      "epoch 801; Log-Likelihood = -381507.20237024396\n",
      "epoch 901; Log-Likelihood = -383973.4549560844\n",
      "epoch 1000; Log-Likelihood = -384116.0509251751\n",
      "epoch 1; Log-Likelihood = -241364.20665052932\n",
      "epoch 101; Log-Likelihood = -308551.27958615293\n",
      "epoch 201; Log-Likelihood = -314368.03986195824\n",
      "epoch 301; Log-Likelihood = -324836.9399065609\n",
      "epoch 401; Log-Likelihood = -336735.85529434343\n",
      "epoch 501; Log-Likelihood = -351666.2202867274\n",
      "epoch 601; Log-Likelihood = -365306.7229532049\n",
      "epoch 701; Log-Likelihood = -372872.1151331153\n",
      "epoch 801; Log-Likelihood = -377222.341749963\n",
      "epoch 901; Log-Likelihood = -378404.62722766015\n",
      "epoch 1000; Log-Likelihood = -378433.06780766\n",
      "epoch 1; Log-Likelihood = -241356.8002000583\n",
      "epoch 101; Log-Likelihood = -309826.4995623318\n",
      "epoch 201; Log-Likelihood = -316401.1835772934\n",
      "epoch 301; Log-Likelihood = -324348.5069411307\n",
      "epoch 401; Log-Likelihood = -334893.03354866366\n",
      "epoch 501; Log-Likelihood = -346017.12805188645\n",
      "epoch 601; Log-Likelihood = -357137.5495567801\n",
      "epoch 701; Log-Likelihood = -364107.35858176096\n",
      "epoch 801; Log-Likelihood = -368375.453687952\n",
      "epoch 901; Log-Likelihood = -371227.25795471563\n",
      "epoch 1000; Log-Likelihood = -371554.7079690621\n",
      "epoch 1; Log-Likelihood = -241350.25036711758\n",
      "epoch 101; Log-Likelihood = -310368.7684295154\n",
      "epoch 201; Log-Likelihood = -319278.4236980848\n",
      "epoch 301; Log-Likelihood = -328218.9914213499\n",
      "epoch 401; Log-Likelihood = -338584.31392135867\n",
      "epoch 501; Log-Likelihood = -350816.46970206907\n",
      "epoch 601; Log-Likelihood = -363047.00399873895\n",
      "epoch 701; Log-Likelihood = -369682.67337891826\n",
      "epoch 801; Log-Likelihood = -373107.63235168555\n",
      "epoch 901; Log-Likelihood = -374661.6550815834\n",
      "epoch 1000; Log-Likelihood = -376612.4864946871\n",
      "epoch 1; Log-Likelihood = -241360.4254331143\n",
      "epoch 101; Log-Likelihood = -309124.75937055115\n",
      "epoch 201; Log-Likelihood = -315063.1446214698\n",
      "epoch 301; Log-Likelihood = -325842.39804095106\n",
      "epoch 401; Log-Likelihood = -337178.7423728055\n",
      "epoch 501; Log-Likelihood = -350498.4960481856\n",
      "epoch 601; Log-Likelihood = -362153.2460276036\n",
      "epoch 701; Log-Likelihood = -370569.64493306336\n",
      "epoch 801; Log-Likelihood = -375644.0215493306\n",
      "epoch 901; Log-Likelihood = -377482.9441128145\n",
      "epoch 1000; Log-Likelihood = -378749.43875136785\n",
      "epoch 1; Log-Likelihood = -241359.68602315875\n",
      "epoch 101; Log-Likelihood = -311906.611660041\n",
      "epoch 201; Log-Likelihood = -318374.1162378014\n",
      "epoch 301; Log-Likelihood = -326045.2761367809\n",
      "epoch 401; Log-Likelihood = -335579.63302237936\n",
      "epoch 501; Log-Likelihood = -345852.45594008744\n",
      "epoch 601; Log-Likelihood = -356019.6612467934\n",
      "epoch 701; Log-Likelihood = -367984.73452313803\n",
      "epoch 801; Log-Likelihood = -377106.1657832743\n",
      "epoch 901; Log-Likelihood = -381963.69731975027\n",
      "epoch 1000; Log-Likelihood = -383691.91026883025\n",
      "epoch 1; Log-Likelihood = -241363.68661776674\n",
      "epoch 101; Log-Likelihood = -310135.2088136196\n",
      "epoch 201; Log-Likelihood = -317860.26990437286\n",
      "epoch 301; Log-Likelihood = -327663.8362022922\n",
      "epoch 401; Log-Likelihood = -339704.7344108673\n",
      "epoch 501; Log-Likelihood = -352106.3101770428\n",
      "epoch 601; Log-Likelihood = -360310.4551290733\n",
      "epoch 701; Log-Likelihood = -366012.48965898145\n",
      "epoch 801; Log-Likelihood = -371644.2324324329\n",
      "epoch 901; Log-Likelihood = -377564.07223602704\n",
      "epoch 1000; Log-Likelihood = -385948.5846572267\n",
      "epoch 1; Log-Likelihood = -241360.96361425333\n",
      "epoch 101; Log-Likelihood = -307710.40997414355\n",
      "epoch 201; Log-Likelihood = -317087.05209870334\n",
      "epoch 301; Log-Likelihood = -325194.42262041813\n",
      "epoch 401; Log-Likelihood = -336035.3735980329\n",
      "epoch 501; Log-Likelihood = -349202.9870992027\n",
      "epoch 601; Log-Likelihood = -359950.8144832873\n",
      "epoch 701; Log-Likelihood = -365304.5082177811\n",
      "epoch 801; Log-Likelihood = -369154.0919013666\n",
      "epoch 901; Log-Likelihood = -372815.0334200287\n",
      "epoch 1000; Log-Likelihood = -375259.74851794954\n",
      "epoch 1; Log-Likelihood = -241360.58805382953\n",
      "epoch 101; Log-Likelihood = -310035.30532310717\n",
      "epoch 201; Log-Likelihood = -317636.23719866504\n",
      "epoch 301; Log-Likelihood = -326954.4517285397\n",
      "epoch 401; Log-Likelihood = -338389.82333455165\n",
      "epoch 501; Log-Likelihood = -353678.8362764388\n",
      "epoch 601; Log-Likelihood = -368137.87637976394\n",
      "epoch 701; Log-Likelihood = -377042.965493357\n",
      "epoch 801; Log-Likelihood = -381774.9212436469\n",
      "epoch 901; Log-Likelihood = -384812.70564843377\n",
      "epoch 1000; Log-Likelihood = -384853.91946605925\n"
     ]
    }
   ],
   "source": [
    "for idx,K in enumerate(range(1,16)):\n",
    "    for rep in range(Repetetions):\n",
    "            kappa,mu,Tk,Pinit = HMM_Likelyhood.InitializeParametersFF(X_tensor,Subjects,p=90,K=K)\n",
    "\n",
    "            Parameters = [\n",
    "                {'params':Pinit},\n",
    "                {'params':kappa},\n",
    "                {'params':mu},\n",
    "                {'params':Tk},\n",
    "            ]\n",
    "\n",
    "            Adam = torch.optim.Adam(Parameters,lr=lr)\n",
    "            HMM_Likelyhood.OptimizationTraj(Xtrain,[Pinit,kappa,mu,Tk],lose=HMM_Likelyhood.Accumulated_HHM_LLHalf,Optimizer=Adam,n=Subjects,n_iters=n_iters,K=K)\n",
    "\n",
    "            Likelihoods[rep,K-2] = HMM_Likelyhood.Accumulated_HHM_LLHalf(Xtest,Pinit,kappa,mu,Tk,n=Subjects,p=90,K=K)"
   ]
  },
  {
   "cell_type": "code",
   "execution_count": 17,
   "metadata": {},
   "outputs": [],
   "source": [
    "with open('HMM_K_Eval.pickle','wb') as f:\n",
    "    pickle.dump([Likelihoods], f)"
   ]
  }
 ],
 "metadata": {
  "kernelspec": {
   "display_name": "Python 3.9.13 ('Computing')",
   "language": "python",
   "name": "python3"
  },
  "language_info": {
   "codemirror_mode": {
    "name": "ipython",
    "version": 3
   },
   "file_extension": ".py",
   "mimetype": "text/x-python",
   "name": "python",
   "nbconvert_exporter": "python",
   "pygments_lexer": "ipython3",
   "version": "3.9.13"
  },
  "orig_nbformat": 4,
  "vscode": {
   "interpreter": {
    "hash": "7186f50bc7e4f6fc7d934fcdcff9c9c1209c61688b8009ca21f1565a7a0186c9"
   }
  }
 },
 "nbformat": 4,
 "nbformat_minor": 2
}
