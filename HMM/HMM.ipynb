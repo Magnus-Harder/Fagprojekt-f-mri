{
 "cells": [
  {
   "cell_type": "code",
   "execution_count": 3,
   "metadata": {},
   "outputs": [],
   "source": [
    "import torch\n",
    "import numpy as np\n",
    "import pickle\n",
    "\n",
    "from HMM_Likelyhood import HMM_log_likelihood,Optimizationloop, InitializeParameters,Accumulated_HHM_LL\n",
    "import LogLikelihoodTorch\n",
    "\n",
    "import HMM_Likelyhood\n",
    "\n",
    "with open('DataPhase.pickle','rb') as f:\n",
    "    X = pickle.load(f) \n",
    "X_tensor = X_tensor = torch.from_numpy(X).to(torch.float64)\n",
    "#X_tensor = torch.reshape(X_tensor.T,(-1,90,330))\n",
    "torch.set_default_dtype(torch.float64)"
   ]
  },
  {
   "cell_type": "code",
   "execution_count": 12,
   "metadata": {},
   "outputs": [],
   "source": [
    "# Optimization Using MM to fit a pre estimate of Mu,kappa\n",
    "def HMM_Optimization(X,kappa,mu,Tk,Pinit,learning_rate,Subjects,n_iters,K):\n",
    "\n",
    "    # Initialize MixtureModel of MWD's to gain e good estimate for HMM\n",
    "    pi =torch.tensor([1/K for _ in range(K)],requires_grad=True)\n",
    "\n",
    "    Parameters_torch = [\n",
    "    {'params':pi},\n",
    "    {'params':kappa},\n",
    "    {'params':mu},\n",
    "    ]\n",
    "    AdamTorch = torch.optim.Adam(Parameters_torch,lr=0.8)\n",
    "    Pi_fit,Kappa_fit,mu_fit = LogLikelihoodTorch.Optimizationloop(X,[pi,kappa,mu],lose=LogLikelihoodTorch.log_likelihood,Optimizer=AdamTorch,n_iters=1500,K=K)\n",
    "\n",
    "\n",
    "    Parameters_HMM= [\n",
    "    {'params':Pinit},\n",
    "    {'params':Kappa_fit},\n",
    "    {'params':mu_fit},\n",
    "    {'params':Tk},\n",
    "    ]\n",
    "\n",
    "    AdamHMM=torch.optim.Adam(Parameters_HMM,lr=learning_rate)\n",
    "    AdamHMM.zero_grad()\n",
    "    Pinit_fit,Kappa_fit,mu_fit,Tk_fit = Optimizationloop(X_tensor,[Pinit,Kappa_fit,mu_fit,Tk],lose=Accumulated_HHM_LL,Optimizer=AdamHMM,n=Subjects,n_iters=n_iters,K=K)\n",
    "\n",
    "\n",
    "\n",
    "    return Pinit_fit,Kappa_fit,mu_fit,Tk_fit"
   ]
  },
  {
   "cell_type": "code",
   "execution_count": 13,
   "metadata": {},
   "outputs": [
    {
     "name": "stdout",
     "output_type": "stream",
     "text": [
      "epoch 1; Log-Likelihood = -5529651.945966571\n",
      "epoch 101; Log-Likelihood = -6211214.377157628\n",
      "epoch 201; Log-Likelihood = -6211170.850741458\n",
      "epoch 301; Log-Likelihood = -6282766.537617215\n",
      "epoch 401; Log-Likelihood = -6323837.7539714435\n",
      "epoch 501; Log-Likelihood = -6403701.06292844\n",
      "epoch 601; Log-Likelihood = -6453248.411966923\n",
      "epoch 701; Log-Likelihood = -6502291.700331236\n",
      "epoch 801; Log-Likelihood = -6549304.375067535\n",
      "epoch 901; Log-Likelihood = -6594572.036931935\n",
      "epoch 1001; Log-Likelihood = -6638415.278768824\n",
      "epoch 1101; Log-Likelihood = -6681177.877256498\n",
      "epoch 1201; Log-Likelihood = -6706960.088115221\n",
      "epoch 1301; Log-Likelihood = -6706963.868642068\n",
      "epoch 1401; Log-Likelihood = -6706968.315672187\n",
      "epoch 1; Log-Likelihood = -5971647.85141992\n",
      "epoch 2; Log-Likelihood = -6001492.029058575\n",
      "epoch 3; Log-Likelihood = -6025625.6134384265\n",
      "epoch 4; Log-Likelihood = -6038445.974589306\n",
      "epoch 5; Log-Likelihood = -6043668.9926744625\n",
      "epoch 6; Log-Likelihood = -6045536.6941742925\n",
      "epoch 7; Log-Likelihood = -6045761.281666397\n",
      "epoch 8; Log-Likelihood = -6045034.325312374\n",
      "epoch 9; Log-Likelihood = -6043909.933600901\n",
      "epoch 10; Log-Likelihood = -6042949.418093665\n",
      "epoch 11; Log-Likelihood = -6042401.267997181\n",
      "epoch 12; Log-Likelihood = -6042157.427257784\n",
      "epoch 13; Log-Likelihood = -6042018.984652383\n",
      "epoch 14; Log-Likelihood = -6041906.50853967\n",
      "epoch 15; Log-Likelihood = -6041890.956534222\n",
      "epoch 16; Log-Likelihood = -6042070.654417289\n",
      "epoch 17; Log-Likelihood = -6042443.934535654\n",
      "epoch 18; Log-Likelihood = -6042910.695679012\n",
      "epoch 19; Log-Likelihood = -6043365.640343192\n",
      "epoch 20; Log-Likelihood = -6043774.609344643\n",
      "epoch 21; Log-Likelihood = -6044173.489428544\n",
      "epoch 22; Log-Likelihood = -6044601.562305905\n",
      "epoch 23; Log-Likelihood = -6045047.276103515\n",
      "epoch 24; Log-Likelihood = -6045458.860909169\n",
      "epoch 25; Log-Likelihood = -6045794.664921667\n",
      "epoch 26; Log-Likelihood = -6046056.875345587\n",
      "epoch 27; Log-Likelihood = -6046279.933509722\n",
      "epoch 28; Log-Likelihood = -6046491.890921365\n",
      "epoch 29; Log-Likelihood = -6046691.866824655\n",
      "epoch 30; Log-Likelihood = -6046862.1158042485\n",
      "epoch 31; Log-Likelihood = -6046994.655570498\n",
      "epoch 32; Log-Likelihood = -6047102.803494136\n",
      "epoch 33; Log-Likelihood = -6047207.909107696\n",
      "epoch 34; Log-Likelihood = -6047318.719402886\n",
      "epoch 35; Log-Likelihood = -6047426.527543165\n",
      "epoch 36; Log-Likelihood = -6047518.610989319\n",
      "epoch 37; Log-Likelihood = -6047592.605898027\n",
      "epoch 38; Log-Likelihood = -6047656.867527305\n",
      "epoch 39; Log-Likelihood = -6047719.363632457\n",
      "epoch 40; Log-Likelihood = -6047779.1027378095\n",
      "epoch 41; Log-Likelihood = -6047829.327753987\n",
      "epoch 42; Log-Likelihood = -6047867.072249256\n",
      "epoch 43; Log-Likelihood = -6047897.205408321\n",
      "epoch 44; Log-Likelihood = -6047927.080640391\n",
      "epoch 45; Log-Likelihood = -6047959.081348533\n",
      "epoch 46; Log-Likelihood = -6047989.914206817\n",
      "epoch 47; Log-Likelihood = -6048016.193103729\n",
      "epoch 48; Log-Likelihood = -6048038.67991246\n",
      "epoch 49; Log-Likelihood = -6048060.571582312\n",
      "epoch 50; Log-Likelihood = -6048083.090604182\n",
      "epoch 51; Log-Likelihood = -6048104.246666187\n",
      "epoch 52; Log-Likelihood = -6048121.771926819\n",
      "epoch 53; Log-Likelihood = -6048136.014790509\n",
      "epoch 54; Log-Likelihood = -6048149.185349166\n",
      "epoch 55; Log-Likelihood = -6048162.4436195735\n",
      "epoch 56; Log-Likelihood = -6048174.803356029\n",
      "epoch 57; Log-Likelihood = -6048184.951443875\n",
      "epoch 58; Log-Likelihood = -6048193.16893906\n",
      "epoch 59; Log-Likelihood = -6048200.8608574085\n",
      "epoch 60; Log-Likelihood = -6048208.721636547\n",
      "epoch 61; Log-Likelihood = -6048216.1425291225\n",
      "epoch 62; Log-Likelihood = -6048222.3918429855\n",
      "epoch 63; Log-Likelihood = -6048227.682836073\n",
      "epoch 64; Log-Likelihood = -6048232.761638377\n",
      "epoch 65; Log-Likelihood = -6048237.834570999\n",
      "epoch 66; Log-Likelihood = -6048242.432557473\n",
      "epoch 67; Log-Likelihood = -6048246.216278408\n",
      "epoch 68; Log-Likelihood = -6048249.4405202735\n",
      "epoch 69; Log-Likelihood = -6048252.513470504\n",
      "epoch 70; Log-Likelihood = -6048255.455405637\n",
      "epoch 71; Log-Likelihood = -6048258.010550907\n",
      "epoch 72; Log-Likelihood = -6048260.108982525\n",
      "epoch 73; Log-Likelihood = -6048261.969418557\n",
      "epoch 74; Log-Likelihood = -6048263.788168405\n",
      "epoch 75; Log-Likelihood = -6048265.521980325\n",
      "epoch 76; Log-Likelihood = -6048267.045704702\n",
      "epoch 77; Log-Likelihood = -6048268.386852138\n",
      "epoch 78; Log-Likelihood = -6048269.687627289\n",
      "epoch 79; Log-Likelihood = -6048271.004127866\n",
      "epoch 80; Log-Likelihood = -6048272.264628798\n",
      "epoch 81; Log-Likelihood = -6048273.406679886\n",
      "epoch 82; Log-Likelihood = -6048274.460668216\n",
      "epoch 83; Log-Likelihood = -6048275.476279779\n",
      "epoch 84; Log-Likelihood = -6048276.434096596\n",
      "epoch 85; Log-Likelihood = -6048277.279989839\n",
      "epoch 86; Log-Likelihood = -6048278.010713101\n",
      "epoch 87; Log-Likelihood = -6048278.670492051\n",
      "epoch 88; Log-Likelihood = -6048279.279836414\n",
      "epoch 89; Log-Likelihood = -6048279.820964961\n",
      "epoch 90; Log-Likelihood = -6048280.29085829\n",
      "epoch 91; Log-Likelihood = -6048280.719549706\n",
      "epoch 92; Log-Likelihood = -6048281.133091779\n",
      "epoch 93; Log-Likelihood = -6048281.531144379\n",
      "epoch 94; Log-Likelihood = -6048281.90820764\n",
      "epoch 95; Log-Likelihood = -6048282.2718530595\n",
      "epoch 96; Log-Likelihood = -6048282.630639072\n",
      "epoch 97; Log-Likelihood = -6048282.979103804\n",
      "epoch 98; Log-Likelihood = -6048283.304876672\n",
      "epoch 99; Log-Likelihood = -6048283.604111128\n",
      "epoch 100; Log-Likelihood = -6048283.881844156\n"
     ]
    }
   ],
   "source": [
    "# Initilize Combined Optimization\n",
    "K=5\n",
    "p=90\n",
    "Subjects = 199\n",
    "\n",
    "kappa,mu,Tk,Pinit = InitializeParameters(Subjects,p,K)\n",
    "Pinit_fit,Kappa_fit,mu_fit,Tk_fit = HMM_Optimization(X_tensor,kappa,mu,Tk,Pinit,learning_rate=0.4,Subjects=Subjects,n_iters=100,K=K)"
   ]
  },
  {
   "cell_type": "code",
   "execution_count": null,
   "metadata": {},
   "outputs": [],
   "source": [
    "#\n",
    "n_iters = 500\n",
    "K=5\n",
    "p=90\n",
    "LearningRates = [0.1,0.5,0.8,1,1.2,1.5]\n",
    "Likelihoods = np.zeros((len(LearningRates),n_iters))\n",
    "\n",
    "for idx,lr in enumerate(LearningRates):\n",
    "\n",
    "    kappa,mu,Tk,Pinit = InitializeParameters(Subjects,p,K)\n",
    "    print(lr)\n",
    "    Parameters = [\n",
    "        {'params':Pinit},\n",
    "        {'params':kappa},\n",
    "        {'params':mu},\n",
    "        {'params':Tk},\n",
    "    ]\n",
    "\n",
    "    Adam = torch.optim.Adam(Parameters,lr=lr)\n",
    "    Likelihoods[idx,:] = HMM_Likelyhood.OptimizationTraj(X_tensor,[Pinit,kappa,mu,Tk],lose=HMM_Likelyhood.Accumulated_HHM_LL,Optimizer=Adam,n=Subjects,n_iters=n_iters,K=K)"
   ]
  },
  {
   "cell_type": "code",
   "execution_count": null,
   "metadata": {},
   "outputs": [],
   "source": [
    "TrajectoryData = pd.DataFrame()\n",
    "#TrajectoryData['Epoch'] = np.arange(3000)\n",
    "for idx,lr in enumerate(LearningRates):\n",
    "    TrajectoryData[f'lr= {lr}'] = Likelihoods[idx,:]\n",
    "\n",
    "fig=px.line(TrajectoryData,\n",
    "color_discrete_sequence=px.colors.qualitative.G10\n",
    ")\n",
    "fig.update_layout(\n",
    "    title=\"Learning Rate Evaluations\",\n",
    "    width=800,height=600,\n",
    "    legend={'title':\"Learning Rates\"}\n",
    "    #template=\"plotly_white\",\n",
    ")\n",
    "fig.update_yaxes(\n",
    "    title=\"log-Likelihood\"\n",
    ")\n",
    "fig.update_xaxes(\n",
    "    title=\"Epoch\"\n",
    ")\n",
    "\n",
    "fig.show()"
   ]
  },
  {
   "cell_type": "code",
   "execution_count": 5,
   "metadata": {},
   "outputs": [],
   "source": [
    "# Initialize parameters to tune:\n",
    "K=5\n",
    "p=90\n",
    "Subjects = 199\n",
    "\n",
    "kappa,mu,Tk,Pinit = InitializeParameters(Subjects,p,K)\n",
    "\n",
    "learning_rate = 5\n",
    "n_iters = 100\n",
    "\n",
    "torch.autograd.set_detect_anomaly(False)\n",
    "Parameters = [\n",
    "    {'params':Pinit},\n",
    "    {'params':kappa},\n",
    "    {'params':mu},\n",
    "    {'params':Tk},\n",
    "]\n",
    "\n",
    "Adam = torch.optim.Adam(Parameters,lr=learning_rate)\n",
    "\n"
   ]
  },
  {
   "cell_type": "code",
   "execution_count": 6,
   "metadata": {},
   "outputs": [
    {
     "name": "stdout",
     "output_type": "stream",
     "text": [
      "epoch 1; Log-Likelihood = -4801213.798400863\n",
      "epoch 2; Log-Likelihood = -4824421.2699003555\n",
      "epoch 3; Log-Likelihood = -4872588.986473262\n"
     ]
    },
    {
     "ename": "RuntimeError",
     "evalue": "The following operation failed in the TorchScript interpreter.\nTraceback of TorchScript (most recent call last):\n  File \"/Users/magnusharder/Documents/UNI-DTU/4. Semester/Fagprojekt-f-mri/HMM/HMM_Likelyhood.py\", line 109, in Accumulated_HHM_LL\n    \n    for subject in range(int(n)):\n        Subjectlog_Likelihood[subject] = HMM_log_likelihood(X[:,330*subject:330*(subject+1)],Softmax(Pinit[:,subject]),kappa_con,mu_con,Softmax(Tk[subject]),p,K)\n                                                                                             ~~~~~~~ <--- HERE\n    \n    return Subjectlog_Likelihood.sum()\nRuntimeError: KeyboardInterrupt: \n\nAt:\n  /opt/anaconda3/envs/ml/lib/python3.9/site-packages/torch/nn/modules/module.py(1125): _call_impl\n  /Users/magnusharder/Documents/UNI-DTU/4. Semester/Fagprojekt-f-mri/HMM/HMM_Likelyhood.py(149): Optimizationloop\n  /var/folders/ky/9z234gb159s813shh1gxh2yw0000gn/T/ipykernel_24058/2194540423.py(1): <cell line: 1>\n  /opt/anaconda3/envs/ml/lib/python3.9/site-packages/IPython/core/interactiveshell.py(3397): run_code\n  /opt/anaconda3/envs/ml/lib/python3.9/site-packages/IPython/core/interactiveshell.py(3337): run_ast_nodes\n  /opt/anaconda3/envs/ml/lib/python3.9/site-packages/IPython/core/interactiveshell.py(3134): run_cell_async\n  /opt/anaconda3/envs/ml/lib/python3.9/site-packages/IPython/core/async_helpers.py(129): _pseudo_sync_runner\n  /opt/anaconda3/envs/ml/lib/python3.9/site-packages/IPython/core/interactiveshell.py(2935): _run_cell\n  /opt/anaconda3/envs/ml/lib/python3.9/site-packages/IPython/core/interactiveshell.py(2880): run_cell\n  /opt/anaconda3/envs/ml/lib/python3.9/site-packages/ipykernel/zmqshell.py(532): run_cell\n  /opt/anaconda3/envs/ml/lib/python3.9/site-packages/ipykernel/ipkernel.py(360): do_execute\n  /opt/anaconda3/envs/ml/lib/python3.9/site-packages/ipykernel/kernelbase.py(662): execute_request\n  /opt/anaconda3/envs/ml/lib/python3.9/site-packages/ipykernel/kernelbase.py(367): dispatch_shell\n  /opt/anaconda3/envs/ml/lib/python3.9/site-packages/ipykernel/kernelbase.py(460): process_one\n  /opt/anaconda3/envs/ml/lib/python3.9/site-packages/ipykernel/kernelbase.py(471): dispatch_queue\n  /opt/anaconda3/envs/ml/lib/python3.9/asyncio/events.py(80): _run\n  /opt/anaconda3/envs/ml/lib/python3.9/asyncio/base_events.py(1905): _run_once\n  /opt/anaconda3/envs/ml/lib/python3.9/asyncio/base_events.py(601): run_forever\n  /opt/anaconda3/envs/ml/lib/python3.9/site-packages/tornado/platform/asyncio.py(199): start\n  /opt/anaconda3/envs/ml/lib/python3.9/site-packages/ipykernel/kernelapp.py(677): start\n  /opt/anaconda3/envs/ml/lib/python3.9/site-packages/traitlets/config/application.py(846): launch_instance\n  /opt/anaconda3/envs/ml/lib/python3.9/site-packages/ipykernel_launcher.py(16): <module>\n  /opt/anaconda3/envs/ml/lib/python3.9/runpy.py(87): _run_code\n  /opt/anaconda3/envs/ml/lib/python3.9/runpy.py(197): _run_module_as_main\n\n",
     "output_type": "error",
     "traceback": [
      "\u001b[0;31m---------------------------------------------------------------------------\u001b[0m",
      "\u001b[0;31mRuntimeError\u001b[0m                              Traceback (most recent call last)",
      "\u001b[1;32m/Users/magnusharder/Documents/UNI-DTU/4. Semester/Fagprojekt-f-mri/HMM/HMM.ipynb Cell 7'\u001b[0m in \u001b[0;36m<cell line: 1>\u001b[0;34m()\u001b[0m\n\u001b[0;32m----> <a href='vscode-notebook-cell:/Users/magnusharder/Documents/UNI-DTU/4.%20Semester/Fagprojekt-f-mri/HMM/HMM.ipynb#ch0000006?line=0'>1</a>\u001b[0m Pinit_fit,Kappa_fit,mu_fit,Tk_fit \u001b[39m=\u001b[39m Optimizationloop(X_tensor,[Pinit,kappa,mu,Tk],lose\u001b[39m=\u001b[39;49mHMM_Likelyhood\u001b[39m.\u001b[39;49mAccumulated_HHM_LL,Optimizer\u001b[39m=\u001b[39;49mAdam,n\u001b[39m=\u001b[39;49mSubjects,n_iters\u001b[39m=\u001b[39;49m\u001b[39m200\u001b[39;49m,K\u001b[39m=\u001b[39;49mK)\n",
      "File \u001b[0;32m~/Documents/UNI-DTU/4. Semester/Fagprojekt-f-mri/HMM/HMM_Likelyhood.py:149\u001b[0m, in \u001b[0;36mOptimizationloop\u001b[0;34m(X, Parameters, lose, Optimizer, n, n_iters, p, K)\u001b[0m\n\u001b[1;32m    147\u001b[0m Error_prev \u001b[39m=\u001b[39m \u001b[39m0\u001b[39m\n\u001b[1;32m    148\u001b[0m \u001b[39mfor\u001b[39;00m epoch \u001b[39min\u001b[39;00m \u001b[39mrange\u001b[39m(n_iters):\n\u001b[0;32m--> 149\u001b[0m         Error \u001b[39m=\u001b[39m \u001b[39m-\u001b[39mlose(X,\u001b[39m*\u001b[39;49mParameters,n,p,K\u001b[39m=\u001b[39;49mK)\n\u001b[1;32m    151\u001b[0m         \u001b[39mif\u001b[39;00m torch\u001b[39m.\u001b[39misnan(Error):\n\u001b[1;32m    152\u001b[0m             \u001b[39mprint\u001b[39m(\u001b[39m\"\u001b[39m\u001b[39mOptimizationloop has Converged\u001b[39m\u001b[39m\"\u001b[39m)\n",
      "\u001b[0;31mRuntimeError\u001b[0m: The following operation failed in the TorchScript interpreter.\nTraceback of TorchScript (most recent call last):\n  File \"/Users/magnusharder/Documents/UNI-DTU/4. Semester/Fagprojekt-f-mri/HMM/HMM_Likelyhood.py\", line 109, in Accumulated_HHM_LL\n    \n    for subject in range(int(n)):\n        Subjectlog_Likelihood[subject] = HMM_log_likelihood(X[:,330*subject:330*(subject+1)],Softmax(Pinit[:,subject]),kappa_con,mu_con,Softmax(Tk[subject]),p,K)\n                                                                                             ~~~~~~~ <--- HERE\n    \n    return Subjectlog_Likelihood.sum()\nRuntimeError: KeyboardInterrupt: \n\nAt:\n  /opt/anaconda3/envs/ml/lib/python3.9/site-packages/torch/nn/modules/module.py(1125): _call_impl\n  /Users/magnusharder/Documents/UNI-DTU/4. Semester/Fagprojekt-f-mri/HMM/HMM_Likelyhood.py(149): Optimizationloop\n  /var/folders/ky/9z234gb159s813shh1gxh2yw0000gn/T/ipykernel_24058/2194540423.py(1): <cell line: 1>\n  /opt/anaconda3/envs/ml/lib/python3.9/site-packages/IPython/core/interactiveshell.py(3397): run_code\n  /opt/anaconda3/envs/ml/lib/python3.9/site-packages/IPython/core/interactiveshell.py(3337): run_ast_nodes\n  /opt/anaconda3/envs/ml/lib/python3.9/site-packages/IPython/core/interactiveshell.py(3134): run_cell_async\n  /opt/anaconda3/envs/ml/lib/python3.9/site-packages/IPython/core/async_helpers.py(129): _pseudo_sync_runner\n  /opt/anaconda3/envs/ml/lib/python3.9/site-packages/IPython/core/interactiveshell.py(2935): _run_cell\n  /opt/anaconda3/envs/ml/lib/python3.9/site-packages/IPython/core/interactiveshell.py(2880): run_cell\n  /opt/anaconda3/envs/ml/lib/python3.9/site-packages/ipykernel/zmqshell.py(532): run_cell\n  /opt/anaconda3/envs/ml/lib/python3.9/site-packages/ipykernel/ipkernel.py(360): do_execute\n  /opt/anaconda3/envs/ml/lib/python3.9/site-packages/ipykernel/kernelbase.py(662): execute_request\n  /opt/anaconda3/envs/ml/lib/python3.9/site-packages/ipykernel/kernelbase.py(367): dispatch_shell\n  /opt/anaconda3/envs/ml/lib/python3.9/site-packages/ipykernel/kernelbase.py(460): process_one\n  /opt/anaconda3/envs/ml/lib/python3.9/site-packages/ipykernel/kernelbase.py(471): dispatch_queue\n  /opt/anaconda3/envs/ml/lib/python3.9/asyncio/events.py(80): _run\n  /opt/anaconda3/envs/ml/lib/python3.9/asyncio/base_events.py(1905): _run_once\n  /opt/anaconda3/envs/ml/lib/python3.9/asyncio/base_events.py(601): run_forever\n  /opt/anaconda3/envs/ml/lib/python3.9/site-packages/tornado/platform/asyncio.py(199): start\n  /opt/anaconda3/envs/ml/lib/python3.9/site-packages/ipykernel/kernelapp.py(677): start\n  /opt/anaconda3/envs/ml/lib/python3.9/site-packages/traitlets/config/application.py(846): launch_instance\n  /opt/anaconda3/envs/ml/lib/python3.9/site-packages/ipykernel_launcher.py(16): <module>\n  /opt/anaconda3/envs/ml/lib/python3.9/runpy.py(87): _run_code\n  /opt/anaconda3/envs/ml/lib/python3.9/runpy.py(197): _run_module_as_main\n\n"
     ]
    }
   ],
   "source": [
    "Pinit_fit,Kappa_fit,mu_fit,Tk_fit = Optimizationloop(X_tensor,[Pinit,kappa,mu,Tk],lose=HMM_Likelyhood.Accumulated_HHM_LL,Optimizer=Adam,n=Subjects,n_iters=200,K=K)"
   ]
  },
  {
   "cell_type": "code",
   "execution_count": 14,
   "metadata": {},
   "outputs": [],
   "source": [
    "\n",
    "Softmax = torch.nn.Softmax(0)\n",
    "Softplus = torch.nn.Softplus()\n",
    "\n",
    "kappa_est = Softplus(Kappa_fit)\n",
    "#kappa_est = Kappa_fit\n",
    "mu_est = mu /torch.sqrt((mu_fit * mu_fit).sum(axis=0))"
   ]
  },
  {
   "cell_type": "code",
   "execution_count": 15,
   "metadata": {},
   "outputs": [
    {
     "name": "stdout",
     "output_type": "stream",
     "text": [
      "tensor([[8.2445e-01, 1.3853e-02, 2.0000e-01, 1.9267e-04, 3.1838e-02],\n",
      "        [4.2289e-02, 9.6036e-01, 2.0000e-01, 4.8228e-02, 4.3189e-02],\n",
      "        [3.4627e-04, 3.1922e-04, 2.0000e-01, 1.9302e-04, 3.3402e-04],\n",
      "        [1.0457e-01, 8.2372e-03, 2.0000e-01, 8.6483e-01, 1.5275e-02],\n",
      "        [2.8340e-02, 1.7231e-02, 2.0000e-01, 8.6554e-02, 9.0936e-01]],\n",
      "       grad_fn=<SoftmaxBackward0>)\n"
     ]
    }
   ],
   "source": [
    "print(Softmax(Tk_fit[4]))"
   ]
  },
  {
   "cell_type": "code",
   "execution_count": 16,
   "metadata": {},
   "outputs": [
    {
     "name": "stdout",
     "output_type": "stream",
     "text": [
      "Model 0:  , kappa = 69.04614503308593\n"
     ]
    },
    {
     "data": {
      "application/vnd.plotly.v1+json": {
       "config": {
        "plotlyServerURL": "https://plot.ly"
       },
       "data": [
        {
         "alignmentgroup": "True",
         "hovertemplate": "x=%{x}<br>y=%{y}<extra></extra>",
         "legendgroup": "",
         "marker": {
          "color": "#636efa",
          "pattern": {
           "shape": ""
          }
         },
         "name": "",
         "offsetgroup": "",
         "orientation": "v",
         "showlegend": false,
         "textposition": "auto",
         "type": "bar",
         "x": [
          "'Precentral-L'",
          "'Precentral-R'",
          "'Frontal-Sup-L'",
          "'Frontal-Sup-R'",
          "'Frontal-Sup-Orb-L'",
          "'Frontal-Sup-Orb-R'",
          "'Frontal-Mid-L'",
          "'Frontal-Mid-R'",
          "'Frontal-Mid-Orb-L'",
          "'Frontal-Mid-Orb-R'",
          "'Frontal-Inf-Oper-L'",
          "'Frontal-Inf-Oper-R'",
          "'Frontal-Inf-Tri-L'",
          "'Frontal-Inf-Tri-R'",
          "'Frontal-Inf-Orb-L'",
          "'Frontal-Inf-Orb-R'",
          "'Rolandic-Oper-L'",
          "'Rolandic-Oper-R'",
          "'Supp-Motor-Area-L'",
          "'Supp-Motor-Area-R'",
          "'Olfactory-L'",
          "'Olfactory-R'",
          "'Frontal-Sup-Medial-L'",
          "'Frontal-Sup-Medial-R'",
          "'Frontal-Med-Orb-L'",
          "'Frontal-Med-Orb-R'",
          "'Rectus-L'",
          "'Rectus-R'",
          "'Insula-L'",
          "'Insula-R'",
          "'Cingulum-Ant-L'",
          "'Cingulum-Ant-R'",
          "'Cingulum-Mid-L'",
          "'Cingulum-Mid-R'",
          "'Cingulum-Post-L'",
          "'Cingulum-Post-R'",
          "'Hippocampus-L'",
          "'Hippocampus-R'",
          "'ParaHippocampal-L'",
          "'ParaHippocampal-R'",
          "'Amygdala-L'",
          "'Amygdala-R'",
          "'Calcarine-L'",
          "'Calcarine-R'",
          "'Cuneus-L'",
          "'Cuneus-R'",
          "'Lingual-L'",
          "'Lingual-R'",
          "'Occipital-Sup-L'",
          "'Occipital-Sup-R'",
          "'Occipital-Mid-L'",
          "'Occipital-Mid-R'",
          "'Occipital-Inf-L'",
          "'Occipital-Inf-R'",
          "'Fusiform-L'",
          "'Fusiform-R'",
          "'Postcentral-L'",
          "'Postcentral-R'",
          "'Parietal-Sup-L'",
          "'Parietal-Sup-R'",
          "'Parietal-Inf-L'",
          "'Parietal-Inf-R'",
          "'SupraMarginal-L'",
          "'SupraMarginal-R'",
          "'Angular-L'",
          "'Angular-R'",
          "'Precuneus-L'",
          "'Precuneus-R'",
          "'Paracentral-Lobule-L'",
          "'Paracentral-Lobule-R'",
          "'Caudate-L'",
          "'Caudate-R'",
          "'Putamen-L'",
          "'Putamen-R'",
          "'Pallidum-L'",
          "'Pallidum-R'",
          "'Thalamus-L'",
          "'Thalamus-R'",
          "'Heschl-L'",
          "'Heschl-R'",
          "'Temporal-Sup-L'",
          "'Temporal-Sup-R'",
          "'Temporal-Pole-Sup-L'",
          "'Temporal-Pole-Sup-R'",
          "'Temporal-Mid-L'",
          "'Temporal-Mid-R'",
          "'Temporal-Pole-Mid-L'",
          "'Temporal-Pole-Mid-R'",
          "'Temporal-Inf-L'",
          "'Temporal-Inf-R'"
         ],
         "xaxis": "x",
         "y": [
          0.16903501978636093,
          0.17690862352994038,
          -0.13999882102957226,
          -0.09260801596179244,
          -0.05985207679673982,
          -0.02065941638680091,
          -0.07494699286554966,
          -0.007805245900665135,
          -0.05197229808762587,
          -0.028272688380010288,
          0.11561415296521552,
          0.13740116673406236,
          0.05178960742062191,
          0.11015331062617585,
          -0.038368755421312704,
          -0.01946072009593364,
          0.1428379499612688,
          0.14695865891722693,
          0.04347528463949709,
          0.11378657358793152,
          -0.03224810572727092,
          -0.016879736064534124,
          -0.17694529769398892,
          -0.1675078799775919,
          -0.15925100593491195,
          -0.1516375808233974,
          -0.04271200503663978,
          -0.032095480923024756,
          0.13318201651180306,
          0.13614620633595548,
          -0.12367662301830765,
          -0.13101314233118133,
          0.0018776732919120992,
          0.01737270272068196,
          -0.1524881545564111,
          -0.11319873238200039,
          -0.0004818544671772965,
          0.0030250180771041993,
          -0.028816282169851222,
          0.007209392513041817,
          0.07460761157593267,
          0.07588268481769135,
          0.09983268309933944,
          0.12960597926859618,
          0.07520236768316631,
          0.13863111524874897,
          0.13821553191318459,
          0.14124428547987944,
          0.15590423510045906,
          0.16400657411522576,
          0.15955654608503075,
          0.15009433280978648,
          0.16904870490446444,
          0.1106968258883544,
          0.1531614148566179,
          0.16682784381640545,
          0.14426386965061527,
          0.12850808196912736,
          0.11839040358796288,
          0.1264204751069005,
          0.047848339517555266,
          0.0178126632965346,
          0.16315822079228828,
          0.17719255599495082,
          -0.16978936420210924,
          -0.1337552145106993,
          -0.060352208797913164,
          -0.0034133385551016,
          0.055698660384748924,
          0.07023873553032449,
          -0.05241127810364731,
          -0.03412985260818122,
          0.059599388127150904,
          0.07912834411915644,
          0.02136611299409821,
          0.04291944156169643,
          0.0596472360420163,
          0.07823181088810915,
          0.08352512499797485,
          0.06940050512574204,
          0.13736252090413312,
          0.12464995367693285,
          0.059495796095199796,
          0.09236987201885169,
          -0.017795910154164322,
          0.05117218707031497,
          -0.05523502330050239,
          -0.04521883291401897,
          0.012397271934390105,
          0.057218049676705685
         ],
         "yaxis": "y"
        }
       ],
       "layout": {
        "barmode": "relative",
        "legend": {
         "tracegroupgap": 0
        },
        "margin": {
         "t": 60
        },
        "template": {
         "data": {
          "bar": [
           {
            "error_x": {
             "color": "#2a3f5f"
            },
            "error_y": {
             "color": "#2a3f5f"
            },
            "marker": {
             "line": {
              "color": "#E5ECF6",
              "width": 0.5
             },
             "pattern": {
              "fillmode": "overlay",
              "size": 10,
              "solidity": 0.2
             }
            },
            "type": "bar"
           }
          ],
          "barpolar": [
           {
            "marker": {
             "line": {
              "color": "#E5ECF6",
              "width": 0.5
             },
             "pattern": {
              "fillmode": "overlay",
              "size": 10,
              "solidity": 0.2
             }
            },
            "type": "barpolar"
           }
          ],
          "carpet": [
           {
            "aaxis": {
             "endlinecolor": "#2a3f5f",
             "gridcolor": "white",
             "linecolor": "white",
             "minorgridcolor": "white",
             "startlinecolor": "#2a3f5f"
            },
            "baxis": {
             "endlinecolor": "#2a3f5f",
             "gridcolor": "white",
             "linecolor": "white",
             "minorgridcolor": "white",
             "startlinecolor": "#2a3f5f"
            },
            "type": "carpet"
           }
          ],
          "choropleth": [
           {
            "colorbar": {
             "outlinewidth": 0,
             "ticks": ""
            },
            "type": "choropleth"
           }
          ],
          "contour": [
           {
            "colorbar": {
             "outlinewidth": 0,
             "ticks": ""
            },
            "colorscale": [
             [
              0,
              "#0d0887"
             ],
             [
              0.1111111111111111,
              "#46039f"
             ],
             [
              0.2222222222222222,
              "#7201a8"
             ],
             [
              0.3333333333333333,
              "#9c179e"
             ],
             [
              0.4444444444444444,
              "#bd3786"
             ],
             [
              0.5555555555555556,
              "#d8576b"
             ],
             [
              0.6666666666666666,
              "#ed7953"
             ],
             [
              0.7777777777777778,
              "#fb9f3a"
             ],
             [
              0.8888888888888888,
              "#fdca26"
             ],
             [
              1,
              "#f0f921"
             ]
            ],
            "type": "contour"
           }
          ],
          "contourcarpet": [
           {
            "colorbar": {
             "outlinewidth": 0,
             "ticks": ""
            },
            "type": "contourcarpet"
           }
          ],
          "heatmap": [
           {
            "colorbar": {
             "outlinewidth": 0,
             "ticks": ""
            },
            "colorscale": [
             [
              0,
              "#0d0887"
             ],
             [
              0.1111111111111111,
              "#46039f"
             ],
             [
              0.2222222222222222,
              "#7201a8"
             ],
             [
              0.3333333333333333,
              "#9c179e"
             ],
             [
              0.4444444444444444,
              "#bd3786"
             ],
             [
              0.5555555555555556,
              "#d8576b"
             ],
             [
              0.6666666666666666,
              "#ed7953"
             ],
             [
              0.7777777777777778,
              "#fb9f3a"
             ],
             [
              0.8888888888888888,
              "#fdca26"
             ],
             [
              1,
              "#f0f921"
             ]
            ],
            "type": "heatmap"
           }
          ],
          "heatmapgl": [
           {
            "colorbar": {
             "outlinewidth": 0,
             "ticks": ""
            },
            "colorscale": [
             [
              0,
              "#0d0887"
             ],
             [
              0.1111111111111111,
              "#46039f"
             ],
             [
              0.2222222222222222,
              "#7201a8"
             ],
             [
              0.3333333333333333,
              "#9c179e"
             ],
             [
              0.4444444444444444,
              "#bd3786"
             ],
             [
              0.5555555555555556,
              "#d8576b"
             ],
             [
              0.6666666666666666,
              "#ed7953"
             ],
             [
              0.7777777777777778,
              "#fb9f3a"
             ],
             [
              0.8888888888888888,
              "#fdca26"
             ],
             [
              1,
              "#f0f921"
             ]
            ],
            "type": "heatmapgl"
           }
          ],
          "histogram": [
           {
            "marker": {
             "pattern": {
              "fillmode": "overlay",
              "size": 10,
              "solidity": 0.2
             }
            },
            "type": "histogram"
           }
          ],
          "histogram2d": [
           {
            "colorbar": {
             "outlinewidth": 0,
             "ticks": ""
            },
            "colorscale": [
             [
              0,
              "#0d0887"
             ],
             [
              0.1111111111111111,
              "#46039f"
             ],
             [
              0.2222222222222222,
              "#7201a8"
             ],
             [
              0.3333333333333333,
              "#9c179e"
             ],
             [
              0.4444444444444444,
              "#bd3786"
             ],
             [
              0.5555555555555556,
              "#d8576b"
             ],
             [
              0.6666666666666666,
              "#ed7953"
             ],
             [
              0.7777777777777778,
              "#fb9f3a"
             ],
             [
              0.8888888888888888,
              "#fdca26"
             ],
             [
              1,
              "#f0f921"
             ]
            ],
            "type": "histogram2d"
           }
          ],
          "histogram2dcontour": [
           {
            "colorbar": {
             "outlinewidth": 0,
             "ticks": ""
            },
            "colorscale": [
             [
              0,
              "#0d0887"
             ],
             [
              0.1111111111111111,
              "#46039f"
             ],
             [
              0.2222222222222222,
              "#7201a8"
             ],
             [
              0.3333333333333333,
              "#9c179e"
             ],
             [
              0.4444444444444444,
              "#bd3786"
             ],
             [
              0.5555555555555556,
              "#d8576b"
             ],
             [
              0.6666666666666666,
              "#ed7953"
             ],
             [
              0.7777777777777778,
              "#fb9f3a"
             ],
             [
              0.8888888888888888,
              "#fdca26"
             ],
             [
              1,
              "#f0f921"
             ]
            ],
            "type": "histogram2dcontour"
           }
          ],
          "mesh3d": [
           {
            "colorbar": {
             "outlinewidth": 0,
             "ticks": ""
            },
            "type": "mesh3d"
           }
          ],
          "parcoords": [
           {
            "line": {
             "colorbar": {
              "outlinewidth": 0,
              "ticks": ""
             }
            },
            "type": "parcoords"
           }
          ],
          "pie": [
           {
            "automargin": true,
            "type": "pie"
           }
          ],
          "scatter": [
           {
            "fillpattern": {
             "fillmode": "overlay",
             "size": 10,
             "solidity": 0.2
            },
            "type": "scatter"
           }
          ],
          "scatter3d": [
           {
            "line": {
             "colorbar": {
              "outlinewidth": 0,
              "ticks": ""
             }
            },
            "marker": {
             "colorbar": {
              "outlinewidth": 0,
              "ticks": ""
             }
            },
            "type": "scatter3d"
           }
          ],
          "scattercarpet": [
           {
            "marker": {
             "colorbar": {
              "outlinewidth": 0,
              "ticks": ""
             }
            },
            "type": "scattercarpet"
           }
          ],
          "scattergeo": [
           {
            "marker": {
             "colorbar": {
              "outlinewidth": 0,
              "ticks": ""
             }
            },
            "type": "scattergeo"
           }
          ],
          "scattergl": [
           {
            "marker": {
             "colorbar": {
              "outlinewidth": 0,
              "ticks": ""
             }
            },
            "type": "scattergl"
           }
          ],
          "scattermapbox": [
           {
            "marker": {
             "colorbar": {
              "outlinewidth": 0,
              "ticks": ""
             }
            },
            "type": "scattermapbox"
           }
          ],
          "scatterpolar": [
           {
            "marker": {
             "colorbar": {
              "outlinewidth": 0,
              "ticks": ""
             }
            },
            "type": "scatterpolar"
           }
          ],
          "scatterpolargl": [
           {
            "marker": {
             "colorbar": {
              "outlinewidth": 0,
              "ticks": ""
             }
            },
            "type": "scatterpolargl"
           }
          ],
          "scatterternary": [
           {
            "marker": {
             "colorbar": {
              "outlinewidth": 0,
              "ticks": ""
             }
            },
            "type": "scatterternary"
           }
          ],
          "surface": [
           {
            "colorbar": {
             "outlinewidth": 0,
             "ticks": ""
            },
            "colorscale": [
             [
              0,
              "#0d0887"
             ],
             [
              0.1111111111111111,
              "#46039f"
             ],
             [
              0.2222222222222222,
              "#7201a8"
             ],
             [
              0.3333333333333333,
              "#9c179e"
             ],
             [
              0.4444444444444444,
              "#bd3786"
             ],
             [
              0.5555555555555556,
              "#d8576b"
             ],
             [
              0.6666666666666666,
              "#ed7953"
             ],
             [
              0.7777777777777778,
              "#fb9f3a"
             ],
             [
              0.8888888888888888,
              "#fdca26"
             ],
             [
              1,
              "#f0f921"
             ]
            ],
            "type": "surface"
           }
          ],
          "table": [
           {
            "cells": {
             "fill": {
              "color": "#EBF0F8"
             },
             "line": {
              "color": "white"
             }
            },
            "header": {
             "fill": {
              "color": "#C8D4E3"
             },
             "line": {
              "color": "white"
             }
            },
            "type": "table"
           }
          ]
         },
         "layout": {
          "annotationdefaults": {
           "arrowcolor": "#2a3f5f",
           "arrowhead": 0,
           "arrowwidth": 1
          },
          "autotypenumbers": "strict",
          "coloraxis": {
           "colorbar": {
            "outlinewidth": 0,
            "ticks": ""
           }
          },
          "colorscale": {
           "diverging": [
            [
             0,
             "#8e0152"
            ],
            [
             0.1,
             "#c51b7d"
            ],
            [
             0.2,
             "#de77ae"
            ],
            [
             0.3,
             "#f1b6da"
            ],
            [
             0.4,
             "#fde0ef"
            ],
            [
             0.5,
             "#f7f7f7"
            ],
            [
             0.6,
             "#e6f5d0"
            ],
            [
             0.7,
             "#b8e186"
            ],
            [
             0.8,
             "#7fbc41"
            ],
            [
             0.9,
             "#4d9221"
            ],
            [
             1,
             "#276419"
            ]
           ],
           "sequential": [
            [
             0,
             "#0d0887"
            ],
            [
             0.1111111111111111,
             "#46039f"
            ],
            [
             0.2222222222222222,
             "#7201a8"
            ],
            [
             0.3333333333333333,
             "#9c179e"
            ],
            [
             0.4444444444444444,
             "#bd3786"
            ],
            [
             0.5555555555555556,
             "#d8576b"
            ],
            [
             0.6666666666666666,
             "#ed7953"
            ],
            [
             0.7777777777777778,
             "#fb9f3a"
            ],
            [
             0.8888888888888888,
             "#fdca26"
            ],
            [
             1,
             "#f0f921"
            ]
           ],
           "sequentialminus": [
            [
             0,
             "#0d0887"
            ],
            [
             0.1111111111111111,
             "#46039f"
            ],
            [
             0.2222222222222222,
             "#7201a8"
            ],
            [
             0.3333333333333333,
             "#9c179e"
            ],
            [
             0.4444444444444444,
             "#bd3786"
            ],
            [
             0.5555555555555556,
             "#d8576b"
            ],
            [
             0.6666666666666666,
             "#ed7953"
            ],
            [
             0.7777777777777778,
             "#fb9f3a"
            ],
            [
             0.8888888888888888,
             "#fdca26"
            ],
            [
             1,
             "#f0f921"
            ]
           ]
          },
          "colorway": [
           "#636efa",
           "#EF553B",
           "#00cc96",
           "#ab63fa",
           "#FFA15A",
           "#19d3f3",
           "#FF6692",
           "#B6E880",
           "#FF97FF",
           "#FECB52"
          ],
          "font": {
           "color": "#2a3f5f"
          },
          "geo": {
           "bgcolor": "white",
           "lakecolor": "white",
           "landcolor": "#E5ECF6",
           "showlakes": true,
           "showland": true,
           "subunitcolor": "white"
          },
          "hoverlabel": {
           "align": "left"
          },
          "hovermode": "closest",
          "mapbox": {
           "style": "light"
          },
          "paper_bgcolor": "white",
          "plot_bgcolor": "#E5ECF6",
          "polar": {
           "angularaxis": {
            "gridcolor": "white",
            "linecolor": "white",
            "ticks": ""
           },
           "bgcolor": "#E5ECF6",
           "radialaxis": {
            "gridcolor": "white",
            "linecolor": "white",
            "ticks": ""
           }
          },
          "scene": {
           "xaxis": {
            "backgroundcolor": "#E5ECF6",
            "gridcolor": "white",
            "gridwidth": 2,
            "linecolor": "white",
            "showbackground": true,
            "ticks": "",
            "zerolinecolor": "white"
           },
           "yaxis": {
            "backgroundcolor": "#E5ECF6",
            "gridcolor": "white",
            "gridwidth": 2,
            "linecolor": "white",
            "showbackground": true,
            "ticks": "",
            "zerolinecolor": "white"
           },
           "zaxis": {
            "backgroundcolor": "#E5ECF6",
            "gridcolor": "white",
            "gridwidth": 2,
            "linecolor": "white",
            "showbackground": true,
            "ticks": "",
            "zerolinecolor": "white"
           }
          },
          "shapedefaults": {
           "line": {
            "color": "#2a3f5f"
           }
          },
          "ternary": {
           "aaxis": {
            "gridcolor": "white",
            "linecolor": "white",
            "ticks": ""
           },
           "baxis": {
            "gridcolor": "white",
            "linecolor": "white",
            "ticks": ""
           },
           "bgcolor": "#E5ECF6",
           "caxis": {
            "gridcolor": "white",
            "linecolor": "white",
            "ticks": ""
           }
          },
          "title": {
           "x": 0.05
          },
          "xaxis": {
           "automargin": true,
           "gridcolor": "white",
           "linecolor": "white",
           "ticks": "",
           "title": {
            "standoff": 15
           },
           "zerolinecolor": "white",
           "zerolinewidth": 2
          },
          "yaxis": {
           "automargin": true,
           "gridcolor": "white",
           "linecolor": "white",
           "ticks": "",
           "title": {
            "standoff": 15
           },
           "zerolinecolor": "white",
           "zerolinewidth": 2
          }
         }
        },
        "xaxis": {
         "anchor": "y",
         "domain": [
          0,
          1
         ],
         "title": {
          "text": "x"
         }
        },
        "yaxis": {
         "anchor": "x",
         "domain": [
          0,
          1
         ],
         "title": {
          "text": "y"
         }
        }
       }
      }
     },
     "metadata": {},
     "output_type": "display_data"
    },
    {
     "name": "stdout",
     "output_type": "stream",
     "text": [
      "Model 1:  , kappa = 69.18382803096024\n"
     ]
    },
    {
     "data": {
      "application/vnd.plotly.v1+json": {
       "config": {
        "plotlyServerURL": "https://plot.ly"
       },
       "data": [
        {
         "alignmentgroup": "True",
         "hovertemplate": "x=%{x}<br>y=%{y}<extra></extra>",
         "legendgroup": "",
         "marker": {
          "color": "#636efa",
          "pattern": {
           "shape": ""
          }
         },
         "name": "",
         "offsetgroup": "",
         "orientation": "v",
         "showlegend": false,
         "textposition": "auto",
         "type": "bar",
         "x": [
          "'Precentral-L'",
          "'Precentral-R'",
          "'Frontal-Sup-L'",
          "'Frontal-Sup-R'",
          "'Frontal-Sup-Orb-L'",
          "'Frontal-Sup-Orb-R'",
          "'Frontal-Mid-L'",
          "'Frontal-Mid-R'",
          "'Frontal-Mid-Orb-L'",
          "'Frontal-Mid-Orb-R'",
          "'Frontal-Inf-Oper-L'",
          "'Frontal-Inf-Oper-R'",
          "'Frontal-Inf-Tri-L'",
          "'Frontal-Inf-Tri-R'",
          "'Frontal-Inf-Orb-L'",
          "'Frontal-Inf-Orb-R'",
          "'Rolandic-Oper-L'",
          "'Rolandic-Oper-R'",
          "'Supp-Motor-Area-L'",
          "'Supp-Motor-Area-R'",
          "'Olfactory-L'",
          "'Olfactory-R'",
          "'Frontal-Sup-Medial-L'",
          "'Frontal-Sup-Medial-R'",
          "'Frontal-Med-Orb-L'",
          "'Frontal-Med-Orb-R'",
          "'Rectus-L'",
          "'Rectus-R'",
          "'Insula-L'",
          "'Insula-R'",
          "'Cingulum-Ant-L'",
          "'Cingulum-Ant-R'",
          "'Cingulum-Mid-L'",
          "'Cingulum-Mid-R'",
          "'Cingulum-Post-L'",
          "'Cingulum-Post-R'",
          "'Hippocampus-L'",
          "'Hippocampus-R'",
          "'ParaHippocampal-L'",
          "'ParaHippocampal-R'",
          "'Amygdala-L'",
          "'Amygdala-R'",
          "'Calcarine-L'",
          "'Calcarine-R'",
          "'Cuneus-L'",
          "'Cuneus-R'",
          "'Lingual-L'",
          "'Lingual-R'",
          "'Occipital-Sup-L'",
          "'Occipital-Sup-R'",
          "'Occipital-Mid-L'",
          "'Occipital-Mid-R'",
          "'Occipital-Inf-L'",
          "'Occipital-Inf-R'",
          "'Fusiform-L'",
          "'Fusiform-R'",
          "'Postcentral-L'",
          "'Postcentral-R'",
          "'Parietal-Sup-L'",
          "'Parietal-Sup-R'",
          "'Parietal-Inf-L'",
          "'Parietal-Inf-R'",
          "'SupraMarginal-L'",
          "'SupraMarginal-R'",
          "'Angular-L'",
          "'Angular-R'",
          "'Precuneus-L'",
          "'Precuneus-R'",
          "'Paracentral-Lobule-L'",
          "'Paracentral-Lobule-R'",
          "'Caudate-L'",
          "'Caudate-R'",
          "'Putamen-L'",
          "'Putamen-R'",
          "'Pallidum-L'",
          "'Pallidum-R'",
          "'Thalamus-L'",
          "'Thalamus-R'",
          "'Heschl-L'",
          "'Heschl-R'",
          "'Temporal-Sup-L'",
          "'Temporal-Sup-R'",
          "'Temporal-Pole-Sup-L'",
          "'Temporal-Pole-Sup-R'",
          "'Temporal-Mid-L'",
          "'Temporal-Mid-R'",
          "'Temporal-Pole-Mid-L'",
          "'Temporal-Pole-Mid-R'",
          "'Temporal-Inf-L'",
          "'Temporal-Inf-R'"
         ],
         "xaxis": "x",
         "y": [
          -0.12032359656247099,
          -0.12414313776677471,
          -0.1143137620582156,
          -0.0639262340150759,
          -0.07151678098967945,
          -0.030268404090607385,
          -0.09999446835109588,
          -0.04864736583511143,
          -0.10484343732130802,
          -0.0563045896707644,
          -0.13861173777976862,
          -0.10857365017698146,
          -0.14404362673337553,
          -0.1113048555794817,
          -0.17109759556639204,
          -0.14105653827757,
          -0.13479642150664872,
          -0.13532638212840872,
          -0.16633579637932824,
          -0.1565625529167964,
          -0.053024005242707686,
          -0.01773186304015281,
          -0.15119020660136712,
          -0.12893776727004008,
          -0.06334932855370694,
          -0.041739997394359615,
          -0.03033002757693882,
          -0.02317496565521171,
          -0.15189174571428113,
          -0.1363909074422917,
          -0.09136773521867483,
          -0.08086811139672775,
          -0.054169842199619025,
          -0.03741779064190454,
          0.03752715060348529,
          0.05923479390202884,
          -0.03391415521016061,
          -0.017649700739092684,
          -0.010323769043954394,
          -0.013775014487859314,
          -0.061006104772964156,
          -0.06410255610005515,
          0.15094899121393962,
          0.15221687897809194,
          0.1738535766628581,
          0.17800770444904937,
          0.1463902715392974,
          0.1573099285736618,
          0.17822903620891817,
          0.17390540953077158,
          0.16425047094673553,
          0.16660977807568306,
          0.07332617603038112,
          0.02635711298029012,
          0.11167892849624785,
          0.11811598492871546,
          -0.11342288913455874,
          -0.10852888829596496,
          0.08194164868961319,
          0.07549645290378691,
          -0.04267988451382551,
          -0.055360010355000086,
          -0.0950844070362894,
          -0.08560923749600431,
          -0.0596261650643539,
          -0.022729837644315947,
          0.10560780200473704,
          0.135866533327416,
          -0.10290264119308855,
          -0.05833115346078431,
          -0.08710498247181832,
          -0.09283197106938804,
          -0.11734311298846847,
          -0.1084120825353236,
          -0.08172556916231964,
          -0.07360544193283562,
          -0.048834115887972825,
          -0.03383574224048653,
          -0.1035503677892104,
          -0.10270836863823322,
          -0.0923936048454509,
          -0.09218508985555081,
          -0.14188425507838545,
          -0.12389381951784605,
          -0.11621098576140887,
          -0.08992854421868939,
          -0.06982751995656165,
          -0.08082491947878148,
          -0.10289778386868421,
          -0.09590203381358682
         ],
         "yaxis": "y"
        }
       ],
       "layout": {
        "barmode": "relative",
        "legend": {
         "tracegroupgap": 0
        },
        "margin": {
         "t": 60
        },
        "template": {
         "data": {
          "bar": [
           {
            "error_x": {
             "color": "#2a3f5f"
            },
            "error_y": {
             "color": "#2a3f5f"
            },
            "marker": {
             "line": {
              "color": "#E5ECF6",
              "width": 0.5
             },
             "pattern": {
              "fillmode": "overlay",
              "size": 10,
              "solidity": 0.2
             }
            },
            "type": "bar"
           }
          ],
          "barpolar": [
           {
            "marker": {
             "line": {
              "color": "#E5ECF6",
              "width": 0.5
             },
             "pattern": {
              "fillmode": "overlay",
              "size": 10,
              "solidity": 0.2
             }
            },
            "type": "barpolar"
           }
          ],
          "carpet": [
           {
            "aaxis": {
             "endlinecolor": "#2a3f5f",
             "gridcolor": "white",
             "linecolor": "white",
             "minorgridcolor": "white",
             "startlinecolor": "#2a3f5f"
            },
            "baxis": {
             "endlinecolor": "#2a3f5f",
             "gridcolor": "white",
             "linecolor": "white",
             "minorgridcolor": "white",
             "startlinecolor": "#2a3f5f"
            },
            "type": "carpet"
           }
          ],
          "choropleth": [
           {
            "colorbar": {
             "outlinewidth": 0,
             "ticks": ""
            },
            "type": "choropleth"
           }
          ],
          "contour": [
           {
            "colorbar": {
             "outlinewidth": 0,
             "ticks": ""
            },
            "colorscale": [
             [
              0,
              "#0d0887"
             ],
             [
              0.1111111111111111,
              "#46039f"
             ],
             [
              0.2222222222222222,
              "#7201a8"
             ],
             [
              0.3333333333333333,
              "#9c179e"
             ],
             [
              0.4444444444444444,
              "#bd3786"
             ],
             [
              0.5555555555555556,
              "#d8576b"
             ],
             [
              0.6666666666666666,
              "#ed7953"
             ],
             [
              0.7777777777777778,
              "#fb9f3a"
             ],
             [
              0.8888888888888888,
              "#fdca26"
             ],
             [
              1,
              "#f0f921"
             ]
            ],
            "type": "contour"
           }
          ],
          "contourcarpet": [
           {
            "colorbar": {
             "outlinewidth": 0,
             "ticks": ""
            },
            "type": "contourcarpet"
           }
          ],
          "heatmap": [
           {
            "colorbar": {
             "outlinewidth": 0,
             "ticks": ""
            },
            "colorscale": [
             [
              0,
              "#0d0887"
             ],
             [
              0.1111111111111111,
              "#46039f"
             ],
             [
              0.2222222222222222,
              "#7201a8"
             ],
             [
              0.3333333333333333,
              "#9c179e"
             ],
             [
              0.4444444444444444,
              "#bd3786"
             ],
             [
              0.5555555555555556,
              "#d8576b"
             ],
             [
              0.6666666666666666,
              "#ed7953"
             ],
             [
              0.7777777777777778,
              "#fb9f3a"
             ],
             [
              0.8888888888888888,
              "#fdca26"
             ],
             [
              1,
              "#f0f921"
             ]
            ],
            "type": "heatmap"
           }
          ],
          "heatmapgl": [
           {
            "colorbar": {
             "outlinewidth": 0,
             "ticks": ""
            },
            "colorscale": [
             [
              0,
              "#0d0887"
             ],
             [
              0.1111111111111111,
              "#46039f"
             ],
             [
              0.2222222222222222,
              "#7201a8"
             ],
             [
              0.3333333333333333,
              "#9c179e"
             ],
             [
              0.4444444444444444,
              "#bd3786"
             ],
             [
              0.5555555555555556,
              "#d8576b"
             ],
             [
              0.6666666666666666,
              "#ed7953"
             ],
             [
              0.7777777777777778,
              "#fb9f3a"
             ],
             [
              0.8888888888888888,
              "#fdca26"
             ],
             [
              1,
              "#f0f921"
             ]
            ],
            "type": "heatmapgl"
           }
          ],
          "histogram": [
           {
            "marker": {
             "pattern": {
              "fillmode": "overlay",
              "size": 10,
              "solidity": 0.2
             }
            },
            "type": "histogram"
           }
          ],
          "histogram2d": [
           {
            "colorbar": {
             "outlinewidth": 0,
             "ticks": ""
            },
            "colorscale": [
             [
              0,
              "#0d0887"
             ],
             [
              0.1111111111111111,
              "#46039f"
             ],
             [
              0.2222222222222222,
              "#7201a8"
             ],
             [
              0.3333333333333333,
              "#9c179e"
             ],
             [
              0.4444444444444444,
              "#bd3786"
             ],
             [
              0.5555555555555556,
              "#d8576b"
             ],
             [
              0.6666666666666666,
              "#ed7953"
             ],
             [
              0.7777777777777778,
              "#fb9f3a"
             ],
             [
              0.8888888888888888,
              "#fdca26"
             ],
             [
              1,
              "#f0f921"
             ]
            ],
            "type": "histogram2d"
           }
          ],
          "histogram2dcontour": [
           {
            "colorbar": {
             "outlinewidth": 0,
             "ticks": ""
            },
            "colorscale": [
             [
              0,
              "#0d0887"
             ],
             [
              0.1111111111111111,
              "#46039f"
             ],
             [
              0.2222222222222222,
              "#7201a8"
             ],
             [
              0.3333333333333333,
              "#9c179e"
             ],
             [
              0.4444444444444444,
              "#bd3786"
             ],
             [
              0.5555555555555556,
              "#d8576b"
             ],
             [
              0.6666666666666666,
              "#ed7953"
             ],
             [
              0.7777777777777778,
              "#fb9f3a"
             ],
             [
              0.8888888888888888,
              "#fdca26"
             ],
             [
              1,
              "#f0f921"
             ]
            ],
            "type": "histogram2dcontour"
           }
          ],
          "mesh3d": [
           {
            "colorbar": {
             "outlinewidth": 0,
             "ticks": ""
            },
            "type": "mesh3d"
           }
          ],
          "parcoords": [
           {
            "line": {
             "colorbar": {
              "outlinewidth": 0,
              "ticks": ""
             }
            },
            "type": "parcoords"
           }
          ],
          "pie": [
           {
            "automargin": true,
            "type": "pie"
           }
          ],
          "scatter": [
           {
            "fillpattern": {
             "fillmode": "overlay",
             "size": 10,
             "solidity": 0.2
            },
            "type": "scatter"
           }
          ],
          "scatter3d": [
           {
            "line": {
             "colorbar": {
              "outlinewidth": 0,
              "ticks": ""
             }
            },
            "marker": {
             "colorbar": {
              "outlinewidth": 0,
              "ticks": ""
             }
            },
            "type": "scatter3d"
           }
          ],
          "scattercarpet": [
           {
            "marker": {
             "colorbar": {
              "outlinewidth": 0,
              "ticks": ""
             }
            },
            "type": "scattercarpet"
           }
          ],
          "scattergeo": [
           {
            "marker": {
             "colorbar": {
              "outlinewidth": 0,
              "ticks": ""
             }
            },
            "type": "scattergeo"
           }
          ],
          "scattergl": [
           {
            "marker": {
             "colorbar": {
              "outlinewidth": 0,
              "ticks": ""
             }
            },
            "type": "scattergl"
           }
          ],
          "scattermapbox": [
           {
            "marker": {
             "colorbar": {
              "outlinewidth": 0,
              "ticks": ""
             }
            },
            "type": "scattermapbox"
           }
          ],
          "scatterpolar": [
           {
            "marker": {
             "colorbar": {
              "outlinewidth": 0,
              "ticks": ""
             }
            },
            "type": "scatterpolar"
           }
          ],
          "scatterpolargl": [
           {
            "marker": {
             "colorbar": {
              "outlinewidth": 0,
              "ticks": ""
             }
            },
            "type": "scatterpolargl"
           }
          ],
          "scatterternary": [
           {
            "marker": {
             "colorbar": {
              "outlinewidth": 0,
              "ticks": ""
             }
            },
            "type": "scatterternary"
           }
          ],
          "surface": [
           {
            "colorbar": {
             "outlinewidth": 0,
             "ticks": ""
            },
            "colorscale": [
             [
              0,
              "#0d0887"
             ],
             [
              0.1111111111111111,
              "#46039f"
             ],
             [
              0.2222222222222222,
              "#7201a8"
             ],
             [
              0.3333333333333333,
              "#9c179e"
             ],
             [
              0.4444444444444444,
              "#bd3786"
             ],
             [
              0.5555555555555556,
              "#d8576b"
             ],
             [
              0.6666666666666666,
              "#ed7953"
             ],
             [
              0.7777777777777778,
              "#fb9f3a"
             ],
             [
              0.8888888888888888,
              "#fdca26"
             ],
             [
              1,
              "#f0f921"
             ]
            ],
            "type": "surface"
           }
          ],
          "table": [
           {
            "cells": {
             "fill": {
              "color": "#EBF0F8"
             },
             "line": {
              "color": "white"
             }
            },
            "header": {
             "fill": {
              "color": "#C8D4E3"
             },
             "line": {
              "color": "white"
             }
            },
            "type": "table"
           }
          ]
         },
         "layout": {
          "annotationdefaults": {
           "arrowcolor": "#2a3f5f",
           "arrowhead": 0,
           "arrowwidth": 1
          },
          "autotypenumbers": "strict",
          "coloraxis": {
           "colorbar": {
            "outlinewidth": 0,
            "ticks": ""
           }
          },
          "colorscale": {
           "diverging": [
            [
             0,
             "#8e0152"
            ],
            [
             0.1,
             "#c51b7d"
            ],
            [
             0.2,
             "#de77ae"
            ],
            [
             0.3,
             "#f1b6da"
            ],
            [
             0.4,
             "#fde0ef"
            ],
            [
             0.5,
             "#f7f7f7"
            ],
            [
             0.6,
             "#e6f5d0"
            ],
            [
             0.7,
             "#b8e186"
            ],
            [
             0.8,
             "#7fbc41"
            ],
            [
             0.9,
             "#4d9221"
            ],
            [
             1,
             "#276419"
            ]
           ],
           "sequential": [
            [
             0,
             "#0d0887"
            ],
            [
             0.1111111111111111,
             "#46039f"
            ],
            [
             0.2222222222222222,
             "#7201a8"
            ],
            [
             0.3333333333333333,
             "#9c179e"
            ],
            [
             0.4444444444444444,
             "#bd3786"
            ],
            [
             0.5555555555555556,
             "#d8576b"
            ],
            [
             0.6666666666666666,
             "#ed7953"
            ],
            [
             0.7777777777777778,
             "#fb9f3a"
            ],
            [
             0.8888888888888888,
             "#fdca26"
            ],
            [
             1,
             "#f0f921"
            ]
           ],
           "sequentialminus": [
            [
             0,
             "#0d0887"
            ],
            [
             0.1111111111111111,
             "#46039f"
            ],
            [
             0.2222222222222222,
             "#7201a8"
            ],
            [
             0.3333333333333333,
             "#9c179e"
            ],
            [
             0.4444444444444444,
             "#bd3786"
            ],
            [
             0.5555555555555556,
             "#d8576b"
            ],
            [
             0.6666666666666666,
             "#ed7953"
            ],
            [
             0.7777777777777778,
             "#fb9f3a"
            ],
            [
             0.8888888888888888,
             "#fdca26"
            ],
            [
             1,
             "#f0f921"
            ]
           ]
          },
          "colorway": [
           "#636efa",
           "#EF553B",
           "#00cc96",
           "#ab63fa",
           "#FFA15A",
           "#19d3f3",
           "#FF6692",
           "#B6E880",
           "#FF97FF",
           "#FECB52"
          ],
          "font": {
           "color": "#2a3f5f"
          },
          "geo": {
           "bgcolor": "white",
           "lakecolor": "white",
           "landcolor": "#E5ECF6",
           "showlakes": true,
           "showland": true,
           "subunitcolor": "white"
          },
          "hoverlabel": {
           "align": "left"
          },
          "hovermode": "closest",
          "mapbox": {
           "style": "light"
          },
          "paper_bgcolor": "white",
          "plot_bgcolor": "#E5ECF6",
          "polar": {
           "angularaxis": {
            "gridcolor": "white",
            "linecolor": "white",
            "ticks": ""
           },
           "bgcolor": "#E5ECF6",
           "radialaxis": {
            "gridcolor": "white",
            "linecolor": "white",
            "ticks": ""
           }
          },
          "scene": {
           "xaxis": {
            "backgroundcolor": "#E5ECF6",
            "gridcolor": "white",
            "gridwidth": 2,
            "linecolor": "white",
            "showbackground": true,
            "ticks": "",
            "zerolinecolor": "white"
           },
           "yaxis": {
            "backgroundcolor": "#E5ECF6",
            "gridcolor": "white",
            "gridwidth": 2,
            "linecolor": "white",
            "showbackground": true,
            "ticks": "",
            "zerolinecolor": "white"
           },
           "zaxis": {
            "backgroundcolor": "#E5ECF6",
            "gridcolor": "white",
            "gridwidth": 2,
            "linecolor": "white",
            "showbackground": true,
            "ticks": "",
            "zerolinecolor": "white"
           }
          },
          "shapedefaults": {
           "line": {
            "color": "#2a3f5f"
           }
          },
          "ternary": {
           "aaxis": {
            "gridcolor": "white",
            "linecolor": "white",
            "ticks": ""
           },
           "baxis": {
            "gridcolor": "white",
            "linecolor": "white",
            "ticks": ""
           },
           "bgcolor": "#E5ECF6",
           "caxis": {
            "gridcolor": "white",
            "linecolor": "white",
            "ticks": ""
           }
          },
          "title": {
           "x": 0.05
          },
          "xaxis": {
           "automargin": true,
           "gridcolor": "white",
           "linecolor": "white",
           "ticks": "",
           "title": {
            "standoff": 15
           },
           "zerolinecolor": "white",
           "zerolinewidth": 2
          },
          "yaxis": {
           "automargin": true,
           "gridcolor": "white",
           "linecolor": "white",
           "ticks": "",
           "title": {
            "standoff": 15
           },
           "zerolinecolor": "white",
           "zerolinewidth": 2
          }
         }
        },
        "xaxis": {
         "anchor": "y",
         "domain": [
          0,
          1
         ],
         "title": {
          "text": "x"
         }
        },
        "yaxis": {
         "anchor": "x",
         "domain": [
          0,
          1
         ],
         "title": {
          "text": "y"
         }
        }
       }
      }
     },
     "metadata": {},
     "output_type": "display_data"
    },
    {
     "name": "stdout",
     "output_type": "stream",
     "text": [
      "Model 2:  , kappa = 808.8360460047309\n"
     ]
    },
    {
     "data": {
      "application/vnd.plotly.v1+json": {
       "config": {
        "plotlyServerURL": "https://plot.ly"
       },
       "data": [
        {
         "alignmentgroup": "True",
         "hovertemplate": "x=%{x}<br>y=%{y}<extra></extra>",
         "legendgroup": "",
         "marker": {
          "color": "#636efa",
          "pattern": {
           "shape": ""
          }
         },
         "name": "",
         "offsetgroup": "",
         "orientation": "v",
         "showlegend": false,
         "textposition": "auto",
         "type": "bar",
         "x": [
          "'Precentral-L'",
          "'Precentral-R'",
          "'Frontal-Sup-L'",
          "'Frontal-Sup-R'",
          "'Frontal-Sup-Orb-L'",
          "'Frontal-Sup-Orb-R'",
          "'Frontal-Mid-L'",
          "'Frontal-Mid-R'",
          "'Frontal-Mid-Orb-L'",
          "'Frontal-Mid-Orb-R'",
          "'Frontal-Inf-Oper-L'",
          "'Frontal-Inf-Oper-R'",
          "'Frontal-Inf-Tri-L'",
          "'Frontal-Inf-Tri-R'",
          "'Frontal-Inf-Orb-L'",
          "'Frontal-Inf-Orb-R'",
          "'Rolandic-Oper-L'",
          "'Rolandic-Oper-R'",
          "'Supp-Motor-Area-L'",
          "'Supp-Motor-Area-R'",
          "'Olfactory-L'",
          "'Olfactory-R'",
          "'Frontal-Sup-Medial-L'",
          "'Frontal-Sup-Medial-R'",
          "'Frontal-Med-Orb-L'",
          "'Frontal-Med-Orb-R'",
          "'Rectus-L'",
          "'Rectus-R'",
          "'Insula-L'",
          "'Insula-R'",
          "'Cingulum-Ant-L'",
          "'Cingulum-Ant-R'",
          "'Cingulum-Mid-L'",
          "'Cingulum-Mid-R'",
          "'Cingulum-Post-L'",
          "'Cingulum-Post-R'",
          "'Hippocampus-L'",
          "'Hippocampus-R'",
          "'ParaHippocampal-L'",
          "'ParaHippocampal-R'",
          "'Amygdala-L'",
          "'Amygdala-R'",
          "'Calcarine-L'",
          "'Calcarine-R'",
          "'Cuneus-L'",
          "'Cuneus-R'",
          "'Lingual-L'",
          "'Lingual-R'",
          "'Occipital-Sup-L'",
          "'Occipital-Sup-R'",
          "'Occipital-Mid-L'",
          "'Occipital-Mid-R'",
          "'Occipital-Inf-L'",
          "'Occipital-Inf-R'",
          "'Fusiform-L'",
          "'Fusiform-R'",
          "'Postcentral-L'",
          "'Postcentral-R'",
          "'Parietal-Sup-L'",
          "'Parietal-Sup-R'",
          "'Parietal-Inf-L'",
          "'Parietal-Inf-R'",
          "'SupraMarginal-L'",
          "'SupraMarginal-R'",
          "'Angular-L'",
          "'Angular-R'",
          "'Precuneus-L'",
          "'Precuneus-R'",
          "'Paracentral-Lobule-L'",
          "'Paracentral-Lobule-R'",
          "'Caudate-L'",
          "'Caudate-R'",
          "'Putamen-L'",
          "'Putamen-R'",
          "'Pallidum-L'",
          "'Pallidum-R'",
          "'Thalamus-L'",
          "'Thalamus-R'",
          "'Heschl-L'",
          "'Heschl-R'",
          "'Temporal-Sup-L'",
          "'Temporal-Sup-R'",
          "'Temporal-Pole-Sup-L'",
          "'Temporal-Pole-Sup-R'",
          "'Temporal-Mid-L'",
          "'Temporal-Mid-R'",
          "'Temporal-Pole-Mid-L'",
          "'Temporal-Pole-Mid-R'",
          "'Temporal-Inf-L'",
          "'Temporal-Inf-R'"
         ],
         "xaxis": "x",
         "y": [
          0.13307045502525558,
          0.12462963125634362,
          0.11026153877089075,
          0.11379668371139158,
          0.09160578308717962,
          0.08553441891246305,
          0.1044191517222459,
          0.09707435028819833,
          0.10495207105871103,
          0.0848353879552628,
          0.11455671884889593,
          0.11332350693960423,
          0.12364864752553616,
          0.1283471737770091,
          0.12408568291085256,
          0.13245481988169408,
          0.09456539403875057,
          0.08788913778930163,
          0.11555975916090198,
          0.10932454029022678,
          0.09548168536454048,
          0.0706693616257389,
          0.11050702577753702,
          0.1132119670552663,
          0.09989069530167238,
          0.09403818843132897,
          0.07731591110856117,
          0.06958655440331055,
          0.11851767616017357,
          0.10669525645389519,
          0.11060748023714032,
          0.10847963882298846,
          0.13230439007142392,
          0.13405754719011215,
          0.07923831037231799,
          0.06314191780311858,
          0.06431338132905395,
          0.05459065630115318,
          0.0725251023659094,
          0.11915851027093394,
          0.08886654563954277,
          0.0901477808013863,
          0.10912782855055828,
          0.10869918034711434,
          0.08397431332135684,
          0.09890467498282006,
          0.12398827009660791,
          0.12239175722897278,
          0.10131910495759266,
          0.10028127865925432,
          0.113693465516158,
          0.10613949263970103,
          0.09985254480277565,
          0.0885385933798269,
          0.14587278477751595,
          0.1430073986146856,
          0.08993893365437466,
          0.08334930684978568,
          0.06577549135243205,
          0.0662068559720074,
          0.10011767946784933,
          0.08528169316056941,
          0.10143455258251256,
          0.10058771745574865,
          0.08777342652064528,
          0.08521579889243243,
          0.08368112377367883,
          0.07622726067347217,
          0.0655055907107007,
          0.06892063060692087,
          0.06786967903971379,
          0.07957183589305349,
          0.11246788226698848,
          0.11020241111353987,
          0.07739302497792806,
          0.07905174836513829,
          0.10879750152429245,
          0.10666844116761609,
          0.10216843295439706,
          0.10630017795420676,
          0.13039144839402372,
          0.1454204522312406,
          0.1274676801954644,
          0.135965651302588,
          0.1473462516722181,
          0.15773591923820482,
          0.09967086105409648,
          0.11898093559279202,
          0.14158535700418623,
          0.13579639777653962
         ],
         "yaxis": "y"
        }
       ],
       "layout": {
        "barmode": "relative",
        "legend": {
         "tracegroupgap": 0
        },
        "margin": {
         "t": 60
        },
        "template": {
         "data": {
          "bar": [
           {
            "error_x": {
             "color": "#2a3f5f"
            },
            "error_y": {
             "color": "#2a3f5f"
            },
            "marker": {
             "line": {
              "color": "#E5ECF6",
              "width": 0.5
             },
             "pattern": {
              "fillmode": "overlay",
              "size": 10,
              "solidity": 0.2
             }
            },
            "type": "bar"
           }
          ],
          "barpolar": [
           {
            "marker": {
             "line": {
              "color": "#E5ECF6",
              "width": 0.5
             },
             "pattern": {
              "fillmode": "overlay",
              "size": 10,
              "solidity": 0.2
             }
            },
            "type": "barpolar"
           }
          ],
          "carpet": [
           {
            "aaxis": {
             "endlinecolor": "#2a3f5f",
             "gridcolor": "white",
             "linecolor": "white",
             "minorgridcolor": "white",
             "startlinecolor": "#2a3f5f"
            },
            "baxis": {
             "endlinecolor": "#2a3f5f",
             "gridcolor": "white",
             "linecolor": "white",
             "minorgridcolor": "white",
             "startlinecolor": "#2a3f5f"
            },
            "type": "carpet"
           }
          ],
          "choropleth": [
           {
            "colorbar": {
             "outlinewidth": 0,
             "ticks": ""
            },
            "type": "choropleth"
           }
          ],
          "contour": [
           {
            "colorbar": {
             "outlinewidth": 0,
             "ticks": ""
            },
            "colorscale": [
             [
              0,
              "#0d0887"
             ],
             [
              0.1111111111111111,
              "#46039f"
             ],
             [
              0.2222222222222222,
              "#7201a8"
             ],
             [
              0.3333333333333333,
              "#9c179e"
             ],
             [
              0.4444444444444444,
              "#bd3786"
             ],
             [
              0.5555555555555556,
              "#d8576b"
             ],
             [
              0.6666666666666666,
              "#ed7953"
             ],
             [
              0.7777777777777778,
              "#fb9f3a"
             ],
             [
              0.8888888888888888,
              "#fdca26"
             ],
             [
              1,
              "#f0f921"
             ]
            ],
            "type": "contour"
           }
          ],
          "contourcarpet": [
           {
            "colorbar": {
             "outlinewidth": 0,
             "ticks": ""
            },
            "type": "contourcarpet"
           }
          ],
          "heatmap": [
           {
            "colorbar": {
             "outlinewidth": 0,
             "ticks": ""
            },
            "colorscale": [
             [
              0,
              "#0d0887"
             ],
             [
              0.1111111111111111,
              "#46039f"
             ],
             [
              0.2222222222222222,
              "#7201a8"
             ],
             [
              0.3333333333333333,
              "#9c179e"
             ],
             [
              0.4444444444444444,
              "#bd3786"
             ],
             [
              0.5555555555555556,
              "#d8576b"
             ],
             [
              0.6666666666666666,
              "#ed7953"
             ],
             [
              0.7777777777777778,
              "#fb9f3a"
             ],
             [
              0.8888888888888888,
              "#fdca26"
             ],
             [
              1,
              "#f0f921"
             ]
            ],
            "type": "heatmap"
           }
          ],
          "heatmapgl": [
           {
            "colorbar": {
             "outlinewidth": 0,
             "ticks": ""
            },
            "colorscale": [
             [
              0,
              "#0d0887"
             ],
             [
              0.1111111111111111,
              "#46039f"
             ],
             [
              0.2222222222222222,
              "#7201a8"
             ],
             [
              0.3333333333333333,
              "#9c179e"
             ],
             [
              0.4444444444444444,
              "#bd3786"
             ],
             [
              0.5555555555555556,
              "#d8576b"
             ],
             [
              0.6666666666666666,
              "#ed7953"
             ],
             [
              0.7777777777777778,
              "#fb9f3a"
             ],
             [
              0.8888888888888888,
              "#fdca26"
             ],
             [
              1,
              "#f0f921"
             ]
            ],
            "type": "heatmapgl"
           }
          ],
          "histogram": [
           {
            "marker": {
             "pattern": {
              "fillmode": "overlay",
              "size": 10,
              "solidity": 0.2
             }
            },
            "type": "histogram"
           }
          ],
          "histogram2d": [
           {
            "colorbar": {
             "outlinewidth": 0,
             "ticks": ""
            },
            "colorscale": [
             [
              0,
              "#0d0887"
             ],
             [
              0.1111111111111111,
              "#46039f"
             ],
             [
              0.2222222222222222,
              "#7201a8"
             ],
             [
              0.3333333333333333,
              "#9c179e"
             ],
             [
              0.4444444444444444,
              "#bd3786"
             ],
             [
              0.5555555555555556,
              "#d8576b"
             ],
             [
              0.6666666666666666,
              "#ed7953"
             ],
             [
              0.7777777777777778,
              "#fb9f3a"
             ],
             [
              0.8888888888888888,
              "#fdca26"
             ],
             [
              1,
              "#f0f921"
             ]
            ],
            "type": "histogram2d"
           }
          ],
          "histogram2dcontour": [
           {
            "colorbar": {
             "outlinewidth": 0,
             "ticks": ""
            },
            "colorscale": [
             [
              0,
              "#0d0887"
             ],
             [
              0.1111111111111111,
              "#46039f"
             ],
             [
              0.2222222222222222,
              "#7201a8"
             ],
             [
              0.3333333333333333,
              "#9c179e"
             ],
             [
              0.4444444444444444,
              "#bd3786"
             ],
             [
              0.5555555555555556,
              "#d8576b"
             ],
             [
              0.6666666666666666,
              "#ed7953"
             ],
             [
              0.7777777777777778,
              "#fb9f3a"
             ],
             [
              0.8888888888888888,
              "#fdca26"
             ],
             [
              1,
              "#f0f921"
             ]
            ],
            "type": "histogram2dcontour"
           }
          ],
          "mesh3d": [
           {
            "colorbar": {
             "outlinewidth": 0,
             "ticks": ""
            },
            "type": "mesh3d"
           }
          ],
          "parcoords": [
           {
            "line": {
             "colorbar": {
              "outlinewidth": 0,
              "ticks": ""
             }
            },
            "type": "parcoords"
           }
          ],
          "pie": [
           {
            "automargin": true,
            "type": "pie"
           }
          ],
          "scatter": [
           {
            "fillpattern": {
             "fillmode": "overlay",
             "size": 10,
             "solidity": 0.2
            },
            "type": "scatter"
           }
          ],
          "scatter3d": [
           {
            "line": {
             "colorbar": {
              "outlinewidth": 0,
              "ticks": ""
             }
            },
            "marker": {
             "colorbar": {
              "outlinewidth": 0,
              "ticks": ""
             }
            },
            "type": "scatter3d"
           }
          ],
          "scattercarpet": [
           {
            "marker": {
             "colorbar": {
              "outlinewidth": 0,
              "ticks": ""
             }
            },
            "type": "scattercarpet"
           }
          ],
          "scattergeo": [
           {
            "marker": {
             "colorbar": {
              "outlinewidth": 0,
              "ticks": ""
             }
            },
            "type": "scattergeo"
           }
          ],
          "scattergl": [
           {
            "marker": {
             "colorbar": {
              "outlinewidth": 0,
              "ticks": ""
             }
            },
            "type": "scattergl"
           }
          ],
          "scattermapbox": [
           {
            "marker": {
             "colorbar": {
              "outlinewidth": 0,
              "ticks": ""
             }
            },
            "type": "scattermapbox"
           }
          ],
          "scatterpolar": [
           {
            "marker": {
             "colorbar": {
              "outlinewidth": 0,
              "ticks": ""
             }
            },
            "type": "scatterpolar"
           }
          ],
          "scatterpolargl": [
           {
            "marker": {
             "colorbar": {
              "outlinewidth": 0,
              "ticks": ""
             }
            },
            "type": "scatterpolargl"
           }
          ],
          "scatterternary": [
           {
            "marker": {
             "colorbar": {
              "outlinewidth": 0,
              "ticks": ""
             }
            },
            "type": "scatterternary"
           }
          ],
          "surface": [
           {
            "colorbar": {
             "outlinewidth": 0,
             "ticks": ""
            },
            "colorscale": [
             [
              0,
              "#0d0887"
             ],
             [
              0.1111111111111111,
              "#46039f"
             ],
             [
              0.2222222222222222,
              "#7201a8"
             ],
             [
              0.3333333333333333,
              "#9c179e"
             ],
             [
              0.4444444444444444,
              "#bd3786"
             ],
             [
              0.5555555555555556,
              "#d8576b"
             ],
             [
              0.6666666666666666,
              "#ed7953"
             ],
             [
              0.7777777777777778,
              "#fb9f3a"
             ],
             [
              0.8888888888888888,
              "#fdca26"
             ],
             [
              1,
              "#f0f921"
             ]
            ],
            "type": "surface"
           }
          ],
          "table": [
           {
            "cells": {
             "fill": {
              "color": "#EBF0F8"
             },
             "line": {
              "color": "white"
             }
            },
            "header": {
             "fill": {
              "color": "#C8D4E3"
             },
             "line": {
              "color": "white"
             }
            },
            "type": "table"
           }
          ]
         },
         "layout": {
          "annotationdefaults": {
           "arrowcolor": "#2a3f5f",
           "arrowhead": 0,
           "arrowwidth": 1
          },
          "autotypenumbers": "strict",
          "coloraxis": {
           "colorbar": {
            "outlinewidth": 0,
            "ticks": ""
           }
          },
          "colorscale": {
           "diverging": [
            [
             0,
             "#8e0152"
            ],
            [
             0.1,
             "#c51b7d"
            ],
            [
             0.2,
             "#de77ae"
            ],
            [
             0.3,
             "#f1b6da"
            ],
            [
             0.4,
             "#fde0ef"
            ],
            [
             0.5,
             "#f7f7f7"
            ],
            [
             0.6,
             "#e6f5d0"
            ],
            [
             0.7,
             "#b8e186"
            ],
            [
             0.8,
             "#7fbc41"
            ],
            [
             0.9,
             "#4d9221"
            ],
            [
             1,
             "#276419"
            ]
           ],
           "sequential": [
            [
             0,
             "#0d0887"
            ],
            [
             0.1111111111111111,
             "#46039f"
            ],
            [
             0.2222222222222222,
             "#7201a8"
            ],
            [
             0.3333333333333333,
             "#9c179e"
            ],
            [
             0.4444444444444444,
             "#bd3786"
            ],
            [
             0.5555555555555556,
             "#d8576b"
            ],
            [
             0.6666666666666666,
             "#ed7953"
            ],
            [
             0.7777777777777778,
             "#fb9f3a"
            ],
            [
             0.8888888888888888,
             "#fdca26"
            ],
            [
             1,
             "#f0f921"
            ]
           ],
           "sequentialminus": [
            [
             0,
             "#0d0887"
            ],
            [
             0.1111111111111111,
             "#46039f"
            ],
            [
             0.2222222222222222,
             "#7201a8"
            ],
            [
             0.3333333333333333,
             "#9c179e"
            ],
            [
             0.4444444444444444,
             "#bd3786"
            ],
            [
             0.5555555555555556,
             "#d8576b"
            ],
            [
             0.6666666666666666,
             "#ed7953"
            ],
            [
             0.7777777777777778,
             "#fb9f3a"
            ],
            [
             0.8888888888888888,
             "#fdca26"
            ],
            [
             1,
             "#f0f921"
            ]
           ]
          },
          "colorway": [
           "#636efa",
           "#EF553B",
           "#00cc96",
           "#ab63fa",
           "#FFA15A",
           "#19d3f3",
           "#FF6692",
           "#B6E880",
           "#FF97FF",
           "#FECB52"
          ],
          "font": {
           "color": "#2a3f5f"
          },
          "geo": {
           "bgcolor": "white",
           "lakecolor": "white",
           "landcolor": "#E5ECF6",
           "showlakes": true,
           "showland": true,
           "subunitcolor": "white"
          },
          "hoverlabel": {
           "align": "left"
          },
          "hovermode": "closest",
          "mapbox": {
           "style": "light"
          },
          "paper_bgcolor": "white",
          "plot_bgcolor": "#E5ECF6",
          "polar": {
           "angularaxis": {
            "gridcolor": "white",
            "linecolor": "white",
            "ticks": ""
           },
           "bgcolor": "#E5ECF6",
           "radialaxis": {
            "gridcolor": "white",
            "linecolor": "white",
            "ticks": ""
           }
          },
          "scene": {
           "xaxis": {
            "backgroundcolor": "#E5ECF6",
            "gridcolor": "white",
            "gridwidth": 2,
            "linecolor": "white",
            "showbackground": true,
            "ticks": "",
            "zerolinecolor": "white"
           },
           "yaxis": {
            "backgroundcolor": "#E5ECF6",
            "gridcolor": "white",
            "gridwidth": 2,
            "linecolor": "white",
            "showbackground": true,
            "ticks": "",
            "zerolinecolor": "white"
           },
           "zaxis": {
            "backgroundcolor": "#E5ECF6",
            "gridcolor": "white",
            "gridwidth": 2,
            "linecolor": "white",
            "showbackground": true,
            "ticks": "",
            "zerolinecolor": "white"
           }
          },
          "shapedefaults": {
           "line": {
            "color": "#2a3f5f"
           }
          },
          "ternary": {
           "aaxis": {
            "gridcolor": "white",
            "linecolor": "white",
            "ticks": ""
           },
           "baxis": {
            "gridcolor": "white",
            "linecolor": "white",
            "ticks": ""
           },
           "bgcolor": "#E5ECF6",
           "caxis": {
            "gridcolor": "white",
            "linecolor": "white",
            "ticks": ""
           }
          },
          "title": {
           "x": 0.05
          },
          "xaxis": {
           "automargin": true,
           "gridcolor": "white",
           "linecolor": "white",
           "ticks": "",
           "title": {
            "standoff": 15
           },
           "zerolinecolor": "white",
           "zerolinewidth": 2
          },
          "yaxis": {
           "automargin": true,
           "gridcolor": "white",
           "linecolor": "white",
           "ticks": "",
           "title": {
            "standoff": 15
           },
           "zerolinecolor": "white",
           "zerolinewidth": 2
          }
         }
        },
        "xaxis": {
         "anchor": "y",
         "domain": [
          0,
          1
         ],
         "title": {
          "text": "x"
         }
        },
        "yaxis": {
         "anchor": "x",
         "domain": [
          0,
          1
         ],
         "title": {
          "text": "y"
         }
        }
       }
      }
     },
     "metadata": {},
     "output_type": "display_data"
    },
    {
     "name": "stdout",
     "output_type": "stream",
     "text": [
      "Model 3:  , kappa = 71.20058101950762\n"
     ]
    },
    {
     "data": {
      "application/vnd.plotly.v1+json": {
       "config": {
        "plotlyServerURL": "https://plot.ly"
       },
       "data": [
        {
         "alignmentgroup": "True",
         "hovertemplate": "x=%{x}<br>y=%{y}<extra></extra>",
         "legendgroup": "",
         "marker": {
          "color": "#636efa",
          "pattern": {
           "shape": ""
          }
         },
         "name": "",
         "offsetgroup": "",
         "orientation": "v",
         "showlegend": false,
         "textposition": "auto",
         "type": "bar",
         "x": [
          "'Precentral-L'",
          "'Precentral-R'",
          "'Frontal-Sup-L'",
          "'Frontal-Sup-R'",
          "'Frontal-Sup-Orb-L'",
          "'Frontal-Sup-Orb-R'",
          "'Frontal-Mid-L'",
          "'Frontal-Mid-R'",
          "'Frontal-Mid-Orb-L'",
          "'Frontal-Mid-Orb-R'",
          "'Frontal-Inf-Oper-L'",
          "'Frontal-Inf-Oper-R'",
          "'Frontal-Inf-Tri-L'",
          "'Frontal-Inf-Tri-R'",
          "'Frontal-Inf-Orb-L'",
          "'Frontal-Inf-Orb-R'",
          "'Rolandic-Oper-L'",
          "'Rolandic-Oper-R'",
          "'Supp-Motor-Area-L'",
          "'Supp-Motor-Area-R'",
          "'Olfactory-L'",
          "'Olfactory-R'",
          "'Frontal-Sup-Medial-L'",
          "'Frontal-Sup-Medial-R'",
          "'Frontal-Med-Orb-L'",
          "'Frontal-Med-Orb-R'",
          "'Rectus-L'",
          "'Rectus-R'",
          "'Insula-L'",
          "'Insula-R'",
          "'Cingulum-Ant-L'",
          "'Cingulum-Ant-R'",
          "'Cingulum-Mid-L'",
          "'Cingulum-Mid-R'",
          "'Cingulum-Post-L'",
          "'Cingulum-Post-R'",
          "'Hippocampus-L'",
          "'Hippocampus-R'",
          "'ParaHippocampal-L'",
          "'ParaHippocampal-R'",
          "'Amygdala-L'",
          "'Amygdala-R'",
          "'Calcarine-L'",
          "'Calcarine-R'",
          "'Cuneus-L'",
          "'Cuneus-R'",
          "'Lingual-L'",
          "'Lingual-R'",
          "'Occipital-Sup-L'",
          "'Occipital-Sup-R'",
          "'Occipital-Mid-L'",
          "'Occipital-Mid-R'",
          "'Occipital-Inf-L'",
          "'Occipital-Inf-R'",
          "'Fusiform-L'",
          "'Fusiform-R'",
          "'Postcentral-L'",
          "'Postcentral-R'",
          "'Parietal-Sup-L'",
          "'Parietal-Sup-R'",
          "'Parietal-Inf-L'",
          "'Parietal-Inf-R'",
          "'SupraMarginal-L'",
          "'SupraMarginal-R'",
          "'Angular-L'",
          "'Angular-R'",
          "'Precuneus-L'",
          "'Precuneus-R'",
          "'Paracentral-Lobule-L'",
          "'Paracentral-Lobule-R'",
          "'Caudate-L'",
          "'Caudate-R'",
          "'Putamen-L'",
          "'Putamen-R'",
          "'Pallidum-L'",
          "'Pallidum-R'",
          "'Thalamus-L'",
          "'Thalamus-R'",
          "'Heschl-L'",
          "'Heschl-R'",
          "'Temporal-Sup-L'",
          "'Temporal-Sup-R'",
          "'Temporal-Pole-Sup-L'",
          "'Temporal-Pole-Sup-R'",
          "'Temporal-Mid-L'",
          "'Temporal-Mid-R'",
          "'Temporal-Pole-Mid-L'",
          "'Temporal-Pole-Mid-R'",
          "'Temporal-Inf-L'",
          "'Temporal-Inf-R'"
         ],
         "xaxis": "x",
         "y": [
          0.020900776777423892,
          0.0594105988326102,
          -0.11544978714024791,
          -0.09134149402376623,
          -0.07089772827014405,
          -0.061611458969070006,
          -0.05492113231965967,
          -0.032890537842126186,
          -0.09344821369890394,
          -0.09649952833136492,
          0.01906709669893878,
          -0.016090165337868372,
          -0.0593960414613768,
          -0.06818196579153969,
          -0.11798373949018404,
          -0.13228896225177555,
          0.15774322526101833,
          0.17129970358877306,
          0.052336246150543386,
          0.1005817675121672,
          -0.07596292029382652,
          -0.059944341755320756,
          -0.15118624356712052,
          -0.1744675224424399,
          -0.1544384445619631,
          -0.1416497915982965,
          -0.11414110428008373,
          -0.09693083465090895,
          0.14925025090847802,
          0.16048616926593864,
          -0.017482717570849005,
          -0.031755140850954613,
          0.05387180502203706,
          0.0626381597151552,
          -0.11154764860436595,
          -0.07512820484829182,
          -0.1086243836847355,
          -0.09803798928000002,
          -0.10126839158529412,
          -0.1210702056149566,
          -0.04013598260315662,
          -0.033457121807694855,
          -0.12199429220443954,
          -0.11160372139529806,
          -0.07740400678400322,
          -0.0843001563198663,
          -0.12149707113817118,
          -0.1283822143556767,
          -0.11881118333276205,
          -0.15142040951117036,
          -0.16825966492003144,
          -0.16113980201731828,
          -0.14400237318975861,
          -0.13504136021533839,
          -0.17383268820106518,
          -0.17947938914705855,
          0.1039067872766946,
          0.11378559043807726,
          -0.01502560610941636,
          -0.01524264908255047,
          -0.028081155964935028,
          -0.02733083813241216,
          0.13969880846390442,
          0.15746073129293925,
          -0.1693879132352724,
          -0.1586583690783937,
          -0.03409038937074567,
          -0.013388087294464827,
          0.04899706403856898,
          0.047561321738728436,
          -0.009359091093842035,
          -0.014541880503838256,
          0.05018225149019527,
          0.06202789406648358,
          0.02770016562609071,
          0.03981643074215974,
          0.030426374947776207,
          0.02791241487412375,
          0.09253256387344264,
          0.09131488032777378,
          0.10401954642905525,
          0.030467353778051112,
          -0.07264024300116749,
          -0.03567946992231497,
          -0.1643823053048293,
          -0.16026229947990958,
          -0.15183368330517122,
          -0.1562161058958452,
          -0.1499821761486546,
          -0.1445117928556812
         ],
         "yaxis": "y"
        }
       ],
       "layout": {
        "barmode": "relative",
        "legend": {
         "tracegroupgap": 0
        },
        "margin": {
         "t": 60
        },
        "template": {
         "data": {
          "bar": [
           {
            "error_x": {
             "color": "#2a3f5f"
            },
            "error_y": {
             "color": "#2a3f5f"
            },
            "marker": {
             "line": {
              "color": "#E5ECF6",
              "width": 0.5
             },
             "pattern": {
              "fillmode": "overlay",
              "size": 10,
              "solidity": 0.2
             }
            },
            "type": "bar"
           }
          ],
          "barpolar": [
           {
            "marker": {
             "line": {
              "color": "#E5ECF6",
              "width": 0.5
             },
             "pattern": {
              "fillmode": "overlay",
              "size": 10,
              "solidity": 0.2
             }
            },
            "type": "barpolar"
           }
          ],
          "carpet": [
           {
            "aaxis": {
             "endlinecolor": "#2a3f5f",
             "gridcolor": "white",
             "linecolor": "white",
             "minorgridcolor": "white",
             "startlinecolor": "#2a3f5f"
            },
            "baxis": {
             "endlinecolor": "#2a3f5f",
             "gridcolor": "white",
             "linecolor": "white",
             "minorgridcolor": "white",
             "startlinecolor": "#2a3f5f"
            },
            "type": "carpet"
           }
          ],
          "choropleth": [
           {
            "colorbar": {
             "outlinewidth": 0,
             "ticks": ""
            },
            "type": "choropleth"
           }
          ],
          "contour": [
           {
            "colorbar": {
             "outlinewidth": 0,
             "ticks": ""
            },
            "colorscale": [
             [
              0,
              "#0d0887"
             ],
             [
              0.1111111111111111,
              "#46039f"
             ],
             [
              0.2222222222222222,
              "#7201a8"
             ],
             [
              0.3333333333333333,
              "#9c179e"
             ],
             [
              0.4444444444444444,
              "#bd3786"
             ],
             [
              0.5555555555555556,
              "#d8576b"
             ],
             [
              0.6666666666666666,
              "#ed7953"
             ],
             [
              0.7777777777777778,
              "#fb9f3a"
             ],
             [
              0.8888888888888888,
              "#fdca26"
             ],
             [
              1,
              "#f0f921"
             ]
            ],
            "type": "contour"
           }
          ],
          "contourcarpet": [
           {
            "colorbar": {
             "outlinewidth": 0,
             "ticks": ""
            },
            "type": "contourcarpet"
           }
          ],
          "heatmap": [
           {
            "colorbar": {
             "outlinewidth": 0,
             "ticks": ""
            },
            "colorscale": [
             [
              0,
              "#0d0887"
             ],
             [
              0.1111111111111111,
              "#46039f"
             ],
             [
              0.2222222222222222,
              "#7201a8"
             ],
             [
              0.3333333333333333,
              "#9c179e"
             ],
             [
              0.4444444444444444,
              "#bd3786"
             ],
             [
              0.5555555555555556,
              "#d8576b"
             ],
             [
              0.6666666666666666,
              "#ed7953"
             ],
             [
              0.7777777777777778,
              "#fb9f3a"
             ],
             [
              0.8888888888888888,
              "#fdca26"
             ],
             [
              1,
              "#f0f921"
             ]
            ],
            "type": "heatmap"
           }
          ],
          "heatmapgl": [
           {
            "colorbar": {
             "outlinewidth": 0,
             "ticks": ""
            },
            "colorscale": [
             [
              0,
              "#0d0887"
             ],
             [
              0.1111111111111111,
              "#46039f"
             ],
             [
              0.2222222222222222,
              "#7201a8"
             ],
             [
              0.3333333333333333,
              "#9c179e"
             ],
             [
              0.4444444444444444,
              "#bd3786"
             ],
             [
              0.5555555555555556,
              "#d8576b"
             ],
             [
              0.6666666666666666,
              "#ed7953"
             ],
             [
              0.7777777777777778,
              "#fb9f3a"
             ],
             [
              0.8888888888888888,
              "#fdca26"
             ],
             [
              1,
              "#f0f921"
             ]
            ],
            "type": "heatmapgl"
           }
          ],
          "histogram": [
           {
            "marker": {
             "pattern": {
              "fillmode": "overlay",
              "size": 10,
              "solidity": 0.2
             }
            },
            "type": "histogram"
           }
          ],
          "histogram2d": [
           {
            "colorbar": {
             "outlinewidth": 0,
             "ticks": ""
            },
            "colorscale": [
             [
              0,
              "#0d0887"
             ],
             [
              0.1111111111111111,
              "#46039f"
             ],
             [
              0.2222222222222222,
              "#7201a8"
             ],
             [
              0.3333333333333333,
              "#9c179e"
             ],
             [
              0.4444444444444444,
              "#bd3786"
             ],
             [
              0.5555555555555556,
              "#d8576b"
             ],
             [
              0.6666666666666666,
              "#ed7953"
             ],
             [
              0.7777777777777778,
              "#fb9f3a"
             ],
             [
              0.8888888888888888,
              "#fdca26"
             ],
             [
              1,
              "#f0f921"
             ]
            ],
            "type": "histogram2d"
           }
          ],
          "histogram2dcontour": [
           {
            "colorbar": {
             "outlinewidth": 0,
             "ticks": ""
            },
            "colorscale": [
             [
              0,
              "#0d0887"
             ],
             [
              0.1111111111111111,
              "#46039f"
             ],
             [
              0.2222222222222222,
              "#7201a8"
             ],
             [
              0.3333333333333333,
              "#9c179e"
             ],
             [
              0.4444444444444444,
              "#bd3786"
             ],
             [
              0.5555555555555556,
              "#d8576b"
             ],
             [
              0.6666666666666666,
              "#ed7953"
             ],
             [
              0.7777777777777778,
              "#fb9f3a"
             ],
             [
              0.8888888888888888,
              "#fdca26"
             ],
             [
              1,
              "#f0f921"
             ]
            ],
            "type": "histogram2dcontour"
           }
          ],
          "mesh3d": [
           {
            "colorbar": {
             "outlinewidth": 0,
             "ticks": ""
            },
            "type": "mesh3d"
           }
          ],
          "parcoords": [
           {
            "line": {
             "colorbar": {
              "outlinewidth": 0,
              "ticks": ""
             }
            },
            "type": "parcoords"
           }
          ],
          "pie": [
           {
            "automargin": true,
            "type": "pie"
           }
          ],
          "scatter": [
           {
            "fillpattern": {
             "fillmode": "overlay",
             "size": 10,
             "solidity": 0.2
            },
            "type": "scatter"
           }
          ],
          "scatter3d": [
           {
            "line": {
             "colorbar": {
              "outlinewidth": 0,
              "ticks": ""
             }
            },
            "marker": {
             "colorbar": {
              "outlinewidth": 0,
              "ticks": ""
             }
            },
            "type": "scatter3d"
           }
          ],
          "scattercarpet": [
           {
            "marker": {
             "colorbar": {
              "outlinewidth": 0,
              "ticks": ""
             }
            },
            "type": "scattercarpet"
           }
          ],
          "scattergeo": [
           {
            "marker": {
             "colorbar": {
              "outlinewidth": 0,
              "ticks": ""
             }
            },
            "type": "scattergeo"
           }
          ],
          "scattergl": [
           {
            "marker": {
             "colorbar": {
              "outlinewidth": 0,
              "ticks": ""
             }
            },
            "type": "scattergl"
           }
          ],
          "scattermapbox": [
           {
            "marker": {
             "colorbar": {
              "outlinewidth": 0,
              "ticks": ""
             }
            },
            "type": "scattermapbox"
           }
          ],
          "scatterpolar": [
           {
            "marker": {
             "colorbar": {
              "outlinewidth": 0,
              "ticks": ""
             }
            },
            "type": "scatterpolar"
           }
          ],
          "scatterpolargl": [
           {
            "marker": {
             "colorbar": {
              "outlinewidth": 0,
              "ticks": ""
             }
            },
            "type": "scatterpolargl"
           }
          ],
          "scatterternary": [
           {
            "marker": {
             "colorbar": {
              "outlinewidth": 0,
              "ticks": ""
             }
            },
            "type": "scatterternary"
           }
          ],
          "surface": [
           {
            "colorbar": {
             "outlinewidth": 0,
             "ticks": ""
            },
            "colorscale": [
             [
              0,
              "#0d0887"
             ],
             [
              0.1111111111111111,
              "#46039f"
             ],
             [
              0.2222222222222222,
              "#7201a8"
             ],
             [
              0.3333333333333333,
              "#9c179e"
             ],
             [
              0.4444444444444444,
              "#bd3786"
             ],
             [
              0.5555555555555556,
              "#d8576b"
             ],
             [
              0.6666666666666666,
              "#ed7953"
             ],
             [
              0.7777777777777778,
              "#fb9f3a"
             ],
             [
              0.8888888888888888,
              "#fdca26"
             ],
             [
              1,
              "#f0f921"
             ]
            ],
            "type": "surface"
           }
          ],
          "table": [
           {
            "cells": {
             "fill": {
              "color": "#EBF0F8"
             },
             "line": {
              "color": "white"
             }
            },
            "header": {
             "fill": {
              "color": "#C8D4E3"
             },
             "line": {
              "color": "white"
             }
            },
            "type": "table"
           }
          ]
         },
         "layout": {
          "annotationdefaults": {
           "arrowcolor": "#2a3f5f",
           "arrowhead": 0,
           "arrowwidth": 1
          },
          "autotypenumbers": "strict",
          "coloraxis": {
           "colorbar": {
            "outlinewidth": 0,
            "ticks": ""
           }
          },
          "colorscale": {
           "diverging": [
            [
             0,
             "#8e0152"
            ],
            [
             0.1,
             "#c51b7d"
            ],
            [
             0.2,
             "#de77ae"
            ],
            [
             0.3,
             "#f1b6da"
            ],
            [
             0.4,
             "#fde0ef"
            ],
            [
             0.5,
             "#f7f7f7"
            ],
            [
             0.6,
             "#e6f5d0"
            ],
            [
             0.7,
             "#b8e186"
            ],
            [
             0.8,
             "#7fbc41"
            ],
            [
             0.9,
             "#4d9221"
            ],
            [
             1,
             "#276419"
            ]
           ],
           "sequential": [
            [
             0,
             "#0d0887"
            ],
            [
             0.1111111111111111,
             "#46039f"
            ],
            [
             0.2222222222222222,
             "#7201a8"
            ],
            [
             0.3333333333333333,
             "#9c179e"
            ],
            [
             0.4444444444444444,
             "#bd3786"
            ],
            [
             0.5555555555555556,
             "#d8576b"
            ],
            [
             0.6666666666666666,
             "#ed7953"
            ],
            [
             0.7777777777777778,
             "#fb9f3a"
            ],
            [
             0.8888888888888888,
             "#fdca26"
            ],
            [
             1,
             "#f0f921"
            ]
           ],
           "sequentialminus": [
            [
             0,
             "#0d0887"
            ],
            [
             0.1111111111111111,
             "#46039f"
            ],
            [
             0.2222222222222222,
             "#7201a8"
            ],
            [
             0.3333333333333333,
             "#9c179e"
            ],
            [
             0.4444444444444444,
             "#bd3786"
            ],
            [
             0.5555555555555556,
             "#d8576b"
            ],
            [
             0.6666666666666666,
             "#ed7953"
            ],
            [
             0.7777777777777778,
             "#fb9f3a"
            ],
            [
             0.8888888888888888,
             "#fdca26"
            ],
            [
             1,
             "#f0f921"
            ]
           ]
          },
          "colorway": [
           "#636efa",
           "#EF553B",
           "#00cc96",
           "#ab63fa",
           "#FFA15A",
           "#19d3f3",
           "#FF6692",
           "#B6E880",
           "#FF97FF",
           "#FECB52"
          ],
          "font": {
           "color": "#2a3f5f"
          },
          "geo": {
           "bgcolor": "white",
           "lakecolor": "white",
           "landcolor": "#E5ECF6",
           "showlakes": true,
           "showland": true,
           "subunitcolor": "white"
          },
          "hoverlabel": {
           "align": "left"
          },
          "hovermode": "closest",
          "mapbox": {
           "style": "light"
          },
          "paper_bgcolor": "white",
          "plot_bgcolor": "#E5ECF6",
          "polar": {
           "angularaxis": {
            "gridcolor": "white",
            "linecolor": "white",
            "ticks": ""
           },
           "bgcolor": "#E5ECF6",
           "radialaxis": {
            "gridcolor": "white",
            "linecolor": "white",
            "ticks": ""
           }
          },
          "scene": {
           "xaxis": {
            "backgroundcolor": "#E5ECF6",
            "gridcolor": "white",
            "gridwidth": 2,
            "linecolor": "white",
            "showbackground": true,
            "ticks": "",
            "zerolinecolor": "white"
           },
           "yaxis": {
            "backgroundcolor": "#E5ECF6",
            "gridcolor": "white",
            "gridwidth": 2,
            "linecolor": "white",
            "showbackground": true,
            "ticks": "",
            "zerolinecolor": "white"
           },
           "zaxis": {
            "backgroundcolor": "#E5ECF6",
            "gridcolor": "white",
            "gridwidth": 2,
            "linecolor": "white",
            "showbackground": true,
            "ticks": "",
            "zerolinecolor": "white"
           }
          },
          "shapedefaults": {
           "line": {
            "color": "#2a3f5f"
           }
          },
          "ternary": {
           "aaxis": {
            "gridcolor": "white",
            "linecolor": "white",
            "ticks": ""
           },
           "baxis": {
            "gridcolor": "white",
            "linecolor": "white",
            "ticks": ""
           },
           "bgcolor": "#E5ECF6",
           "caxis": {
            "gridcolor": "white",
            "linecolor": "white",
            "ticks": ""
           }
          },
          "title": {
           "x": 0.05
          },
          "xaxis": {
           "automargin": true,
           "gridcolor": "white",
           "linecolor": "white",
           "ticks": "",
           "title": {
            "standoff": 15
           },
           "zerolinecolor": "white",
           "zerolinewidth": 2
          },
          "yaxis": {
           "automargin": true,
           "gridcolor": "white",
           "linecolor": "white",
           "ticks": "",
           "title": {
            "standoff": 15
           },
           "zerolinecolor": "white",
           "zerolinewidth": 2
          }
         }
        },
        "xaxis": {
         "anchor": "y",
         "domain": [
          0,
          1
         ],
         "title": {
          "text": "x"
         }
        },
        "yaxis": {
         "anchor": "x",
         "domain": [
          0,
          1
         ],
         "title": {
          "text": "y"
         }
        }
       }
      }
     },
     "metadata": {},
     "output_type": "display_data"
    },
    {
     "name": "stdout",
     "output_type": "stream",
     "text": [
      "Model 4:  , kappa = 67.5627893885513\n"
     ]
    },
    {
     "data": {
      "application/vnd.plotly.v1+json": {
       "config": {
        "plotlyServerURL": "https://plot.ly"
       },
       "data": [
        {
         "alignmentgroup": "True",
         "hovertemplate": "x=%{x}<br>y=%{y}<extra></extra>",
         "legendgroup": "",
         "marker": {
          "color": "#636efa",
          "pattern": {
           "shape": ""
          }
         },
         "name": "",
         "offsetgroup": "",
         "orientation": "v",
         "showlegend": false,
         "textposition": "auto",
         "type": "bar",
         "x": [
          "'Precentral-L'",
          "'Precentral-R'",
          "'Frontal-Sup-L'",
          "'Frontal-Sup-R'",
          "'Frontal-Sup-Orb-L'",
          "'Frontal-Sup-Orb-R'",
          "'Frontal-Mid-L'",
          "'Frontal-Mid-R'",
          "'Frontal-Mid-Orb-L'",
          "'Frontal-Mid-Orb-R'",
          "'Frontal-Inf-Oper-L'",
          "'Frontal-Inf-Oper-R'",
          "'Frontal-Inf-Tri-L'",
          "'Frontal-Inf-Tri-R'",
          "'Frontal-Inf-Orb-L'",
          "'Frontal-Inf-Orb-R'",
          "'Rolandic-Oper-L'",
          "'Rolandic-Oper-R'",
          "'Supp-Motor-Area-L'",
          "'Supp-Motor-Area-R'",
          "'Olfactory-L'",
          "'Olfactory-R'",
          "'Frontal-Sup-Medial-L'",
          "'Frontal-Sup-Medial-R'",
          "'Frontal-Med-Orb-L'",
          "'Frontal-Med-Orb-R'",
          "'Rectus-L'",
          "'Rectus-R'",
          "'Insula-L'",
          "'Insula-R'",
          "'Cingulum-Ant-L'",
          "'Cingulum-Ant-R'",
          "'Cingulum-Mid-L'",
          "'Cingulum-Mid-R'",
          "'Cingulum-Post-L'",
          "'Cingulum-Post-R'",
          "'Hippocampus-L'",
          "'Hippocampus-R'",
          "'ParaHippocampal-L'",
          "'ParaHippocampal-R'",
          "'Amygdala-L'",
          "'Amygdala-R'",
          "'Calcarine-L'",
          "'Calcarine-R'",
          "'Cuneus-L'",
          "'Cuneus-R'",
          "'Lingual-L'",
          "'Lingual-R'",
          "'Occipital-Sup-L'",
          "'Occipital-Sup-R'",
          "'Occipital-Mid-L'",
          "'Occipital-Mid-R'",
          "'Occipital-Inf-L'",
          "'Occipital-Inf-R'",
          "'Fusiform-L'",
          "'Fusiform-R'",
          "'Postcentral-L'",
          "'Postcentral-R'",
          "'Parietal-Sup-L'",
          "'Parietal-Sup-R'",
          "'Parietal-Inf-L'",
          "'Parietal-Inf-R'",
          "'SupraMarginal-L'",
          "'SupraMarginal-R'",
          "'Angular-L'",
          "'Angular-R'",
          "'Precuneus-L'",
          "'Precuneus-R'",
          "'Paracentral-Lobule-L'",
          "'Paracentral-Lobule-R'",
          "'Caudate-L'",
          "'Caudate-R'",
          "'Putamen-L'",
          "'Putamen-R'",
          "'Pallidum-L'",
          "'Pallidum-R'",
          "'Thalamus-L'",
          "'Thalamus-R'",
          "'Heschl-L'",
          "'Heschl-R'",
          "'Temporal-Sup-L'",
          "'Temporal-Sup-R'",
          "'Temporal-Pole-Sup-L'",
          "'Temporal-Pole-Sup-R'",
          "'Temporal-Mid-L'",
          "'Temporal-Mid-R'",
          "'Temporal-Pole-Mid-L'",
          "'Temporal-Pole-Mid-R'",
          "'Temporal-Inf-L'",
          "'Temporal-Inf-R'"
         ],
         "xaxis": "x",
         "y": [
          0.02429720926312042,
          -0.04110803413953448,
          0.04874602327650874,
          0.04164305052051858,
          0.0826219588834078,
          0.058587910188165684,
          0.1376292505877658,
          0.12882571289518363,
          0.13953334653304406,
          0.14082829788513124,
          0.11988748432332288,
          0.12776830797487737,
          0.15107510772241134,
          0.12384534440637066,
          0.10636336440767927,
          0.11663320502806725,
          -0.1439199290008783,
          -0.13118193281144358,
          0.02751072236692131,
          -0.014409630390252138,
          -0.11030964660452436,
          -0.0953734917930854,
          0.021058136284517928,
          0.011003105134917304,
          -0.1150804085171885,
          -0.1222719341420877,
          -0.03374060622636684,
          -0.024309063689684596,
          -0.0808711718523126,
          -0.0955711198867409,
          -0.12095118992946392,
          -0.10194639874147135,
          -0.1537673654054624,
          -0.14796850007119988,
          -0.11919341859733293,
          -0.12060966555474362,
          -0.10064983757536097,
          -0.09267187385731224,
          -0.12339388643198064,
          -0.14612206987686524,
          -0.09990719496223589,
          -0.0903156685326007,
          -0.18299081130839623,
          -0.17349396859521138,
          -0.1817418519998369,
          -0.17130474520000227,
          -0.17781291199690508,
          -0.18446956048133886,
          -0.1406604125977925,
          -0.11114690375761432,
          -0.11208310930786078,
          -0.11429058799335928,
          -0.03973208056834483,
          -0.02074161754740589,
          -0.1430364137390345,
          -0.14010380867483835,
          -0.09066620393161347,
          -0.07727585427963182,
          0.013418484608153649,
          0.022670112819590176,
          0.14135300717567897,
          0.15827647864789973,
          -0.04289103498888437,
          -0.022846008403488653,
          0.05673101589456393,
          0.06575766521523714,
          -0.12926106382737668,
          -0.13649072544853794,
          -0.0337665366348245,
          -0.05596824544197271,
          0.0008212989275563688,
          -0.00025442976048262796,
          -0.06786843403885864,
          -0.07026599168862907,
          -0.009377919154466462,
          -0.0034645424310965553,
          -0.0908522939184713,
          -0.101689813571478,
          -0.1232170565722594,
          -0.12268932799915422,
          -0.1688545637704203,
          -0.1432215061704177,
          -0.06229977192264959,
          -0.09298937826418462,
          0.004483699096804218,
          0.0017808354626683918,
          -0.04802564734785496,
          -0.03540408420892057,
          0.07749035729133831,
          0.07180911131716836
         ],
         "yaxis": "y"
        }
       ],
       "layout": {
        "barmode": "relative",
        "legend": {
         "tracegroupgap": 0
        },
        "margin": {
         "t": 60
        },
        "template": {
         "data": {
          "bar": [
           {
            "error_x": {
             "color": "#2a3f5f"
            },
            "error_y": {
             "color": "#2a3f5f"
            },
            "marker": {
             "line": {
              "color": "#E5ECF6",
              "width": 0.5
             },
             "pattern": {
              "fillmode": "overlay",
              "size": 10,
              "solidity": 0.2
             }
            },
            "type": "bar"
           }
          ],
          "barpolar": [
           {
            "marker": {
             "line": {
              "color": "#E5ECF6",
              "width": 0.5
             },
             "pattern": {
              "fillmode": "overlay",
              "size": 10,
              "solidity": 0.2
             }
            },
            "type": "barpolar"
           }
          ],
          "carpet": [
           {
            "aaxis": {
             "endlinecolor": "#2a3f5f",
             "gridcolor": "white",
             "linecolor": "white",
             "minorgridcolor": "white",
             "startlinecolor": "#2a3f5f"
            },
            "baxis": {
             "endlinecolor": "#2a3f5f",
             "gridcolor": "white",
             "linecolor": "white",
             "minorgridcolor": "white",
             "startlinecolor": "#2a3f5f"
            },
            "type": "carpet"
           }
          ],
          "choropleth": [
           {
            "colorbar": {
             "outlinewidth": 0,
             "ticks": ""
            },
            "type": "choropleth"
           }
          ],
          "contour": [
           {
            "colorbar": {
             "outlinewidth": 0,
             "ticks": ""
            },
            "colorscale": [
             [
              0,
              "#0d0887"
             ],
             [
              0.1111111111111111,
              "#46039f"
             ],
             [
              0.2222222222222222,
              "#7201a8"
             ],
             [
              0.3333333333333333,
              "#9c179e"
             ],
             [
              0.4444444444444444,
              "#bd3786"
             ],
             [
              0.5555555555555556,
              "#d8576b"
             ],
             [
              0.6666666666666666,
              "#ed7953"
             ],
             [
              0.7777777777777778,
              "#fb9f3a"
             ],
             [
              0.8888888888888888,
              "#fdca26"
             ],
             [
              1,
              "#f0f921"
             ]
            ],
            "type": "contour"
           }
          ],
          "contourcarpet": [
           {
            "colorbar": {
             "outlinewidth": 0,
             "ticks": ""
            },
            "type": "contourcarpet"
           }
          ],
          "heatmap": [
           {
            "colorbar": {
             "outlinewidth": 0,
             "ticks": ""
            },
            "colorscale": [
             [
              0,
              "#0d0887"
             ],
             [
              0.1111111111111111,
              "#46039f"
             ],
             [
              0.2222222222222222,
              "#7201a8"
             ],
             [
              0.3333333333333333,
              "#9c179e"
             ],
             [
              0.4444444444444444,
              "#bd3786"
             ],
             [
              0.5555555555555556,
              "#d8576b"
             ],
             [
              0.6666666666666666,
              "#ed7953"
             ],
             [
              0.7777777777777778,
              "#fb9f3a"
             ],
             [
              0.8888888888888888,
              "#fdca26"
             ],
             [
              1,
              "#f0f921"
             ]
            ],
            "type": "heatmap"
           }
          ],
          "heatmapgl": [
           {
            "colorbar": {
             "outlinewidth": 0,
             "ticks": ""
            },
            "colorscale": [
             [
              0,
              "#0d0887"
             ],
             [
              0.1111111111111111,
              "#46039f"
             ],
             [
              0.2222222222222222,
              "#7201a8"
             ],
             [
              0.3333333333333333,
              "#9c179e"
             ],
             [
              0.4444444444444444,
              "#bd3786"
             ],
             [
              0.5555555555555556,
              "#d8576b"
             ],
             [
              0.6666666666666666,
              "#ed7953"
             ],
             [
              0.7777777777777778,
              "#fb9f3a"
             ],
             [
              0.8888888888888888,
              "#fdca26"
             ],
             [
              1,
              "#f0f921"
             ]
            ],
            "type": "heatmapgl"
           }
          ],
          "histogram": [
           {
            "marker": {
             "pattern": {
              "fillmode": "overlay",
              "size": 10,
              "solidity": 0.2
             }
            },
            "type": "histogram"
           }
          ],
          "histogram2d": [
           {
            "colorbar": {
             "outlinewidth": 0,
             "ticks": ""
            },
            "colorscale": [
             [
              0,
              "#0d0887"
             ],
             [
              0.1111111111111111,
              "#46039f"
             ],
             [
              0.2222222222222222,
              "#7201a8"
             ],
             [
              0.3333333333333333,
              "#9c179e"
             ],
             [
              0.4444444444444444,
              "#bd3786"
             ],
             [
              0.5555555555555556,
              "#d8576b"
             ],
             [
              0.6666666666666666,
              "#ed7953"
             ],
             [
              0.7777777777777778,
              "#fb9f3a"
             ],
             [
              0.8888888888888888,
              "#fdca26"
             ],
             [
              1,
              "#f0f921"
             ]
            ],
            "type": "histogram2d"
           }
          ],
          "histogram2dcontour": [
           {
            "colorbar": {
             "outlinewidth": 0,
             "ticks": ""
            },
            "colorscale": [
             [
              0,
              "#0d0887"
             ],
             [
              0.1111111111111111,
              "#46039f"
             ],
             [
              0.2222222222222222,
              "#7201a8"
             ],
             [
              0.3333333333333333,
              "#9c179e"
             ],
             [
              0.4444444444444444,
              "#bd3786"
             ],
             [
              0.5555555555555556,
              "#d8576b"
             ],
             [
              0.6666666666666666,
              "#ed7953"
             ],
             [
              0.7777777777777778,
              "#fb9f3a"
             ],
             [
              0.8888888888888888,
              "#fdca26"
             ],
             [
              1,
              "#f0f921"
             ]
            ],
            "type": "histogram2dcontour"
           }
          ],
          "mesh3d": [
           {
            "colorbar": {
             "outlinewidth": 0,
             "ticks": ""
            },
            "type": "mesh3d"
           }
          ],
          "parcoords": [
           {
            "line": {
             "colorbar": {
              "outlinewidth": 0,
              "ticks": ""
             }
            },
            "type": "parcoords"
           }
          ],
          "pie": [
           {
            "automargin": true,
            "type": "pie"
           }
          ],
          "scatter": [
           {
            "fillpattern": {
             "fillmode": "overlay",
             "size": 10,
             "solidity": 0.2
            },
            "type": "scatter"
           }
          ],
          "scatter3d": [
           {
            "line": {
             "colorbar": {
              "outlinewidth": 0,
              "ticks": ""
             }
            },
            "marker": {
             "colorbar": {
              "outlinewidth": 0,
              "ticks": ""
             }
            },
            "type": "scatter3d"
           }
          ],
          "scattercarpet": [
           {
            "marker": {
             "colorbar": {
              "outlinewidth": 0,
              "ticks": ""
             }
            },
            "type": "scattercarpet"
           }
          ],
          "scattergeo": [
           {
            "marker": {
             "colorbar": {
              "outlinewidth": 0,
              "ticks": ""
             }
            },
            "type": "scattergeo"
           }
          ],
          "scattergl": [
           {
            "marker": {
             "colorbar": {
              "outlinewidth": 0,
              "ticks": ""
             }
            },
            "type": "scattergl"
           }
          ],
          "scattermapbox": [
           {
            "marker": {
             "colorbar": {
              "outlinewidth": 0,
              "ticks": ""
             }
            },
            "type": "scattermapbox"
           }
          ],
          "scatterpolar": [
           {
            "marker": {
             "colorbar": {
              "outlinewidth": 0,
              "ticks": ""
             }
            },
            "type": "scatterpolar"
           }
          ],
          "scatterpolargl": [
           {
            "marker": {
             "colorbar": {
              "outlinewidth": 0,
              "ticks": ""
             }
            },
            "type": "scatterpolargl"
           }
          ],
          "scatterternary": [
           {
            "marker": {
             "colorbar": {
              "outlinewidth": 0,
              "ticks": ""
             }
            },
            "type": "scatterternary"
           }
          ],
          "surface": [
           {
            "colorbar": {
             "outlinewidth": 0,
             "ticks": ""
            },
            "colorscale": [
             [
              0,
              "#0d0887"
             ],
             [
              0.1111111111111111,
              "#46039f"
             ],
             [
              0.2222222222222222,
              "#7201a8"
             ],
             [
              0.3333333333333333,
              "#9c179e"
             ],
             [
              0.4444444444444444,
              "#bd3786"
             ],
             [
              0.5555555555555556,
              "#d8576b"
             ],
             [
              0.6666666666666666,
              "#ed7953"
             ],
             [
              0.7777777777777778,
              "#fb9f3a"
             ],
             [
              0.8888888888888888,
              "#fdca26"
             ],
             [
              1,
              "#f0f921"
             ]
            ],
            "type": "surface"
           }
          ],
          "table": [
           {
            "cells": {
             "fill": {
              "color": "#EBF0F8"
             },
             "line": {
              "color": "white"
             }
            },
            "header": {
             "fill": {
              "color": "#C8D4E3"
             },
             "line": {
              "color": "white"
             }
            },
            "type": "table"
           }
          ]
         },
         "layout": {
          "annotationdefaults": {
           "arrowcolor": "#2a3f5f",
           "arrowhead": 0,
           "arrowwidth": 1
          },
          "autotypenumbers": "strict",
          "coloraxis": {
           "colorbar": {
            "outlinewidth": 0,
            "ticks": ""
           }
          },
          "colorscale": {
           "diverging": [
            [
             0,
             "#8e0152"
            ],
            [
             0.1,
             "#c51b7d"
            ],
            [
             0.2,
             "#de77ae"
            ],
            [
             0.3,
             "#f1b6da"
            ],
            [
             0.4,
             "#fde0ef"
            ],
            [
             0.5,
             "#f7f7f7"
            ],
            [
             0.6,
             "#e6f5d0"
            ],
            [
             0.7,
             "#b8e186"
            ],
            [
             0.8,
             "#7fbc41"
            ],
            [
             0.9,
             "#4d9221"
            ],
            [
             1,
             "#276419"
            ]
           ],
           "sequential": [
            [
             0,
             "#0d0887"
            ],
            [
             0.1111111111111111,
             "#46039f"
            ],
            [
             0.2222222222222222,
             "#7201a8"
            ],
            [
             0.3333333333333333,
             "#9c179e"
            ],
            [
             0.4444444444444444,
             "#bd3786"
            ],
            [
             0.5555555555555556,
             "#d8576b"
            ],
            [
             0.6666666666666666,
             "#ed7953"
            ],
            [
             0.7777777777777778,
             "#fb9f3a"
            ],
            [
             0.8888888888888888,
             "#fdca26"
            ],
            [
             1,
             "#f0f921"
            ]
           ],
           "sequentialminus": [
            [
             0,
             "#0d0887"
            ],
            [
             0.1111111111111111,
             "#46039f"
            ],
            [
             0.2222222222222222,
             "#7201a8"
            ],
            [
             0.3333333333333333,
             "#9c179e"
            ],
            [
             0.4444444444444444,
             "#bd3786"
            ],
            [
             0.5555555555555556,
             "#d8576b"
            ],
            [
             0.6666666666666666,
             "#ed7953"
            ],
            [
             0.7777777777777778,
             "#fb9f3a"
            ],
            [
             0.8888888888888888,
             "#fdca26"
            ],
            [
             1,
             "#f0f921"
            ]
           ]
          },
          "colorway": [
           "#636efa",
           "#EF553B",
           "#00cc96",
           "#ab63fa",
           "#FFA15A",
           "#19d3f3",
           "#FF6692",
           "#B6E880",
           "#FF97FF",
           "#FECB52"
          ],
          "font": {
           "color": "#2a3f5f"
          },
          "geo": {
           "bgcolor": "white",
           "lakecolor": "white",
           "landcolor": "#E5ECF6",
           "showlakes": true,
           "showland": true,
           "subunitcolor": "white"
          },
          "hoverlabel": {
           "align": "left"
          },
          "hovermode": "closest",
          "mapbox": {
           "style": "light"
          },
          "paper_bgcolor": "white",
          "plot_bgcolor": "#E5ECF6",
          "polar": {
           "angularaxis": {
            "gridcolor": "white",
            "linecolor": "white",
            "ticks": ""
           },
           "bgcolor": "#E5ECF6",
           "radialaxis": {
            "gridcolor": "white",
            "linecolor": "white",
            "ticks": ""
           }
          },
          "scene": {
           "xaxis": {
            "backgroundcolor": "#E5ECF6",
            "gridcolor": "white",
            "gridwidth": 2,
            "linecolor": "white",
            "showbackground": true,
            "ticks": "",
            "zerolinecolor": "white"
           },
           "yaxis": {
            "backgroundcolor": "#E5ECF6",
            "gridcolor": "white",
            "gridwidth": 2,
            "linecolor": "white",
            "showbackground": true,
            "ticks": "",
            "zerolinecolor": "white"
           },
           "zaxis": {
            "backgroundcolor": "#E5ECF6",
            "gridcolor": "white",
            "gridwidth": 2,
            "linecolor": "white",
            "showbackground": true,
            "ticks": "",
            "zerolinecolor": "white"
           }
          },
          "shapedefaults": {
           "line": {
            "color": "#2a3f5f"
           }
          },
          "ternary": {
           "aaxis": {
            "gridcolor": "white",
            "linecolor": "white",
            "ticks": ""
           },
           "baxis": {
            "gridcolor": "white",
            "linecolor": "white",
            "ticks": ""
           },
           "bgcolor": "#E5ECF6",
           "caxis": {
            "gridcolor": "white",
            "linecolor": "white",
            "ticks": ""
           }
          },
          "title": {
           "x": 0.05
          },
          "xaxis": {
           "automargin": true,
           "gridcolor": "white",
           "linecolor": "white",
           "ticks": "",
           "title": {
            "standoff": 15
           },
           "zerolinecolor": "white",
           "zerolinewidth": 2
          },
          "yaxis": {
           "automargin": true,
           "gridcolor": "white",
           "linecolor": "white",
           "ticks": "",
           "title": {
            "standoff": 15
           },
           "zerolinecolor": "white",
           "zerolinewidth": 2
          }
         }
        },
        "xaxis": {
         "anchor": "y",
         "domain": [
          0,
          1
         ],
         "title": {
          "text": "x"
         }
        },
        "yaxis": {
         "anchor": "x",
         "domain": [
          0,
          1
         ],
         "title": {
          "text": "y"
         }
        }
       }
      }
     },
     "metadata": {},
     "output_type": "display_data"
    }
   ],
   "source": [
    "import pandas as pd\n",
    "labels = pd.read_csv(\"AALlabels.csv\")\n",
    "label=labels['labels'].values\n",
    "import plotly.express as px\n",
    "for model in range(K):\n",
    "    print(f\"Model {model}:  , kappa = {kappa_est[model]}\")\n",
    "    fig = px.bar(y=mu_est[:,model].detach().numpy(),x=label)\n",
    "    #fig.update_layout(width=300)\n",
    "    fig.show()"
   ]
  },
  {
   "cell_type": "code",
   "execution_count": 17,
   "metadata": {},
   "outputs": [
    {
     "name": "stdout",
     "output_type": "stream",
     "text": [
      "Model 0:  , kappa = 69.04614503308593\n"
     ]
    },
    {
     "data": {
      "application/vnd.plotly.v1+json": {
       "config": {
        "plotlyServerURL": "https://plot.ly"
       },
       "data": [
        {
         "alignmentgroup": "True",
         "hovertemplate": "x=%{x}<br>y=%{y}<extra></extra>",
         "legendgroup": "",
         "marker": {
          "color": "#636efa",
          "pattern": {
           "shape": ""
          }
         },
         "name": "",
         "offsetgroup": "",
         "orientation": "v",
         "showlegend": false,
         "textposition": "auto",
         "type": "bar",
         "x": [
          "'Precentral-L'",
          "'Precentral-R'",
          "'Frontal-Sup-L'",
          "'Frontal-Sup-R'",
          "'Frontal-Sup-Orb-L'",
          "'Frontal-Sup-Orb-R'",
          "'Frontal-Mid-L'",
          "'Frontal-Mid-R'",
          "'Frontal-Mid-Orb-L'",
          "'Frontal-Mid-Orb-R'",
          "'Frontal-Inf-Oper-L'",
          "'Frontal-Inf-Oper-R'",
          "'Frontal-Inf-Tri-L'",
          "'Frontal-Inf-Tri-R'",
          "'Frontal-Inf-Orb-L'",
          "'Frontal-Inf-Orb-R'",
          "'Rolandic-Oper-L'",
          "'Rolandic-Oper-R'",
          "'Supp-Motor-Area-L'",
          "'Supp-Motor-Area-R'",
          "'Olfactory-L'",
          "'Olfactory-R'",
          "'Frontal-Sup-Medial-L'",
          "'Frontal-Sup-Medial-R'",
          "'Frontal-Med-Orb-L'",
          "'Frontal-Med-Orb-R'",
          "'Rectus-L'",
          "'Rectus-R'",
          "'Insula-L'",
          "'Insula-R'",
          "'Cingulum-Ant-L'",
          "'Cingulum-Ant-R'",
          "'Cingulum-Mid-L'",
          "'Cingulum-Mid-R'",
          "'Cingulum-Post-L'",
          "'Cingulum-Post-R'",
          "'Hippocampus-L'",
          "'Hippocampus-R'",
          "'ParaHippocampal-L'",
          "'ParaHippocampal-R'",
          "'Amygdala-L'",
          "'Amygdala-R'",
          "'Calcarine-L'",
          "'Calcarine-R'",
          "'Cuneus-L'",
          "'Cuneus-R'",
          "'Lingual-L'",
          "'Lingual-R'",
          "'Occipital-Sup-L'",
          "'Occipital-Sup-R'",
          "'Occipital-Mid-L'",
          "'Occipital-Mid-R'",
          "'Occipital-Inf-L'",
          "'Occipital-Inf-R'",
          "'Fusiform-L'",
          "'Fusiform-R'",
          "'Postcentral-L'",
          "'Postcentral-R'",
          "'Parietal-Sup-L'",
          "'Parietal-Sup-R'",
          "'Parietal-Inf-L'",
          "'Parietal-Inf-R'",
          "'SupraMarginal-L'",
          "'SupraMarginal-R'",
          "'Angular-L'",
          "'Angular-R'",
          "'Precuneus-L'",
          "'Precuneus-R'",
          "'Paracentral-Lobule-L'",
          "'Paracentral-Lobule-R'",
          "'Caudate-L'",
          "'Caudate-R'",
          "'Putamen-L'",
          "'Putamen-R'",
          "'Pallidum-L'",
          "'Pallidum-R'",
          "'Thalamus-L'",
          "'Thalamus-R'",
          "'Heschl-L'",
          "'Heschl-R'",
          "'Temporal-Sup-L'",
          "'Temporal-Sup-R'",
          "'Temporal-Pole-Sup-L'",
          "'Temporal-Pole-Sup-R'",
          "'Temporal-Mid-L'",
          "'Temporal-Mid-R'",
          "'Temporal-Pole-Mid-L'",
          "'Temporal-Pole-Mid-R'",
          "'Temporal-Inf-L'",
          "'Temporal-Inf-R'"
         ],
         "xaxis": "x",
         "y": [
          0.16903501978636093,
          0.17690862352994038,
          -0.13999882102957226,
          -0.09260801596179244,
          -0.05985207679673982,
          -0.02065941638680091,
          -0.07494699286554966,
          -0.007805245900665135,
          -0.05197229808762587,
          -0.028272688380010288,
          0.11561415296521552,
          0.13740116673406236,
          0.05178960742062191,
          0.11015331062617585,
          -0.038368755421312704,
          -0.01946072009593364,
          0.1428379499612688,
          0.14695865891722693,
          0.04347528463949709,
          0.11378657358793152,
          -0.03224810572727092,
          -0.016879736064534124,
          -0.17694529769398892,
          -0.1675078799775919,
          -0.15925100593491195,
          -0.1516375808233974,
          -0.04271200503663978,
          -0.032095480923024756,
          0.13318201651180306,
          0.13614620633595548,
          -0.12367662301830765,
          -0.13101314233118133,
          0.0018776732919120992,
          0.01737270272068196,
          -0.1524881545564111,
          -0.11319873238200039,
          -0.0004818544671772965,
          0.0030250180771041993,
          -0.028816282169851222,
          0.007209392513041817,
          0.07460761157593267,
          0.07588268481769135,
          0.09983268309933944,
          0.12960597926859618,
          0.07520236768316631,
          0.13863111524874897,
          0.13821553191318459,
          0.14124428547987944,
          0.15590423510045906,
          0.16400657411522576,
          0.15955654608503075,
          0.15009433280978648,
          0.16904870490446444,
          0.1106968258883544,
          0.1531614148566179,
          0.16682784381640545,
          0.14426386965061527,
          0.12850808196912736,
          0.11839040358796288,
          0.1264204751069005,
          0.047848339517555266,
          0.0178126632965346,
          0.16315822079228828,
          0.17719255599495082,
          -0.16978936420210924,
          -0.1337552145106993,
          -0.060352208797913164,
          -0.0034133385551016,
          0.055698660384748924,
          0.07023873553032449,
          -0.05241127810364731,
          -0.03412985260818122,
          0.059599388127150904,
          0.07912834411915644,
          0.02136611299409821,
          0.04291944156169643,
          0.0596472360420163,
          0.07823181088810915,
          0.08352512499797485,
          0.06940050512574204,
          0.13736252090413312,
          0.12464995367693285,
          0.059495796095199796,
          0.09236987201885169,
          -0.017795910154164322,
          0.05117218707031497,
          -0.05523502330050239,
          -0.04521883291401897,
          0.012397271934390105,
          0.057218049676705685
         ],
         "yaxis": "y"
        }
       ],
       "layout": {
        "barmode": "relative",
        "legend": {
         "tracegroupgap": 0
        },
        "margin": {
         "t": 60
        },
        "template": {
         "data": {
          "bar": [
           {
            "error_x": {
             "color": "#2a3f5f"
            },
            "error_y": {
             "color": "#2a3f5f"
            },
            "marker": {
             "line": {
              "color": "#E5ECF6",
              "width": 0.5
             },
             "pattern": {
              "fillmode": "overlay",
              "size": 10,
              "solidity": 0.2
             }
            },
            "type": "bar"
           }
          ],
          "barpolar": [
           {
            "marker": {
             "line": {
              "color": "#E5ECF6",
              "width": 0.5
             },
             "pattern": {
              "fillmode": "overlay",
              "size": 10,
              "solidity": 0.2
             }
            },
            "type": "barpolar"
           }
          ],
          "carpet": [
           {
            "aaxis": {
             "endlinecolor": "#2a3f5f",
             "gridcolor": "white",
             "linecolor": "white",
             "minorgridcolor": "white",
             "startlinecolor": "#2a3f5f"
            },
            "baxis": {
             "endlinecolor": "#2a3f5f",
             "gridcolor": "white",
             "linecolor": "white",
             "minorgridcolor": "white",
             "startlinecolor": "#2a3f5f"
            },
            "type": "carpet"
           }
          ],
          "choropleth": [
           {
            "colorbar": {
             "outlinewidth": 0,
             "ticks": ""
            },
            "type": "choropleth"
           }
          ],
          "contour": [
           {
            "colorbar": {
             "outlinewidth": 0,
             "ticks": ""
            },
            "colorscale": [
             [
              0,
              "#0d0887"
             ],
             [
              0.1111111111111111,
              "#46039f"
             ],
             [
              0.2222222222222222,
              "#7201a8"
             ],
             [
              0.3333333333333333,
              "#9c179e"
             ],
             [
              0.4444444444444444,
              "#bd3786"
             ],
             [
              0.5555555555555556,
              "#d8576b"
             ],
             [
              0.6666666666666666,
              "#ed7953"
             ],
             [
              0.7777777777777778,
              "#fb9f3a"
             ],
             [
              0.8888888888888888,
              "#fdca26"
             ],
             [
              1,
              "#f0f921"
             ]
            ],
            "type": "contour"
           }
          ],
          "contourcarpet": [
           {
            "colorbar": {
             "outlinewidth": 0,
             "ticks": ""
            },
            "type": "contourcarpet"
           }
          ],
          "heatmap": [
           {
            "colorbar": {
             "outlinewidth": 0,
             "ticks": ""
            },
            "colorscale": [
             [
              0,
              "#0d0887"
             ],
             [
              0.1111111111111111,
              "#46039f"
             ],
             [
              0.2222222222222222,
              "#7201a8"
             ],
             [
              0.3333333333333333,
              "#9c179e"
             ],
             [
              0.4444444444444444,
              "#bd3786"
             ],
             [
              0.5555555555555556,
              "#d8576b"
             ],
             [
              0.6666666666666666,
              "#ed7953"
             ],
             [
              0.7777777777777778,
              "#fb9f3a"
             ],
             [
              0.8888888888888888,
              "#fdca26"
             ],
             [
              1,
              "#f0f921"
             ]
            ],
            "type": "heatmap"
           }
          ],
          "heatmapgl": [
           {
            "colorbar": {
             "outlinewidth": 0,
             "ticks": ""
            },
            "colorscale": [
             [
              0,
              "#0d0887"
             ],
             [
              0.1111111111111111,
              "#46039f"
             ],
             [
              0.2222222222222222,
              "#7201a8"
             ],
             [
              0.3333333333333333,
              "#9c179e"
             ],
             [
              0.4444444444444444,
              "#bd3786"
             ],
             [
              0.5555555555555556,
              "#d8576b"
             ],
             [
              0.6666666666666666,
              "#ed7953"
             ],
             [
              0.7777777777777778,
              "#fb9f3a"
             ],
             [
              0.8888888888888888,
              "#fdca26"
             ],
             [
              1,
              "#f0f921"
             ]
            ],
            "type": "heatmapgl"
           }
          ],
          "histogram": [
           {
            "marker": {
             "pattern": {
              "fillmode": "overlay",
              "size": 10,
              "solidity": 0.2
             }
            },
            "type": "histogram"
           }
          ],
          "histogram2d": [
           {
            "colorbar": {
             "outlinewidth": 0,
             "ticks": ""
            },
            "colorscale": [
             [
              0,
              "#0d0887"
             ],
             [
              0.1111111111111111,
              "#46039f"
             ],
             [
              0.2222222222222222,
              "#7201a8"
             ],
             [
              0.3333333333333333,
              "#9c179e"
             ],
             [
              0.4444444444444444,
              "#bd3786"
             ],
             [
              0.5555555555555556,
              "#d8576b"
             ],
             [
              0.6666666666666666,
              "#ed7953"
             ],
             [
              0.7777777777777778,
              "#fb9f3a"
             ],
             [
              0.8888888888888888,
              "#fdca26"
             ],
             [
              1,
              "#f0f921"
             ]
            ],
            "type": "histogram2d"
           }
          ],
          "histogram2dcontour": [
           {
            "colorbar": {
             "outlinewidth": 0,
             "ticks": ""
            },
            "colorscale": [
             [
              0,
              "#0d0887"
             ],
             [
              0.1111111111111111,
              "#46039f"
             ],
             [
              0.2222222222222222,
              "#7201a8"
             ],
             [
              0.3333333333333333,
              "#9c179e"
             ],
             [
              0.4444444444444444,
              "#bd3786"
             ],
             [
              0.5555555555555556,
              "#d8576b"
             ],
             [
              0.6666666666666666,
              "#ed7953"
             ],
             [
              0.7777777777777778,
              "#fb9f3a"
             ],
             [
              0.8888888888888888,
              "#fdca26"
             ],
             [
              1,
              "#f0f921"
             ]
            ],
            "type": "histogram2dcontour"
           }
          ],
          "mesh3d": [
           {
            "colorbar": {
             "outlinewidth": 0,
             "ticks": ""
            },
            "type": "mesh3d"
           }
          ],
          "parcoords": [
           {
            "line": {
             "colorbar": {
              "outlinewidth": 0,
              "ticks": ""
             }
            },
            "type": "parcoords"
           }
          ],
          "pie": [
           {
            "automargin": true,
            "type": "pie"
           }
          ],
          "scatter": [
           {
            "fillpattern": {
             "fillmode": "overlay",
             "size": 10,
             "solidity": 0.2
            },
            "type": "scatter"
           }
          ],
          "scatter3d": [
           {
            "line": {
             "colorbar": {
              "outlinewidth": 0,
              "ticks": ""
             }
            },
            "marker": {
             "colorbar": {
              "outlinewidth": 0,
              "ticks": ""
             }
            },
            "type": "scatter3d"
           }
          ],
          "scattercarpet": [
           {
            "marker": {
             "colorbar": {
              "outlinewidth": 0,
              "ticks": ""
             }
            },
            "type": "scattercarpet"
           }
          ],
          "scattergeo": [
           {
            "marker": {
             "colorbar": {
              "outlinewidth": 0,
              "ticks": ""
             }
            },
            "type": "scattergeo"
           }
          ],
          "scattergl": [
           {
            "marker": {
             "colorbar": {
              "outlinewidth": 0,
              "ticks": ""
             }
            },
            "type": "scattergl"
           }
          ],
          "scattermapbox": [
           {
            "marker": {
             "colorbar": {
              "outlinewidth": 0,
              "ticks": ""
             }
            },
            "type": "scattermapbox"
           }
          ],
          "scatterpolar": [
           {
            "marker": {
             "colorbar": {
              "outlinewidth": 0,
              "ticks": ""
             }
            },
            "type": "scatterpolar"
           }
          ],
          "scatterpolargl": [
           {
            "marker": {
             "colorbar": {
              "outlinewidth": 0,
              "ticks": ""
             }
            },
            "type": "scatterpolargl"
           }
          ],
          "scatterternary": [
           {
            "marker": {
             "colorbar": {
              "outlinewidth": 0,
              "ticks": ""
             }
            },
            "type": "scatterternary"
           }
          ],
          "surface": [
           {
            "colorbar": {
             "outlinewidth": 0,
             "ticks": ""
            },
            "colorscale": [
             [
              0,
              "#0d0887"
             ],
             [
              0.1111111111111111,
              "#46039f"
             ],
             [
              0.2222222222222222,
              "#7201a8"
             ],
             [
              0.3333333333333333,
              "#9c179e"
             ],
             [
              0.4444444444444444,
              "#bd3786"
             ],
             [
              0.5555555555555556,
              "#d8576b"
             ],
             [
              0.6666666666666666,
              "#ed7953"
             ],
             [
              0.7777777777777778,
              "#fb9f3a"
             ],
             [
              0.8888888888888888,
              "#fdca26"
             ],
             [
              1,
              "#f0f921"
             ]
            ],
            "type": "surface"
           }
          ],
          "table": [
           {
            "cells": {
             "fill": {
              "color": "#EBF0F8"
             },
             "line": {
              "color": "white"
             }
            },
            "header": {
             "fill": {
              "color": "#C8D4E3"
             },
             "line": {
              "color": "white"
             }
            },
            "type": "table"
           }
          ]
         },
         "layout": {
          "annotationdefaults": {
           "arrowcolor": "#2a3f5f",
           "arrowhead": 0,
           "arrowwidth": 1
          },
          "autotypenumbers": "strict",
          "coloraxis": {
           "colorbar": {
            "outlinewidth": 0,
            "ticks": ""
           }
          },
          "colorscale": {
           "diverging": [
            [
             0,
             "#8e0152"
            ],
            [
             0.1,
             "#c51b7d"
            ],
            [
             0.2,
             "#de77ae"
            ],
            [
             0.3,
             "#f1b6da"
            ],
            [
             0.4,
             "#fde0ef"
            ],
            [
             0.5,
             "#f7f7f7"
            ],
            [
             0.6,
             "#e6f5d0"
            ],
            [
             0.7,
             "#b8e186"
            ],
            [
             0.8,
             "#7fbc41"
            ],
            [
             0.9,
             "#4d9221"
            ],
            [
             1,
             "#276419"
            ]
           ],
           "sequential": [
            [
             0,
             "#0d0887"
            ],
            [
             0.1111111111111111,
             "#46039f"
            ],
            [
             0.2222222222222222,
             "#7201a8"
            ],
            [
             0.3333333333333333,
             "#9c179e"
            ],
            [
             0.4444444444444444,
             "#bd3786"
            ],
            [
             0.5555555555555556,
             "#d8576b"
            ],
            [
             0.6666666666666666,
             "#ed7953"
            ],
            [
             0.7777777777777778,
             "#fb9f3a"
            ],
            [
             0.8888888888888888,
             "#fdca26"
            ],
            [
             1,
             "#f0f921"
            ]
           ],
           "sequentialminus": [
            [
             0,
             "#0d0887"
            ],
            [
             0.1111111111111111,
             "#46039f"
            ],
            [
             0.2222222222222222,
             "#7201a8"
            ],
            [
             0.3333333333333333,
             "#9c179e"
            ],
            [
             0.4444444444444444,
             "#bd3786"
            ],
            [
             0.5555555555555556,
             "#d8576b"
            ],
            [
             0.6666666666666666,
             "#ed7953"
            ],
            [
             0.7777777777777778,
             "#fb9f3a"
            ],
            [
             0.8888888888888888,
             "#fdca26"
            ],
            [
             1,
             "#f0f921"
            ]
           ]
          },
          "colorway": [
           "#636efa",
           "#EF553B",
           "#00cc96",
           "#ab63fa",
           "#FFA15A",
           "#19d3f3",
           "#FF6692",
           "#B6E880",
           "#FF97FF",
           "#FECB52"
          ],
          "font": {
           "color": "#2a3f5f"
          },
          "geo": {
           "bgcolor": "white",
           "lakecolor": "white",
           "landcolor": "#E5ECF6",
           "showlakes": true,
           "showland": true,
           "subunitcolor": "white"
          },
          "hoverlabel": {
           "align": "left"
          },
          "hovermode": "closest",
          "mapbox": {
           "style": "light"
          },
          "paper_bgcolor": "white",
          "plot_bgcolor": "#E5ECF6",
          "polar": {
           "angularaxis": {
            "gridcolor": "white",
            "linecolor": "white",
            "ticks": ""
           },
           "bgcolor": "#E5ECF6",
           "radialaxis": {
            "gridcolor": "white",
            "linecolor": "white",
            "ticks": ""
           }
          },
          "scene": {
           "xaxis": {
            "backgroundcolor": "#E5ECF6",
            "gridcolor": "white",
            "gridwidth": 2,
            "linecolor": "white",
            "showbackground": true,
            "ticks": "",
            "zerolinecolor": "white"
           },
           "yaxis": {
            "backgroundcolor": "#E5ECF6",
            "gridcolor": "white",
            "gridwidth": 2,
            "linecolor": "white",
            "showbackground": true,
            "ticks": "",
            "zerolinecolor": "white"
           },
           "zaxis": {
            "backgroundcolor": "#E5ECF6",
            "gridcolor": "white",
            "gridwidth": 2,
            "linecolor": "white",
            "showbackground": true,
            "ticks": "",
            "zerolinecolor": "white"
           }
          },
          "shapedefaults": {
           "line": {
            "color": "#2a3f5f"
           }
          },
          "ternary": {
           "aaxis": {
            "gridcolor": "white",
            "linecolor": "white",
            "ticks": ""
           },
           "baxis": {
            "gridcolor": "white",
            "linecolor": "white",
            "ticks": ""
           },
           "bgcolor": "#E5ECF6",
           "caxis": {
            "gridcolor": "white",
            "linecolor": "white",
            "ticks": ""
           }
          },
          "title": {
           "x": 0.05
          },
          "xaxis": {
           "automargin": true,
           "gridcolor": "white",
           "linecolor": "white",
           "ticks": "",
           "title": {
            "standoff": 15
           },
           "zerolinecolor": "white",
           "zerolinewidth": 2
          },
          "yaxis": {
           "automargin": true,
           "gridcolor": "white",
           "linecolor": "white",
           "ticks": "",
           "title": {
            "standoff": 15
           },
           "zerolinecolor": "white",
           "zerolinewidth": 2
          }
         }
        },
        "xaxis": {
         "anchor": "y",
         "domain": [
          0,
          1
         ],
         "title": {
          "text": "x"
         }
        },
        "yaxis": {
         "anchor": "x",
         "domain": [
          0,
          1
         ],
         "title": {
          "text": "y"
         }
        }
       }
      }
     },
     "metadata": {},
     "output_type": "display_data"
    },
    {
     "name": "stdout",
     "output_type": "stream",
     "text": [
      "Model 1:  , kappa = 69.18382803096024\n"
     ]
    },
    {
     "data": {
      "application/vnd.plotly.v1+json": {
       "config": {
        "plotlyServerURL": "https://plot.ly"
       },
       "data": [
        {
         "alignmentgroup": "True",
         "hovertemplate": "x=%{x}<br>y=%{y}<extra></extra>",
         "legendgroup": "",
         "marker": {
          "color": "#636efa",
          "pattern": {
           "shape": ""
          }
         },
         "name": "",
         "offsetgroup": "",
         "orientation": "v",
         "showlegend": false,
         "textposition": "auto",
         "type": "bar",
         "x": [
          "'Precentral-L'",
          "'Precentral-R'",
          "'Frontal-Sup-L'",
          "'Frontal-Sup-R'",
          "'Frontal-Sup-Orb-L'",
          "'Frontal-Sup-Orb-R'",
          "'Frontal-Mid-L'",
          "'Frontal-Mid-R'",
          "'Frontal-Mid-Orb-L'",
          "'Frontal-Mid-Orb-R'",
          "'Frontal-Inf-Oper-L'",
          "'Frontal-Inf-Oper-R'",
          "'Frontal-Inf-Tri-L'",
          "'Frontal-Inf-Tri-R'",
          "'Frontal-Inf-Orb-L'",
          "'Frontal-Inf-Orb-R'",
          "'Rolandic-Oper-L'",
          "'Rolandic-Oper-R'",
          "'Supp-Motor-Area-L'",
          "'Supp-Motor-Area-R'",
          "'Olfactory-L'",
          "'Olfactory-R'",
          "'Frontal-Sup-Medial-L'",
          "'Frontal-Sup-Medial-R'",
          "'Frontal-Med-Orb-L'",
          "'Frontal-Med-Orb-R'",
          "'Rectus-L'",
          "'Rectus-R'",
          "'Insula-L'",
          "'Insula-R'",
          "'Cingulum-Ant-L'",
          "'Cingulum-Ant-R'",
          "'Cingulum-Mid-L'",
          "'Cingulum-Mid-R'",
          "'Cingulum-Post-L'",
          "'Cingulum-Post-R'",
          "'Hippocampus-L'",
          "'Hippocampus-R'",
          "'ParaHippocampal-L'",
          "'ParaHippocampal-R'",
          "'Amygdala-L'",
          "'Amygdala-R'",
          "'Calcarine-L'",
          "'Calcarine-R'",
          "'Cuneus-L'",
          "'Cuneus-R'",
          "'Lingual-L'",
          "'Lingual-R'",
          "'Occipital-Sup-L'",
          "'Occipital-Sup-R'",
          "'Occipital-Mid-L'",
          "'Occipital-Mid-R'",
          "'Occipital-Inf-L'",
          "'Occipital-Inf-R'",
          "'Fusiform-L'",
          "'Fusiform-R'",
          "'Postcentral-L'",
          "'Postcentral-R'",
          "'Parietal-Sup-L'",
          "'Parietal-Sup-R'",
          "'Parietal-Inf-L'",
          "'Parietal-Inf-R'",
          "'SupraMarginal-L'",
          "'SupraMarginal-R'",
          "'Angular-L'",
          "'Angular-R'",
          "'Precuneus-L'",
          "'Precuneus-R'",
          "'Paracentral-Lobule-L'",
          "'Paracentral-Lobule-R'",
          "'Caudate-L'",
          "'Caudate-R'",
          "'Putamen-L'",
          "'Putamen-R'",
          "'Pallidum-L'",
          "'Pallidum-R'",
          "'Thalamus-L'",
          "'Thalamus-R'",
          "'Heschl-L'",
          "'Heschl-R'",
          "'Temporal-Sup-L'",
          "'Temporal-Sup-R'",
          "'Temporal-Pole-Sup-L'",
          "'Temporal-Pole-Sup-R'",
          "'Temporal-Mid-L'",
          "'Temporal-Mid-R'",
          "'Temporal-Pole-Mid-L'",
          "'Temporal-Pole-Mid-R'",
          "'Temporal-Inf-L'",
          "'Temporal-Inf-R'"
         ],
         "xaxis": "x",
         "y": [
          -0.12032359656247099,
          -0.12414313776677471,
          -0.1143137620582156,
          -0.0639262340150759,
          -0.07151678098967945,
          -0.030268404090607385,
          -0.09999446835109588,
          -0.04864736583511143,
          -0.10484343732130802,
          -0.0563045896707644,
          -0.13861173777976862,
          -0.10857365017698146,
          -0.14404362673337553,
          -0.1113048555794817,
          -0.17109759556639204,
          -0.14105653827757,
          -0.13479642150664872,
          -0.13532638212840872,
          -0.16633579637932824,
          -0.1565625529167964,
          -0.053024005242707686,
          -0.01773186304015281,
          -0.15119020660136712,
          -0.12893776727004008,
          -0.06334932855370694,
          -0.041739997394359615,
          -0.03033002757693882,
          -0.02317496565521171,
          -0.15189174571428113,
          -0.1363909074422917,
          -0.09136773521867483,
          -0.08086811139672775,
          -0.054169842199619025,
          -0.03741779064190454,
          0.03752715060348529,
          0.05923479390202884,
          -0.03391415521016061,
          -0.017649700739092684,
          -0.010323769043954394,
          -0.013775014487859314,
          -0.061006104772964156,
          -0.06410255610005515,
          0.15094899121393962,
          0.15221687897809194,
          0.1738535766628581,
          0.17800770444904937,
          0.1463902715392974,
          0.1573099285736618,
          0.17822903620891817,
          0.17390540953077158,
          0.16425047094673553,
          0.16660977807568306,
          0.07332617603038112,
          0.02635711298029012,
          0.11167892849624785,
          0.11811598492871546,
          -0.11342288913455874,
          -0.10852888829596496,
          0.08194164868961319,
          0.07549645290378691,
          -0.04267988451382551,
          -0.055360010355000086,
          -0.0950844070362894,
          -0.08560923749600431,
          -0.0596261650643539,
          -0.022729837644315947,
          0.10560780200473704,
          0.135866533327416,
          -0.10290264119308855,
          -0.05833115346078431,
          -0.08710498247181832,
          -0.09283197106938804,
          -0.11734311298846847,
          -0.1084120825353236,
          -0.08172556916231964,
          -0.07360544193283562,
          -0.048834115887972825,
          -0.03383574224048653,
          -0.1035503677892104,
          -0.10270836863823322,
          -0.0923936048454509,
          -0.09218508985555081,
          -0.14188425507838545,
          -0.12389381951784605,
          -0.11621098576140887,
          -0.08992854421868939,
          -0.06982751995656165,
          -0.08082491947878148,
          -0.10289778386868421,
          -0.09590203381358682
         ],
         "yaxis": "y"
        }
       ],
       "layout": {
        "barmode": "relative",
        "legend": {
         "tracegroupgap": 0
        },
        "margin": {
         "t": 60
        },
        "template": {
         "data": {
          "bar": [
           {
            "error_x": {
             "color": "#2a3f5f"
            },
            "error_y": {
             "color": "#2a3f5f"
            },
            "marker": {
             "line": {
              "color": "#E5ECF6",
              "width": 0.5
             },
             "pattern": {
              "fillmode": "overlay",
              "size": 10,
              "solidity": 0.2
             }
            },
            "type": "bar"
           }
          ],
          "barpolar": [
           {
            "marker": {
             "line": {
              "color": "#E5ECF6",
              "width": 0.5
             },
             "pattern": {
              "fillmode": "overlay",
              "size": 10,
              "solidity": 0.2
             }
            },
            "type": "barpolar"
           }
          ],
          "carpet": [
           {
            "aaxis": {
             "endlinecolor": "#2a3f5f",
             "gridcolor": "white",
             "linecolor": "white",
             "minorgridcolor": "white",
             "startlinecolor": "#2a3f5f"
            },
            "baxis": {
             "endlinecolor": "#2a3f5f",
             "gridcolor": "white",
             "linecolor": "white",
             "minorgridcolor": "white",
             "startlinecolor": "#2a3f5f"
            },
            "type": "carpet"
           }
          ],
          "choropleth": [
           {
            "colorbar": {
             "outlinewidth": 0,
             "ticks": ""
            },
            "type": "choropleth"
           }
          ],
          "contour": [
           {
            "colorbar": {
             "outlinewidth": 0,
             "ticks": ""
            },
            "colorscale": [
             [
              0,
              "#0d0887"
             ],
             [
              0.1111111111111111,
              "#46039f"
             ],
             [
              0.2222222222222222,
              "#7201a8"
             ],
             [
              0.3333333333333333,
              "#9c179e"
             ],
             [
              0.4444444444444444,
              "#bd3786"
             ],
             [
              0.5555555555555556,
              "#d8576b"
             ],
             [
              0.6666666666666666,
              "#ed7953"
             ],
             [
              0.7777777777777778,
              "#fb9f3a"
             ],
             [
              0.8888888888888888,
              "#fdca26"
             ],
             [
              1,
              "#f0f921"
             ]
            ],
            "type": "contour"
           }
          ],
          "contourcarpet": [
           {
            "colorbar": {
             "outlinewidth": 0,
             "ticks": ""
            },
            "type": "contourcarpet"
           }
          ],
          "heatmap": [
           {
            "colorbar": {
             "outlinewidth": 0,
             "ticks": ""
            },
            "colorscale": [
             [
              0,
              "#0d0887"
             ],
             [
              0.1111111111111111,
              "#46039f"
             ],
             [
              0.2222222222222222,
              "#7201a8"
             ],
             [
              0.3333333333333333,
              "#9c179e"
             ],
             [
              0.4444444444444444,
              "#bd3786"
             ],
             [
              0.5555555555555556,
              "#d8576b"
             ],
             [
              0.6666666666666666,
              "#ed7953"
             ],
             [
              0.7777777777777778,
              "#fb9f3a"
             ],
             [
              0.8888888888888888,
              "#fdca26"
             ],
             [
              1,
              "#f0f921"
             ]
            ],
            "type": "heatmap"
           }
          ],
          "heatmapgl": [
           {
            "colorbar": {
             "outlinewidth": 0,
             "ticks": ""
            },
            "colorscale": [
             [
              0,
              "#0d0887"
             ],
             [
              0.1111111111111111,
              "#46039f"
             ],
             [
              0.2222222222222222,
              "#7201a8"
             ],
             [
              0.3333333333333333,
              "#9c179e"
             ],
             [
              0.4444444444444444,
              "#bd3786"
             ],
             [
              0.5555555555555556,
              "#d8576b"
             ],
             [
              0.6666666666666666,
              "#ed7953"
             ],
             [
              0.7777777777777778,
              "#fb9f3a"
             ],
             [
              0.8888888888888888,
              "#fdca26"
             ],
             [
              1,
              "#f0f921"
             ]
            ],
            "type": "heatmapgl"
           }
          ],
          "histogram": [
           {
            "marker": {
             "pattern": {
              "fillmode": "overlay",
              "size": 10,
              "solidity": 0.2
             }
            },
            "type": "histogram"
           }
          ],
          "histogram2d": [
           {
            "colorbar": {
             "outlinewidth": 0,
             "ticks": ""
            },
            "colorscale": [
             [
              0,
              "#0d0887"
             ],
             [
              0.1111111111111111,
              "#46039f"
             ],
             [
              0.2222222222222222,
              "#7201a8"
             ],
             [
              0.3333333333333333,
              "#9c179e"
             ],
             [
              0.4444444444444444,
              "#bd3786"
             ],
             [
              0.5555555555555556,
              "#d8576b"
             ],
             [
              0.6666666666666666,
              "#ed7953"
             ],
             [
              0.7777777777777778,
              "#fb9f3a"
             ],
             [
              0.8888888888888888,
              "#fdca26"
             ],
             [
              1,
              "#f0f921"
             ]
            ],
            "type": "histogram2d"
           }
          ],
          "histogram2dcontour": [
           {
            "colorbar": {
             "outlinewidth": 0,
             "ticks": ""
            },
            "colorscale": [
             [
              0,
              "#0d0887"
             ],
             [
              0.1111111111111111,
              "#46039f"
             ],
             [
              0.2222222222222222,
              "#7201a8"
             ],
             [
              0.3333333333333333,
              "#9c179e"
             ],
             [
              0.4444444444444444,
              "#bd3786"
             ],
             [
              0.5555555555555556,
              "#d8576b"
             ],
             [
              0.6666666666666666,
              "#ed7953"
             ],
             [
              0.7777777777777778,
              "#fb9f3a"
             ],
             [
              0.8888888888888888,
              "#fdca26"
             ],
             [
              1,
              "#f0f921"
             ]
            ],
            "type": "histogram2dcontour"
           }
          ],
          "mesh3d": [
           {
            "colorbar": {
             "outlinewidth": 0,
             "ticks": ""
            },
            "type": "mesh3d"
           }
          ],
          "parcoords": [
           {
            "line": {
             "colorbar": {
              "outlinewidth": 0,
              "ticks": ""
             }
            },
            "type": "parcoords"
           }
          ],
          "pie": [
           {
            "automargin": true,
            "type": "pie"
           }
          ],
          "scatter": [
           {
            "fillpattern": {
             "fillmode": "overlay",
             "size": 10,
             "solidity": 0.2
            },
            "type": "scatter"
           }
          ],
          "scatter3d": [
           {
            "line": {
             "colorbar": {
              "outlinewidth": 0,
              "ticks": ""
             }
            },
            "marker": {
             "colorbar": {
              "outlinewidth": 0,
              "ticks": ""
             }
            },
            "type": "scatter3d"
           }
          ],
          "scattercarpet": [
           {
            "marker": {
             "colorbar": {
              "outlinewidth": 0,
              "ticks": ""
             }
            },
            "type": "scattercarpet"
           }
          ],
          "scattergeo": [
           {
            "marker": {
             "colorbar": {
              "outlinewidth": 0,
              "ticks": ""
             }
            },
            "type": "scattergeo"
           }
          ],
          "scattergl": [
           {
            "marker": {
             "colorbar": {
              "outlinewidth": 0,
              "ticks": ""
             }
            },
            "type": "scattergl"
           }
          ],
          "scattermapbox": [
           {
            "marker": {
             "colorbar": {
              "outlinewidth": 0,
              "ticks": ""
             }
            },
            "type": "scattermapbox"
           }
          ],
          "scatterpolar": [
           {
            "marker": {
             "colorbar": {
              "outlinewidth": 0,
              "ticks": ""
             }
            },
            "type": "scatterpolar"
           }
          ],
          "scatterpolargl": [
           {
            "marker": {
             "colorbar": {
              "outlinewidth": 0,
              "ticks": ""
             }
            },
            "type": "scatterpolargl"
           }
          ],
          "scatterternary": [
           {
            "marker": {
             "colorbar": {
              "outlinewidth": 0,
              "ticks": ""
             }
            },
            "type": "scatterternary"
           }
          ],
          "surface": [
           {
            "colorbar": {
             "outlinewidth": 0,
             "ticks": ""
            },
            "colorscale": [
             [
              0,
              "#0d0887"
             ],
             [
              0.1111111111111111,
              "#46039f"
             ],
             [
              0.2222222222222222,
              "#7201a8"
             ],
             [
              0.3333333333333333,
              "#9c179e"
             ],
             [
              0.4444444444444444,
              "#bd3786"
             ],
             [
              0.5555555555555556,
              "#d8576b"
             ],
             [
              0.6666666666666666,
              "#ed7953"
             ],
             [
              0.7777777777777778,
              "#fb9f3a"
             ],
             [
              0.8888888888888888,
              "#fdca26"
             ],
             [
              1,
              "#f0f921"
             ]
            ],
            "type": "surface"
           }
          ],
          "table": [
           {
            "cells": {
             "fill": {
              "color": "#EBF0F8"
             },
             "line": {
              "color": "white"
             }
            },
            "header": {
             "fill": {
              "color": "#C8D4E3"
             },
             "line": {
              "color": "white"
             }
            },
            "type": "table"
           }
          ]
         },
         "layout": {
          "annotationdefaults": {
           "arrowcolor": "#2a3f5f",
           "arrowhead": 0,
           "arrowwidth": 1
          },
          "autotypenumbers": "strict",
          "coloraxis": {
           "colorbar": {
            "outlinewidth": 0,
            "ticks": ""
           }
          },
          "colorscale": {
           "diverging": [
            [
             0,
             "#8e0152"
            ],
            [
             0.1,
             "#c51b7d"
            ],
            [
             0.2,
             "#de77ae"
            ],
            [
             0.3,
             "#f1b6da"
            ],
            [
             0.4,
             "#fde0ef"
            ],
            [
             0.5,
             "#f7f7f7"
            ],
            [
             0.6,
             "#e6f5d0"
            ],
            [
             0.7,
             "#b8e186"
            ],
            [
             0.8,
             "#7fbc41"
            ],
            [
             0.9,
             "#4d9221"
            ],
            [
             1,
             "#276419"
            ]
           ],
           "sequential": [
            [
             0,
             "#0d0887"
            ],
            [
             0.1111111111111111,
             "#46039f"
            ],
            [
             0.2222222222222222,
             "#7201a8"
            ],
            [
             0.3333333333333333,
             "#9c179e"
            ],
            [
             0.4444444444444444,
             "#bd3786"
            ],
            [
             0.5555555555555556,
             "#d8576b"
            ],
            [
             0.6666666666666666,
             "#ed7953"
            ],
            [
             0.7777777777777778,
             "#fb9f3a"
            ],
            [
             0.8888888888888888,
             "#fdca26"
            ],
            [
             1,
             "#f0f921"
            ]
           ],
           "sequentialminus": [
            [
             0,
             "#0d0887"
            ],
            [
             0.1111111111111111,
             "#46039f"
            ],
            [
             0.2222222222222222,
             "#7201a8"
            ],
            [
             0.3333333333333333,
             "#9c179e"
            ],
            [
             0.4444444444444444,
             "#bd3786"
            ],
            [
             0.5555555555555556,
             "#d8576b"
            ],
            [
             0.6666666666666666,
             "#ed7953"
            ],
            [
             0.7777777777777778,
             "#fb9f3a"
            ],
            [
             0.8888888888888888,
             "#fdca26"
            ],
            [
             1,
             "#f0f921"
            ]
           ]
          },
          "colorway": [
           "#636efa",
           "#EF553B",
           "#00cc96",
           "#ab63fa",
           "#FFA15A",
           "#19d3f3",
           "#FF6692",
           "#B6E880",
           "#FF97FF",
           "#FECB52"
          ],
          "font": {
           "color": "#2a3f5f"
          },
          "geo": {
           "bgcolor": "white",
           "lakecolor": "white",
           "landcolor": "#E5ECF6",
           "showlakes": true,
           "showland": true,
           "subunitcolor": "white"
          },
          "hoverlabel": {
           "align": "left"
          },
          "hovermode": "closest",
          "mapbox": {
           "style": "light"
          },
          "paper_bgcolor": "white",
          "plot_bgcolor": "#E5ECF6",
          "polar": {
           "angularaxis": {
            "gridcolor": "white",
            "linecolor": "white",
            "ticks": ""
           },
           "bgcolor": "#E5ECF6",
           "radialaxis": {
            "gridcolor": "white",
            "linecolor": "white",
            "ticks": ""
           }
          },
          "scene": {
           "xaxis": {
            "backgroundcolor": "#E5ECF6",
            "gridcolor": "white",
            "gridwidth": 2,
            "linecolor": "white",
            "showbackground": true,
            "ticks": "",
            "zerolinecolor": "white"
           },
           "yaxis": {
            "backgroundcolor": "#E5ECF6",
            "gridcolor": "white",
            "gridwidth": 2,
            "linecolor": "white",
            "showbackground": true,
            "ticks": "",
            "zerolinecolor": "white"
           },
           "zaxis": {
            "backgroundcolor": "#E5ECF6",
            "gridcolor": "white",
            "gridwidth": 2,
            "linecolor": "white",
            "showbackground": true,
            "ticks": "",
            "zerolinecolor": "white"
           }
          },
          "shapedefaults": {
           "line": {
            "color": "#2a3f5f"
           }
          },
          "ternary": {
           "aaxis": {
            "gridcolor": "white",
            "linecolor": "white",
            "ticks": ""
           },
           "baxis": {
            "gridcolor": "white",
            "linecolor": "white",
            "ticks": ""
           },
           "bgcolor": "#E5ECF6",
           "caxis": {
            "gridcolor": "white",
            "linecolor": "white",
            "ticks": ""
           }
          },
          "title": {
           "x": 0.05
          },
          "xaxis": {
           "automargin": true,
           "gridcolor": "white",
           "linecolor": "white",
           "ticks": "",
           "title": {
            "standoff": 15
           },
           "zerolinecolor": "white",
           "zerolinewidth": 2
          },
          "yaxis": {
           "automargin": true,
           "gridcolor": "white",
           "linecolor": "white",
           "ticks": "",
           "title": {
            "standoff": 15
           },
           "zerolinecolor": "white",
           "zerolinewidth": 2
          }
         }
        },
        "xaxis": {
         "anchor": "y",
         "domain": [
          0,
          1
         ],
         "title": {
          "text": "x"
         }
        },
        "yaxis": {
         "anchor": "x",
         "domain": [
          0,
          1
         ],
         "title": {
          "text": "y"
         }
        }
       }
      }
     },
     "metadata": {},
     "output_type": "display_data"
    },
    {
     "name": "stdout",
     "output_type": "stream",
     "text": [
      "Model 2:  , kappa = 808.8360460047309\n"
     ]
    },
    {
     "data": {
      "application/vnd.plotly.v1+json": {
       "config": {
        "plotlyServerURL": "https://plot.ly"
       },
       "data": [
        {
         "alignmentgroup": "True",
         "hovertemplate": "x=%{x}<br>y=%{y}<extra></extra>",
         "legendgroup": "",
         "marker": {
          "color": "#636efa",
          "pattern": {
           "shape": ""
          }
         },
         "name": "",
         "offsetgroup": "",
         "orientation": "v",
         "showlegend": false,
         "textposition": "auto",
         "type": "bar",
         "x": [
          "'Precentral-L'",
          "'Precentral-R'",
          "'Frontal-Sup-L'",
          "'Frontal-Sup-R'",
          "'Frontal-Sup-Orb-L'",
          "'Frontal-Sup-Orb-R'",
          "'Frontal-Mid-L'",
          "'Frontal-Mid-R'",
          "'Frontal-Mid-Orb-L'",
          "'Frontal-Mid-Orb-R'",
          "'Frontal-Inf-Oper-L'",
          "'Frontal-Inf-Oper-R'",
          "'Frontal-Inf-Tri-L'",
          "'Frontal-Inf-Tri-R'",
          "'Frontal-Inf-Orb-L'",
          "'Frontal-Inf-Orb-R'",
          "'Rolandic-Oper-L'",
          "'Rolandic-Oper-R'",
          "'Supp-Motor-Area-L'",
          "'Supp-Motor-Area-R'",
          "'Olfactory-L'",
          "'Olfactory-R'",
          "'Frontal-Sup-Medial-L'",
          "'Frontal-Sup-Medial-R'",
          "'Frontal-Med-Orb-L'",
          "'Frontal-Med-Orb-R'",
          "'Rectus-L'",
          "'Rectus-R'",
          "'Insula-L'",
          "'Insula-R'",
          "'Cingulum-Ant-L'",
          "'Cingulum-Ant-R'",
          "'Cingulum-Mid-L'",
          "'Cingulum-Mid-R'",
          "'Cingulum-Post-L'",
          "'Cingulum-Post-R'",
          "'Hippocampus-L'",
          "'Hippocampus-R'",
          "'ParaHippocampal-L'",
          "'ParaHippocampal-R'",
          "'Amygdala-L'",
          "'Amygdala-R'",
          "'Calcarine-L'",
          "'Calcarine-R'",
          "'Cuneus-L'",
          "'Cuneus-R'",
          "'Lingual-L'",
          "'Lingual-R'",
          "'Occipital-Sup-L'",
          "'Occipital-Sup-R'",
          "'Occipital-Mid-L'",
          "'Occipital-Mid-R'",
          "'Occipital-Inf-L'",
          "'Occipital-Inf-R'",
          "'Fusiform-L'",
          "'Fusiform-R'",
          "'Postcentral-L'",
          "'Postcentral-R'",
          "'Parietal-Sup-L'",
          "'Parietal-Sup-R'",
          "'Parietal-Inf-L'",
          "'Parietal-Inf-R'",
          "'SupraMarginal-L'",
          "'SupraMarginal-R'",
          "'Angular-L'",
          "'Angular-R'",
          "'Precuneus-L'",
          "'Precuneus-R'",
          "'Paracentral-Lobule-L'",
          "'Paracentral-Lobule-R'",
          "'Caudate-L'",
          "'Caudate-R'",
          "'Putamen-L'",
          "'Putamen-R'",
          "'Pallidum-L'",
          "'Pallidum-R'",
          "'Thalamus-L'",
          "'Thalamus-R'",
          "'Heschl-L'",
          "'Heschl-R'",
          "'Temporal-Sup-L'",
          "'Temporal-Sup-R'",
          "'Temporal-Pole-Sup-L'",
          "'Temporal-Pole-Sup-R'",
          "'Temporal-Mid-L'",
          "'Temporal-Mid-R'",
          "'Temporal-Pole-Mid-L'",
          "'Temporal-Pole-Mid-R'",
          "'Temporal-Inf-L'",
          "'Temporal-Inf-R'"
         ],
         "xaxis": "x",
         "y": [
          0.13307045502525558,
          0.12462963125634362,
          0.11026153877089075,
          0.11379668371139158,
          0.09160578308717962,
          0.08553441891246305,
          0.1044191517222459,
          0.09707435028819833,
          0.10495207105871103,
          0.0848353879552628,
          0.11455671884889593,
          0.11332350693960423,
          0.12364864752553616,
          0.1283471737770091,
          0.12408568291085256,
          0.13245481988169408,
          0.09456539403875057,
          0.08788913778930163,
          0.11555975916090198,
          0.10932454029022678,
          0.09548168536454048,
          0.0706693616257389,
          0.11050702577753702,
          0.1132119670552663,
          0.09989069530167238,
          0.09403818843132897,
          0.07731591110856117,
          0.06958655440331055,
          0.11851767616017357,
          0.10669525645389519,
          0.11060748023714032,
          0.10847963882298846,
          0.13230439007142392,
          0.13405754719011215,
          0.07923831037231799,
          0.06314191780311858,
          0.06431338132905395,
          0.05459065630115318,
          0.0725251023659094,
          0.11915851027093394,
          0.08886654563954277,
          0.0901477808013863,
          0.10912782855055828,
          0.10869918034711434,
          0.08397431332135684,
          0.09890467498282006,
          0.12398827009660791,
          0.12239175722897278,
          0.10131910495759266,
          0.10028127865925432,
          0.113693465516158,
          0.10613949263970103,
          0.09985254480277565,
          0.0885385933798269,
          0.14587278477751595,
          0.1430073986146856,
          0.08993893365437466,
          0.08334930684978568,
          0.06577549135243205,
          0.0662068559720074,
          0.10011767946784933,
          0.08528169316056941,
          0.10143455258251256,
          0.10058771745574865,
          0.08777342652064528,
          0.08521579889243243,
          0.08368112377367883,
          0.07622726067347217,
          0.0655055907107007,
          0.06892063060692087,
          0.06786967903971379,
          0.07957183589305349,
          0.11246788226698848,
          0.11020241111353987,
          0.07739302497792806,
          0.07905174836513829,
          0.10879750152429245,
          0.10666844116761609,
          0.10216843295439706,
          0.10630017795420676,
          0.13039144839402372,
          0.1454204522312406,
          0.1274676801954644,
          0.135965651302588,
          0.1473462516722181,
          0.15773591923820482,
          0.09967086105409648,
          0.11898093559279202,
          0.14158535700418623,
          0.13579639777653962
         ],
         "yaxis": "y"
        }
       ],
       "layout": {
        "barmode": "relative",
        "legend": {
         "tracegroupgap": 0
        },
        "margin": {
         "t": 60
        },
        "template": {
         "data": {
          "bar": [
           {
            "error_x": {
             "color": "#2a3f5f"
            },
            "error_y": {
             "color": "#2a3f5f"
            },
            "marker": {
             "line": {
              "color": "#E5ECF6",
              "width": 0.5
             },
             "pattern": {
              "fillmode": "overlay",
              "size": 10,
              "solidity": 0.2
             }
            },
            "type": "bar"
           }
          ],
          "barpolar": [
           {
            "marker": {
             "line": {
              "color": "#E5ECF6",
              "width": 0.5
             },
             "pattern": {
              "fillmode": "overlay",
              "size": 10,
              "solidity": 0.2
             }
            },
            "type": "barpolar"
           }
          ],
          "carpet": [
           {
            "aaxis": {
             "endlinecolor": "#2a3f5f",
             "gridcolor": "white",
             "linecolor": "white",
             "minorgridcolor": "white",
             "startlinecolor": "#2a3f5f"
            },
            "baxis": {
             "endlinecolor": "#2a3f5f",
             "gridcolor": "white",
             "linecolor": "white",
             "minorgridcolor": "white",
             "startlinecolor": "#2a3f5f"
            },
            "type": "carpet"
           }
          ],
          "choropleth": [
           {
            "colorbar": {
             "outlinewidth": 0,
             "ticks": ""
            },
            "type": "choropleth"
           }
          ],
          "contour": [
           {
            "colorbar": {
             "outlinewidth": 0,
             "ticks": ""
            },
            "colorscale": [
             [
              0,
              "#0d0887"
             ],
             [
              0.1111111111111111,
              "#46039f"
             ],
             [
              0.2222222222222222,
              "#7201a8"
             ],
             [
              0.3333333333333333,
              "#9c179e"
             ],
             [
              0.4444444444444444,
              "#bd3786"
             ],
             [
              0.5555555555555556,
              "#d8576b"
             ],
             [
              0.6666666666666666,
              "#ed7953"
             ],
             [
              0.7777777777777778,
              "#fb9f3a"
             ],
             [
              0.8888888888888888,
              "#fdca26"
             ],
             [
              1,
              "#f0f921"
             ]
            ],
            "type": "contour"
           }
          ],
          "contourcarpet": [
           {
            "colorbar": {
             "outlinewidth": 0,
             "ticks": ""
            },
            "type": "contourcarpet"
           }
          ],
          "heatmap": [
           {
            "colorbar": {
             "outlinewidth": 0,
             "ticks": ""
            },
            "colorscale": [
             [
              0,
              "#0d0887"
             ],
             [
              0.1111111111111111,
              "#46039f"
             ],
             [
              0.2222222222222222,
              "#7201a8"
             ],
             [
              0.3333333333333333,
              "#9c179e"
             ],
             [
              0.4444444444444444,
              "#bd3786"
             ],
             [
              0.5555555555555556,
              "#d8576b"
             ],
             [
              0.6666666666666666,
              "#ed7953"
             ],
             [
              0.7777777777777778,
              "#fb9f3a"
             ],
             [
              0.8888888888888888,
              "#fdca26"
             ],
             [
              1,
              "#f0f921"
             ]
            ],
            "type": "heatmap"
           }
          ],
          "heatmapgl": [
           {
            "colorbar": {
             "outlinewidth": 0,
             "ticks": ""
            },
            "colorscale": [
             [
              0,
              "#0d0887"
             ],
             [
              0.1111111111111111,
              "#46039f"
             ],
             [
              0.2222222222222222,
              "#7201a8"
             ],
             [
              0.3333333333333333,
              "#9c179e"
             ],
             [
              0.4444444444444444,
              "#bd3786"
             ],
             [
              0.5555555555555556,
              "#d8576b"
             ],
             [
              0.6666666666666666,
              "#ed7953"
             ],
             [
              0.7777777777777778,
              "#fb9f3a"
             ],
             [
              0.8888888888888888,
              "#fdca26"
             ],
             [
              1,
              "#f0f921"
             ]
            ],
            "type": "heatmapgl"
           }
          ],
          "histogram": [
           {
            "marker": {
             "pattern": {
              "fillmode": "overlay",
              "size": 10,
              "solidity": 0.2
             }
            },
            "type": "histogram"
           }
          ],
          "histogram2d": [
           {
            "colorbar": {
             "outlinewidth": 0,
             "ticks": ""
            },
            "colorscale": [
             [
              0,
              "#0d0887"
             ],
             [
              0.1111111111111111,
              "#46039f"
             ],
             [
              0.2222222222222222,
              "#7201a8"
             ],
             [
              0.3333333333333333,
              "#9c179e"
             ],
             [
              0.4444444444444444,
              "#bd3786"
             ],
             [
              0.5555555555555556,
              "#d8576b"
             ],
             [
              0.6666666666666666,
              "#ed7953"
             ],
             [
              0.7777777777777778,
              "#fb9f3a"
             ],
             [
              0.8888888888888888,
              "#fdca26"
             ],
             [
              1,
              "#f0f921"
             ]
            ],
            "type": "histogram2d"
           }
          ],
          "histogram2dcontour": [
           {
            "colorbar": {
             "outlinewidth": 0,
             "ticks": ""
            },
            "colorscale": [
             [
              0,
              "#0d0887"
             ],
             [
              0.1111111111111111,
              "#46039f"
             ],
             [
              0.2222222222222222,
              "#7201a8"
             ],
             [
              0.3333333333333333,
              "#9c179e"
             ],
             [
              0.4444444444444444,
              "#bd3786"
             ],
             [
              0.5555555555555556,
              "#d8576b"
             ],
             [
              0.6666666666666666,
              "#ed7953"
             ],
             [
              0.7777777777777778,
              "#fb9f3a"
             ],
             [
              0.8888888888888888,
              "#fdca26"
             ],
             [
              1,
              "#f0f921"
             ]
            ],
            "type": "histogram2dcontour"
           }
          ],
          "mesh3d": [
           {
            "colorbar": {
             "outlinewidth": 0,
             "ticks": ""
            },
            "type": "mesh3d"
           }
          ],
          "parcoords": [
           {
            "line": {
             "colorbar": {
              "outlinewidth": 0,
              "ticks": ""
             }
            },
            "type": "parcoords"
           }
          ],
          "pie": [
           {
            "automargin": true,
            "type": "pie"
           }
          ],
          "scatter": [
           {
            "fillpattern": {
             "fillmode": "overlay",
             "size": 10,
             "solidity": 0.2
            },
            "type": "scatter"
           }
          ],
          "scatter3d": [
           {
            "line": {
             "colorbar": {
              "outlinewidth": 0,
              "ticks": ""
             }
            },
            "marker": {
             "colorbar": {
              "outlinewidth": 0,
              "ticks": ""
             }
            },
            "type": "scatter3d"
           }
          ],
          "scattercarpet": [
           {
            "marker": {
             "colorbar": {
              "outlinewidth": 0,
              "ticks": ""
             }
            },
            "type": "scattercarpet"
           }
          ],
          "scattergeo": [
           {
            "marker": {
             "colorbar": {
              "outlinewidth": 0,
              "ticks": ""
             }
            },
            "type": "scattergeo"
           }
          ],
          "scattergl": [
           {
            "marker": {
             "colorbar": {
              "outlinewidth": 0,
              "ticks": ""
             }
            },
            "type": "scattergl"
           }
          ],
          "scattermapbox": [
           {
            "marker": {
             "colorbar": {
              "outlinewidth": 0,
              "ticks": ""
             }
            },
            "type": "scattermapbox"
           }
          ],
          "scatterpolar": [
           {
            "marker": {
             "colorbar": {
              "outlinewidth": 0,
              "ticks": ""
             }
            },
            "type": "scatterpolar"
           }
          ],
          "scatterpolargl": [
           {
            "marker": {
             "colorbar": {
              "outlinewidth": 0,
              "ticks": ""
             }
            },
            "type": "scatterpolargl"
           }
          ],
          "scatterternary": [
           {
            "marker": {
             "colorbar": {
              "outlinewidth": 0,
              "ticks": ""
             }
            },
            "type": "scatterternary"
           }
          ],
          "surface": [
           {
            "colorbar": {
             "outlinewidth": 0,
             "ticks": ""
            },
            "colorscale": [
             [
              0,
              "#0d0887"
             ],
             [
              0.1111111111111111,
              "#46039f"
             ],
             [
              0.2222222222222222,
              "#7201a8"
             ],
             [
              0.3333333333333333,
              "#9c179e"
             ],
             [
              0.4444444444444444,
              "#bd3786"
             ],
             [
              0.5555555555555556,
              "#d8576b"
             ],
             [
              0.6666666666666666,
              "#ed7953"
             ],
             [
              0.7777777777777778,
              "#fb9f3a"
             ],
             [
              0.8888888888888888,
              "#fdca26"
             ],
             [
              1,
              "#f0f921"
             ]
            ],
            "type": "surface"
           }
          ],
          "table": [
           {
            "cells": {
             "fill": {
              "color": "#EBF0F8"
             },
             "line": {
              "color": "white"
             }
            },
            "header": {
             "fill": {
              "color": "#C8D4E3"
             },
             "line": {
              "color": "white"
             }
            },
            "type": "table"
           }
          ]
         },
         "layout": {
          "annotationdefaults": {
           "arrowcolor": "#2a3f5f",
           "arrowhead": 0,
           "arrowwidth": 1
          },
          "autotypenumbers": "strict",
          "coloraxis": {
           "colorbar": {
            "outlinewidth": 0,
            "ticks": ""
           }
          },
          "colorscale": {
           "diverging": [
            [
             0,
             "#8e0152"
            ],
            [
             0.1,
             "#c51b7d"
            ],
            [
             0.2,
             "#de77ae"
            ],
            [
             0.3,
             "#f1b6da"
            ],
            [
             0.4,
             "#fde0ef"
            ],
            [
             0.5,
             "#f7f7f7"
            ],
            [
             0.6,
             "#e6f5d0"
            ],
            [
             0.7,
             "#b8e186"
            ],
            [
             0.8,
             "#7fbc41"
            ],
            [
             0.9,
             "#4d9221"
            ],
            [
             1,
             "#276419"
            ]
           ],
           "sequential": [
            [
             0,
             "#0d0887"
            ],
            [
             0.1111111111111111,
             "#46039f"
            ],
            [
             0.2222222222222222,
             "#7201a8"
            ],
            [
             0.3333333333333333,
             "#9c179e"
            ],
            [
             0.4444444444444444,
             "#bd3786"
            ],
            [
             0.5555555555555556,
             "#d8576b"
            ],
            [
             0.6666666666666666,
             "#ed7953"
            ],
            [
             0.7777777777777778,
             "#fb9f3a"
            ],
            [
             0.8888888888888888,
             "#fdca26"
            ],
            [
             1,
             "#f0f921"
            ]
           ],
           "sequentialminus": [
            [
             0,
             "#0d0887"
            ],
            [
             0.1111111111111111,
             "#46039f"
            ],
            [
             0.2222222222222222,
             "#7201a8"
            ],
            [
             0.3333333333333333,
             "#9c179e"
            ],
            [
             0.4444444444444444,
             "#bd3786"
            ],
            [
             0.5555555555555556,
             "#d8576b"
            ],
            [
             0.6666666666666666,
             "#ed7953"
            ],
            [
             0.7777777777777778,
             "#fb9f3a"
            ],
            [
             0.8888888888888888,
             "#fdca26"
            ],
            [
             1,
             "#f0f921"
            ]
           ]
          },
          "colorway": [
           "#636efa",
           "#EF553B",
           "#00cc96",
           "#ab63fa",
           "#FFA15A",
           "#19d3f3",
           "#FF6692",
           "#B6E880",
           "#FF97FF",
           "#FECB52"
          ],
          "font": {
           "color": "#2a3f5f"
          },
          "geo": {
           "bgcolor": "white",
           "lakecolor": "white",
           "landcolor": "#E5ECF6",
           "showlakes": true,
           "showland": true,
           "subunitcolor": "white"
          },
          "hoverlabel": {
           "align": "left"
          },
          "hovermode": "closest",
          "mapbox": {
           "style": "light"
          },
          "paper_bgcolor": "white",
          "plot_bgcolor": "#E5ECF6",
          "polar": {
           "angularaxis": {
            "gridcolor": "white",
            "linecolor": "white",
            "ticks": ""
           },
           "bgcolor": "#E5ECF6",
           "radialaxis": {
            "gridcolor": "white",
            "linecolor": "white",
            "ticks": ""
           }
          },
          "scene": {
           "xaxis": {
            "backgroundcolor": "#E5ECF6",
            "gridcolor": "white",
            "gridwidth": 2,
            "linecolor": "white",
            "showbackground": true,
            "ticks": "",
            "zerolinecolor": "white"
           },
           "yaxis": {
            "backgroundcolor": "#E5ECF6",
            "gridcolor": "white",
            "gridwidth": 2,
            "linecolor": "white",
            "showbackground": true,
            "ticks": "",
            "zerolinecolor": "white"
           },
           "zaxis": {
            "backgroundcolor": "#E5ECF6",
            "gridcolor": "white",
            "gridwidth": 2,
            "linecolor": "white",
            "showbackground": true,
            "ticks": "",
            "zerolinecolor": "white"
           }
          },
          "shapedefaults": {
           "line": {
            "color": "#2a3f5f"
           }
          },
          "ternary": {
           "aaxis": {
            "gridcolor": "white",
            "linecolor": "white",
            "ticks": ""
           },
           "baxis": {
            "gridcolor": "white",
            "linecolor": "white",
            "ticks": ""
           },
           "bgcolor": "#E5ECF6",
           "caxis": {
            "gridcolor": "white",
            "linecolor": "white",
            "ticks": ""
           }
          },
          "title": {
           "x": 0.05
          },
          "xaxis": {
           "automargin": true,
           "gridcolor": "white",
           "linecolor": "white",
           "ticks": "",
           "title": {
            "standoff": 15
           },
           "zerolinecolor": "white",
           "zerolinewidth": 2
          },
          "yaxis": {
           "automargin": true,
           "gridcolor": "white",
           "linecolor": "white",
           "ticks": "",
           "title": {
            "standoff": 15
           },
           "zerolinecolor": "white",
           "zerolinewidth": 2
          }
         }
        },
        "xaxis": {
         "anchor": "y",
         "domain": [
          0,
          1
         ],
         "title": {
          "text": "x"
         }
        },
        "yaxis": {
         "anchor": "x",
         "domain": [
          0,
          1
         ],
         "title": {
          "text": "y"
         }
        }
       }
      }
     },
     "metadata": {},
     "output_type": "display_data"
    },
    {
     "name": "stdout",
     "output_type": "stream",
     "text": [
      "Model 3:  , kappa = 71.20058101950762\n"
     ]
    },
    {
     "data": {
      "application/vnd.plotly.v1+json": {
       "config": {
        "plotlyServerURL": "https://plot.ly"
       },
       "data": [
        {
         "alignmentgroup": "True",
         "hovertemplate": "x=%{x}<br>y=%{y}<extra></extra>",
         "legendgroup": "",
         "marker": {
          "color": "#636efa",
          "pattern": {
           "shape": ""
          }
         },
         "name": "",
         "offsetgroup": "",
         "orientation": "v",
         "showlegend": false,
         "textposition": "auto",
         "type": "bar",
         "x": [
          "'Precentral-L'",
          "'Precentral-R'",
          "'Frontal-Sup-L'",
          "'Frontal-Sup-R'",
          "'Frontal-Sup-Orb-L'",
          "'Frontal-Sup-Orb-R'",
          "'Frontal-Mid-L'",
          "'Frontal-Mid-R'",
          "'Frontal-Mid-Orb-L'",
          "'Frontal-Mid-Orb-R'",
          "'Frontal-Inf-Oper-L'",
          "'Frontal-Inf-Oper-R'",
          "'Frontal-Inf-Tri-L'",
          "'Frontal-Inf-Tri-R'",
          "'Frontal-Inf-Orb-L'",
          "'Frontal-Inf-Orb-R'",
          "'Rolandic-Oper-L'",
          "'Rolandic-Oper-R'",
          "'Supp-Motor-Area-L'",
          "'Supp-Motor-Area-R'",
          "'Olfactory-L'",
          "'Olfactory-R'",
          "'Frontal-Sup-Medial-L'",
          "'Frontal-Sup-Medial-R'",
          "'Frontal-Med-Orb-L'",
          "'Frontal-Med-Orb-R'",
          "'Rectus-L'",
          "'Rectus-R'",
          "'Insula-L'",
          "'Insula-R'",
          "'Cingulum-Ant-L'",
          "'Cingulum-Ant-R'",
          "'Cingulum-Mid-L'",
          "'Cingulum-Mid-R'",
          "'Cingulum-Post-L'",
          "'Cingulum-Post-R'",
          "'Hippocampus-L'",
          "'Hippocampus-R'",
          "'ParaHippocampal-L'",
          "'ParaHippocampal-R'",
          "'Amygdala-L'",
          "'Amygdala-R'",
          "'Calcarine-L'",
          "'Calcarine-R'",
          "'Cuneus-L'",
          "'Cuneus-R'",
          "'Lingual-L'",
          "'Lingual-R'",
          "'Occipital-Sup-L'",
          "'Occipital-Sup-R'",
          "'Occipital-Mid-L'",
          "'Occipital-Mid-R'",
          "'Occipital-Inf-L'",
          "'Occipital-Inf-R'",
          "'Fusiform-L'",
          "'Fusiform-R'",
          "'Postcentral-L'",
          "'Postcentral-R'",
          "'Parietal-Sup-L'",
          "'Parietal-Sup-R'",
          "'Parietal-Inf-L'",
          "'Parietal-Inf-R'",
          "'SupraMarginal-L'",
          "'SupraMarginal-R'",
          "'Angular-L'",
          "'Angular-R'",
          "'Precuneus-L'",
          "'Precuneus-R'",
          "'Paracentral-Lobule-L'",
          "'Paracentral-Lobule-R'",
          "'Caudate-L'",
          "'Caudate-R'",
          "'Putamen-L'",
          "'Putamen-R'",
          "'Pallidum-L'",
          "'Pallidum-R'",
          "'Thalamus-L'",
          "'Thalamus-R'",
          "'Heschl-L'",
          "'Heschl-R'",
          "'Temporal-Sup-L'",
          "'Temporal-Sup-R'",
          "'Temporal-Pole-Sup-L'",
          "'Temporal-Pole-Sup-R'",
          "'Temporal-Mid-L'",
          "'Temporal-Mid-R'",
          "'Temporal-Pole-Mid-L'",
          "'Temporal-Pole-Mid-R'",
          "'Temporal-Inf-L'",
          "'Temporal-Inf-R'"
         ],
         "xaxis": "x",
         "y": [
          0.020900776777423892,
          0.0594105988326102,
          -0.11544978714024791,
          -0.09134149402376623,
          -0.07089772827014405,
          -0.061611458969070006,
          -0.05492113231965967,
          -0.032890537842126186,
          -0.09344821369890394,
          -0.09649952833136492,
          0.01906709669893878,
          -0.016090165337868372,
          -0.0593960414613768,
          -0.06818196579153969,
          -0.11798373949018404,
          -0.13228896225177555,
          0.15774322526101833,
          0.17129970358877306,
          0.052336246150543386,
          0.1005817675121672,
          -0.07596292029382652,
          -0.059944341755320756,
          -0.15118624356712052,
          -0.1744675224424399,
          -0.1544384445619631,
          -0.1416497915982965,
          -0.11414110428008373,
          -0.09693083465090895,
          0.14925025090847802,
          0.16048616926593864,
          -0.017482717570849005,
          -0.031755140850954613,
          0.05387180502203706,
          0.0626381597151552,
          -0.11154764860436595,
          -0.07512820484829182,
          -0.1086243836847355,
          -0.09803798928000002,
          -0.10126839158529412,
          -0.1210702056149566,
          -0.04013598260315662,
          -0.033457121807694855,
          -0.12199429220443954,
          -0.11160372139529806,
          -0.07740400678400322,
          -0.0843001563198663,
          -0.12149707113817118,
          -0.1283822143556767,
          -0.11881118333276205,
          -0.15142040951117036,
          -0.16825966492003144,
          -0.16113980201731828,
          -0.14400237318975861,
          -0.13504136021533839,
          -0.17383268820106518,
          -0.17947938914705855,
          0.1039067872766946,
          0.11378559043807726,
          -0.01502560610941636,
          -0.01524264908255047,
          -0.028081155964935028,
          -0.02733083813241216,
          0.13969880846390442,
          0.15746073129293925,
          -0.1693879132352724,
          -0.1586583690783937,
          -0.03409038937074567,
          -0.013388087294464827,
          0.04899706403856898,
          0.047561321738728436,
          -0.009359091093842035,
          -0.014541880503838256,
          0.05018225149019527,
          0.06202789406648358,
          0.02770016562609071,
          0.03981643074215974,
          0.030426374947776207,
          0.02791241487412375,
          0.09253256387344264,
          0.09131488032777378,
          0.10401954642905525,
          0.030467353778051112,
          -0.07264024300116749,
          -0.03567946992231497,
          -0.1643823053048293,
          -0.16026229947990958,
          -0.15183368330517122,
          -0.1562161058958452,
          -0.1499821761486546,
          -0.1445117928556812
         ],
         "yaxis": "y"
        }
       ],
       "layout": {
        "barmode": "relative",
        "legend": {
         "tracegroupgap": 0
        },
        "margin": {
         "t": 60
        },
        "template": {
         "data": {
          "bar": [
           {
            "error_x": {
             "color": "#2a3f5f"
            },
            "error_y": {
             "color": "#2a3f5f"
            },
            "marker": {
             "line": {
              "color": "#E5ECF6",
              "width": 0.5
             },
             "pattern": {
              "fillmode": "overlay",
              "size": 10,
              "solidity": 0.2
             }
            },
            "type": "bar"
           }
          ],
          "barpolar": [
           {
            "marker": {
             "line": {
              "color": "#E5ECF6",
              "width": 0.5
             },
             "pattern": {
              "fillmode": "overlay",
              "size": 10,
              "solidity": 0.2
             }
            },
            "type": "barpolar"
           }
          ],
          "carpet": [
           {
            "aaxis": {
             "endlinecolor": "#2a3f5f",
             "gridcolor": "white",
             "linecolor": "white",
             "minorgridcolor": "white",
             "startlinecolor": "#2a3f5f"
            },
            "baxis": {
             "endlinecolor": "#2a3f5f",
             "gridcolor": "white",
             "linecolor": "white",
             "minorgridcolor": "white",
             "startlinecolor": "#2a3f5f"
            },
            "type": "carpet"
           }
          ],
          "choropleth": [
           {
            "colorbar": {
             "outlinewidth": 0,
             "ticks": ""
            },
            "type": "choropleth"
           }
          ],
          "contour": [
           {
            "colorbar": {
             "outlinewidth": 0,
             "ticks": ""
            },
            "colorscale": [
             [
              0,
              "#0d0887"
             ],
             [
              0.1111111111111111,
              "#46039f"
             ],
             [
              0.2222222222222222,
              "#7201a8"
             ],
             [
              0.3333333333333333,
              "#9c179e"
             ],
             [
              0.4444444444444444,
              "#bd3786"
             ],
             [
              0.5555555555555556,
              "#d8576b"
             ],
             [
              0.6666666666666666,
              "#ed7953"
             ],
             [
              0.7777777777777778,
              "#fb9f3a"
             ],
             [
              0.8888888888888888,
              "#fdca26"
             ],
             [
              1,
              "#f0f921"
             ]
            ],
            "type": "contour"
           }
          ],
          "contourcarpet": [
           {
            "colorbar": {
             "outlinewidth": 0,
             "ticks": ""
            },
            "type": "contourcarpet"
           }
          ],
          "heatmap": [
           {
            "colorbar": {
             "outlinewidth": 0,
             "ticks": ""
            },
            "colorscale": [
             [
              0,
              "#0d0887"
             ],
             [
              0.1111111111111111,
              "#46039f"
             ],
             [
              0.2222222222222222,
              "#7201a8"
             ],
             [
              0.3333333333333333,
              "#9c179e"
             ],
             [
              0.4444444444444444,
              "#bd3786"
             ],
             [
              0.5555555555555556,
              "#d8576b"
             ],
             [
              0.6666666666666666,
              "#ed7953"
             ],
             [
              0.7777777777777778,
              "#fb9f3a"
             ],
             [
              0.8888888888888888,
              "#fdca26"
             ],
             [
              1,
              "#f0f921"
             ]
            ],
            "type": "heatmap"
           }
          ],
          "heatmapgl": [
           {
            "colorbar": {
             "outlinewidth": 0,
             "ticks": ""
            },
            "colorscale": [
             [
              0,
              "#0d0887"
             ],
             [
              0.1111111111111111,
              "#46039f"
             ],
             [
              0.2222222222222222,
              "#7201a8"
             ],
             [
              0.3333333333333333,
              "#9c179e"
             ],
             [
              0.4444444444444444,
              "#bd3786"
             ],
             [
              0.5555555555555556,
              "#d8576b"
             ],
             [
              0.6666666666666666,
              "#ed7953"
             ],
             [
              0.7777777777777778,
              "#fb9f3a"
             ],
             [
              0.8888888888888888,
              "#fdca26"
             ],
             [
              1,
              "#f0f921"
             ]
            ],
            "type": "heatmapgl"
           }
          ],
          "histogram": [
           {
            "marker": {
             "pattern": {
              "fillmode": "overlay",
              "size": 10,
              "solidity": 0.2
             }
            },
            "type": "histogram"
           }
          ],
          "histogram2d": [
           {
            "colorbar": {
             "outlinewidth": 0,
             "ticks": ""
            },
            "colorscale": [
             [
              0,
              "#0d0887"
             ],
             [
              0.1111111111111111,
              "#46039f"
             ],
             [
              0.2222222222222222,
              "#7201a8"
             ],
             [
              0.3333333333333333,
              "#9c179e"
             ],
             [
              0.4444444444444444,
              "#bd3786"
             ],
             [
              0.5555555555555556,
              "#d8576b"
             ],
             [
              0.6666666666666666,
              "#ed7953"
             ],
             [
              0.7777777777777778,
              "#fb9f3a"
             ],
             [
              0.8888888888888888,
              "#fdca26"
             ],
             [
              1,
              "#f0f921"
             ]
            ],
            "type": "histogram2d"
           }
          ],
          "histogram2dcontour": [
           {
            "colorbar": {
             "outlinewidth": 0,
             "ticks": ""
            },
            "colorscale": [
             [
              0,
              "#0d0887"
             ],
             [
              0.1111111111111111,
              "#46039f"
             ],
             [
              0.2222222222222222,
              "#7201a8"
             ],
             [
              0.3333333333333333,
              "#9c179e"
             ],
             [
              0.4444444444444444,
              "#bd3786"
             ],
             [
              0.5555555555555556,
              "#d8576b"
             ],
             [
              0.6666666666666666,
              "#ed7953"
             ],
             [
              0.7777777777777778,
              "#fb9f3a"
             ],
             [
              0.8888888888888888,
              "#fdca26"
             ],
             [
              1,
              "#f0f921"
             ]
            ],
            "type": "histogram2dcontour"
           }
          ],
          "mesh3d": [
           {
            "colorbar": {
             "outlinewidth": 0,
             "ticks": ""
            },
            "type": "mesh3d"
           }
          ],
          "parcoords": [
           {
            "line": {
             "colorbar": {
              "outlinewidth": 0,
              "ticks": ""
             }
            },
            "type": "parcoords"
           }
          ],
          "pie": [
           {
            "automargin": true,
            "type": "pie"
           }
          ],
          "scatter": [
           {
            "fillpattern": {
             "fillmode": "overlay",
             "size": 10,
             "solidity": 0.2
            },
            "type": "scatter"
           }
          ],
          "scatter3d": [
           {
            "line": {
             "colorbar": {
              "outlinewidth": 0,
              "ticks": ""
             }
            },
            "marker": {
             "colorbar": {
              "outlinewidth": 0,
              "ticks": ""
             }
            },
            "type": "scatter3d"
           }
          ],
          "scattercarpet": [
           {
            "marker": {
             "colorbar": {
              "outlinewidth": 0,
              "ticks": ""
             }
            },
            "type": "scattercarpet"
           }
          ],
          "scattergeo": [
           {
            "marker": {
             "colorbar": {
              "outlinewidth": 0,
              "ticks": ""
             }
            },
            "type": "scattergeo"
           }
          ],
          "scattergl": [
           {
            "marker": {
             "colorbar": {
              "outlinewidth": 0,
              "ticks": ""
             }
            },
            "type": "scattergl"
           }
          ],
          "scattermapbox": [
           {
            "marker": {
             "colorbar": {
              "outlinewidth": 0,
              "ticks": ""
             }
            },
            "type": "scattermapbox"
           }
          ],
          "scatterpolar": [
           {
            "marker": {
             "colorbar": {
              "outlinewidth": 0,
              "ticks": ""
             }
            },
            "type": "scatterpolar"
           }
          ],
          "scatterpolargl": [
           {
            "marker": {
             "colorbar": {
              "outlinewidth": 0,
              "ticks": ""
             }
            },
            "type": "scatterpolargl"
           }
          ],
          "scatterternary": [
           {
            "marker": {
             "colorbar": {
              "outlinewidth": 0,
              "ticks": ""
             }
            },
            "type": "scatterternary"
           }
          ],
          "surface": [
           {
            "colorbar": {
             "outlinewidth": 0,
             "ticks": ""
            },
            "colorscale": [
             [
              0,
              "#0d0887"
             ],
             [
              0.1111111111111111,
              "#46039f"
             ],
             [
              0.2222222222222222,
              "#7201a8"
             ],
             [
              0.3333333333333333,
              "#9c179e"
             ],
             [
              0.4444444444444444,
              "#bd3786"
             ],
             [
              0.5555555555555556,
              "#d8576b"
             ],
             [
              0.6666666666666666,
              "#ed7953"
             ],
             [
              0.7777777777777778,
              "#fb9f3a"
             ],
             [
              0.8888888888888888,
              "#fdca26"
             ],
             [
              1,
              "#f0f921"
             ]
            ],
            "type": "surface"
           }
          ],
          "table": [
           {
            "cells": {
             "fill": {
              "color": "#EBF0F8"
             },
             "line": {
              "color": "white"
             }
            },
            "header": {
             "fill": {
              "color": "#C8D4E3"
             },
             "line": {
              "color": "white"
             }
            },
            "type": "table"
           }
          ]
         },
         "layout": {
          "annotationdefaults": {
           "arrowcolor": "#2a3f5f",
           "arrowhead": 0,
           "arrowwidth": 1
          },
          "autotypenumbers": "strict",
          "coloraxis": {
           "colorbar": {
            "outlinewidth": 0,
            "ticks": ""
           }
          },
          "colorscale": {
           "diverging": [
            [
             0,
             "#8e0152"
            ],
            [
             0.1,
             "#c51b7d"
            ],
            [
             0.2,
             "#de77ae"
            ],
            [
             0.3,
             "#f1b6da"
            ],
            [
             0.4,
             "#fde0ef"
            ],
            [
             0.5,
             "#f7f7f7"
            ],
            [
             0.6,
             "#e6f5d0"
            ],
            [
             0.7,
             "#b8e186"
            ],
            [
             0.8,
             "#7fbc41"
            ],
            [
             0.9,
             "#4d9221"
            ],
            [
             1,
             "#276419"
            ]
           ],
           "sequential": [
            [
             0,
             "#0d0887"
            ],
            [
             0.1111111111111111,
             "#46039f"
            ],
            [
             0.2222222222222222,
             "#7201a8"
            ],
            [
             0.3333333333333333,
             "#9c179e"
            ],
            [
             0.4444444444444444,
             "#bd3786"
            ],
            [
             0.5555555555555556,
             "#d8576b"
            ],
            [
             0.6666666666666666,
             "#ed7953"
            ],
            [
             0.7777777777777778,
             "#fb9f3a"
            ],
            [
             0.8888888888888888,
             "#fdca26"
            ],
            [
             1,
             "#f0f921"
            ]
           ],
           "sequentialminus": [
            [
             0,
             "#0d0887"
            ],
            [
             0.1111111111111111,
             "#46039f"
            ],
            [
             0.2222222222222222,
             "#7201a8"
            ],
            [
             0.3333333333333333,
             "#9c179e"
            ],
            [
             0.4444444444444444,
             "#bd3786"
            ],
            [
             0.5555555555555556,
             "#d8576b"
            ],
            [
             0.6666666666666666,
             "#ed7953"
            ],
            [
             0.7777777777777778,
             "#fb9f3a"
            ],
            [
             0.8888888888888888,
             "#fdca26"
            ],
            [
             1,
             "#f0f921"
            ]
           ]
          },
          "colorway": [
           "#636efa",
           "#EF553B",
           "#00cc96",
           "#ab63fa",
           "#FFA15A",
           "#19d3f3",
           "#FF6692",
           "#B6E880",
           "#FF97FF",
           "#FECB52"
          ],
          "font": {
           "color": "#2a3f5f"
          },
          "geo": {
           "bgcolor": "white",
           "lakecolor": "white",
           "landcolor": "#E5ECF6",
           "showlakes": true,
           "showland": true,
           "subunitcolor": "white"
          },
          "hoverlabel": {
           "align": "left"
          },
          "hovermode": "closest",
          "mapbox": {
           "style": "light"
          },
          "paper_bgcolor": "white",
          "plot_bgcolor": "#E5ECF6",
          "polar": {
           "angularaxis": {
            "gridcolor": "white",
            "linecolor": "white",
            "ticks": ""
           },
           "bgcolor": "#E5ECF6",
           "radialaxis": {
            "gridcolor": "white",
            "linecolor": "white",
            "ticks": ""
           }
          },
          "scene": {
           "xaxis": {
            "backgroundcolor": "#E5ECF6",
            "gridcolor": "white",
            "gridwidth": 2,
            "linecolor": "white",
            "showbackground": true,
            "ticks": "",
            "zerolinecolor": "white"
           },
           "yaxis": {
            "backgroundcolor": "#E5ECF6",
            "gridcolor": "white",
            "gridwidth": 2,
            "linecolor": "white",
            "showbackground": true,
            "ticks": "",
            "zerolinecolor": "white"
           },
           "zaxis": {
            "backgroundcolor": "#E5ECF6",
            "gridcolor": "white",
            "gridwidth": 2,
            "linecolor": "white",
            "showbackground": true,
            "ticks": "",
            "zerolinecolor": "white"
           }
          },
          "shapedefaults": {
           "line": {
            "color": "#2a3f5f"
           }
          },
          "ternary": {
           "aaxis": {
            "gridcolor": "white",
            "linecolor": "white",
            "ticks": ""
           },
           "baxis": {
            "gridcolor": "white",
            "linecolor": "white",
            "ticks": ""
           },
           "bgcolor": "#E5ECF6",
           "caxis": {
            "gridcolor": "white",
            "linecolor": "white",
            "ticks": ""
           }
          },
          "title": {
           "x": 0.05
          },
          "xaxis": {
           "automargin": true,
           "gridcolor": "white",
           "linecolor": "white",
           "ticks": "",
           "title": {
            "standoff": 15
           },
           "zerolinecolor": "white",
           "zerolinewidth": 2
          },
          "yaxis": {
           "automargin": true,
           "gridcolor": "white",
           "linecolor": "white",
           "ticks": "",
           "title": {
            "standoff": 15
           },
           "zerolinecolor": "white",
           "zerolinewidth": 2
          }
         }
        },
        "xaxis": {
         "anchor": "y",
         "domain": [
          0,
          1
         ],
         "title": {
          "text": "x"
         }
        },
        "yaxis": {
         "anchor": "x",
         "domain": [
          0,
          1
         ],
         "title": {
          "text": "y"
         }
        }
       }
      }
     },
     "metadata": {},
     "output_type": "display_data"
    },
    {
     "name": "stdout",
     "output_type": "stream",
     "text": [
      "Model 4:  , kappa = 67.5627893885513\n"
     ]
    },
    {
     "data": {
      "application/vnd.plotly.v1+json": {
       "config": {
        "plotlyServerURL": "https://plot.ly"
       },
       "data": [
        {
         "alignmentgroup": "True",
         "hovertemplate": "x=%{x}<br>y=%{y}<extra></extra>",
         "legendgroup": "",
         "marker": {
          "color": "#636efa",
          "pattern": {
           "shape": ""
          }
         },
         "name": "",
         "offsetgroup": "",
         "orientation": "v",
         "showlegend": false,
         "textposition": "auto",
         "type": "bar",
         "x": [
          "'Precentral-L'",
          "'Precentral-R'",
          "'Frontal-Sup-L'",
          "'Frontal-Sup-R'",
          "'Frontal-Sup-Orb-L'",
          "'Frontal-Sup-Orb-R'",
          "'Frontal-Mid-L'",
          "'Frontal-Mid-R'",
          "'Frontal-Mid-Orb-L'",
          "'Frontal-Mid-Orb-R'",
          "'Frontal-Inf-Oper-L'",
          "'Frontal-Inf-Oper-R'",
          "'Frontal-Inf-Tri-L'",
          "'Frontal-Inf-Tri-R'",
          "'Frontal-Inf-Orb-L'",
          "'Frontal-Inf-Orb-R'",
          "'Rolandic-Oper-L'",
          "'Rolandic-Oper-R'",
          "'Supp-Motor-Area-L'",
          "'Supp-Motor-Area-R'",
          "'Olfactory-L'",
          "'Olfactory-R'",
          "'Frontal-Sup-Medial-L'",
          "'Frontal-Sup-Medial-R'",
          "'Frontal-Med-Orb-L'",
          "'Frontal-Med-Orb-R'",
          "'Rectus-L'",
          "'Rectus-R'",
          "'Insula-L'",
          "'Insula-R'",
          "'Cingulum-Ant-L'",
          "'Cingulum-Ant-R'",
          "'Cingulum-Mid-L'",
          "'Cingulum-Mid-R'",
          "'Cingulum-Post-L'",
          "'Cingulum-Post-R'",
          "'Hippocampus-L'",
          "'Hippocampus-R'",
          "'ParaHippocampal-L'",
          "'ParaHippocampal-R'",
          "'Amygdala-L'",
          "'Amygdala-R'",
          "'Calcarine-L'",
          "'Calcarine-R'",
          "'Cuneus-L'",
          "'Cuneus-R'",
          "'Lingual-L'",
          "'Lingual-R'",
          "'Occipital-Sup-L'",
          "'Occipital-Sup-R'",
          "'Occipital-Mid-L'",
          "'Occipital-Mid-R'",
          "'Occipital-Inf-L'",
          "'Occipital-Inf-R'",
          "'Fusiform-L'",
          "'Fusiform-R'",
          "'Postcentral-L'",
          "'Postcentral-R'",
          "'Parietal-Sup-L'",
          "'Parietal-Sup-R'",
          "'Parietal-Inf-L'",
          "'Parietal-Inf-R'",
          "'SupraMarginal-L'",
          "'SupraMarginal-R'",
          "'Angular-L'",
          "'Angular-R'",
          "'Precuneus-L'",
          "'Precuneus-R'",
          "'Paracentral-Lobule-L'",
          "'Paracentral-Lobule-R'",
          "'Caudate-L'",
          "'Caudate-R'",
          "'Putamen-L'",
          "'Putamen-R'",
          "'Pallidum-L'",
          "'Pallidum-R'",
          "'Thalamus-L'",
          "'Thalamus-R'",
          "'Heschl-L'",
          "'Heschl-R'",
          "'Temporal-Sup-L'",
          "'Temporal-Sup-R'",
          "'Temporal-Pole-Sup-L'",
          "'Temporal-Pole-Sup-R'",
          "'Temporal-Mid-L'",
          "'Temporal-Mid-R'",
          "'Temporal-Pole-Mid-L'",
          "'Temporal-Pole-Mid-R'",
          "'Temporal-Inf-L'",
          "'Temporal-Inf-R'"
         ],
         "xaxis": "x",
         "y": [
          0.02429720926312042,
          -0.04110803413953448,
          0.04874602327650874,
          0.04164305052051858,
          0.0826219588834078,
          0.058587910188165684,
          0.1376292505877658,
          0.12882571289518363,
          0.13953334653304406,
          0.14082829788513124,
          0.11988748432332288,
          0.12776830797487737,
          0.15107510772241134,
          0.12384534440637066,
          0.10636336440767927,
          0.11663320502806725,
          -0.1439199290008783,
          -0.13118193281144358,
          0.02751072236692131,
          -0.014409630390252138,
          -0.11030964660452436,
          -0.0953734917930854,
          0.021058136284517928,
          0.011003105134917304,
          -0.1150804085171885,
          -0.1222719341420877,
          -0.03374060622636684,
          -0.024309063689684596,
          -0.0808711718523126,
          -0.0955711198867409,
          -0.12095118992946392,
          -0.10194639874147135,
          -0.1537673654054624,
          -0.14796850007119988,
          -0.11919341859733293,
          -0.12060966555474362,
          -0.10064983757536097,
          -0.09267187385731224,
          -0.12339388643198064,
          -0.14612206987686524,
          -0.09990719496223589,
          -0.0903156685326007,
          -0.18299081130839623,
          -0.17349396859521138,
          -0.1817418519998369,
          -0.17130474520000227,
          -0.17781291199690508,
          -0.18446956048133886,
          -0.1406604125977925,
          -0.11114690375761432,
          -0.11208310930786078,
          -0.11429058799335928,
          -0.03973208056834483,
          -0.02074161754740589,
          -0.1430364137390345,
          -0.14010380867483835,
          -0.09066620393161347,
          -0.07727585427963182,
          0.013418484608153649,
          0.022670112819590176,
          0.14135300717567897,
          0.15827647864789973,
          -0.04289103498888437,
          -0.022846008403488653,
          0.05673101589456393,
          0.06575766521523714,
          -0.12926106382737668,
          -0.13649072544853794,
          -0.0337665366348245,
          -0.05596824544197271,
          0.0008212989275563688,
          -0.00025442976048262796,
          -0.06786843403885864,
          -0.07026599168862907,
          -0.009377919154466462,
          -0.0034645424310965553,
          -0.0908522939184713,
          -0.101689813571478,
          -0.1232170565722594,
          -0.12268932799915422,
          -0.1688545637704203,
          -0.1432215061704177,
          -0.06229977192264959,
          -0.09298937826418462,
          0.004483699096804218,
          0.0017808354626683918,
          -0.04802564734785496,
          -0.03540408420892057,
          0.07749035729133831,
          0.07180911131716836
         ],
         "yaxis": "y"
        }
       ],
       "layout": {
        "barmode": "relative",
        "legend": {
         "tracegroupgap": 0
        },
        "margin": {
         "t": 60
        },
        "template": {
         "data": {
          "bar": [
           {
            "error_x": {
             "color": "#2a3f5f"
            },
            "error_y": {
             "color": "#2a3f5f"
            },
            "marker": {
             "line": {
              "color": "#E5ECF6",
              "width": 0.5
             },
             "pattern": {
              "fillmode": "overlay",
              "size": 10,
              "solidity": 0.2
             }
            },
            "type": "bar"
           }
          ],
          "barpolar": [
           {
            "marker": {
             "line": {
              "color": "#E5ECF6",
              "width": 0.5
             },
             "pattern": {
              "fillmode": "overlay",
              "size": 10,
              "solidity": 0.2
             }
            },
            "type": "barpolar"
           }
          ],
          "carpet": [
           {
            "aaxis": {
             "endlinecolor": "#2a3f5f",
             "gridcolor": "white",
             "linecolor": "white",
             "minorgridcolor": "white",
             "startlinecolor": "#2a3f5f"
            },
            "baxis": {
             "endlinecolor": "#2a3f5f",
             "gridcolor": "white",
             "linecolor": "white",
             "minorgridcolor": "white",
             "startlinecolor": "#2a3f5f"
            },
            "type": "carpet"
           }
          ],
          "choropleth": [
           {
            "colorbar": {
             "outlinewidth": 0,
             "ticks": ""
            },
            "type": "choropleth"
           }
          ],
          "contour": [
           {
            "colorbar": {
             "outlinewidth": 0,
             "ticks": ""
            },
            "colorscale": [
             [
              0,
              "#0d0887"
             ],
             [
              0.1111111111111111,
              "#46039f"
             ],
             [
              0.2222222222222222,
              "#7201a8"
             ],
             [
              0.3333333333333333,
              "#9c179e"
             ],
             [
              0.4444444444444444,
              "#bd3786"
             ],
             [
              0.5555555555555556,
              "#d8576b"
             ],
             [
              0.6666666666666666,
              "#ed7953"
             ],
             [
              0.7777777777777778,
              "#fb9f3a"
             ],
             [
              0.8888888888888888,
              "#fdca26"
             ],
             [
              1,
              "#f0f921"
             ]
            ],
            "type": "contour"
           }
          ],
          "contourcarpet": [
           {
            "colorbar": {
             "outlinewidth": 0,
             "ticks": ""
            },
            "type": "contourcarpet"
           }
          ],
          "heatmap": [
           {
            "colorbar": {
             "outlinewidth": 0,
             "ticks": ""
            },
            "colorscale": [
             [
              0,
              "#0d0887"
             ],
             [
              0.1111111111111111,
              "#46039f"
             ],
             [
              0.2222222222222222,
              "#7201a8"
             ],
             [
              0.3333333333333333,
              "#9c179e"
             ],
             [
              0.4444444444444444,
              "#bd3786"
             ],
             [
              0.5555555555555556,
              "#d8576b"
             ],
             [
              0.6666666666666666,
              "#ed7953"
             ],
             [
              0.7777777777777778,
              "#fb9f3a"
             ],
             [
              0.8888888888888888,
              "#fdca26"
             ],
             [
              1,
              "#f0f921"
             ]
            ],
            "type": "heatmap"
           }
          ],
          "heatmapgl": [
           {
            "colorbar": {
             "outlinewidth": 0,
             "ticks": ""
            },
            "colorscale": [
             [
              0,
              "#0d0887"
             ],
             [
              0.1111111111111111,
              "#46039f"
             ],
             [
              0.2222222222222222,
              "#7201a8"
             ],
             [
              0.3333333333333333,
              "#9c179e"
             ],
             [
              0.4444444444444444,
              "#bd3786"
             ],
             [
              0.5555555555555556,
              "#d8576b"
             ],
             [
              0.6666666666666666,
              "#ed7953"
             ],
             [
              0.7777777777777778,
              "#fb9f3a"
             ],
             [
              0.8888888888888888,
              "#fdca26"
             ],
             [
              1,
              "#f0f921"
             ]
            ],
            "type": "heatmapgl"
           }
          ],
          "histogram": [
           {
            "marker": {
             "pattern": {
              "fillmode": "overlay",
              "size": 10,
              "solidity": 0.2
             }
            },
            "type": "histogram"
           }
          ],
          "histogram2d": [
           {
            "colorbar": {
             "outlinewidth": 0,
             "ticks": ""
            },
            "colorscale": [
             [
              0,
              "#0d0887"
             ],
             [
              0.1111111111111111,
              "#46039f"
             ],
             [
              0.2222222222222222,
              "#7201a8"
             ],
             [
              0.3333333333333333,
              "#9c179e"
             ],
             [
              0.4444444444444444,
              "#bd3786"
             ],
             [
              0.5555555555555556,
              "#d8576b"
             ],
             [
              0.6666666666666666,
              "#ed7953"
             ],
             [
              0.7777777777777778,
              "#fb9f3a"
             ],
             [
              0.8888888888888888,
              "#fdca26"
             ],
             [
              1,
              "#f0f921"
             ]
            ],
            "type": "histogram2d"
           }
          ],
          "histogram2dcontour": [
           {
            "colorbar": {
             "outlinewidth": 0,
             "ticks": ""
            },
            "colorscale": [
             [
              0,
              "#0d0887"
             ],
             [
              0.1111111111111111,
              "#46039f"
             ],
             [
              0.2222222222222222,
              "#7201a8"
             ],
             [
              0.3333333333333333,
              "#9c179e"
             ],
             [
              0.4444444444444444,
              "#bd3786"
             ],
             [
              0.5555555555555556,
              "#d8576b"
             ],
             [
              0.6666666666666666,
              "#ed7953"
             ],
             [
              0.7777777777777778,
              "#fb9f3a"
             ],
             [
              0.8888888888888888,
              "#fdca26"
             ],
             [
              1,
              "#f0f921"
             ]
            ],
            "type": "histogram2dcontour"
           }
          ],
          "mesh3d": [
           {
            "colorbar": {
             "outlinewidth": 0,
             "ticks": ""
            },
            "type": "mesh3d"
           }
          ],
          "parcoords": [
           {
            "line": {
             "colorbar": {
              "outlinewidth": 0,
              "ticks": ""
             }
            },
            "type": "parcoords"
           }
          ],
          "pie": [
           {
            "automargin": true,
            "type": "pie"
           }
          ],
          "scatter": [
           {
            "fillpattern": {
             "fillmode": "overlay",
             "size": 10,
             "solidity": 0.2
            },
            "type": "scatter"
           }
          ],
          "scatter3d": [
           {
            "line": {
             "colorbar": {
              "outlinewidth": 0,
              "ticks": ""
             }
            },
            "marker": {
             "colorbar": {
              "outlinewidth": 0,
              "ticks": ""
             }
            },
            "type": "scatter3d"
           }
          ],
          "scattercarpet": [
           {
            "marker": {
             "colorbar": {
              "outlinewidth": 0,
              "ticks": ""
             }
            },
            "type": "scattercarpet"
           }
          ],
          "scattergeo": [
           {
            "marker": {
             "colorbar": {
              "outlinewidth": 0,
              "ticks": ""
             }
            },
            "type": "scattergeo"
           }
          ],
          "scattergl": [
           {
            "marker": {
             "colorbar": {
              "outlinewidth": 0,
              "ticks": ""
             }
            },
            "type": "scattergl"
           }
          ],
          "scattermapbox": [
           {
            "marker": {
             "colorbar": {
              "outlinewidth": 0,
              "ticks": ""
             }
            },
            "type": "scattermapbox"
           }
          ],
          "scatterpolar": [
           {
            "marker": {
             "colorbar": {
              "outlinewidth": 0,
              "ticks": ""
             }
            },
            "type": "scatterpolar"
           }
          ],
          "scatterpolargl": [
           {
            "marker": {
             "colorbar": {
              "outlinewidth": 0,
              "ticks": ""
             }
            },
            "type": "scatterpolargl"
           }
          ],
          "scatterternary": [
           {
            "marker": {
             "colorbar": {
              "outlinewidth": 0,
              "ticks": ""
             }
            },
            "type": "scatterternary"
           }
          ],
          "surface": [
           {
            "colorbar": {
             "outlinewidth": 0,
             "ticks": ""
            },
            "colorscale": [
             [
              0,
              "#0d0887"
             ],
             [
              0.1111111111111111,
              "#46039f"
             ],
             [
              0.2222222222222222,
              "#7201a8"
             ],
             [
              0.3333333333333333,
              "#9c179e"
             ],
             [
              0.4444444444444444,
              "#bd3786"
             ],
             [
              0.5555555555555556,
              "#d8576b"
             ],
             [
              0.6666666666666666,
              "#ed7953"
             ],
             [
              0.7777777777777778,
              "#fb9f3a"
             ],
             [
              0.8888888888888888,
              "#fdca26"
             ],
             [
              1,
              "#f0f921"
             ]
            ],
            "type": "surface"
           }
          ],
          "table": [
           {
            "cells": {
             "fill": {
              "color": "#EBF0F8"
             },
             "line": {
              "color": "white"
             }
            },
            "header": {
             "fill": {
              "color": "#C8D4E3"
             },
             "line": {
              "color": "white"
             }
            },
            "type": "table"
           }
          ]
         },
         "layout": {
          "annotationdefaults": {
           "arrowcolor": "#2a3f5f",
           "arrowhead": 0,
           "arrowwidth": 1
          },
          "autotypenumbers": "strict",
          "coloraxis": {
           "colorbar": {
            "outlinewidth": 0,
            "ticks": ""
           }
          },
          "colorscale": {
           "diverging": [
            [
             0,
             "#8e0152"
            ],
            [
             0.1,
             "#c51b7d"
            ],
            [
             0.2,
             "#de77ae"
            ],
            [
             0.3,
             "#f1b6da"
            ],
            [
             0.4,
             "#fde0ef"
            ],
            [
             0.5,
             "#f7f7f7"
            ],
            [
             0.6,
             "#e6f5d0"
            ],
            [
             0.7,
             "#b8e186"
            ],
            [
             0.8,
             "#7fbc41"
            ],
            [
             0.9,
             "#4d9221"
            ],
            [
             1,
             "#276419"
            ]
           ],
           "sequential": [
            [
             0,
             "#0d0887"
            ],
            [
             0.1111111111111111,
             "#46039f"
            ],
            [
             0.2222222222222222,
             "#7201a8"
            ],
            [
             0.3333333333333333,
             "#9c179e"
            ],
            [
             0.4444444444444444,
             "#bd3786"
            ],
            [
             0.5555555555555556,
             "#d8576b"
            ],
            [
             0.6666666666666666,
             "#ed7953"
            ],
            [
             0.7777777777777778,
             "#fb9f3a"
            ],
            [
             0.8888888888888888,
             "#fdca26"
            ],
            [
             1,
             "#f0f921"
            ]
           ],
           "sequentialminus": [
            [
             0,
             "#0d0887"
            ],
            [
             0.1111111111111111,
             "#46039f"
            ],
            [
             0.2222222222222222,
             "#7201a8"
            ],
            [
             0.3333333333333333,
             "#9c179e"
            ],
            [
             0.4444444444444444,
             "#bd3786"
            ],
            [
             0.5555555555555556,
             "#d8576b"
            ],
            [
             0.6666666666666666,
             "#ed7953"
            ],
            [
             0.7777777777777778,
             "#fb9f3a"
            ],
            [
             0.8888888888888888,
             "#fdca26"
            ],
            [
             1,
             "#f0f921"
            ]
           ]
          },
          "colorway": [
           "#636efa",
           "#EF553B",
           "#00cc96",
           "#ab63fa",
           "#FFA15A",
           "#19d3f3",
           "#FF6692",
           "#B6E880",
           "#FF97FF",
           "#FECB52"
          ],
          "font": {
           "color": "#2a3f5f"
          },
          "geo": {
           "bgcolor": "white",
           "lakecolor": "white",
           "landcolor": "#E5ECF6",
           "showlakes": true,
           "showland": true,
           "subunitcolor": "white"
          },
          "hoverlabel": {
           "align": "left"
          },
          "hovermode": "closest",
          "mapbox": {
           "style": "light"
          },
          "paper_bgcolor": "white",
          "plot_bgcolor": "#E5ECF6",
          "polar": {
           "angularaxis": {
            "gridcolor": "white",
            "linecolor": "white",
            "ticks": ""
           },
           "bgcolor": "#E5ECF6",
           "radialaxis": {
            "gridcolor": "white",
            "linecolor": "white",
            "ticks": ""
           }
          },
          "scene": {
           "xaxis": {
            "backgroundcolor": "#E5ECF6",
            "gridcolor": "white",
            "gridwidth": 2,
            "linecolor": "white",
            "showbackground": true,
            "ticks": "",
            "zerolinecolor": "white"
           },
           "yaxis": {
            "backgroundcolor": "#E5ECF6",
            "gridcolor": "white",
            "gridwidth": 2,
            "linecolor": "white",
            "showbackground": true,
            "ticks": "",
            "zerolinecolor": "white"
           },
           "zaxis": {
            "backgroundcolor": "#E5ECF6",
            "gridcolor": "white",
            "gridwidth": 2,
            "linecolor": "white",
            "showbackground": true,
            "ticks": "",
            "zerolinecolor": "white"
           }
          },
          "shapedefaults": {
           "line": {
            "color": "#2a3f5f"
           }
          },
          "ternary": {
           "aaxis": {
            "gridcolor": "white",
            "linecolor": "white",
            "ticks": ""
           },
           "baxis": {
            "gridcolor": "white",
            "linecolor": "white",
            "ticks": ""
           },
           "bgcolor": "#E5ECF6",
           "caxis": {
            "gridcolor": "white",
            "linecolor": "white",
            "ticks": ""
           }
          },
          "title": {
           "x": 0.05
          },
          "xaxis": {
           "automargin": true,
           "gridcolor": "white",
           "linecolor": "white",
           "ticks": "",
           "title": {
            "standoff": 15
           },
           "zerolinecolor": "white",
           "zerolinewidth": 2
          },
          "yaxis": {
           "automargin": true,
           "gridcolor": "white",
           "linecolor": "white",
           "ticks": "",
           "title": {
            "standoff": 15
           },
           "zerolinecolor": "white",
           "zerolinewidth": 2
          }
         }
        },
        "xaxis": {
         "anchor": "y",
         "domain": [
          0,
          1
         ],
         "title": {
          "text": "x"
         }
        },
        "yaxis": {
         "anchor": "x",
         "domain": [
          0,
          1
         ],
         "title": {
          "text": "y"
         }
        }
       }
      }
     },
     "metadata": {},
     "output_type": "display_data"
    }
   ],
   "source": [
    "import pandas as pd\n",
    "labels = pd.read_csv(\"AALlabels.csv\")\n",
    "label=labels['labels'].values\n",
    "import plotly.express as px\n",
    "for model in range(K):\n",
    "    print(f\"Model {model}:  , kappa = {kappa_est[model]}\")\n",
    "    fig = px.bar(y=mu_est[:,model].detach().numpy(),x=label)\n",
    "    #fig.update_layout(width=300)\n",
    "    fig.show()"
   ]
  }
 ],
 "metadata": {
  "kernelspec": {
   "display_name": "Python 3.9.13 ('ml')",
   "language": "python",
   "name": "python3"
  },
  "language_info": {
   "codemirror_mode": {
    "name": "ipython",
    "version": 3
   },
   "file_extension": ".py",
   "mimetype": "text/x-python",
   "name": "python",
   "nbconvert_exporter": "python",
   "pygments_lexer": "ipython3",
   "version": "3.9.12"
  },
  "orig_nbformat": 4,
  "vscode": {
   "interpreter": {
    "hash": "31d7989649452b8ff5b252a3e34caf45e4ffd8a5787fe28fc2ce0245f11b7782"
   }
  }
 },
 "nbformat": 4,
 "nbformat_minor": 2
}
