{
 "cells": [
  {
   "cell_type": "code",
   "execution_count": 1,
   "metadata": {},
   "outputs": [],
   "source": [
    "import torch\n",
    "import numpy as np\n",
    "import pickle\n",
    "\n",
    "from HMM_Likelyhood import HMM_log_likelihood,Optimizationloop, InitializeParameters,Accumulated_HHM_LL\n",
    "import LogLikelihoodTorch\n",
    "\n",
    "\n",
    "with open('.DataPhase.pickle','rb') as f:\n",
    "    X = pickle.load(f) \n",
    "X_tensor = X_tensor = torch.from_numpy(X).to(torch.float64)\n",
    "#X_tensor = torch.reshape(X_tensor.T,(-1,90,330))\n",
    "torch.set_default_dtype(torch.float64)"
   ]
  },
  {
   "cell_type": "code",
   "execution_count": 15,
   "metadata": {},
   "outputs": [],
   "source": [
    "def HMM_Optimization(X,kappa,mu,Tk,Pinit,learning_rate,Subjects,n_iters,K):\n",
    "    \n",
    "\n",
    "    # Initialize MixtureModel of MWD's to gain e good estimate for HMM\n",
    "    pi =torch.tensor([1/K for _ in range(K)],requires_grad=True)\n",
    "\n",
    "    Parameters_torch = [\n",
    "    {'params':pi},\n",
    "    {'params':kappa},\n",
    "    {'params':mu},\n",
    "    ]\n",
    "    AdamTorch = torch.optim.Adam(Parameters_torch,lr=0.8)\n",
    "    Pi_fit,Kappa_fit,mu_fit = LogLikelihoodTorch.Optimizationloop(X,[pi,kappa,mu],lose=LogLikelihoodTorch.log_likelihood,Optimizer=AdamTorch,n_iters=2500,K=K)\n",
    "\n",
    "\n",
    "    Parameters_HMM= [\n",
    "    {'params':Pinit},\n",
    "    {'params':Kappa_fit},\n",
    "    {'params':mu_fit},\n",
    "    {'params':Tk},\n",
    "    ]\n",
    "\n",
    "    AdamHMM=torch.optim.Adam(Parameters_HMM,lr=learning_rate)\n",
    "    AdamHMM.zero_grad()\n",
    "    Pinit_fit,Kappa_fit,mu_fit,Tk_fit = Optimizationloop(X_tensor,[Pinit,Kappa_fit,mu_fit,Tk],lose=Accumulated_HHM_LL,Optimizer=AdamHMM,n=Subjects,n_iters=n_iters,K=K)\n",
    "\n",
    "\n",
    "\n",
    "    return Pinit_fit,Kappa_fit,mu_fit,Tk_fit"
   ]
  },
  {
   "cell_type": "code",
   "execution_count": 16,
   "metadata": {},
   "outputs": [
    {
     "name": "stdout",
     "output_type": "stream",
     "text": [
      "epoch 1; Log-Likelihood = -5529651.945966571\n",
      "epoch 101; Log-Likelihood = -6211214.377157628\n",
      "epoch 201; Log-Likelihood = -6211170.850741458\n",
      "epoch 301; Log-Likelihood = -6282766.537617215\n",
      "epoch 401; Log-Likelihood = -6323837.7539714435\n",
      "epoch 501; Log-Likelihood = -6403701.06292844\n",
      "epoch 601; Log-Likelihood = -6453248.411966923\n",
      "epoch 701; Log-Likelihood = -6502291.700331236\n",
      "epoch 801; Log-Likelihood = -6549304.375067535\n",
      "epoch 901; Log-Likelihood = -6594572.036931935\n",
      "epoch 1001; Log-Likelihood = -6638415.278768824\n",
      "epoch 1101; Log-Likelihood = -6681177.877256498\n",
      "epoch 1201; Log-Likelihood = -6706960.088115221\n",
      "epoch 1301; Log-Likelihood = -6706963.868642068\n",
      "epoch 1401; Log-Likelihood = -6706968.315672187\n",
      "epoch 1501; Log-Likelihood = -6706968.208540375\n",
      "epoch 1601; Log-Likelihood = -6706963.045632873\n",
      "epoch 1701; Log-Likelihood = -6706928.219576255\n",
      "epoch 1801; Log-Likelihood = -6706965.583933014\n",
      "epoch 1901; Log-Likelihood = -6706964.818580173\n",
      "epoch 2001; Log-Likelihood = -6706962.442578779\n",
      "epoch 2101; Log-Likelihood = -6706949.969623955\n",
      "epoch 2201; Log-Likelihood = -6706950.876168535\n",
      "epoch 2301; Log-Likelihood = -6706962.824448567\n",
      "epoch 2401; Log-Likelihood = -6706958.435120708\n"
     ]
    },
    {
     "ename": "AttributeError",
     "evalue": "'Tensor' object has no attribute 'zero_grad'",
     "output_type": "error",
     "traceback": [
      "\u001b[0;31m---------------------------------------------------------------------------\u001b[0m",
      "\u001b[0;31mAttributeError\u001b[0m                            Traceback (most recent call last)",
      "\u001b[1;32m/Users/magnusharder/Documents/UNI-DTU/4. Semester/Fagprojekt-f-mri/HMM/HMM.ipynb Cell 3'\u001b[0m in \u001b[0;36m<cell line: 6>\u001b[0;34m()\u001b[0m\n\u001b[1;32m      <a href='vscode-notebook-cell:/Users/magnusharder/Documents/UNI-DTU/4.%20Semester/Fagprojekt-f-mri/HMM/HMM.ipynb#ch0000010?line=2'>3</a>\u001b[0m Subjects \u001b[39m=\u001b[39m \u001b[39m199\u001b[39m\n\u001b[1;32m      <a href='vscode-notebook-cell:/Users/magnusharder/Documents/UNI-DTU/4.%20Semester/Fagprojekt-f-mri/HMM/HMM.ipynb#ch0000010?line=4'>5</a>\u001b[0m kappa,mu,Tk,Pinit \u001b[39m=\u001b[39m InitializeParameters(Subjects,p,K)\n\u001b[0;32m----> <a href='vscode-notebook-cell:/Users/magnusharder/Documents/UNI-DTU/4.%20Semester/Fagprojekt-f-mri/HMM/HMM.ipynb#ch0000010?line=5'>6</a>\u001b[0m Pinit_fit,Kappa_fit,mu_fit,Tk_fit \u001b[39m=\u001b[39m HMM_Optimization(X_tensor,kappa,mu,Tk,Pinit,\u001b[39m0.4\u001b[39;49m,Subjects,\u001b[39m500\u001b[39;49m,K)\n",
      "\u001b[1;32m/Users/magnusharder/Documents/UNI-DTU/4. Semester/Fagprojekt-f-mri/HMM/HMM.ipynb Cell 2'\u001b[0m in \u001b[0;36mHMM_Optimization\u001b[0;34m(X, kappa, mu, Tk, Pinit, learning_rate, Subjects, n_iters, K)\u001b[0m\n\u001b[1;32m     <a href='vscode-notebook-cell:/Users/magnusharder/Documents/UNI-DTU/4.%20Semester/Fagprojekt-f-mri/HMM/HMM.ipynb#ch0000009?line=11'>12</a>\u001b[0m AdamTorch \u001b[39m=\u001b[39m torch\u001b[39m.\u001b[39moptim\u001b[39m.\u001b[39mAdam(Parameters_torch,lr\u001b[39m=\u001b[39m\u001b[39m0.8\u001b[39m)\n\u001b[1;32m     <a href='vscode-notebook-cell:/Users/magnusharder/Documents/UNI-DTU/4.%20Semester/Fagprojekt-f-mri/HMM/HMM.ipynb#ch0000009?line=12'>13</a>\u001b[0m Pi_fit,Kappa_fit,mu_fit \u001b[39m=\u001b[39m LogLikelihoodTorch\u001b[39m.\u001b[39mOptimizationloop(X,[pi,kappa,mu],lose\u001b[39m=\u001b[39mLogLikelihoodTorch\u001b[39m.\u001b[39mlog_likelihood,Optimizer\u001b[39m=\u001b[39mAdamTorch,n_iters\u001b[39m=\u001b[39m\u001b[39m2500\u001b[39m,K\u001b[39m=\u001b[39mK)\n\u001b[0;32m---> <a href='vscode-notebook-cell:/Users/magnusharder/Documents/UNI-DTU/4.%20Semester/Fagprojekt-f-mri/HMM/HMM.ipynb#ch0000009?line=13'>14</a>\u001b[0m Kappa_fit\u001b[39m.\u001b[39;49mzero_grad()\n\u001b[1;32m     <a href='vscode-notebook-cell:/Users/magnusharder/Documents/UNI-DTU/4.%20Semester/Fagprojekt-f-mri/HMM/HMM.ipynb#ch0000009?line=14'>15</a>\u001b[0m mu_fit\u001b[39m.\u001b[39mzero_grad()\n\u001b[1;32m     <a href='vscode-notebook-cell:/Users/magnusharder/Documents/UNI-DTU/4.%20Semester/Fagprojekt-f-mri/HMM/HMM.ipynb#ch0000009?line=16'>17</a>\u001b[0m Parameters_HMM\u001b[39m=\u001b[39m [\n\u001b[1;32m     <a href='vscode-notebook-cell:/Users/magnusharder/Documents/UNI-DTU/4.%20Semester/Fagprojekt-f-mri/HMM/HMM.ipynb#ch0000009?line=17'>18</a>\u001b[0m {\u001b[39m'\u001b[39m\u001b[39mparams\u001b[39m\u001b[39m'\u001b[39m:Pinit},\n\u001b[1;32m     <a href='vscode-notebook-cell:/Users/magnusharder/Documents/UNI-DTU/4.%20Semester/Fagprojekt-f-mri/HMM/HMM.ipynb#ch0000009?line=18'>19</a>\u001b[0m {\u001b[39m'\u001b[39m\u001b[39mparams\u001b[39m\u001b[39m'\u001b[39m:Kappa_fit},\n\u001b[1;32m     <a href='vscode-notebook-cell:/Users/magnusharder/Documents/UNI-DTU/4.%20Semester/Fagprojekt-f-mri/HMM/HMM.ipynb#ch0000009?line=19'>20</a>\u001b[0m {\u001b[39m'\u001b[39m\u001b[39mparams\u001b[39m\u001b[39m'\u001b[39m:mu_fit},\n\u001b[1;32m     <a href='vscode-notebook-cell:/Users/magnusharder/Documents/UNI-DTU/4.%20Semester/Fagprojekt-f-mri/HMM/HMM.ipynb#ch0000009?line=20'>21</a>\u001b[0m {\u001b[39m'\u001b[39m\u001b[39mparams\u001b[39m\u001b[39m'\u001b[39m:Tk},\n\u001b[1;32m     <a href='vscode-notebook-cell:/Users/magnusharder/Documents/UNI-DTU/4.%20Semester/Fagprojekt-f-mri/HMM/HMM.ipynb#ch0000009?line=21'>22</a>\u001b[0m ]\n",
      "\u001b[0;31mAttributeError\u001b[0m: 'Tensor' object has no attribute 'zero_grad'"
     ]
    }
   ],
   "source": [
    "K=5\n",
    "p=90\n",
    "Subjects = 199\n",
    "\n",
    "kappa,mu,Tk,Pinit = InitializeParameters(Subjects,p,K)\n",
    "Pinit_fit,Kappa_fit,mu_fit,Tk_fit = HMM_Optimization(X_tensor,kappa,mu,Tk,Pinit,0.4,Subjects,500,K)"
   ]
  },
  {
   "cell_type": "code",
   "execution_count": 2,
   "metadata": {},
   "outputs": [],
   "source": [
    "# Initialize parameters to tune:\n",
    "K=5\n",
    "p=90\n",
    "Subjects = 199\n",
    "\n",
    "kappa,mu,Tk,Pinit = InitializeParameters(Subjects,p,K)\n",
    "\n",
    "learning_rate = 0.4\n",
    "n_iters = 500\n",
    "\n",
    "torch.autograd.set_detect_anomaly(False)\n",
    "Parameters = [\n",
    "    {'params':Pinit},\n",
    "    {'params':kappa},\n",
    "    {'params':mu},\n",
    "    {'params':Tk},\n",
    "]\n",
    "\n",
    "Adam = torch.optim.Adam(Parameters,lr=learning_rate)\n",
    "\n",
    "\n",
    "# pi.to(device)\n",
    "# mu.to(device)\n",
    "# kappa.to(device)\n",
    "# Tk.to(device)\n",
    "# X_tensor.to(device)"
   ]
  },
  {
   "cell_type": "code",
   "execution_count": 3,
   "metadata": {},
   "outputs": [
    {
     "name": "stdout",
     "output_type": "stream",
     "text": [
      "epoch 1; Log-Likelihood = -4801213.798400863\n",
      "epoch 2; Log-Likelihood = -4807727.016851751\n",
      "epoch 3; Log-Likelihood = -4827094.726926308\n",
      "epoch 4; Log-Likelihood = -4857556.9722787645\n",
      "epoch 5; Log-Likelihood = -4892370.691269308\n",
      "epoch 6; Log-Likelihood = -4928949.282963748\n",
      "epoch 7; Log-Likelihood = -4966246.614706213\n",
      "epoch 8; Log-Likelihood = -5003464.027385467\n",
      "epoch 9; Log-Likelihood = -5040461.327512468\n",
      "epoch 10; Log-Likelihood = -5078122.055316435\n",
      "epoch 11; Log-Likelihood = -5116249.622801734\n",
      "epoch 12; Log-Likelihood = -5154596.4666617755\n",
      "epoch 13; Log-Likelihood = -5193896.158077509\n",
      "epoch 14; Log-Likelihood = -5233899.786782889\n",
      "epoch 15; Log-Likelihood = -5273806.036404819\n",
      "epoch 16; Log-Likelihood = -5313826.376449587\n",
      "epoch 17; Log-Likelihood = -5353806.501921997\n",
      "epoch 18; Log-Likelihood = -5394141.354606332\n",
      "epoch 19; Log-Likelihood = -5434646.57195493\n",
      "epoch 20; Log-Likelihood = -5475328.155632332\n",
      "epoch 21; Log-Likelihood = -5516655.237475568\n",
      "epoch 22; Log-Likelihood = -5557862.134612344\n",
      "epoch 23; Log-Likelihood = -5601816.526575345\n",
      "epoch 24; Log-Likelihood = -5643929.185246703\n",
      "epoch 25; Log-Likelihood = -5686216.701080173\n",
      "epoch 26; Log-Likelihood = -5728577.755293421\n",
      "epoch 27; Log-Likelihood = -5770914.643948786\n",
      "epoch 28; Log-Likelihood = -5813272.529007584\n",
      "epoch 29; Log-Likelihood = -5855612.222042372\n",
      "epoch 30; Log-Likelihood = -5897949.252824239\n",
      "epoch 31; Log-Likelihood = -5940436.880765559\n",
      "epoch 32; Log-Likelihood = -5982948.852524038\n",
      "epoch 33; Log-Likelihood = -6025706.041836362\n",
      "epoch 34; Log-Likelihood = -6068671.844260849\n",
      "epoch 35; Log-Likelihood = -6111940.399781154\n",
      "epoch 36; Log-Likelihood = -6154949.551821088\n",
      "epoch 37; Log-Likelihood = -6198147.90021409\n",
      "epoch 38; Log-Likelihood = -6241785.613810059\n",
      "epoch 39; Log-Likelihood = -6285735.988130354\n",
      "epoch 40; Log-Likelihood = -6329925.032451506\n",
      "epoch 41; Log-Likelihood = -6374159.947796246\n",
      "epoch 42; Log-Likelihood = -6418671.051863568\n",
      "epoch 43; Log-Likelihood = -6463454.211726492\n",
      "epoch 44; Log-Likelihood = -6508891.356592674\n",
      "epoch 45; Log-Likelihood = -6553788.716168228\n",
      "epoch 46; Log-Likelihood = -6599751.412814639\n",
      "epoch 47; Log-Likelihood = -6644844.665326382\n",
      "epoch 48; Log-Likelihood = -6690828.879573456\n",
      "epoch 49; Log-Likelihood = -6737401.079175245\n",
      "epoch 50; Log-Likelihood = -6784032.033588117\n",
      "epoch 51; Log-Likelihood = -6830530.769031042\n",
      "epoch 52; Log-Likelihood = -6877480.9058996895\n",
      "epoch 53; Log-Likelihood = -6923813.264531383\n",
      "epoch 54; Log-Likelihood = -6970083.445069372\n",
      "epoch 55; Log-Likelihood = -7016525.48734623\n",
      "epoch 56; Log-Likelihood = -7064265.199384841\n",
      "epoch 57; Log-Likelihood = -7111908.888614075\n",
      "epoch 58; Log-Likelihood = -7159135.075085186\n",
      "epoch 59; Log-Likelihood = -7207496.55743742\n",
      "epoch 60; Log-Likelihood = -7255576.128957249\n",
      "epoch 61; Log-Likelihood = -7305039.2851209\n",
      "epoch 62; Log-Likelihood = -7353780.615603404\n",
      "epoch 63; Log-Likelihood = -7402628.317312524\n",
      "epoch 64; Log-Likelihood = -7450137.814114612\n",
      "epoch 65; Log-Likelihood = -7497258.048593426\n",
      "epoch 66; Log-Likelihood = -7544728.850278771\n",
      "epoch 67; Log-Likelihood = -7592941.415848925\n",
      "epoch 68; Log-Likelihood = -7641255.854857141\n",
      "epoch 69; Log-Likelihood = -7689922.537269439\n",
      "epoch 70; Log-Likelihood = -7738765.808415267\n",
      "epoch 71; Log-Likelihood = -7788152.836926423\n",
      "epoch 72; Log-Likelihood = -7838116.067082352\n",
      "epoch 73; Log-Likelihood = -7887962.786183413\n",
      "epoch 74; Log-Likelihood = -7937907.382708656\n",
      "epoch 75; Log-Likelihood = -7987844.5149854785\n",
      "epoch 76; Log-Likelihood = -8037927.576998205\n",
      "epoch 77; Log-Likelihood = -8088019.353082901\n",
      "epoch 78; Log-Likelihood = -8137864.700843618\n",
      "epoch 79; Log-Likelihood = -8187559.517775302\n",
      "epoch 80; Log-Likelihood = -8237159.371261516\n",
      "epoch 81; Log-Likelihood = -8286776.755839037\n",
      "epoch 82; Log-Likelihood = -8336464.664429026\n",
      "epoch 83; Log-Likelihood = -8386115.689167256\n",
      "epoch 84; Log-Likelihood = -8435912.54593567\n",
      "epoch 85; Log-Likelihood = -8485517.438640362\n",
      "epoch 86; Log-Likelihood = -8534919.948635474\n",
      "epoch 87; Log-Likelihood = -8584500.806388492\n",
      "epoch 88; Log-Likelihood = -8634470.207576822\n",
      "epoch 89; Log-Likelihood = -8684335.375497948\n",
      "epoch 90; Log-Likelihood = -8734115.139498625\n",
      "epoch 91; Log-Likelihood = -8784102.726605874\n",
      "epoch 92; Log-Likelihood = -8834009.992482368\n",
      "epoch 93; Log-Likelihood = -8884064.436696257\n",
      "epoch 94; Log-Likelihood = -8933945.70074382\n",
      "epoch 95; Log-Likelihood = -8984100.095412422\n",
      "epoch 96; Log-Likelihood = -9034712.439957462\n",
      "epoch 97; Log-Likelihood = -9085816.736291435\n",
      "epoch 98; Log-Likelihood = -9135891.288818575\n",
      "epoch 99; Log-Likelihood = -9186241.770387502\n",
      "epoch 100; Log-Likelihood = -9234655.387121018\n",
      "epoch 101; Log-Likelihood = -9280737.221251175\n",
      "epoch 102; Log-Likelihood = -9326674.676041735\n",
      "epoch 103; Log-Likelihood = -9372446.074678566\n",
      "epoch 104; Log-Likelihood = -9419577.891247898\n",
      "epoch 105; Log-Likelihood = -9467506.136365227\n",
      "epoch 106; Log-Likelihood = -9516209.450096017\n",
      "epoch 107; Log-Likelihood = -9565816.360206515\n",
      "epoch 108; Log-Likelihood = -9615563.085346187\n",
      "epoch 109; Log-Likelihood = -9667290.547317544\n",
      "epoch 110; Log-Likelihood = -9717957.301714491\n",
      "epoch 111; Log-Likelihood = -9768204.145702682\n",
      "epoch 112; Log-Likelihood = -9818881.377972312\n",
      "epoch 113; Log-Likelihood = -9869690.25166637\n",
      "epoch 114; Log-Likelihood = -9920387.779857507\n",
      "epoch 115; Log-Likelihood = -9970973.301407192\n",
      "epoch 116; Log-Likelihood = -10021681.908126656\n",
      "epoch 117; Log-Likelihood = -10075079.183306599\n",
      "epoch 118; Log-Likelihood = -10127507.633649882\n",
      "epoch 119; Log-Likelihood = -10180170.218657013\n",
      "epoch 120; Log-Likelihood = -10232816.499424884\n",
      "epoch 121; Log-Likelihood = -10285834.608958479\n",
      "epoch 122; Log-Likelihood = -10338571.918419695\n",
      "epoch 123; Log-Likelihood = -10391599.652580742\n",
      "epoch 124; Log-Likelihood = -10444896.565459996\n",
      "epoch 125; Log-Likelihood = -10498069.971037693\n",
      "epoch 126; Log-Likelihood = -10551531.72881271\n",
      "epoch 127; Log-Likelihood = -10604722.11062957\n",
      "epoch 128; Log-Likelihood = -10657974.475014094\n",
      "epoch 129; Log-Likelihood = -10711216.806818767\n",
      "epoch 130; Log-Likelihood = -10764510.268652625\n",
      "epoch 131; Log-Likelihood = -10817847.323298745\n",
      "epoch 132; Log-Likelihood = -10871161.902143344\n",
      "epoch 133; Log-Likelihood = -10924519.991784463\n",
      "epoch 134; Log-Likelihood = -10977784.98392428\n",
      "epoch 135; Log-Likelihood = -11030945.45248936\n",
      "epoch 136; Log-Likelihood = -11084367.51389444\n",
      "epoch 137; Log-Likelihood = -11137562.4285842\n",
      "epoch 138; Log-Likelihood = -11190463.560262632\n",
      "epoch 139; Log-Likelihood = -11243312.360306952\n",
      "epoch 140; Log-Likelihood = -11296324.639167078\n",
      "epoch 141; Log-Likelihood = -11349223.837778987\n",
      "epoch 142; Log-Likelihood = -11401954.41078233\n",
      "epoch 143; Log-Likelihood = -11454774.457290838\n",
      "epoch 144; Log-Likelihood = -11507421.37748193\n",
      "epoch 145; Log-Likelihood = -11559834.637434393\n",
      "epoch 146; Log-Likelihood = -11612302.20920521\n",
      "epoch 147; Log-Likelihood = -11664564.249056477\n",
      "epoch 148; Log-Likelihood = -11716774.31645618\n",
      "epoch 149; Log-Likelihood = -11769074.376371825\n",
      "epoch 150; Log-Likelihood = -11821308.233872319\n",
      "epoch 151; Log-Likelihood = -11873295.560262788\n",
      "epoch 152; Log-Likelihood = -11925261.302687299\n",
      "epoch 153; Log-Likelihood = -11977013.177425686\n",
      "epoch 154; Log-Likelihood = -12028739.368756413\n",
      "epoch 155; Log-Likelihood = -12080358.817132726\n",
      "epoch 156; Log-Likelihood = -12131851.777231853\n",
      "epoch 157; Log-Likelihood = -12183396.528926674\n",
      "epoch 158; Log-Likelihood = -12234775.636656294\n",
      "epoch 159; Log-Likelihood = -12286113.514672028\n",
      "epoch 160; Log-Likelihood = -12337434.11527494\n",
      "epoch 161; Log-Likelihood = -12388749.346867185\n",
      "epoch 162; Log-Likelihood = -12439969.074359423\n",
      "epoch 163; Log-Likelihood = -12491139.4408653\n",
      "epoch 164; Log-Likelihood = -12542187.948835284\n",
      "epoch 165; Log-Likelihood = -12593270.710976362\n",
      "epoch 166; Log-Likelihood = -12644268.051908698\n",
      "epoch 167; Log-Likelihood = -12695165.577925395\n",
      "epoch 168; Log-Likelihood = -12746073.90323852\n",
      "epoch 169; Log-Likelihood = -12796974.349218607\n",
      "epoch 170; Log-Likelihood = -12847819.030543108\n",
      "epoch 171; Log-Likelihood = -12898668.025661364\n",
      "epoch 172; Log-Likelihood = -12949464.216488415\n",
      "epoch 173; Log-Likelihood = -13000197.795793377\n",
      "epoch 174; Log-Likelihood = -13050843.558526848\n",
      "epoch 175; Log-Likelihood = -13101443.578509755\n",
      "epoch 176; Log-Likelihood = -13152075.426367037\n",
      "epoch 177; Log-Likelihood = -13202628.892348537\n",
      "epoch 178; Log-Likelihood = -13253124.97220658\n",
      "epoch 179; Log-Likelihood = -13303630.231728295\n",
      "epoch 180; Log-Likelihood = -13354051.252233611\n",
      "epoch 181; Log-Likelihood = -13404422.793255221\n",
      "epoch 182; Log-Likelihood = -13454739.34539755\n",
      "epoch 183; Log-Likelihood = -13505057.610185672\n",
      "epoch 184; Log-Likelihood = -13555290.394542444\n",
      "epoch 185; Log-Likelihood = -13605562.54193969\n",
      "epoch 186; Log-Likelihood = -13655850.771295752\n",
      "epoch 187; Log-Likelihood = -13706088.550422478\n",
      "epoch 188; Log-Likelihood = -13756278.381215993\n",
      "epoch 189; Log-Likelihood = -13806430.866870388\n",
      "epoch 190; Log-Likelihood = -13856555.940361384\n",
      "epoch 191; Log-Likelihood = -13906672.839625467\n",
      "epoch 192; Log-Likelihood = -13956782.194256894\n",
      "epoch 193; Log-Likelihood = -14006869.538274478\n",
      "epoch 194; Log-Likelihood = -14056914.230912175\n",
      "epoch 195; Log-Likelihood = -14106933.842787206\n",
      "epoch 196; Log-Likelihood = -14156935.470479539\n",
      "epoch 197; Log-Likelihood = -14206912.375169437\n",
      "epoch 198; Log-Likelihood = -14256840.825757299\n",
      "epoch 199; Log-Likelihood = -14306779.758651443\n",
      "epoch 200; Log-Likelihood = -14356697.115108512\n"
     ]
    }
   ],
   "source": [
    "\n",
    "Pinit_fit,Kappa_fit,mu_fit,Tk_fit = Optimizationloop(X_tensor,[Pinit,kappa,mu,Tk],lose=Accumulated_HHM_LL,Optimizer=Adam,n=Subjects,n_iters=n_iters,K=K)"
   ]
  },
  {
   "cell_type": "code",
   "execution_count": 6,
   "metadata": {},
   "outputs": [],
   "source": [
    "\n",
    "Softmax = torch.nn.Softmax(0)\n",
    "Softplus = torch.nn.Softplus()\n",
    "\n",
    "kappa_est = Softplus(Kappa_fit)\n",
    "#kappa_est = Kappa_fit\n",
    "mu_est = mu /torch.sqrt((mu_fit * mu_fit).sum(axis=0))"
   ]
  },
  {
   "cell_type": "code",
   "execution_count": 8,
   "metadata": {},
   "outputs": [
    {
     "name": "stdout",
     "output_type": "stream",
     "text": [
      "tensor([[1.1648e-12, 1.0998e-37, 5.5391e-09, 3.9402e-39, 3.4205e-14],\n",
      "        [1.0000e+00, 5.1295e-70, 1.0000e+00, 1.0000e+00, 1.0000e+00],\n",
      "        [2.4183e-12, 3.0146e-37, 1.0931e-09, 7.6072e-39, 3.1097e-14],\n",
      "        [1.4001e-21, 1.0000e+00, 1.3445e-13, 6.3468e-70, 2.7136e-21],\n",
      "        [1.3142e-12, 1.3332e-37, 3.3300e-10, 4.4944e-40, 1.2628e-14]],\n",
      "       grad_fn=<SoftmaxBackward0>)\n"
     ]
    }
   ],
   "source": [
    "print(Softmax(Tk_fit[0]))"
   ]
  },
  {
   "cell_type": "code",
   "execution_count": 10,
   "metadata": {},
   "outputs": [
    {
     "name": "stdout",
     "output_type": "stream",
     "text": [
      "Model 0:  , kappa = 52.878553669276066\n"
     ]
    },
    {
     "data": {
      "application/vnd.plotly.v1+json": {
       "config": {
        "plotlyServerURL": "https://plot.ly"
       },
       "data": [
        {
         "alignmentgroup": "True",
         "hovertemplate": "x=%{x}<br>y=%{y}<extra></extra>",
         "legendgroup": "",
         "marker": {
          "color": "#636efa",
          "pattern": {
           "shape": ""
          }
         },
         "name": "",
         "offsetgroup": "",
         "orientation": "v",
         "showlegend": false,
         "textposition": "auto",
         "type": "bar",
         "x": [
          "'Precentral-L'",
          "'Precentral-R'",
          "'Frontal-Sup-L'",
          "'Frontal-Sup-R'",
          "'Frontal-Sup-Orb-L'",
          "'Frontal-Sup-Orb-R'",
          "'Frontal-Mid-L'",
          "'Frontal-Mid-R'",
          "'Frontal-Mid-Orb-L'",
          "'Frontal-Mid-Orb-R'",
          "'Frontal-Inf-Oper-L'",
          "'Frontal-Inf-Oper-R'",
          "'Frontal-Inf-Tri-L'",
          "'Frontal-Inf-Tri-R'",
          "'Frontal-Inf-Orb-L'",
          "'Frontal-Inf-Orb-R'",
          "'Rolandic-Oper-L'",
          "'Rolandic-Oper-R'",
          "'Supp-Motor-Area-L'",
          "'Supp-Motor-Area-R'",
          "'Olfactory-L'",
          "'Olfactory-R'",
          "'Frontal-Sup-Medial-L'",
          "'Frontal-Sup-Medial-R'",
          "'Frontal-Med-Orb-L'",
          "'Frontal-Med-Orb-R'",
          "'Rectus-L'",
          "'Rectus-R'",
          "'Insula-L'",
          "'Insula-R'",
          "'Cingulum-Ant-L'",
          "'Cingulum-Ant-R'",
          "'Cingulum-Mid-L'",
          "'Cingulum-Mid-R'",
          "'Cingulum-Post-L'",
          "'Cingulum-Post-R'",
          "'Hippocampus-L'",
          "'Hippocampus-R'",
          "'ParaHippocampal-L'",
          "'ParaHippocampal-R'",
          "'Amygdala-L'",
          "'Amygdala-R'",
          "'Calcarine-L'",
          "'Calcarine-R'",
          "'Cuneus-L'",
          "'Cuneus-R'",
          "'Lingual-L'",
          "'Lingual-R'",
          "'Occipital-Sup-L'",
          "'Occipital-Sup-R'",
          "'Occipital-Mid-L'",
          "'Occipital-Mid-R'",
          "'Occipital-Inf-L'",
          "'Occipital-Inf-R'",
          "'Fusiform-L'",
          "'Fusiform-R'",
          "'Postcentral-L'",
          "'Postcentral-R'",
          "'Parietal-Sup-L'",
          "'Parietal-Sup-R'",
          "'Parietal-Inf-L'",
          "'Parietal-Inf-R'",
          "'SupraMarginal-L'",
          "'SupraMarginal-R'",
          "'Angular-L'",
          "'Angular-R'",
          "'Precuneus-L'",
          "'Precuneus-R'",
          "'Paracentral-Lobule-L'",
          "'Paracentral-Lobule-R'",
          "'Caudate-L'",
          "'Caudate-R'",
          "'Putamen-L'",
          "'Putamen-R'",
          "'Pallidum-L'",
          "'Pallidum-R'",
          "'Thalamus-L'",
          "'Thalamus-R'",
          "'Heschl-L'",
          "'Heschl-R'",
          "'Temporal-Sup-L'",
          "'Temporal-Sup-R'",
          "'Temporal-Pole-Sup-L'",
          "'Temporal-Pole-Sup-R'",
          "'Temporal-Mid-L'",
          "'Temporal-Mid-R'",
          "'Temporal-Pole-Mid-L'",
          "'Temporal-Pole-Mid-R'",
          "'Temporal-Inf-L'",
          "'Temporal-Inf-R'"
         ],
         "xaxis": "x",
         "y": [
          0.15029997897736974,
          0.17863437334906002,
          -0.14078406209280434,
          -0.09803392286441917,
          -0.0708666856873528,
          -0.03712546809383486,
          -0.09625872000567334,
          -0.03920261848922839,
          -0.08820665849144524,
          -0.07343773153347315,
          0.0765299376374978,
          0.08085391820659042,
          -0.006336894655635163,
          0.045037209765778546,
          -0.0709636909394323,
          -0.06919136428909159,
          0.22231765379231264,
          0.222288462806763,
          0.06793352258425937,
          0.1461381881126354,
          -0.0006860696257393252,
          0.002365834519506484,
          -0.15995398870383803,
          -0.16112335846972237,
          -0.12338617315449257,
          -0.11643132180230496,
          -0.04887457669421295,
          -0.04328625758915016,
          0.1993756731010382,
          0.2057708038536586,
          -0.034071463759814846,
          -0.05265808195953298,
          0.08256149125227737,
          0.1036458938727905,
          -0.11667821036292492,
          -0.08445415808854655,
          0.004297794789459601,
          0.003408422342578742,
          -0.012947441212309407,
          0.011841703350984488,
          0.08141269266453734,
          0.08264555768734554,
          0.06417853338925401,
          0.07728723056039727,
          0.05498316307099911,
          0.0915817718407901,
          0.09857657607085785,
          0.08513592479150871,
          0.08000171325369955,
          0.06596282688584187,
          0.05469496505533084,
          0.053335018295326775,
          0.06987482805444753,
          0.027690026153791365,
          0.07680461959890565,
          0.08235180469499019,
          0.18768999711818957,
          0.17553429319667843,
          0.07165689199311102,
          0.0875251870247636,
          0.0011393567214135261,
          -0.02448794020216997,
          0.19065406654831638,
          0.2064703616656482,
          -0.18896053970494234,
          -0.15166461021275474,
          -0.029096833843015323,
          0.025864770430229892,
          0.09463800730972187,
          0.09938131249418791,
          -0.016108729213445385,
          -0.008421778931502514,
          0.1052387228412719,
          0.12257904134774729,
          0.044827286356727634,
          0.05971078569497535,
          0.09796452749352956,
          0.12289848154425684,
          0.14924410014104889,
          0.14144919587789034,
          0.20370975840271927,
          0.17072958687924317,
          0.06576257086225816,
          0.11167611259653065,
          -0.047234604955150056,
          -0.0010447485785442126,
          -0.07858777143552649,
          -0.07270522625969959,
          -0.05134000100210399,
          -0.016011918559238305
         ],
         "yaxis": "y"
        }
       ],
       "layout": {
        "barmode": "relative",
        "legend": {
         "tracegroupgap": 0
        },
        "margin": {
         "t": 60
        },
        "template": {
         "data": {
          "bar": [
           {
            "error_x": {
             "color": "#2a3f5f"
            },
            "error_y": {
             "color": "#2a3f5f"
            },
            "marker": {
             "line": {
              "color": "#E5ECF6",
              "width": 0.5
             },
             "pattern": {
              "fillmode": "overlay",
              "size": 10,
              "solidity": 0.2
             }
            },
            "type": "bar"
           }
          ],
          "barpolar": [
           {
            "marker": {
             "line": {
              "color": "#E5ECF6",
              "width": 0.5
             },
             "pattern": {
              "fillmode": "overlay",
              "size": 10,
              "solidity": 0.2
             }
            },
            "type": "barpolar"
           }
          ],
          "carpet": [
           {
            "aaxis": {
             "endlinecolor": "#2a3f5f",
             "gridcolor": "white",
             "linecolor": "white",
             "minorgridcolor": "white",
             "startlinecolor": "#2a3f5f"
            },
            "baxis": {
             "endlinecolor": "#2a3f5f",
             "gridcolor": "white",
             "linecolor": "white",
             "minorgridcolor": "white",
             "startlinecolor": "#2a3f5f"
            },
            "type": "carpet"
           }
          ],
          "choropleth": [
           {
            "colorbar": {
             "outlinewidth": 0,
             "ticks": ""
            },
            "type": "choropleth"
           }
          ],
          "contour": [
           {
            "colorbar": {
             "outlinewidth": 0,
             "ticks": ""
            },
            "colorscale": [
             [
              0,
              "#0d0887"
             ],
             [
              0.1111111111111111,
              "#46039f"
             ],
             [
              0.2222222222222222,
              "#7201a8"
             ],
             [
              0.3333333333333333,
              "#9c179e"
             ],
             [
              0.4444444444444444,
              "#bd3786"
             ],
             [
              0.5555555555555556,
              "#d8576b"
             ],
             [
              0.6666666666666666,
              "#ed7953"
             ],
             [
              0.7777777777777778,
              "#fb9f3a"
             ],
             [
              0.8888888888888888,
              "#fdca26"
             ],
             [
              1,
              "#f0f921"
             ]
            ],
            "type": "contour"
           }
          ],
          "contourcarpet": [
           {
            "colorbar": {
             "outlinewidth": 0,
             "ticks": ""
            },
            "type": "contourcarpet"
           }
          ],
          "heatmap": [
           {
            "colorbar": {
             "outlinewidth": 0,
             "ticks": ""
            },
            "colorscale": [
             [
              0,
              "#0d0887"
             ],
             [
              0.1111111111111111,
              "#46039f"
             ],
             [
              0.2222222222222222,
              "#7201a8"
             ],
             [
              0.3333333333333333,
              "#9c179e"
             ],
             [
              0.4444444444444444,
              "#bd3786"
             ],
             [
              0.5555555555555556,
              "#d8576b"
             ],
             [
              0.6666666666666666,
              "#ed7953"
             ],
             [
              0.7777777777777778,
              "#fb9f3a"
             ],
             [
              0.8888888888888888,
              "#fdca26"
             ],
             [
              1,
              "#f0f921"
             ]
            ],
            "type": "heatmap"
           }
          ],
          "heatmapgl": [
           {
            "colorbar": {
             "outlinewidth": 0,
             "ticks": ""
            },
            "colorscale": [
             [
              0,
              "#0d0887"
             ],
             [
              0.1111111111111111,
              "#46039f"
             ],
             [
              0.2222222222222222,
              "#7201a8"
             ],
             [
              0.3333333333333333,
              "#9c179e"
             ],
             [
              0.4444444444444444,
              "#bd3786"
             ],
             [
              0.5555555555555556,
              "#d8576b"
             ],
             [
              0.6666666666666666,
              "#ed7953"
             ],
             [
              0.7777777777777778,
              "#fb9f3a"
             ],
             [
              0.8888888888888888,
              "#fdca26"
             ],
             [
              1,
              "#f0f921"
             ]
            ],
            "type": "heatmapgl"
           }
          ],
          "histogram": [
           {
            "marker": {
             "pattern": {
              "fillmode": "overlay",
              "size": 10,
              "solidity": 0.2
             }
            },
            "type": "histogram"
           }
          ],
          "histogram2d": [
           {
            "colorbar": {
             "outlinewidth": 0,
             "ticks": ""
            },
            "colorscale": [
             [
              0,
              "#0d0887"
             ],
             [
              0.1111111111111111,
              "#46039f"
             ],
             [
              0.2222222222222222,
              "#7201a8"
             ],
             [
              0.3333333333333333,
              "#9c179e"
             ],
             [
              0.4444444444444444,
              "#bd3786"
             ],
             [
              0.5555555555555556,
              "#d8576b"
             ],
             [
              0.6666666666666666,
              "#ed7953"
             ],
             [
              0.7777777777777778,
              "#fb9f3a"
             ],
             [
              0.8888888888888888,
              "#fdca26"
             ],
             [
              1,
              "#f0f921"
             ]
            ],
            "type": "histogram2d"
           }
          ],
          "histogram2dcontour": [
           {
            "colorbar": {
             "outlinewidth": 0,
             "ticks": ""
            },
            "colorscale": [
             [
              0,
              "#0d0887"
             ],
             [
              0.1111111111111111,
              "#46039f"
             ],
             [
              0.2222222222222222,
              "#7201a8"
             ],
             [
              0.3333333333333333,
              "#9c179e"
             ],
             [
              0.4444444444444444,
              "#bd3786"
             ],
             [
              0.5555555555555556,
              "#d8576b"
             ],
             [
              0.6666666666666666,
              "#ed7953"
             ],
             [
              0.7777777777777778,
              "#fb9f3a"
             ],
             [
              0.8888888888888888,
              "#fdca26"
             ],
             [
              1,
              "#f0f921"
             ]
            ],
            "type": "histogram2dcontour"
           }
          ],
          "mesh3d": [
           {
            "colorbar": {
             "outlinewidth": 0,
             "ticks": ""
            },
            "type": "mesh3d"
           }
          ],
          "parcoords": [
           {
            "line": {
             "colorbar": {
              "outlinewidth": 0,
              "ticks": ""
             }
            },
            "type": "parcoords"
           }
          ],
          "pie": [
           {
            "automargin": true,
            "type": "pie"
           }
          ],
          "scatter": [
           {
            "fillpattern": {
             "fillmode": "overlay",
             "size": 10,
             "solidity": 0.2
            },
            "type": "scatter"
           }
          ],
          "scatter3d": [
           {
            "line": {
             "colorbar": {
              "outlinewidth": 0,
              "ticks": ""
             }
            },
            "marker": {
             "colorbar": {
              "outlinewidth": 0,
              "ticks": ""
             }
            },
            "type": "scatter3d"
           }
          ],
          "scattercarpet": [
           {
            "marker": {
             "colorbar": {
              "outlinewidth": 0,
              "ticks": ""
             }
            },
            "type": "scattercarpet"
           }
          ],
          "scattergeo": [
           {
            "marker": {
             "colorbar": {
              "outlinewidth": 0,
              "ticks": ""
             }
            },
            "type": "scattergeo"
           }
          ],
          "scattergl": [
           {
            "marker": {
             "colorbar": {
              "outlinewidth": 0,
              "ticks": ""
             }
            },
            "type": "scattergl"
           }
          ],
          "scattermapbox": [
           {
            "marker": {
             "colorbar": {
              "outlinewidth": 0,
              "ticks": ""
             }
            },
            "type": "scattermapbox"
           }
          ],
          "scatterpolar": [
           {
            "marker": {
             "colorbar": {
              "outlinewidth": 0,
              "ticks": ""
             }
            },
            "type": "scatterpolar"
           }
          ],
          "scatterpolargl": [
           {
            "marker": {
             "colorbar": {
              "outlinewidth": 0,
              "ticks": ""
             }
            },
            "type": "scatterpolargl"
           }
          ],
          "scatterternary": [
           {
            "marker": {
             "colorbar": {
              "outlinewidth": 0,
              "ticks": ""
             }
            },
            "type": "scatterternary"
           }
          ],
          "surface": [
           {
            "colorbar": {
             "outlinewidth": 0,
             "ticks": ""
            },
            "colorscale": [
             [
              0,
              "#0d0887"
             ],
             [
              0.1111111111111111,
              "#46039f"
             ],
             [
              0.2222222222222222,
              "#7201a8"
             ],
             [
              0.3333333333333333,
              "#9c179e"
             ],
             [
              0.4444444444444444,
              "#bd3786"
             ],
             [
              0.5555555555555556,
              "#d8576b"
             ],
             [
              0.6666666666666666,
              "#ed7953"
             ],
             [
              0.7777777777777778,
              "#fb9f3a"
             ],
             [
              0.8888888888888888,
              "#fdca26"
             ],
             [
              1,
              "#f0f921"
             ]
            ],
            "type": "surface"
           }
          ],
          "table": [
           {
            "cells": {
             "fill": {
              "color": "#EBF0F8"
             },
             "line": {
              "color": "white"
             }
            },
            "header": {
             "fill": {
              "color": "#C8D4E3"
             },
             "line": {
              "color": "white"
             }
            },
            "type": "table"
           }
          ]
         },
         "layout": {
          "annotationdefaults": {
           "arrowcolor": "#2a3f5f",
           "arrowhead": 0,
           "arrowwidth": 1
          },
          "autotypenumbers": "strict",
          "coloraxis": {
           "colorbar": {
            "outlinewidth": 0,
            "ticks": ""
           }
          },
          "colorscale": {
           "diverging": [
            [
             0,
             "#8e0152"
            ],
            [
             0.1,
             "#c51b7d"
            ],
            [
             0.2,
             "#de77ae"
            ],
            [
             0.3,
             "#f1b6da"
            ],
            [
             0.4,
             "#fde0ef"
            ],
            [
             0.5,
             "#f7f7f7"
            ],
            [
             0.6,
             "#e6f5d0"
            ],
            [
             0.7,
             "#b8e186"
            ],
            [
             0.8,
             "#7fbc41"
            ],
            [
             0.9,
             "#4d9221"
            ],
            [
             1,
             "#276419"
            ]
           ],
           "sequential": [
            [
             0,
             "#0d0887"
            ],
            [
             0.1111111111111111,
             "#46039f"
            ],
            [
             0.2222222222222222,
             "#7201a8"
            ],
            [
             0.3333333333333333,
             "#9c179e"
            ],
            [
             0.4444444444444444,
             "#bd3786"
            ],
            [
             0.5555555555555556,
             "#d8576b"
            ],
            [
             0.6666666666666666,
             "#ed7953"
            ],
            [
             0.7777777777777778,
             "#fb9f3a"
            ],
            [
             0.8888888888888888,
             "#fdca26"
            ],
            [
             1,
             "#f0f921"
            ]
           ],
           "sequentialminus": [
            [
             0,
             "#0d0887"
            ],
            [
             0.1111111111111111,
             "#46039f"
            ],
            [
             0.2222222222222222,
             "#7201a8"
            ],
            [
             0.3333333333333333,
             "#9c179e"
            ],
            [
             0.4444444444444444,
             "#bd3786"
            ],
            [
             0.5555555555555556,
             "#d8576b"
            ],
            [
             0.6666666666666666,
             "#ed7953"
            ],
            [
             0.7777777777777778,
             "#fb9f3a"
            ],
            [
             0.8888888888888888,
             "#fdca26"
            ],
            [
             1,
             "#f0f921"
            ]
           ]
          },
          "colorway": [
           "#636efa",
           "#EF553B",
           "#00cc96",
           "#ab63fa",
           "#FFA15A",
           "#19d3f3",
           "#FF6692",
           "#B6E880",
           "#FF97FF",
           "#FECB52"
          ],
          "font": {
           "color": "#2a3f5f"
          },
          "geo": {
           "bgcolor": "white",
           "lakecolor": "white",
           "landcolor": "#E5ECF6",
           "showlakes": true,
           "showland": true,
           "subunitcolor": "white"
          },
          "hoverlabel": {
           "align": "left"
          },
          "hovermode": "closest",
          "mapbox": {
           "style": "light"
          },
          "paper_bgcolor": "white",
          "plot_bgcolor": "#E5ECF6",
          "polar": {
           "angularaxis": {
            "gridcolor": "white",
            "linecolor": "white",
            "ticks": ""
           },
           "bgcolor": "#E5ECF6",
           "radialaxis": {
            "gridcolor": "white",
            "linecolor": "white",
            "ticks": ""
           }
          },
          "scene": {
           "xaxis": {
            "backgroundcolor": "#E5ECF6",
            "gridcolor": "white",
            "gridwidth": 2,
            "linecolor": "white",
            "showbackground": true,
            "ticks": "",
            "zerolinecolor": "white"
           },
           "yaxis": {
            "backgroundcolor": "#E5ECF6",
            "gridcolor": "white",
            "gridwidth": 2,
            "linecolor": "white",
            "showbackground": true,
            "ticks": "",
            "zerolinecolor": "white"
           },
           "zaxis": {
            "backgroundcolor": "#E5ECF6",
            "gridcolor": "white",
            "gridwidth": 2,
            "linecolor": "white",
            "showbackground": true,
            "ticks": "",
            "zerolinecolor": "white"
           }
          },
          "shapedefaults": {
           "line": {
            "color": "#2a3f5f"
           }
          },
          "ternary": {
           "aaxis": {
            "gridcolor": "white",
            "linecolor": "white",
            "ticks": ""
           },
           "baxis": {
            "gridcolor": "white",
            "linecolor": "white",
            "ticks": ""
           },
           "bgcolor": "#E5ECF6",
           "caxis": {
            "gridcolor": "white",
            "linecolor": "white",
            "ticks": ""
           }
          },
          "title": {
           "x": 0.05
          },
          "xaxis": {
           "automargin": true,
           "gridcolor": "white",
           "linecolor": "white",
           "ticks": "",
           "title": {
            "standoff": 15
           },
           "zerolinecolor": "white",
           "zerolinewidth": 2
          },
          "yaxis": {
           "automargin": true,
           "gridcolor": "white",
           "linecolor": "white",
           "ticks": "",
           "title": {
            "standoff": 15
           },
           "zerolinecolor": "white",
           "zerolinewidth": 2
          }
         }
        },
        "xaxis": {
         "anchor": "y",
         "domain": [
          0,
          1
         ],
         "title": {
          "text": "x"
         }
        },
        "yaxis": {
         "anchor": "x",
         "domain": [
          0,
          1
         ],
         "title": {
          "text": "y"
         }
        }
       }
      }
     },
     "metadata": {},
     "output_type": "display_data"
    },
    {
     "name": "stdout",
     "output_type": "stream",
     "text": [
      "Model 1:  , kappa = 51.491669361172775\n"
     ]
    },
    {
     "data": {
      "application/vnd.plotly.v1+json": {
       "config": {
        "plotlyServerURL": "https://plot.ly"
       },
       "data": [
        {
         "alignmentgroup": "True",
         "hovertemplate": "x=%{x}<br>y=%{y}<extra></extra>",
         "legendgroup": "",
         "marker": {
          "color": "#636efa",
          "pattern": {
           "shape": ""
          }
         },
         "name": "",
         "offsetgroup": "",
         "orientation": "v",
         "showlegend": false,
         "textposition": "auto",
         "type": "bar",
         "x": [
          "'Precentral-L'",
          "'Precentral-R'",
          "'Frontal-Sup-L'",
          "'Frontal-Sup-R'",
          "'Frontal-Sup-Orb-L'",
          "'Frontal-Sup-Orb-R'",
          "'Frontal-Mid-L'",
          "'Frontal-Mid-R'",
          "'Frontal-Mid-Orb-L'",
          "'Frontal-Mid-Orb-R'",
          "'Frontal-Inf-Oper-L'",
          "'Frontal-Inf-Oper-R'",
          "'Frontal-Inf-Tri-L'",
          "'Frontal-Inf-Tri-R'",
          "'Frontal-Inf-Orb-L'",
          "'Frontal-Inf-Orb-R'",
          "'Rolandic-Oper-L'",
          "'Rolandic-Oper-R'",
          "'Supp-Motor-Area-L'",
          "'Supp-Motor-Area-R'",
          "'Olfactory-L'",
          "'Olfactory-R'",
          "'Frontal-Sup-Medial-L'",
          "'Frontal-Sup-Medial-R'",
          "'Frontal-Med-Orb-L'",
          "'Frontal-Med-Orb-R'",
          "'Rectus-L'",
          "'Rectus-R'",
          "'Insula-L'",
          "'Insula-R'",
          "'Cingulum-Ant-L'",
          "'Cingulum-Ant-R'",
          "'Cingulum-Mid-L'",
          "'Cingulum-Mid-R'",
          "'Cingulum-Post-L'",
          "'Cingulum-Post-R'",
          "'Hippocampus-L'",
          "'Hippocampus-R'",
          "'ParaHippocampal-L'",
          "'ParaHippocampal-R'",
          "'Amygdala-L'",
          "'Amygdala-R'",
          "'Calcarine-L'",
          "'Calcarine-R'",
          "'Cuneus-L'",
          "'Cuneus-R'",
          "'Lingual-L'",
          "'Lingual-R'",
          "'Occipital-Sup-L'",
          "'Occipital-Sup-R'",
          "'Occipital-Mid-L'",
          "'Occipital-Mid-R'",
          "'Occipital-Inf-L'",
          "'Occipital-Inf-R'",
          "'Fusiform-L'",
          "'Fusiform-R'",
          "'Postcentral-L'",
          "'Postcentral-R'",
          "'Parietal-Sup-L'",
          "'Parietal-Sup-R'",
          "'Parietal-Inf-L'",
          "'Parietal-Inf-R'",
          "'SupraMarginal-L'",
          "'SupraMarginal-R'",
          "'Angular-L'",
          "'Angular-R'",
          "'Precuneus-L'",
          "'Precuneus-R'",
          "'Paracentral-Lobule-L'",
          "'Paracentral-Lobule-R'",
          "'Caudate-L'",
          "'Caudate-R'",
          "'Putamen-L'",
          "'Putamen-R'",
          "'Pallidum-L'",
          "'Pallidum-R'",
          "'Thalamus-L'",
          "'Thalamus-R'",
          "'Heschl-L'",
          "'Heschl-R'",
          "'Temporal-Sup-L'",
          "'Temporal-Sup-R'",
          "'Temporal-Pole-Sup-L'",
          "'Temporal-Pole-Sup-R'",
          "'Temporal-Mid-L'",
          "'Temporal-Mid-R'",
          "'Temporal-Pole-Mid-L'",
          "'Temporal-Pole-Mid-R'",
          "'Temporal-Inf-L'",
          "'Temporal-Inf-R'"
         ],
         "xaxis": "x",
         "y": [
          -0.08848382179887943,
          -0.08647215816012478,
          -0.04604077958774378,
          -0.018063212497795657,
          -0.05919904243205413,
          -0.029551186077307022,
          -0.09003283789339674,
          -0.04959045844693626,
          -0.08268995050118821,
          -0.0394291067892208,
          -0.09354691515866691,
          -0.0888756332164307,
          -0.11404443529072521,
          -0.08125419176471148,
          -0.09449172451880251,
          -0.06849950726896695,
          -0.11003115545621527,
          -0.12785959162691446,
          -0.15603815192951306,
          -0.14880814526774386,
          0.018985354640005964,
          0.028928709313018337,
          -0.048079415030830804,
          -0.02234019378317683,
          0.0348476990701376,
          0.05247794253638701,
          0.010268901213808818,
          0.019453967418704025,
          -0.13938806045562563,
          -0.13821000466075722,
          -0.04040623125581107,
          -0.029841338328204178,
          -0.03196519574879985,
          -0.021388923969560904,
          0.10435382748293637,
          0.11465853231238887,
          0.06745199720359113,
          0.07012149454466293,
          0.07874647770120324,
          0.09379207467396154,
          0.024593415246612908,
          0.019110469291403524,
          0.2066140961039758,
          0.20453140941614711,
          0.21343383702202376,
          0.21569119317056143,
          0.2074003292352933,
          0.22066338896457813,
          0.21914522444782636,
          0.2258285238675705,
          0.22516212807604924,
          0.22407494631185676,
          0.14037781568358523,
          0.08512243212382799,
          0.19862305694221355,
          0.20392171057994857,
          -0.09384029407080968,
          -0.10002527680412415,
          0.05016388814115988,
          0.07206932591515484,
          -0.05627740862779077,
          -0.06642643548789325,
          -0.10327534547620083,
          -0.10488136733951224,
          0.014458051378878106,
          0.05612024024781805,
          0.12969223939566607,
          0.15242071628749845,
          -0.08551112335720945,
          -0.054948330757489096,
          -0.06351800571756183,
          -0.0759868515643676,
          -0.06994907063069965,
          -0.07640660002836368,
          -0.07054848988213983,
          -0.03524647131158756,
          -0.023039592231689533,
          0.006628342279839411,
          -0.06984223740826034,
          -0.07921196376323765,
          -0.042226445546897536,
          -0.0124855596296207,
          -0.026895761048930277,
          -0.02803830960151094,
          0.0076991671137155385,
          0.03951418189013358,
          0.05033056078331644,
          0.04101265113244726,
          -0.010736780321115663,
          -0.0015738625207007075
         ],
         "yaxis": "y"
        }
       ],
       "layout": {
        "barmode": "relative",
        "legend": {
         "tracegroupgap": 0
        },
        "margin": {
         "t": 60
        },
        "template": {
         "data": {
          "bar": [
           {
            "error_x": {
             "color": "#2a3f5f"
            },
            "error_y": {
             "color": "#2a3f5f"
            },
            "marker": {
             "line": {
              "color": "#E5ECF6",
              "width": 0.5
             },
             "pattern": {
              "fillmode": "overlay",
              "size": 10,
              "solidity": 0.2
             }
            },
            "type": "bar"
           }
          ],
          "barpolar": [
           {
            "marker": {
             "line": {
              "color": "#E5ECF6",
              "width": 0.5
             },
             "pattern": {
              "fillmode": "overlay",
              "size": 10,
              "solidity": 0.2
             }
            },
            "type": "barpolar"
           }
          ],
          "carpet": [
           {
            "aaxis": {
             "endlinecolor": "#2a3f5f",
             "gridcolor": "white",
             "linecolor": "white",
             "minorgridcolor": "white",
             "startlinecolor": "#2a3f5f"
            },
            "baxis": {
             "endlinecolor": "#2a3f5f",
             "gridcolor": "white",
             "linecolor": "white",
             "minorgridcolor": "white",
             "startlinecolor": "#2a3f5f"
            },
            "type": "carpet"
           }
          ],
          "choropleth": [
           {
            "colorbar": {
             "outlinewidth": 0,
             "ticks": ""
            },
            "type": "choropleth"
           }
          ],
          "contour": [
           {
            "colorbar": {
             "outlinewidth": 0,
             "ticks": ""
            },
            "colorscale": [
             [
              0,
              "#0d0887"
             ],
             [
              0.1111111111111111,
              "#46039f"
             ],
             [
              0.2222222222222222,
              "#7201a8"
             ],
             [
              0.3333333333333333,
              "#9c179e"
             ],
             [
              0.4444444444444444,
              "#bd3786"
             ],
             [
              0.5555555555555556,
              "#d8576b"
             ],
             [
              0.6666666666666666,
              "#ed7953"
             ],
             [
              0.7777777777777778,
              "#fb9f3a"
             ],
             [
              0.8888888888888888,
              "#fdca26"
             ],
             [
              1,
              "#f0f921"
             ]
            ],
            "type": "contour"
           }
          ],
          "contourcarpet": [
           {
            "colorbar": {
             "outlinewidth": 0,
             "ticks": ""
            },
            "type": "contourcarpet"
           }
          ],
          "heatmap": [
           {
            "colorbar": {
             "outlinewidth": 0,
             "ticks": ""
            },
            "colorscale": [
             [
              0,
              "#0d0887"
             ],
             [
              0.1111111111111111,
              "#46039f"
             ],
             [
              0.2222222222222222,
              "#7201a8"
             ],
             [
              0.3333333333333333,
              "#9c179e"
             ],
             [
              0.4444444444444444,
              "#bd3786"
             ],
             [
              0.5555555555555556,
              "#d8576b"
             ],
             [
              0.6666666666666666,
              "#ed7953"
             ],
             [
              0.7777777777777778,
              "#fb9f3a"
             ],
             [
              0.8888888888888888,
              "#fdca26"
             ],
             [
              1,
              "#f0f921"
             ]
            ],
            "type": "heatmap"
           }
          ],
          "heatmapgl": [
           {
            "colorbar": {
             "outlinewidth": 0,
             "ticks": ""
            },
            "colorscale": [
             [
              0,
              "#0d0887"
             ],
             [
              0.1111111111111111,
              "#46039f"
             ],
             [
              0.2222222222222222,
              "#7201a8"
             ],
             [
              0.3333333333333333,
              "#9c179e"
             ],
             [
              0.4444444444444444,
              "#bd3786"
             ],
             [
              0.5555555555555556,
              "#d8576b"
             ],
             [
              0.6666666666666666,
              "#ed7953"
             ],
             [
              0.7777777777777778,
              "#fb9f3a"
             ],
             [
              0.8888888888888888,
              "#fdca26"
             ],
             [
              1,
              "#f0f921"
             ]
            ],
            "type": "heatmapgl"
           }
          ],
          "histogram": [
           {
            "marker": {
             "pattern": {
              "fillmode": "overlay",
              "size": 10,
              "solidity": 0.2
             }
            },
            "type": "histogram"
           }
          ],
          "histogram2d": [
           {
            "colorbar": {
             "outlinewidth": 0,
             "ticks": ""
            },
            "colorscale": [
             [
              0,
              "#0d0887"
             ],
             [
              0.1111111111111111,
              "#46039f"
             ],
             [
              0.2222222222222222,
              "#7201a8"
             ],
             [
              0.3333333333333333,
              "#9c179e"
             ],
             [
              0.4444444444444444,
              "#bd3786"
             ],
             [
              0.5555555555555556,
              "#d8576b"
             ],
             [
              0.6666666666666666,
              "#ed7953"
             ],
             [
              0.7777777777777778,
              "#fb9f3a"
             ],
             [
              0.8888888888888888,
              "#fdca26"
             ],
             [
              1,
              "#f0f921"
             ]
            ],
            "type": "histogram2d"
           }
          ],
          "histogram2dcontour": [
           {
            "colorbar": {
             "outlinewidth": 0,
             "ticks": ""
            },
            "colorscale": [
             [
              0,
              "#0d0887"
             ],
             [
              0.1111111111111111,
              "#46039f"
             ],
             [
              0.2222222222222222,
              "#7201a8"
             ],
             [
              0.3333333333333333,
              "#9c179e"
             ],
             [
              0.4444444444444444,
              "#bd3786"
             ],
             [
              0.5555555555555556,
              "#d8576b"
             ],
             [
              0.6666666666666666,
              "#ed7953"
             ],
             [
              0.7777777777777778,
              "#fb9f3a"
             ],
             [
              0.8888888888888888,
              "#fdca26"
             ],
             [
              1,
              "#f0f921"
             ]
            ],
            "type": "histogram2dcontour"
           }
          ],
          "mesh3d": [
           {
            "colorbar": {
             "outlinewidth": 0,
             "ticks": ""
            },
            "type": "mesh3d"
           }
          ],
          "parcoords": [
           {
            "line": {
             "colorbar": {
              "outlinewidth": 0,
              "ticks": ""
             }
            },
            "type": "parcoords"
           }
          ],
          "pie": [
           {
            "automargin": true,
            "type": "pie"
           }
          ],
          "scatter": [
           {
            "fillpattern": {
             "fillmode": "overlay",
             "size": 10,
             "solidity": 0.2
            },
            "type": "scatter"
           }
          ],
          "scatter3d": [
           {
            "line": {
             "colorbar": {
              "outlinewidth": 0,
              "ticks": ""
             }
            },
            "marker": {
             "colorbar": {
              "outlinewidth": 0,
              "ticks": ""
             }
            },
            "type": "scatter3d"
           }
          ],
          "scattercarpet": [
           {
            "marker": {
             "colorbar": {
              "outlinewidth": 0,
              "ticks": ""
             }
            },
            "type": "scattercarpet"
           }
          ],
          "scattergeo": [
           {
            "marker": {
             "colorbar": {
              "outlinewidth": 0,
              "ticks": ""
             }
            },
            "type": "scattergeo"
           }
          ],
          "scattergl": [
           {
            "marker": {
             "colorbar": {
              "outlinewidth": 0,
              "ticks": ""
             }
            },
            "type": "scattergl"
           }
          ],
          "scattermapbox": [
           {
            "marker": {
             "colorbar": {
              "outlinewidth": 0,
              "ticks": ""
             }
            },
            "type": "scattermapbox"
           }
          ],
          "scatterpolar": [
           {
            "marker": {
             "colorbar": {
              "outlinewidth": 0,
              "ticks": ""
             }
            },
            "type": "scatterpolar"
           }
          ],
          "scatterpolargl": [
           {
            "marker": {
             "colorbar": {
              "outlinewidth": 0,
              "ticks": ""
             }
            },
            "type": "scatterpolargl"
           }
          ],
          "scatterternary": [
           {
            "marker": {
             "colorbar": {
              "outlinewidth": 0,
              "ticks": ""
             }
            },
            "type": "scatterternary"
           }
          ],
          "surface": [
           {
            "colorbar": {
             "outlinewidth": 0,
             "ticks": ""
            },
            "colorscale": [
             [
              0,
              "#0d0887"
             ],
             [
              0.1111111111111111,
              "#46039f"
             ],
             [
              0.2222222222222222,
              "#7201a8"
             ],
             [
              0.3333333333333333,
              "#9c179e"
             ],
             [
              0.4444444444444444,
              "#bd3786"
             ],
             [
              0.5555555555555556,
              "#d8576b"
             ],
             [
              0.6666666666666666,
              "#ed7953"
             ],
             [
              0.7777777777777778,
              "#fb9f3a"
             ],
             [
              0.8888888888888888,
              "#fdca26"
             ],
             [
              1,
              "#f0f921"
             ]
            ],
            "type": "surface"
           }
          ],
          "table": [
           {
            "cells": {
             "fill": {
              "color": "#EBF0F8"
             },
             "line": {
              "color": "white"
             }
            },
            "header": {
             "fill": {
              "color": "#C8D4E3"
             },
             "line": {
              "color": "white"
             }
            },
            "type": "table"
           }
          ]
         },
         "layout": {
          "annotationdefaults": {
           "arrowcolor": "#2a3f5f",
           "arrowhead": 0,
           "arrowwidth": 1
          },
          "autotypenumbers": "strict",
          "coloraxis": {
           "colorbar": {
            "outlinewidth": 0,
            "ticks": ""
           }
          },
          "colorscale": {
           "diverging": [
            [
             0,
             "#8e0152"
            ],
            [
             0.1,
             "#c51b7d"
            ],
            [
             0.2,
             "#de77ae"
            ],
            [
             0.3,
             "#f1b6da"
            ],
            [
             0.4,
             "#fde0ef"
            ],
            [
             0.5,
             "#f7f7f7"
            ],
            [
             0.6,
             "#e6f5d0"
            ],
            [
             0.7,
             "#b8e186"
            ],
            [
             0.8,
             "#7fbc41"
            ],
            [
             0.9,
             "#4d9221"
            ],
            [
             1,
             "#276419"
            ]
           ],
           "sequential": [
            [
             0,
             "#0d0887"
            ],
            [
             0.1111111111111111,
             "#46039f"
            ],
            [
             0.2222222222222222,
             "#7201a8"
            ],
            [
             0.3333333333333333,
             "#9c179e"
            ],
            [
             0.4444444444444444,
             "#bd3786"
            ],
            [
             0.5555555555555556,
             "#d8576b"
            ],
            [
             0.6666666666666666,
             "#ed7953"
            ],
            [
             0.7777777777777778,
             "#fb9f3a"
            ],
            [
             0.8888888888888888,
             "#fdca26"
            ],
            [
             1,
             "#f0f921"
            ]
           ],
           "sequentialminus": [
            [
             0,
             "#0d0887"
            ],
            [
             0.1111111111111111,
             "#46039f"
            ],
            [
             0.2222222222222222,
             "#7201a8"
            ],
            [
             0.3333333333333333,
             "#9c179e"
            ],
            [
             0.4444444444444444,
             "#bd3786"
            ],
            [
             0.5555555555555556,
             "#d8576b"
            ],
            [
             0.6666666666666666,
             "#ed7953"
            ],
            [
             0.7777777777777778,
             "#fb9f3a"
            ],
            [
             0.8888888888888888,
             "#fdca26"
            ],
            [
             1,
             "#f0f921"
            ]
           ]
          },
          "colorway": [
           "#636efa",
           "#EF553B",
           "#00cc96",
           "#ab63fa",
           "#FFA15A",
           "#19d3f3",
           "#FF6692",
           "#B6E880",
           "#FF97FF",
           "#FECB52"
          ],
          "font": {
           "color": "#2a3f5f"
          },
          "geo": {
           "bgcolor": "white",
           "lakecolor": "white",
           "landcolor": "#E5ECF6",
           "showlakes": true,
           "showland": true,
           "subunitcolor": "white"
          },
          "hoverlabel": {
           "align": "left"
          },
          "hovermode": "closest",
          "mapbox": {
           "style": "light"
          },
          "paper_bgcolor": "white",
          "plot_bgcolor": "#E5ECF6",
          "polar": {
           "angularaxis": {
            "gridcolor": "white",
            "linecolor": "white",
            "ticks": ""
           },
           "bgcolor": "#E5ECF6",
           "radialaxis": {
            "gridcolor": "white",
            "linecolor": "white",
            "ticks": ""
           }
          },
          "scene": {
           "xaxis": {
            "backgroundcolor": "#E5ECF6",
            "gridcolor": "white",
            "gridwidth": 2,
            "linecolor": "white",
            "showbackground": true,
            "ticks": "",
            "zerolinecolor": "white"
           },
           "yaxis": {
            "backgroundcolor": "#E5ECF6",
            "gridcolor": "white",
            "gridwidth": 2,
            "linecolor": "white",
            "showbackground": true,
            "ticks": "",
            "zerolinecolor": "white"
           },
           "zaxis": {
            "backgroundcolor": "#E5ECF6",
            "gridcolor": "white",
            "gridwidth": 2,
            "linecolor": "white",
            "showbackground": true,
            "ticks": "",
            "zerolinecolor": "white"
           }
          },
          "shapedefaults": {
           "line": {
            "color": "#2a3f5f"
           }
          },
          "ternary": {
           "aaxis": {
            "gridcolor": "white",
            "linecolor": "white",
            "ticks": ""
           },
           "baxis": {
            "gridcolor": "white",
            "linecolor": "white",
            "ticks": ""
           },
           "bgcolor": "#E5ECF6",
           "caxis": {
            "gridcolor": "white",
            "linecolor": "white",
            "ticks": ""
           }
          },
          "title": {
           "x": 0.05
          },
          "xaxis": {
           "automargin": true,
           "gridcolor": "white",
           "linecolor": "white",
           "ticks": "",
           "title": {
            "standoff": 15
           },
           "zerolinecolor": "white",
           "zerolinewidth": 2
          },
          "yaxis": {
           "automargin": true,
           "gridcolor": "white",
           "linecolor": "white",
           "ticks": "",
           "title": {
            "standoff": 15
           },
           "zerolinecolor": "white",
           "zerolinewidth": 2
          }
         }
        },
        "xaxis": {
         "anchor": "y",
         "domain": [
          0,
          1
         ],
         "title": {
          "text": "x"
         }
        },
        "yaxis": {
         "anchor": "x",
         "domain": [
          0,
          1
         ],
         "title": {
          "text": "y"
         }
        }
       }
      }
     },
     "metadata": {},
     "output_type": "display_data"
    },
    {
     "name": "stdout",
     "output_type": "stream",
     "text": [
      "Model 2:  , kappa = 35.151607122095555\n"
     ]
    },
    {
     "data": {
      "application/vnd.plotly.v1+json": {
       "config": {
        "plotlyServerURL": "https://plot.ly"
       },
       "data": [
        {
         "alignmentgroup": "True",
         "hovertemplate": "x=%{x}<br>y=%{y}<extra></extra>",
         "legendgroup": "",
         "marker": {
          "color": "#636efa",
          "pattern": {
           "shape": ""
          }
         },
         "name": "",
         "offsetgroup": "",
         "orientation": "v",
         "showlegend": false,
         "textposition": "auto",
         "type": "bar",
         "x": [
          "'Precentral-L'",
          "'Precentral-R'",
          "'Frontal-Sup-L'",
          "'Frontal-Sup-R'",
          "'Frontal-Sup-Orb-L'",
          "'Frontal-Sup-Orb-R'",
          "'Frontal-Mid-L'",
          "'Frontal-Mid-R'",
          "'Frontal-Mid-Orb-L'",
          "'Frontal-Mid-Orb-R'",
          "'Frontal-Inf-Oper-L'",
          "'Frontal-Inf-Oper-R'",
          "'Frontal-Inf-Tri-L'",
          "'Frontal-Inf-Tri-R'",
          "'Frontal-Inf-Orb-L'",
          "'Frontal-Inf-Orb-R'",
          "'Rolandic-Oper-L'",
          "'Rolandic-Oper-R'",
          "'Supp-Motor-Area-L'",
          "'Supp-Motor-Area-R'",
          "'Olfactory-L'",
          "'Olfactory-R'",
          "'Frontal-Sup-Medial-L'",
          "'Frontal-Sup-Medial-R'",
          "'Frontal-Med-Orb-L'",
          "'Frontal-Med-Orb-R'",
          "'Rectus-L'",
          "'Rectus-R'",
          "'Insula-L'",
          "'Insula-R'",
          "'Cingulum-Ant-L'",
          "'Cingulum-Ant-R'",
          "'Cingulum-Mid-L'",
          "'Cingulum-Mid-R'",
          "'Cingulum-Post-L'",
          "'Cingulum-Post-R'",
          "'Hippocampus-L'",
          "'Hippocampus-R'",
          "'ParaHippocampal-L'",
          "'ParaHippocampal-R'",
          "'Amygdala-L'",
          "'Amygdala-R'",
          "'Calcarine-L'",
          "'Calcarine-R'",
          "'Cuneus-L'",
          "'Cuneus-R'",
          "'Lingual-L'",
          "'Lingual-R'",
          "'Occipital-Sup-L'",
          "'Occipital-Sup-R'",
          "'Occipital-Mid-L'",
          "'Occipital-Mid-R'",
          "'Occipital-Inf-L'",
          "'Occipital-Inf-R'",
          "'Fusiform-L'",
          "'Fusiform-R'",
          "'Postcentral-L'",
          "'Postcentral-R'",
          "'Parietal-Sup-L'",
          "'Parietal-Sup-R'",
          "'Parietal-Inf-L'",
          "'Parietal-Inf-R'",
          "'SupraMarginal-L'",
          "'SupraMarginal-R'",
          "'Angular-L'",
          "'Angular-R'",
          "'Precuneus-L'",
          "'Precuneus-R'",
          "'Paracentral-Lobule-L'",
          "'Paracentral-Lobule-R'",
          "'Caudate-L'",
          "'Caudate-R'",
          "'Putamen-L'",
          "'Putamen-R'",
          "'Pallidum-L'",
          "'Pallidum-R'",
          "'Thalamus-L'",
          "'Thalamus-R'",
          "'Heschl-L'",
          "'Heschl-R'",
          "'Temporal-Sup-L'",
          "'Temporal-Sup-R'",
          "'Temporal-Pole-Sup-L'",
          "'Temporal-Pole-Sup-R'",
          "'Temporal-Mid-L'",
          "'Temporal-Mid-R'",
          "'Temporal-Pole-Mid-L'",
          "'Temporal-Pole-Mid-R'",
          "'Temporal-Inf-L'",
          "'Temporal-Inf-R'"
         ],
         "xaxis": "x",
         "y": [
          -0.09741028381094322,
          -0.1066344598416615,
          0.12746083484709064,
          0.08509869660121795,
          0.06356926488494974,
          0.03960412973204038,
          0.016507514277377757,
          -0.027729955162504285,
          0.0897628302098923,
          0.08791262523917873,
          -0.05434153816491804,
          -0.014777932630013722,
          0.03414856636778506,
          0.0515104979424003,
          0.07596489582099619,
          0.09894008491909213,
          -0.17289174567563576,
          -0.18631708419842352,
          -0.07969805902524064,
          -0.12551520221604062,
          0.08640031528223119,
          0.07740785312871075,
          0.17861206174610092,
          0.1972028125012475,
          0.1872934596561013,
          0.17245587436695012,
          0.12245589096250395,
          0.11882941790991006,
          -0.18556395894723524,
          -0.1877632220251717,
          0.06102329162164062,
          0.05112659468147871,
          -0.0504869592093512,
          -0.06452062307686454,
          0.1620959297420962,
          0.11049438050116736,
          0.10691441973444302,
          0.10171252813528565,
          0.11027452561752855,
          0.1093848192637604,
          0.02122796692171469,
          0.02988159699701468,
          0.08135159127236459,
          0.06253456950767959,
          0.0396424235174848,
          0.03026758065754933,
          0.07754858657260233,
          0.0766977261113501,
          0.06090825387853941,
          0.08923226673154543,
          0.12334183917485979,
          0.11823487577476677,
          0.0921498579736737,
          0.07201701430784294,
          0.13068606002935082,
          0.12679559284049846,
          -0.14143229132914442,
          -0.1532174118130803,
          -0.01595815043111685,
          -0.01977084360100352,
          -0.000049350674424946,
          -0.01777609880594126,
          -0.19071061181479848,
          -0.19908441419713968,
          0.17953522556384116,
          0.16645150324087335,
          0.01739100307522257,
          -0.007952657672647974,
          -0.06305297789204627,
          -0.07428205057562476,
          0.0022370875266422147,
          0.028635838269349984,
          -0.06439703226757189,
          -0.08184576691594043,
          -0.010828608885341293,
          -0.07008645104408502,
          -0.06013765559806393,
          -0.05210103732290629,
          -0.11181255747402354,
          -0.11062262171317211,
          -0.11720024165712095,
          -0.07724755402441202,
          0.037251542195234084,
          -0.01497148050898443,
          0.15112260173335582,
          0.12038123705062065,
          0.14770262776722778,
          0.15494050983574623,
          0.11807586197989532,
          0.0909205805359812
         ],
         "yaxis": "y"
        }
       ],
       "layout": {
        "barmode": "relative",
        "legend": {
         "tracegroupgap": 0
        },
        "margin": {
         "t": 60
        },
        "template": {
         "data": {
          "bar": [
           {
            "error_x": {
             "color": "#2a3f5f"
            },
            "error_y": {
             "color": "#2a3f5f"
            },
            "marker": {
             "line": {
              "color": "#E5ECF6",
              "width": 0.5
             },
             "pattern": {
              "fillmode": "overlay",
              "size": 10,
              "solidity": 0.2
             }
            },
            "type": "bar"
           }
          ],
          "barpolar": [
           {
            "marker": {
             "line": {
              "color": "#E5ECF6",
              "width": 0.5
             },
             "pattern": {
              "fillmode": "overlay",
              "size": 10,
              "solidity": 0.2
             }
            },
            "type": "barpolar"
           }
          ],
          "carpet": [
           {
            "aaxis": {
             "endlinecolor": "#2a3f5f",
             "gridcolor": "white",
             "linecolor": "white",
             "minorgridcolor": "white",
             "startlinecolor": "#2a3f5f"
            },
            "baxis": {
             "endlinecolor": "#2a3f5f",
             "gridcolor": "white",
             "linecolor": "white",
             "minorgridcolor": "white",
             "startlinecolor": "#2a3f5f"
            },
            "type": "carpet"
           }
          ],
          "choropleth": [
           {
            "colorbar": {
             "outlinewidth": 0,
             "ticks": ""
            },
            "type": "choropleth"
           }
          ],
          "contour": [
           {
            "colorbar": {
             "outlinewidth": 0,
             "ticks": ""
            },
            "colorscale": [
             [
              0,
              "#0d0887"
             ],
             [
              0.1111111111111111,
              "#46039f"
             ],
             [
              0.2222222222222222,
              "#7201a8"
             ],
             [
              0.3333333333333333,
              "#9c179e"
             ],
             [
              0.4444444444444444,
              "#bd3786"
             ],
             [
              0.5555555555555556,
              "#d8576b"
             ],
             [
              0.6666666666666666,
              "#ed7953"
             ],
             [
              0.7777777777777778,
              "#fb9f3a"
             ],
             [
              0.8888888888888888,
              "#fdca26"
             ],
             [
              1,
              "#f0f921"
             ]
            ],
            "type": "contour"
           }
          ],
          "contourcarpet": [
           {
            "colorbar": {
             "outlinewidth": 0,
             "ticks": ""
            },
            "type": "contourcarpet"
           }
          ],
          "heatmap": [
           {
            "colorbar": {
             "outlinewidth": 0,
             "ticks": ""
            },
            "colorscale": [
             [
              0,
              "#0d0887"
             ],
             [
              0.1111111111111111,
              "#46039f"
             ],
             [
              0.2222222222222222,
              "#7201a8"
             ],
             [
              0.3333333333333333,
              "#9c179e"
             ],
             [
              0.4444444444444444,
              "#bd3786"
             ],
             [
              0.5555555555555556,
              "#d8576b"
             ],
             [
              0.6666666666666666,
              "#ed7953"
             ],
             [
              0.7777777777777778,
              "#fb9f3a"
             ],
             [
              0.8888888888888888,
              "#fdca26"
             ],
             [
              1,
              "#f0f921"
             ]
            ],
            "type": "heatmap"
           }
          ],
          "heatmapgl": [
           {
            "colorbar": {
             "outlinewidth": 0,
             "ticks": ""
            },
            "colorscale": [
             [
              0,
              "#0d0887"
             ],
             [
              0.1111111111111111,
              "#46039f"
             ],
             [
              0.2222222222222222,
              "#7201a8"
             ],
             [
              0.3333333333333333,
              "#9c179e"
             ],
             [
              0.4444444444444444,
              "#bd3786"
             ],
             [
              0.5555555555555556,
              "#d8576b"
             ],
             [
              0.6666666666666666,
              "#ed7953"
             ],
             [
              0.7777777777777778,
              "#fb9f3a"
             ],
             [
              0.8888888888888888,
              "#fdca26"
             ],
             [
              1,
              "#f0f921"
             ]
            ],
            "type": "heatmapgl"
           }
          ],
          "histogram": [
           {
            "marker": {
             "pattern": {
              "fillmode": "overlay",
              "size": 10,
              "solidity": 0.2
             }
            },
            "type": "histogram"
           }
          ],
          "histogram2d": [
           {
            "colorbar": {
             "outlinewidth": 0,
             "ticks": ""
            },
            "colorscale": [
             [
              0,
              "#0d0887"
             ],
             [
              0.1111111111111111,
              "#46039f"
             ],
             [
              0.2222222222222222,
              "#7201a8"
             ],
             [
              0.3333333333333333,
              "#9c179e"
             ],
             [
              0.4444444444444444,
              "#bd3786"
             ],
             [
              0.5555555555555556,
              "#d8576b"
             ],
             [
              0.6666666666666666,
              "#ed7953"
             ],
             [
              0.7777777777777778,
              "#fb9f3a"
             ],
             [
              0.8888888888888888,
              "#fdca26"
             ],
             [
              1,
              "#f0f921"
             ]
            ],
            "type": "histogram2d"
           }
          ],
          "histogram2dcontour": [
           {
            "colorbar": {
             "outlinewidth": 0,
             "ticks": ""
            },
            "colorscale": [
             [
              0,
              "#0d0887"
             ],
             [
              0.1111111111111111,
              "#46039f"
             ],
             [
              0.2222222222222222,
              "#7201a8"
             ],
             [
              0.3333333333333333,
              "#9c179e"
             ],
             [
              0.4444444444444444,
              "#bd3786"
             ],
             [
              0.5555555555555556,
              "#d8576b"
             ],
             [
              0.6666666666666666,
              "#ed7953"
             ],
             [
              0.7777777777777778,
              "#fb9f3a"
             ],
             [
              0.8888888888888888,
              "#fdca26"
             ],
             [
              1,
              "#f0f921"
             ]
            ],
            "type": "histogram2dcontour"
           }
          ],
          "mesh3d": [
           {
            "colorbar": {
             "outlinewidth": 0,
             "ticks": ""
            },
            "type": "mesh3d"
           }
          ],
          "parcoords": [
           {
            "line": {
             "colorbar": {
              "outlinewidth": 0,
              "ticks": ""
             }
            },
            "type": "parcoords"
           }
          ],
          "pie": [
           {
            "automargin": true,
            "type": "pie"
           }
          ],
          "scatter": [
           {
            "fillpattern": {
             "fillmode": "overlay",
             "size": 10,
             "solidity": 0.2
            },
            "type": "scatter"
           }
          ],
          "scatter3d": [
           {
            "line": {
             "colorbar": {
              "outlinewidth": 0,
              "ticks": ""
             }
            },
            "marker": {
             "colorbar": {
              "outlinewidth": 0,
              "ticks": ""
             }
            },
            "type": "scatter3d"
           }
          ],
          "scattercarpet": [
           {
            "marker": {
             "colorbar": {
              "outlinewidth": 0,
              "ticks": ""
             }
            },
            "type": "scattercarpet"
           }
          ],
          "scattergeo": [
           {
            "marker": {
             "colorbar": {
              "outlinewidth": 0,
              "ticks": ""
             }
            },
            "type": "scattergeo"
           }
          ],
          "scattergl": [
           {
            "marker": {
             "colorbar": {
              "outlinewidth": 0,
              "ticks": ""
             }
            },
            "type": "scattergl"
           }
          ],
          "scattermapbox": [
           {
            "marker": {
             "colorbar": {
              "outlinewidth": 0,
              "ticks": ""
             }
            },
            "type": "scattermapbox"
           }
          ],
          "scatterpolar": [
           {
            "marker": {
             "colorbar": {
              "outlinewidth": 0,
              "ticks": ""
             }
            },
            "type": "scatterpolar"
           }
          ],
          "scatterpolargl": [
           {
            "marker": {
             "colorbar": {
              "outlinewidth": 0,
              "ticks": ""
             }
            },
            "type": "scatterpolargl"
           }
          ],
          "scatterternary": [
           {
            "marker": {
             "colorbar": {
              "outlinewidth": 0,
              "ticks": ""
             }
            },
            "type": "scatterternary"
           }
          ],
          "surface": [
           {
            "colorbar": {
             "outlinewidth": 0,
             "ticks": ""
            },
            "colorscale": [
             [
              0,
              "#0d0887"
             ],
             [
              0.1111111111111111,
              "#46039f"
             ],
             [
              0.2222222222222222,
              "#7201a8"
             ],
             [
              0.3333333333333333,
              "#9c179e"
             ],
             [
              0.4444444444444444,
              "#bd3786"
             ],
             [
              0.5555555555555556,
              "#d8576b"
             ],
             [
              0.6666666666666666,
              "#ed7953"
             ],
             [
              0.7777777777777778,
              "#fb9f3a"
             ],
             [
              0.8888888888888888,
              "#fdca26"
             ],
             [
              1,
              "#f0f921"
             ]
            ],
            "type": "surface"
           }
          ],
          "table": [
           {
            "cells": {
             "fill": {
              "color": "#EBF0F8"
             },
             "line": {
              "color": "white"
             }
            },
            "header": {
             "fill": {
              "color": "#C8D4E3"
             },
             "line": {
              "color": "white"
             }
            },
            "type": "table"
           }
          ]
         },
         "layout": {
          "annotationdefaults": {
           "arrowcolor": "#2a3f5f",
           "arrowhead": 0,
           "arrowwidth": 1
          },
          "autotypenumbers": "strict",
          "coloraxis": {
           "colorbar": {
            "outlinewidth": 0,
            "ticks": ""
           }
          },
          "colorscale": {
           "diverging": [
            [
             0,
             "#8e0152"
            ],
            [
             0.1,
             "#c51b7d"
            ],
            [
             0.2,
             "#de77ae"
            ],
            [
             0.3,
             "#f1b6da"
            ],
            [
             0.4,
             "#fde0ef"
            ],
            [
             0.5,
             "#f7f7f7"
            ],
            [
             0.6,
             "#e6f5d0"
            ],
            [
             0.7,
             "#b8e186"
            ],
            [
             0.8,
             "#7fbc41"
            ],
            [
             0.9,
             "#4d9221"
            ],
            [
             1,
             "#276419"
            ]
           ],
           "sequential": [
            [
             0,
             "#0d0887"
            ],
            [
             0.1111111111111111,
             "#46039f"
            ],
            [
             0.2222222222222222,
             "#7201a8"
            ],
            [
             0.3333333333333333,
             "#9c179e"
            ],
            [
             0.4444444444444444,
             "#bd3786"
            ],
            [
             0.5555555555555556,
             "#d8576b"
            ],
            [
             0.6666666666666666,
             "#ed7953"
            ],
            [
             0.7777777777777778,
             "#fb9f3a"
            ],
            [
             0.8888888888888888,
             "#fdca26"
            ],
            [
             1,
             "#f0f921"
            ]
           ],
           "sequentialminus": [
            [
             0,
             "#0d0887"
            ],
            [
             0.1111111111111111,
             "#46039f"
            ],
            [
             0.2222222222222222,
             "#7201a8"
            ],
            [
             0.3333333333333333,
             "#9c179e"
            ],
            [
             0.4444444444444444,
             "#bd3786"
            ],
            [
             0.5555555555555556,
             "#d8576b"
            ],
            [
             0.6666666666666666,
             "#ed7953"
            ],
            [
             0.7777777777777778,
             "#fb9f3a"
            ],
            [
             0.8888888888888888,
             "#fdca26"
            ],
            [
             1,
             "#f0f921"
            ]
           ]
          },
          "colorway": [
           "#636efa",
           "#EF553B",
           "#00cc96",
           "#ab63fa",
           "#FFA15A",
           "#19d3f3",
           "#FF6692",
           "#B6E880",
           "#FF97FF",
           "#FECB52"
          ],
          "font": {
           "color": "#2a3f5f"
          },
          "geo": {
           "bgcolor": "white",
           "lakecolor": "white",
           "landcolor": "#E5ECF6",
           "showlakes": true,
           "showland": true,
           "subunitcolor": "white"
          },
          "hoverlabel": {
           "align": "left"
          },
          "hovermode": "closest",
          "mapbox": {
           "style": "light"
          },
          "paper_bgcolor": "white",
          "plot_bgcolor": "#E5ECF6",
          "polar": {
           "angularaxis": {
            "gridcolor": "white",
            "linecolor": "white",
            "ticks": ""
           },
           "bgcolor": "#E5ECF6",
           "radialaxis": {
            "gridcolor": "white",
            "linecolor": "white",
            "ticks": ""
           }
          },
          "scene": {
           "xaxis": {
            "backgroundcolor": "#E5ECF6",
            "gridcolor": "white",
            "gridwidth": 2,
            "linecolor": "white",
            "showbackground": true,
            "ticks": "",
            "zerolinecolor": "white"
           },
           "yaxis": {
            "backgroundcolor": "#E5ECF6",
            "gridcolor": "white",
            "gridwidth": 2,
            "linecolor": "white",
            "showbackground": true,
            "ticks": "",
            "zerolinecolor": "white"
           },
           "zaxis": {
            "backgroundcolor": "#E5ECF6",
            "gridcolor": "white",
            "gridwidth": 2,
            "linecolor": "white",
            "showbackground": true,
            "ticks": "",
            "zerolinecolor": "white"
           }
          },
          "shapedefaults": {
           "line": {
            "color": "#2a3f5f"
           }
          },
          "ternary": {
           "aaxis": {
            "gridcolor": "white",
            "linecolor": "white",
            "ticks": ""
           },
           "baxis": {
            "gridcolor": "white",
            "linecolor": "white",
            "ticks": ""
           },
           "bgcolor": "#E5ECF6",
           "caxis": {
            "gridcolor": "white",
            "linecolor": "white",
            "ticks": ""
           }
          },
          "title": {
           "x": 0.05
          },
          "xaxis": {
           "automargin": true,
           "gridcolor": "white",
           "linecolor": "white",
           "ticks": "",
           "title": {
            "standoff": 15
           },
           "zerolinecolor": "white",
           "zerolinewidth": 2
          },
          "yaxis": {
           "automargin": true,
           "gridcolor": "white",
           "linecolor": "white",
           "ticks": "",
           "title": {
            "standoff": 15
           },
           "zerolinecolor": "white",
           "zerolinewidth": 2
          }
         }
        },
        "xaxis": {
         "anchor": "y",
         "domain": [
          0,
          1
         ],
         "title": {
          "text": "x"
         }
        },
        "yaxis": {
         "anchor": "x",
         "domain": [
          0,
          1
         ],
         "title": {
          "text": "y"
         }
        }
       }
      }
     },
     "metadata": {},
     "output_type": "display_data"
    },
    {
     "name": "stdout",
     "output_type": "stream",
     "text": [
      "Model 3:  , kappa = 47.531134485465046\n"
     ]
    },
    {
     "data": {
      "application/vnd.plotly.v1+json": {
       "config": {
        "plotlyServerURL": "https://plot.ly"
       },
       "data": [
        {
         "alignmentgroup": "True",
         "hovertemplate": "x=%{x}<br>y=%{y}<extra></extra>",
         "legendgroup": "",
         "marker": {
          "color": "#636efa",
          "pattern": {
           "shape": ""
          }
         },
         "name": "",
         "offsetgroup": "",
         "orientation": "v",
         "showlegend": false,
         "textposition": "auto",
         "type": "bar",
         "x": [
          "'Precentral-L'",
          "'Precentral-R'",
          "'Frontal-Sup-L'",
          "'Frontal-Sup-R'",
          "'Frontal-Sup-Orb-L'",
          "'Frontal-Sup-Orb-R'",
          "'Frontal-Mid-L'",
          "'Frontal-Mid-R'",
          "'Frontal-Mid-Orb-L'",
          "'Frontal-Mid-Orb-R'",
          "'Frontal-Inf-Oper-L'",
          "'Frontal-Inf-Oper-R'",
          "'Frontal-Inf-Tri-L'",
          "'Frontal-Inf-Tri-R'",
          "'Frontal-Inf-Orb-L'",
          "'Frontal-Inf-Orb-R'",
          "'Rolandic-Oper-L'",
          "'Rolandic-Oper-R'",
          "'Supp-Motor-Area-L'",
          "'Supp-Motor-Area-R'",
          "'Olfactory-L'",
          "'Olfactory-R'",
          "'Frontal-Sup-Medial-L'",
          "'Frontal-Sup-Medial-R'",
          "'Frontal-Med-Orb-L'",
          "'Frontal-Med-Orb-R'",
          "'Rectus-L'",
          "'Rectus-R'",
          "'Insula-L'",
          "'Insula-R'",
          "'Cingulum-Ant-L'",
          "'Cingulum-Ant-R'",
          "'Cingulum-Mid-L'",
          "'Cingulum-Mid-R'",
          "'Cingulum-Post-L'",
          "'Cingulum-Post-R'",
          "'Hippocampus-L'",
          "'Hippocampus-R'",
          "'ParaHippocampal-L'",
          "'ParaHippocampal-R'",
          "'Amygdala-L'",
          "'Amygdala-R'",
          "'Calcarine-L'",
          "'Calcarine-R'",
          "'Cuneus-L'",
          "'Cuneus-R'",
          "'Lingual-L'",
          "'Lingual-R'",
          "'Occipital-Sup-L'",
          "'Occipital-Sup-R'",
          "'Occipital-Mid-L'",
          "'Occipital-Mid-R'",
          "'Occipital-Inf-L'",
          "'Occipital-Inf-R'",
          "'Fusiform-L'",
          "'Fusiform-R'",
          "'Postcentral-L'",
          "'Postcentral-R'",
          "'Parietal-Sup-L'",
          "'Parietal-Sup-R'",
          "'Parietal-Inf-L'",
          "'Parietal-Inf-R'",
          "'SupraMarginal-L'",
          "'SupraMarginal-R'",
          "'Angular-L'",
          "'Angular-R'",
          "'Precuneus-L'",
          "'Precuneus-R'",
          "'Paracentral-Lobule-L'",
          "'Paracentral-Lobule-R'",
          "'Caudate-L'",
          "'Caudate-R'",
          "'Putamen-L'",
          "'Putamen-R'",
          "'Pallidum-L'",
          "'Pallidum-R'",
          "'Thalamus-L'",
          "'Thalamus-R'",
          "'Heschl-L'",
          "'Heschl-R'",
          "'Temporal-Sup-L'",
          "'Temporal-Sup-R'",
          "'Temporal-Pole-Sup-L'",
          "'Temporal-Pole-Sup-R'",
          "'Temporal-Mid-L'",
          "'Temporal-Mid-R'",
          "'Temporal-Pole-Mid-L'",
          "'Temporal-Pole-Mid-R'",
          "'Temporal-Inf-L'",
          "'Temporal-Inf-R'"
         ],
         "xaxis": "x",
         "y": [
          0.0110343568522743,
          0.024248693926744277,
          -0.07681818352511513,
          -0.07471004091353366,
          -0.0637023708108625,
          -0.06342266413908161,
          -0.031110860840654325,
          -0.018161347134776854,
          -0.036017800327368635,
          -0.04841670787261112,
          0.05735842170169944,
          -0.014670691336827359,
          -0.021967471567996305,
          -0.036199111129470385,
          -0.0722087773669786,
          -0.08384365201026195,
          0.03929374539665003,
          0.05516874442311644,
          0.02790616155143623,
          0.047554379773724315,
          -0.11161931374290618,
          -0.10902344666850615,
          -0.1233034571412577,
          -0.12149837424122958,
          -0.15133736594998848,
          -0.1724529172759663,
          -0.1077239328517306,
          -0.09424976568463245,
          0.018763570686259966,
          0.02862276929164122,
          -0.10526985146635574,
          -0.10801104152823328,
          -0.08135921079164299,
          -0.08548432137293871,
          -0.13868841817182473,
          -0.10752544574478645,
          -0.10030654945329895,
          -0.046843638189297994,
          -0.10553409680355547,
          -0.1533272130902769,
          -0.0210681441450444,
          -0.0625442802054831,
          -0.2168930528586888,
          -0.19829887420775824,
          -0.19229277948395995,
          -0.18908638148840462,
          -0.21364278934187395,
          -0.21455883334008183,
          -0.19054386230510234,
          -0.1861353424273207,
          -0.20510896443447227,
          -0.1967587108322546,
          -0.12680319068279483,
          -0.1065535708829101,
          -0.21964798457595297,
          -0.22176579204557467,
          0.043973663687877904,
          0.0604485237763359,
          -0.04106921239305227,
          -0.030072284322678552,
          0.007157313334135994,
          0.022241305466989124,
          0.05424046901413239,
          0.04966654218868109,
          -0.0703963998648024,
          -0.09750122983130667,
          -0.12625011036057915,
          -0.12360640922403394,
          0.0361554423424165,
          0.006456199209630163,
          -0.04018157512617581,
          -0.03634293177802337,
          -0.0023616524164046305,
          -0.006244857281133681,
          -0.013052852430740895,
          0.007372435355977774,
          -0.06989730480161449,
          -0.06849484675973001,
          -0.012057398889346926,
          -0.026026528591025673,
          -0.04292860110154681,
          -0.08535994782441488,
          -0.08140436530070334,
          -0.09232749786751476,
          -0.14198776994632079,
          -0.14352113228431007,
          -0.12146255467731408,
          -0.1232700067528128,
          -0.0566999283004619,
          -0.044025901971093635
         ],
         "yaxis": "y"
        }
       ],
       "layout": {
        "barmode": "relative",
        "legend": {
         "tracegroupgap": 0
        },
        "margin": {
         "t": 60
        },
        "template": {
         "data": {
          "bar": [
           {
            "error_x": {
             "color": "#2a3f5f"
            },
            "error_y": {
             "color": "#2a3f5f"
            },
            "marker": {
             "line": {
              "color": "#E5ECF6",
              "width": 0.5
             },
             "pattern": {
              "fillmode": "overlay",
              "size": 10,
              "solidity": 0.2
             }
            },
            "type": "bar"
           }
          ],
          "barpolar": [
           {
            "marker": {
             "line": {
              "color": "#E5ECF6",
              "width": 0.5
             },
             "pattern": {
              "fillmode": "overlay",
              "size": 10,
              "solidity": 0.2
             }
            },
            "type": "barpolar"
           }
          ],
          "carpet": [
           {
            "aaxis": {
             "endlinecolor": "#2a3f5f",
             "gridcolor": "white",
             "linecolor": "white",
             "minorgridcolor": "white",
             "startlinecolor": "#2a3f5f"
            },
            "baxis": {
             "endlinecolor": "#2a3f5f",
             "gridcolor": "white",
             "linecolor": "white",
             "minorgridcolor": "white",
             "startlinecolor": "#2a3f5f"
            },
            "type": "carpet"
           }
          ],
          "choropleth": [
           {
            "colorbar": {
             "outlinewidth": 0,
             "ticks": ""
            },
            "type": "choropleth"
           }
          ],
          "contour": [
           {
            "colorbar": {
             "outlinewidth": 0,
             "ticks": ""
            },
            "colorscale": [
             [
              0,
              "#0d0887"
             ],
             [
              0.1111111111111111,
              "#46039f"
             ],
             [
              0.2222222222222222,
              "#7201a8"
             ],
             [
              0.3333333333333333,
              "#9c179e"
             ],
             [
              0.4444444444444444,
              "#bd3786"
             ],
             [
              0.5555555555555556,
              "#d8576b"
             ],
             [
              0.6666666666666666,
              "#ed7953"
             ],
             [
              0.7777777777777778,
              "#fb9f3a"
             ],
             [
              0.8888888888888888,
              "#fdca26"
             ],
             [
              1,
              "#f0f921"
             ]
            ],
            "type": "contour"
           }
          ],
          "contourcarpet": [
           {
            "colorbar": {
             "outlinewidth": 0,
             "ticks": ""
            },
            "type": "contourcarpet"
           }
          ],
          "heatmap": [
           {
            "colorbar": {
             "outlinewidth": 0,
             "ticks": ""
            },
            "colorscale": [
             [
              0,
              "#0d0887"
             ],
             [
              0.1111111111111111,
              "#46039f"
             ],
             [
              0.2222222222222222,
              "#7201a8"
             ],
             [
              0.3333333333333333,
              "#9c179e"
             ],
             [
              0.4444444444444444,
              "#bd3786"
             ],
             [
              0.5555555555555556,
              "#d8576b"
             ],
             [
              0.6666666666666666,
              "#ed7953"
             ],
             [
              0.7777777777777778,
              "#fb9f3a"
             ],
             [
              0.8888888888888888,
              "#fdca26"
             ],
             [
              1,
              "#f0f921"
             ]
            ],
            "type": "heatmap"
           }
          ],
          "heatmapgl": [
           {
            "colorbar": {
             "outlinewidth": 0,
             "ticks": ""
            },
            "colorscale": [
             [
              0,
              "#0d0887"
             ],
             [
              0.1111111111111111,
              "#46039f"
             ],
             [
              0.2222222222222222,
              "#7201a8"
             ],
             [
              0.3333333333333333,
              "#9c179e"
             ],
             [
              0.4444444444444444,
              "#bd3786"
             ],
             [
              0.5555555555555556,
              "#d8576b"
             ],
             [
              0.6666666666666666,
              "#ed7953"
             ],
             [
              0.7777777777777778,
              "#fb9f3a"
             ],
             [
              0.8888888888888888,
              "#fdca26"
             ],
             [
              1,
              "#f0f921"
             ]
            ],
            "type": "heatmapgl"
           }
          ],
          "histogram": [
           {
            "marker": {
             "pattern": {
              "fillmode": "overlay",
              "size": 10,
              "solidity": 0.2
             }
            },
            "type": "histogram"
           }
          ],
          "histogram2d": [
           {
            "colorbar": {
             "outlinewidth": 0,
             "ticks": ""
            },
            "colorscale": [
             [
              0,
              "#0d0887"
             ],
             [
              0.1111111111111111,
              "#46039f"
             ],
             [
              0.2222222222222222,
              "#7201a8"
             ],
             [
              0.3333333333333333,
              "#9c179e"
             ],
             [
              0.4444444444444444,
              "#bd3786"
             ],
             [
              0.5555555555555556,
              "#d8576b"
             ],
             [
              0.6666666666666666,
              "#ed7953"
             ],
             [
              0.7777777777777778,
              "#fb9f3a"
             ],
             [
              0.8888888888888888,
              "#fdca26"
             ],
             [
              1,
              "#f0f921"
             ]
            ],
            "type": "histogram2d"
           }
          ],
          "histogram2dcontour": [
           {
            "colorbar": {
             "outlinewidth": 0,
             "ticks": ""
            },
            "colorscale": [
             [
              0,
              "#0d0887"
             ],
             [
              0.1111111111111111,
              "#46039f"
             ],
             [
              0.2222222222222222,
              "#7201a8"
             ],
             [
              0.3333333333333333,
              "#9c179e"
             ],
             [
              0.4444444444444444,
              "#bd3786"
             ],
             [
              0.5555555555555556,
              "#d8576b"
             ],
             [
              0.6666666666666666,
              "#ed7953"
             ],
             [
              0.7777777777777778,
              "#fb9f3a"
             ],
             [
              0.8888888888888888,
              "#fdca26"
             ],
             [
              1,
              "#f0f921"
             ]
            ],
            "type": "histogram2dcontour"
           }
          ],
          "mesh3d": [
           {
            "colorbar": {
             "outlinewidth": 0,
             "ticks": ""
            },
            "type": "mesh3d"
           }
          ],
          "parcoords": [
           {
            "line": {
             "colorbar": {
              "outlinewidth": 0,
              "ticks": ""
             }
            },
            "type": "parcoords"
           }
          ],
          "pie": [
           {
            "automargin": true,
            "type": "pie"
           }
          ],
          "scatter": [
           {
            "fillpattern": {
             "fillmode": "overlay",
             "size": 10,
             "solidity": 0.2
            },
            "type": "scatter"
           }
          ],
          "scatter3d": [
           {
            "line": {
             "colorbar": {
              "outlinewidth": 0,
              "ticks": ""
             }
            },
            "marker": {
             "colorbar": {
              "outlinewidth": 0,
              "ticks": ""
             }
            },
            "type": "scatter3d"
           }
          ],
          "scattercarpet": [
           {
            "marker": {
             "colorbar": {
              "outlinewidth": 0,
              "ticks": ""
             }
            },
            "type": "scattercarpet"
           }
          ],
          "scattergeo": [
           {
            "marker": {
             "colorbar": {
              "outlinewidth": 0,
              "ticks": ""
             }
            },
            "type": "scattergeo"
           }
          ],
          "scattergl": [
           {
            "marker": {
             "colorbar": {
              "outlinewidth": 0,
              "ticks": ""
             }
            },
            "type": "scattergl"
           }
          ],
          "scattermapbox": [
           {
            "marker": {
             "colorbar": {
              "outlinewidth": 0,
              "ticks": ""
             }
            },
            "type": "scattermapbox"
           }
          ],
          "scatterpolar": [
           {
            "marker": {
             "colorbar": {
              "outlinewidth": 0,
              "ticks": ""
             }
            },
            "type": "scatterpolar"
           }
          ],
          "scatterpolargl": [
           {
            "marker": {
             "colorbar": {
              "outlinewidth": 0,
              "ticks": ""
             }
            },
            "type": "scatterpolargl"
           }
          ],
          "scatterternary": [
           {
            "marker": {
             "colorbar": {
              "outlinewidth": 0,
              "ticks": ""
             }
            },
            "type": "scatterternary"
           }
          ],
          "surface": [
           {
            "colorbar": {
             "outlinewidth": 0,
             "ticks": ""
            },
            "colorscale": [
             [
              0,
              "#0d0887"
             ],
             [
              0.1111111111111111,
              "#46039f"
             ],
             [
              0.2222222222222222,
              "#7201a8"
             ],
             [
              0.3333333333333333,
              "#9c179e"
             ],
             [
              0.4444444444444444,
              "#bd3786"
             ],
             [
              0.5555555555555556,
              "#d8576b"
             ],
             [
              0.6666666666666666,
              "#ed7953"
             ],
             [
              0.7777777777777778,
              "#fb9f3a"
             ],
             [
              0.8888888888888888,
              "#fdca26"
             ],
             [
              1,
              "#f0f921"
             ]
            ],
            "type": "surface"
           }
          ],
          "table": [
           {
            "cells": {
             "fill": {
              "color": "#EBF0F8"
             },
             "line": {
              "color": "white"
             }
            },
            "header": {
             "fill": {
              "color": "#C8D4E3"
             },
             "line": {
              "color": "white"
             }
            },
            "type": "table"
           }
          ]
         },
         "layout": {
          "annotationdefaults": {
           "arrowcolor": "#2a3f5f",
           "arrowhead": 0,
           "arrowwidth": 1
          },
          "autotypenumbers": "strict",
          "coloraxis": {
           "colorbar": {
            "outlinewidth": 0,
            "ticks": ""
           }
          },
          "colorscale": {
           "diverging": [
            [
             0,
             "#8e0152"
            ],
            [
             0.1,
             "#c51b7d"
            ],
            [
             0.2,
             "#de77ae"
            ],
            [
             0.3,
             "#f1b6da"
            ],
            [
             0.4,
             "#fde0ef"
            ],
            [
             0.5,
             "#f7f7f7"
            ],
            [
             0.6,
             "#e6f5d0"
            ],
            [
             0.7,
             "#b8e186"
            ],
            [
             0.8,
             "#7fbc41"
            ],
            [
             0.9,
             "#4d9221"
            ],
            [
             1,
             "#276419"
            ]
           ],
           "sequential": [
            [
             0,
             "#0d0887"
            ],
            [
             0.1111111111111111,
             "#46039f"
            ],
            [
             0.2222222222222222,
             "#7201a8"
            ],
            [
             0.3333333333333333,
             "#9c179e"
            ],
            [
             0.4444444444444444,
             "#bd3786"
            ],
            [
             0.5555555555555556,
             "#d8576b"
            ],
            [
             0.6666666666666666,
             "#ed7953"
            ],
            [
             0.7777777777777778,
             "#fb9f3a"
            ],
            [
             0.8888888888888888,
             "#fdca26"
            ],
            [
             1,
             "#f0f921"
            ]
           ],
           "sequentialminus": [
            [
             0,
             "#0d0887"
            ],
            [
             0.1111111111111111,
             "#46039f"
            ],
            [
             0.2222222222222222,
             "#7201a8"
            ],
            [
             0.3333333333333333,
             "#9c179e"
            ],
            [
             0.4444444444444444,
             "#bd3786"
            ],
            [
             0.5555555555555556,
             "#d8576b"
            ],
            [
             0.6666666666666666,
             "#ed7953"
            ],
            [
             0.7777777777777778,
             "#fb9f3a"
            ],
            [
             0.8888888888888888,
             "#fdca26"
            ],
            [
             1,
             "#f0f921"
            ]
           ]
          },
          "colorway": [
           "#636efa",
           "#EF553B",
           "#00cc96",
           "#ab63fa",
           "#FFA15A",
           "#19d3f3",
           "#FF6692",
           "#B6E880",
           "#FF97FF",
           "#FECB52"
          ],
          "font": {
           "color": "#2a3f5f"
          },
          "geo": {
           "bgcolor": "white",
           "lakecolor": "white",
           "landcolor": "#E5ECF6",
           "showlakes": true,
           "showland": true,
           "subunitcolor": "white"
          },
          "hoverlabel": {
           "align": "left"
          },
          "hovermode": "closest",
          "mapbox": {
           "style": "light"
          },
          "paper_bgcolor": "white",
          "plot_bgcolor": "#E5ECF6",
          "polar": {
           "angularaxis": {
            "gridcolor": "white",
            "linecolor": "white",
            "ticks": ""
           },
           "bgcolor": "#E5ECF6",
           "radialaxis": {
            "gridcolor": "white",
            "linecolor": "white",
            "ticks": ""
           }
          },
          "scene": {
           "xaxis": {
            "backgroundcolor": "#E5ECF6",
            "gridcolor": "white",
            "gridwidth": 2,
            "linecolor": "white",
            "showbackground": true,
            "ticks": "",
            "zerolinecolor": "white"
           },
           "yaxis": {
            "backgroundcolor": "#E5ECF6",
            "gridcolor": "white",
            "gridwidth": 2,
            "linecolor": "white",
            "showbackground": true,
            "ticks": "",
            "zerolinecolor": "white"
           },
           "zaxis": {
            "backgroundcolor": "#E5ECF6",
            "gridcolor": "white",
            "gridwidth": 2,
            "linecolor": "white",
            "showbackground": true,
            "ticks": "",
            "zerolinecolor": "white"
           }
          },
          "shapedefaults": {
           "line": {
            "color": "#2a3f5f"
           }
          },
          "ternary": {
           "aaxis": {
            "gridcolor": "white",
            "linecolor": "white",
            "ticks": ""
           },
           "baxis": {
            "gridcolor": "white",
            "linecolor": "white",
            "ticks": ""
           },
           "bgcolor": "#E5ECF6",
           "caxis": {
            "gridcolor": "white",
            "linecolor": "white",
            "ticks": ""
           }
          },
          "title": {
           "x": 0.05
          },
          "xaxis": {
           "automargin": true,
           "gridcolor": "white",
           "linecolor": "white",
           "ticks": "",
           "title": {
            "standoff": 15
           },
           "zerolinecolor": "white",
           "zerolinewidth": 2
          },
          "yaxis": {
           "automargin": true,
           "gridcolor": "white",
           "linecolor": "white",
           "ticks": "",
           "title": {
            "standoff": 15
           },
           "zerolinecolor": "white",
           "zerolinewidth": 2
          }
         }
        },
        "xaxis": {
         "anchor": "y",
         "domain": [
          0,
          1
         ],
         "title": {
          "text": "x"
         }
        },
        "yaxis": {
         "anchor": "x",
         "domain": [
          0,
          1
         ],
         "title": {
          "text": "y"
         }
        }
       }
      }
     },
     "metadata": {},
     "output_type": "display_data"
    },
    {
     "name": "stdout",
     "output_type": "stream",
     "text": [
      "Model 4:  , kappa = 53.37865110437062\n"
     ]
    },
    {
     "data": {
      "application/vnd.plotly.v1+json": {
       "config": {
        "plotlyServerURL": "https://plot.ly"
       },
       "data": [
        {
         "alignmentgroup": "True",
         "hovertemplate": "x=%{x}<br>y=%{y}<extra></extra>",
         "legendgroup": "",
         "marker": {
          "color": "#636efa",
          "pattern": {
           "shape": ""
          }
         },
         "name": "",
         "offsetgroup": "",
         "orientation": "v",
         "showlegend": false,
         "textposition": "auto",
         "type": "bar",
         "x": [
          "'Precentral-L'",
          "'Precentral-R'",
          "'Frontal-Sup-L'",
          "'Frontal-Sup-R'",
          "'Frontal-Sup-Orb-L'",
          "'Frontal-Sup-Orb-R'",
          "'Frontal-Mid-L'",
          "'Frontal-Mid-R'",
          "'Frontal-Mid-Orb-L'",
          "'Frontal-Mid-Orb-R'",
          "'Frontal-Inf-Oper-L'",
          "'Frontal-Inf-Oper-R'",
          "'Frontal-Inf-Tri-L'",
          "'Frontal-Inf-Tri-R'",
          "'Frontal-Inf-Orb-L'",
          "'Frontal-Inf-Orb-R'",
          "'Rolandic-Oper-L'",
          "'Rolandic-Oper-R'",
          "'Supp-Motor-Area-L'",
          "'Supp-Motor-Area-R'",
          "'Olfactory-L'",
          "'Olfactory-R'",
          "'Frontal-Sup-Medial-L'",
          "'Frontal-Sup-Medial-R'",
          "'Frontal-Med-Orb-L'",
          "'Frontal-Med-Orb-R'",
          "'Rectus-L'",
          "'Rectus-R'",
          "'Insula-L'",
          "'Insula-R'",
          "'Cingulum-Ant-L'",
          "'Cingulum-Ant-R'",
          "'Cingulum-Mid-L'",
          "'Cingulum-Mid-R'",
          "'Cingulum-Post-L'",
          "'Cingulum-Post-R'",
          "'Hippocampus-L'",
          "'Hippocampus-R'",
          "'ParaHippocampal-L'",
          "'ParaHippocampal-R'",
          "'Amygdala-L'",
          "'Amygdala-R'",
          "'Calcarine-L'",
          "'Calcarine-R'",
          "'Cuneus-L'",
          "'Cuneus-R'",
          "'Lingual-L'",
          "'Lingual-R'",
          "'Occipital-Sup-L'",
          "'Occipital-Sup-R'",
          "'Occipital-Mid-L'",
          "'Occipital-Mid-R'",
          "'Occipital-Inf-L'",
          "'Occipital-Inf-R'",
          "'Fusiform-L'",
          "'Fusiform-R'",
          "'Postcentral-L'",
          "'Postcentral-R'",
          "'Parietal-Sup-L'",
          "'Parietal-Sup-R'",
          "'Parietal-Inf-L'",
          "'Parietal-Inf-R'",
          "'SupraMarginal-L'",
          "'SupraMarginal-R'",
          "'Angular-L'",
          "'Angular-R'",
          "'Precuneus-L'",
          "'Precuneus-R'",
          "'Paracentral-Lobule-L'",
          "'Paracentral-Lobule-R'",
          "'Caudate-L'",
          "'Caudate-R'",
          "'Putamen-L'",
          "'Putamen-R'",
          "'Pallidum-L'",
          "'Pallidum-R'",
          "'Thalamus-L'",
          "'Thalamus-R'",
          "'Heschl-L'",
          "'Heschl-R'",
          "'Temporal-Sup-L'",
          "'Temporal-Sup-R'",
          "'Temporal-Pole-Sup-L'",
          "'Temporal-Pole-Sup-R'",
          "'Temporal-Mid-L'",
          "'Temporal-Mid-R'",
          "'Temporal-Pole-Mid-L'",
          "'Temporal-Pole-Mid-R'",
          "'Temporal-Inf-L'",
          "'Temporal-Inf-R'"
         ],
         "xaxis": "x",
         "y": [
          0.16473331932061383,
          0.15599173748007114,
          0.07640369334695599,
          0.0889689084958746,
          0.06672683034042083,
          0.05058224832415518,
          0.06388900257581695,
          0.061944893093237245,
          0.07241883771828342,
          0.05566347064451397,
          0.12449544060081155,
          0.11876088270320997,
          0.12367827189666204,
          0.13439843221411552,
          0.12233216769535046,
          0.12787955242379137,
          0.14421102927678353,
          0.1361140259274388,
          0.1344364632183919,
          0.15454220133664345,
          0.09979436130259914,
          0.08208276539580622,
          0.09160471042914604,
          0.0961530475725523,
          0.07860220052125805,
          0.07021448680042952,
          0.06993375593358847,
          0.06429984626986773,
          0.14413214343340602,
          0.13786089725246314,
          0.09638491227577108,
          0.0889873241660748,
          0.13826852781945093,
          0.1284727189936701,
          0.028627215090726337,
          0.027659317211664383,
          0.0752018197359255,
          0.056254938628256666,
          0.07950621789636746,
          0.12014102947803527,
          0.10906329644910186,
          0.11405604725127752,
          0.0533677838665114,
          0.05815982947097064,
          0.036465737278103316,
          0.05677783568478831,
          0.07803241246123296,
          0.07330054151840601,
          0.0457724282670544,
          0.06624076479508868,
          0.07026787448013053,
          0.06627977634797916,
          0.0932586486180613,
          0.07990163798615967,
          0.12534522930778985,
          0.1146200405919883,
          0.13782860204303501,
          0.13269363123666095,
          0.0460242727722211,
          0.06563785214005238,
          0.06917628379921834,
          0.06641828161431117,
          0.1340056523354715,
          0.13010120495094818,
          0.046101441300545415,
          0.047722439519243175,
          0.036064813713275634,
          0.025172008888283776,
          0.09561491414469805,
          0.08547399691945345,
          0.044637647529389285,
          0.06353611457859078,
          0.12342704440328316,
          0.1232260657575623,
          0.08753172394288207,
          0.0913824684154963,
          0.09257236256017992,
          0.09236073145682774,
          0.12388731512385164,
          0.12259436517794492,
          0.16214171284875784,
          0.17788506273421964,
          0.16949548747212306,
          0.18298227352926547,
          0.15231692128375227,
          0.1698395075780456,
          0.11302813871150555,
          0.12281546341652555,
          0.14115262003894127,
          0.14492030202514627
         ],
         "yaxis": "y"
        }
       ],
       "layout": {
        "barmode": "relative",
        "legend": {
         "tracegroupgap": 0
        },
        "margin": {
         "t": 60
        },
        "template": {
         "data": {
          "bar": [
           {
            "error_x": {
             "color": "#2a3f5f"
            },
            "error_y": {
             "color": "#2a3f5f"
            },
            "marker": {
             "line": {
              "color": "#E5ECF6",
              "width": 0.5
             },
             "pattern": {
              "fillmode": "overlay",
              "size": 10,
              "solidity": 0.2
             }
            },
            "type": "bar"
           }
          ],
          "barpolar": [
           {
            "marker": {
             "line": {
              "color": "#E5ECF6",
              "width": 0.5
             },
             "pattern": {
              "fillmode": "overlay",
              "size": 10,
              "solidity": 0.2
             }
            },
            "type": "barpolar"
           }
          ],
          "carpet": [
           {
            "aaxis": {
             "endlinecolor": "#2a3f5f",
             "gridcolor": "white",
             "linecolor": "white",
             "minorgridcolor": "white",
             "startlinecolor": "#2a3f5f"
            },
            "baxis": {
             "endlinecolor": "#2a3f5f",
             "gridcolor": "white",
             "linecolor": "white",
             "minorgridcolor": "white",
             "startlinecolor": "#2a3f5f"
            },
            "type": "carpet"
           }
          ],
          "choropleth": [
           {
            "colorbar": {
             "outlinewidth": 0,
             "ticks": ""
            },
            "type": "choropleth"
           }
          ],
          "contour": [
           {
            "colorbar": {
             "outlinewidth": 0,
             "ticks": ""
            },
            "colorscale": [
             [
              0,
              "#0d0887"
             ],
             [
              0.1111111111111111,
              "#46039f"
             ],
             [
              0.2222222222222222,
              "#7201a8"
             ],
             [
              0.3333333333333333,
              "#9c179e"
             ],
             [
              0.4444444444444444,
              "#bd3786"
             ],
             [
              0.5555555555555556,
              "#d8576b"
             ],
             [
              0.6666666666666666,
              "#ed7953"
             ],
             [
              0.7777777777777778,
              "#fb9f3a"
             ],
             [
              0.8888888888888888,
              "#fdca26"
             ],
             [
              1,
              "#f0f921"
             ]
            ],
            "type": "contour"
           }
          ],
          "contourcarpet": [
           {
            "colorbar": {
             "outlinewidth": 0,
             "ticks": ""
            },
            "type": "contourcarpet"
           }
          ],
          "heatmap": [
           {
            "colorbar": {
             "outlinewidth": 0,
             "ticks": ""
            },
            "colorscale": [
             [
              0,
              "#0d0887"
             ],
             [
              0.1111111111111111,
              "#46039f"
             ],
             [
              0.2222222222222222,
              "#7201a8"
             ],
             [
              0.3333333333333333,
              "#9c179e"
             ],
             [
              0.4444444444444444,
              "#bd3786"
             ],
             [
              0.5555555555555556,
              "#d8576b"
             ],
             [
              0.6666666666666666,
              "#ed7953"
             ],
             [
              0.7777777777777778,
              "#fb9f3a"
             ],
             [
              0.8888888888888888,
              "#fdca26"
             ],
             [
              1,
              "#f0f921"
             ]
            ],
            "type": "heatmap"
           }
          ],
          "heatmapgl": [
           {
            "colorbar": {
             "outlinewidth": 0,
             "ticks": ""
            },
            "colorscale": [
             [
              0,
              "#0d0887"
             ],
             [
              0.1111111111111111,
              "#46039f"
             ],
             [
              0.2222222222222222,
              "#7201a8"
             ],
             [
              0.3333333333333333,
              "#9c179e"
             ],
             [
              0.4444444444444444,
              "#bd3786"
             ],
             [
              0.5555555555555556,
              "#d8576b"
             ],
             [
              0.6666666666666666,
              "#ed7953"
             ],
             [
              0.7777777777777778,
              "#fb9f3a"
             ],
             [
              0.8888888888888888,
              "#fdca26"
             ],
             [
              1,
              "#f0f921"
             ]
            ],
            "type": "heatmapgl"
           }
          ],
          "histogram": [
           {
            "marker": {
             "pattern": {
              "fillmode": "overlay",
              "size": 10,
              "solidity": 0.2
             }
            },
            "type": "histogram"
           }
          ],
          "histogram2d": [
           {
            "colorbar": {
             "outlinewidth": 0,
             "ticks": ""
            },
            "colorscale": [
             [
              0,
              "#0d0887"
             ],
             [
              0.1111111111111111,
              "#46039f"
             ],
             [
              0.2222222222222222,
              "#7201a8"
             ],
             [
              0.3333333333333333,
              "#9c179e"
             ],
             [
              0.4444444444444444,
              "#bd3786"
             ],
             [
              0.5555555555555556,
              "#d8576b"
             ],
             [
              0.6666666666666666,
              "#ed7953"
             ],
             [
              0.7777777777777778,
              "#fb9f3a"
             ],
             [
              0.8888888888888888,
              "#fdca26"
             ],
             [
              1,
              "#f0f921"
             ]
            ],
            "type": "histogram2d"
           }
          ],
          "histogram2dcontour": [
           {
            "colorbar": {
             "outlinewidth": 0,
             "ticks": ""
            },
            "colorscale": [
             [
              0,
              "#0d0887"
             ],
             [
              0.1111111111111111,
              "#46039f"
             ],
             [
              0.2222222222222222,
              "#7201a8"
             ],
             [
              0.3333333333333333,
              "#9c179e"
             ],
             [
              0.4444444444444444,
              "#bd3786"
             ],
             [
              0.5555555555555556,
              "#d8576b"
             ],
             [
              0.6666666666666666,
              "#ed7953"
             ],
             [
              0.7777777777777778,
              "#fb9f3a"
             ],
             [
              0.8888888888888888,
              "#fdca26"
             ],
             [
              1,
              "#f0f921"
             ]
            ],
            "type": "histogram2dcontour"
           }
          ],
          "mesh3d": [
           {
            "colorbar": {
             "outlinewidth": 0,
             "ticks": ""
            },
            "type": "mesh3d"
           }
          ],
          "parcoords": [
           {
            "line": {
             "colorbar": {
              "outlinewidth": 0,
              "ticks": ""
             }
            },
            "type": "parcoords"
           }
          ],
          "pie": [
           {
            "automargin": true,
            "type": "pie"
           }
          ],
          "scatter": [
           {
            "fillpattern": {
             "fillmode": "overlay",
             "size": 10,
             "solidity": 0.2
            },
            "type": "scatter"
           }
          ],
          "scatter3d": [
           {
            "line": {
             "colorbar": {
              "outlinewidth": 0,
              "ticks": ""
             }
            },
            "marker": {
             "colorbar": {
              "outlinewidth": 0,
              "ticks": ""
             }
            },
            "type": "scatter3d"
           }
          ],
          "scattercarpet": [
           {
            "marker": {
             "colorbar": {
              "outlinewidth": 0,
              "ticks": ""
             }
            },
            "type": "scattercarpet"
           }
          ],
          "scattergeo": [
           {
            "marker": {
             "colorbar": {
              "outlinewidth": 0,
              "ticks": ""
             }
            },
            "type": "scattergeo"
           }
          ],
          "scattergl": [
           {
            "marker": {
             "colorbar": {
              "outlinewidth": 0,
              "ticks": ""
             }
            },
            "type": "scattergl"
           }
          ],
          "scattermapbox": [
           {
            "marker": {
             "colorbar": {
              "outlinewidth": 0,
              "ticks": ""
             }
            },
            "type": "scattermapbox"
           }
          ],
          "scatterpolar": [
           {
            "marker": {
             "colorbar": {
              "outlinewidth": 0,
              "ticks": ""
             }
            },
            "type": "scatterpolar"
           }
          ],
          "scatterpolargl": [
           {
            "marker": {
             "colorbar": {
              "outlinewidth": 0,
              "ticks": ""
             }
            },
            "type": "scatterpolargl"
           }
          ],
          "scatterternary": [
           {
            "marker": {
             "colorbar": {
              "outlinewidth": 0,
              "ticks": ""
             }
            },
            "type": "scatterternary"
           }
          ],
          "surface": [
           {
            "colorbar": {
             "outlinewidth": 0,
             "ticks": ""
            },
            "colorscale": [
             [
              0,
              "#0d0887"
             ],
             [
              0.1111111111111111,
              "#46039f"
             ],
             [
              0.2222222222222222,
              "#7201a8"
             ],
             [
              0.3333333333333333,
              "#9c179e"
             ],
             [
              0.4444444444444444,
              "#bd3786"
             ],
             [
              0.5555555555555556,
              "#d8576b"
             ],
             [
              0.6666666666666666,
              "#ed7953"
             ],
             [
              0.7777777777777778,
              "#fb9f3a"
             ],
             [
              0.8888888888888888,
              "#fdca26"
             ],
             [
              1,
              "#f0f921"
             ]
            ],
            "type": "surface"
           }
          ],
          "table": [
           {
            "cells": {
             "fill": {
              "color": "#EBF0F8"
             },
             "line": {
              "color": "white"
             }
            },
            "header": {
             "fill": {
              "color": "#C8D4E3"
             },
             "line": {
              "color": "white"
             }
            },
            "type": "table"
           }
          ]
         },
         "layout": {
          "annotationdefaults": {
           "arrowcolor": "#2a3f5f",
           "arrowhead": 0,
           "arrowwidth": 1
          },
          "autotypenumbers": "strict",
          "coloraxis": {
           "colorbar": {
            "outlinewidth": 0,
            "ticks": ""
           }
          },
          "colorscale": {
           "diverging": [
            [
             0,
             "#8e0152"
            ],
            [
             0.1,
             "#c51b7d"
            ],
            [
             0.2,
             "#de77ae"
            ],
            [
             0.3,
             "#f1b6da"
            ],
            [
             0.4,
             "#fde0ef"
            ],
            [
             0.5,
             "#f7f7f7"
            ],
            [
             0.6,
             "#e6f5d0"
            ],
            [
             0.7,
             "#b8e186"
            ],
            [
             0.8,
             "#7fbc41"
            ],
            [
             0.9,
             "#4d9221"
            ],
            [
             1,
             "#276419"
            ]
           ],
           "sequential": [
            [
             0,
             "#0d0887"
            ],
            [
             0.1111111111111111,
             "#46039f"
            ],
            [
             0.2222222222222222,
             "#7201a8"
            ],
            [
             0.3333333333333333,
             "#9c179e"
            ],
            [
             0.4444444444444444,
             "#bd3786"
            ],
            [
             0.5555555555555556,
             "#d8576b"
            ],
            [
             0.6666666666666666,
             "#ed7953"
            ],
            [
             0.7777777777777778,
             "#fb9f3a"
            ],
            [
             0.8888888888888888,
             "#fdca26"
            ],
            [
             1,
             "#f0f921"
            ]
           ],
           "sequentialminus": [
            [
             0,
             "#0d0887"
            ],
            [
             0.1111111111111111,
             "#46039f"
            ],
            [
             0.2222222222222222,
             "#7201a8"
            ],
            [
             0.3333333333333333,
             "#9c179e"
            ],
            [
             0.4444444444444444,
             "#bd3786"
            ],
            [
             0.5555555555555556,
             "#d8576b"
            ],
            [
             0.6666666666666666,
             "#ed7953"
            ],
            [
             0.7777777777777778,
             "#fb9f3a"
            ],
            [
             0.8888888888888888,
             "#fdca26"
            ],
            [
             1,
             "#f0f921"
            ]
           ]
          },
          "colorway": [
           "#636efa",
           "#EF553B",
           "#00cc96",
           "#ab63fa",
           "#FFA15A",
           "#19d3f3",
           "#FF6692",
           "#B6E880",
           "#FF97FF",
           "#FECB52"
          ],
          "font": {
           "color": "#2a3f5f"
          },
          "geo": {
           "bgcolor": "white",
           "lakecolor": "white",
           "landcolor": "#E5ECF6",
           "showlakes": true,
           "showland": true,
           "subunitcolor": "white"
          },
          "hoverlabel": {
           "align": "left"
          },
          "hovermode": "closest",
          "mapbox": {
           "style": "light"
          },
          "paper_bgcolor": "white",
          "plot_bgcolor": "#E5ECF6",
          "polar": {
           "angularaxis": {
            "gridcolor": "white",
            "linecolor": "white",
            "ticks": ""
           },
           "bgcolor": "#E5ECF6",
           "radialaxis": {
            "gridcolor": "white",
            "linecolor": "white",
            "ticks": ""
           }
          },
          "scene": {
           "xaxis": {
            "backgroundcolor": "#E5ECF6",
            "gridcolor": "white",
            "gridwidth": 2,
            "linecolor": "white",
            "showbackground": true,
            "ticks": "",
            "zerolinecolor": "white"
           },
           "yaxis": {
            "backgroundcolor": "#E5ECF6",
            "gridcolor": "white",
            "gridwidth": 2,
            "linecolor": "white",
            "showbackground": true,
            "ticks": "",
            "zerolinecolor": "white"
           },
           "zaxis": {
            "backgroundcolor": "#E5ECF6",
            "gridcolor": "white",
            "gridwidth": 2,
            "linecolor": "white",
            "showbackground": true,
            "ticks": "",
            "zerolinecolor": "white"
           }
          },
          "shapedefaults": {
           "line": {
            "color": "#2a3f5f"
           }
          },
          "ternary": {
           "aaxis": {
            "gridcolor": "white",
            "linecolor": "white",
            "ticks": ""
           },
           "baxis": {
            "gridcolor": "white",
            "linecolor": "white",
            "ticks": ""
           },
           "bgcolor": "#E5ECF6",
           "caxis": {
            "gridcolor": "white",
            "linecolor": "white",
            "ticks": ""
           }
          },
          "title": {
           "x": 0.05
          },
          "xaxis": {
           "automargin": true,
           "gridcolor": "white",
           "linecolor": "white",
           "ticks": "",
           "title": {
            "standoff": 15
           },
           "zerolinecolor": "white",
           "zerolinewidth": 2
          },
          "yaxis": {
           "automargin": true,
           "gridcolor": "white",
           "linecolor": "white",
           "ticks": "",
           "title": {
            "standoff": 15
           },
           "zerolinecolor": "white",
           "zerolinewidth": 2
          }
         }
        },
        "xaxis": {
         "anchor": "y",
         "domain": [
          0,
          1
         ],
         "title": {
          "text": "x"
         }
        },
        "yaxis": {
         "anchor": "x",
         "domain": [
          0,
          1
         ],
         "title": {
          "text": "y"
         }
        }
       }
      }
     },
     "metadata": {},
     "output_type": "display_data"
    }
   ],
   "source": [
    "import pandas as pd\n",
    "labels = pd.read_csv(\"AALlabels.csv\")\n",
    "label=labels['labels'].values\n",
    "import plotly.express as px\n",
    "for model in range(K):\n",
    "    print(f\"Model {model}:  , kappa = {kappa_est[model]}\")\n",
    "    fig = px.bar(y=mu_est[:,model].detach().numpy(),x=label)\n",
    "    #fig.update_layout(width=300)\n",
    "    fig.show()"
   ]
  }
 ],
 "metadata": {
  "kernelspec": {
   "display_name": "Python 3.9.13 ('ml')",
   "language": "python",
   "name": "python3"
  },
  "language_info": {
   "codemirror_mode": {
    "name": "ipython",
    "version": 3
   },
   "file_extension": ".py",
   "mimetype": "text/x-python",
   "name": "python",
   "nbconvert_exporter": "python",
   "pygments_lexer": "ipython3",
   "version": "3.9.12"
  },
  "orig_nbformat": 4,
  "vscode": {
   "interpreter": {
    "hash": "31d7989649452b8ff5b252a3e34caf45e4ffd8a5787fe28fc2ce0245f11b7782"
   }
  }
 },
 "nbformat": 4,
 "nbformat_minor": 2
}
