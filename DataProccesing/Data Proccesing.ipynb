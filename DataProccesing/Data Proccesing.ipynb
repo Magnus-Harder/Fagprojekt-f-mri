{
 "cells": [
  {
   "cell_type": "code",
   "execution_count": 2,
   "metadata": {},
   "outputs": [],
   "source": [
    "#import packages for plotting\n",
    "\n",
    "import numpy as np\n",
    "import matplotlib.pyplot as plt\n",
    "import pandas as pd\n",
    "\n",
    "\n",
    "\n",
    "from Bandpass import butter_bandpass_filter\n",
    "from Hilbert import Hilbert_transform,phase\n",
    "from CoherenceMap import CoherenceMap"
   ]
  },
  {
   "cell_type": "code",
   "execution_count": 3,
   "metadata": {},
   "outputs": [
    {
     "name": "stdout",
     "output_type": "stream",
     "text": [
      "files not found ['0022', '0023', '0032', '0068', '0072', '0073', '0086', '0089', '0106', '0107', '0140', '0144', '0147', '0152', '0162', '0178']\n",
      "Number of files not found: 16\n",
      "Dimentions of data ((90, 65670))\n"
     ]
    }
   ],
   "source": [
    "#read all datafiles\n",
    "\n",
    "n = 215 #highest ID of face filename\n",
    "\n",
    "notfound = {}\n",
    "\n",
    "for i in range(n):\n",
    "    try:\n",
    "            df = pd.read_csv(f\"AALdata_27042022/sub-{(i+1):04d}_faces.csv\",sep=\",\",header=None)\n",
    "    except FileNotFoundError:\n",
    "            notfound[i] = f\"{(i+1):04d}\"\n",
    "            continue\n",
    "    \n",
    "    # Filtering signal with bandpass filter\n",
    "\n",
    "\n",
    "    New_Subject = df.values\n",
    "    # Hilbert transform to extract phase data.\n",
    "    N,T = New_Subject.shape\n",
    "    Theta = np.zeros((N,T))\n",
    "    for idx, x in enumerate(New_Subject):\n",
    "        s_t,sh_t=Hilbert_transform(x)\n",
    "        Theta_t = phase(s_t, sh_t)\n",
    "        Theta[idx,:] = Theta_t\n",
    "\n",
    "\n",
    "    # Creating coherance map and extracting leading eigenvector\n",
    "    LEiDA_Signal = CoherenceMap(Theta)\n",
    "    \n",
    "    #Add the i'th subject  to dataframe \n",
    "    X = LEiDA_Signal if i == 0 else np.hstack((X,LEiDA_Signal))\n",
    "\n",
    "print(f\"files not found {[*notfound.values()]}\")\n",
    "print(f\"Number of files not found: {len(notfound)}\")\n",
    "print(f\"Dimentions of data ({X.shape[0],X.shape[1]})\")"
   ]
  },
  {
   "cell_type": "code",
   "execution_count": 5,
   "metadata": {},
   "outputs": [],
   "source": [
    "import pickle\n",
    "with open('.New_Data_LEiDA_Representation.pickle','wb') as f:\n",
    "    pickle.dump(X, f)"
   ]
  },
  {
   "cell_type": "code",
   "execution_count": 3,
   "metadata": {},
   "outputs": [
    {
     "name": "stdout",
     "output_type": "stream",
     "text": [
      "files not found ['0022', '0023', '0032', '0068', '0072', '0073', '0086', '0089', '0106', '0107', '0140', '0144', '0147', '0152', '0162', '0178']\n",
      "Number of files not found: 16\n",
      "Dimentions of data ((90, 65670))\n"
     ]
    }
   ],
   "source": [
    "\n",
    "#read all datafiles from AALdata_27042022\n",
    "\n",
    "n = 215 #highest ID of face filename\n",
    "\n",
    "notfound = {}\n",
    "\n",
    "for i in range(n):\n",
    "    try:\n",
    "            df = pd.read_csv(f\"AALdata_27042022/sub-{(i+1):04d}_faces.csv\",sep=\",\",header=None)\n",
    "    except FileNotFoundError:\n",
    "            notfound[i] = f\"{(i+1):04d}\"\n",
    "            continue\n",
    "    \n",
    "  \n",
    "    X_filtered = df.values\n",
    "\n",
    "\n",
    "    # Hilbert transform to extract phase data.\n",
    "    N,T = X_filtered.shape\n",
    "    Theta = np.zeros((N,T))\n",
    "    for idx, x in enumerate(X_filtered):\n",
    "        s_t,sh_t=Hilbert_transform(x)\n",
    "        Theta_t = phase(s_t, sh_t)\n",
    "        Theta[idx,:] = Theta_t\n",
    "\n",
    "\n",
    "    # Creating coherance map and extracting leading eigenvector\n",
    "    LEiDA_Signal = CoherenceMap(Theta)\n",
    "    \n",
    "    #Add the i'th subject  to dataframe \n",
    "    X = LEiDA_Signal if i == 0 else np.hstack((X,LEiDA_Signal))\n",
    "\n",
    "print(f\"files not found {[*notfound.values()]}\")\n",
    "print(f\"Number of files not found: {len(notfound)}\")\n",
    "print(f\"Dimentions of data ({X.shape[0],X.shape[1]})\")"
   ]
  },
  {
   "cell_type": "code",
   "execution_count": null,
   "metadata": {},
   "outputs": [],
   "source": [
    "import pickle\n",
    "with open('.New_Data_LEiDA_Representation.pickle','wb') as f:\n",
    "    pickle.dump(X, f)"
   ]
  }
 ],
 "metadata": {
  "interpreter": {
   "hash": "40d3a090f54c6569ab1632332b64b2c03c39dcf918b08424e98f38b5ae0af88f"
  },
  "kernelspec": {
   "display_name": "Python 3.8.8 ('base')",
   "language": "python",
   "name": "python3"
  },
  "language_info": {
   "codemirror_mode": {
    "name": "ipython",
    "version": 3
   },
   "file_extension": ".py",
   "mimetype": "text/x-python",
   "name": "python",
   "nbconvert_exporter": "python",
   "pygments_lexer": "ipython3",
   "version": "3.8.8"
  },
  "orig_nbformat": 4
 },
 "nbformat": 4,
 "nbformat_minor": 2
}
