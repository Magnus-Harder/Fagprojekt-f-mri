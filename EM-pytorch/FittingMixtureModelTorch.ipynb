{
 "cells": [
  {
   "cell_type": "code",
   "execution_count": 1,
   "metadata": {},
   "outputs": [],
   "source": [
    "import pickle\n",
    "import plotly.express as px\n",
    "import pandas as pd\n",
    "import numpy as np\n",
    "import torch\n",
    "import LogLikelihoodTorch \n",
    "\n",
    "with open('.DataPhase.pickle','rb') as f:\n",
    "    X = pickle.load(f)\n",
    "torch.set_default_dtype(torch.float64)\n",
    "X_tensor = torch.from_numpy(X).to(torch.float64)\n"
   ]
  },
  {
   "cell_type": "code",
   "execution_count": 2,
   "metadata": {},
   "outputs": [],
   "source": [
    "# Setting Up Parameters For Fitting of K Multivariate Watson Distributions\n",
    "\n",
    "K = 7\n",
    "p = 90\n",
    "\n",
    "pi,kappa,mu = LogLikelihoodTorch.Initialize(p=p,K=K)\n",
    "#%%\n",
    "\n",
    "learning_rate = 1\n",
    "n_iters = 3000\n",
    "\n",
    "#torch.autograd.set_detect_anomaly(False)\n",
    "Parameters = [\n",
    "    {'params':pi},\n",
    "    {'params':kappa},\n",
    "    {'params':mu}\n",
    "]\n",
    "\n",
    "Adam = torch.optim.Adam(Parameters,lr=learning_rate)\n"
   ]
  },
  {
   "cell_type": "code",
   "execution_count": 3,
   "metadata": {},
   "outputs": [
    {
     "name": "stdout",
     "output_type": "stream",
     "text": [
      "epoch 1; Log-Likelihood = -5529658.767288913\n",
      "epoch 101; Log-Likelihood = -6306845.881398491\n",
      "epoch 201; Log-Likelihood = -6385702.477403252\n",
      "epoch 301; Log-Likelihood = -6397880.758594229\n",
      "epoch 401; Log-Likelihood = -6459081.595185234\n",
      "epoch 501; Log-Likelihood = -6517219.0344613325\n",
      "epoch 601; Log-Likelihood = -6546745.744339621\n",
      "epoch 701; Log-Likelihood = -6574367.353358062\n",
      "epoch 801; Log-Likelihood = -6607147.772704729\n",
      "epoch 901; Log-Likelihood = -6647197.5492872605\n",
      "epoch 1001; Log-Likelihood = -6694035.401104709\n",
      "epoch 1101; Log-Likelihood = -6747151.734048681\n",
      "epoch 1201; Log-Likelihood = -6805636.93104538\n",
      "epoch 1301; Log-Likelihood = -6868862.074130376\n",
      "epoch 1401; Log-Likelihood = -6935623.012485649\n",
      "epoch 1501; Log-Likelihood = -6984982.4670212185\n",
      "epoch 1601; Log-Likelihood = -7020929.010113728\n",
      "epoch 1701; Log-Likelihood = -7058877.687384576\n",
      "epoch 1801; Log-Likelihood = -7098496.046222242\n",
      "epoch 1901; Log-Likelihood = -7139720.418638597\n",
      "epoch 2001; Log-Likelihood = -7173064.8927161945\n",
      "epoch 2101; Log-Likelihood = -7194339.038677019\n",
      "epoch 2201; Log-Likelihood = -7196488.529185305\n",
      "epoch 2301; Log-Likelihood = -7196499.7721200995\n",
      "epoch 2401; Log-Likelihood = -7196487.988430646\n",
      "epoch 2501; Log-Likelihood = -7196499.730569624\n",
      "epoch 2601; Log-Likelihood = -7196485.046374712\n",
      "epoch 2701; Log-Likelihood = -7196485.34815352\n",
      "epoch 2801; Log-Likelihood = -7196506.732539312\n",
      "epoch 2901; Log-Likelihood = -7196493.541097207\n"
     ]
    }
   ],
   "source": [
    "# Optimizing Distribution:\n",
    "Pi_fit,Kappa_fit,mu_fit = LogLikelihoodTorch.Optimizationloop(X_tensor,[pi,kappa,mu],lose=LogLikelihoodTorch.log_likelihood,Optimizer=Adam,n_iters=n_iters,K=K)"
   ]
  },
  {
   "cell_type": "code",
   "execution_count": 4,
   "metadata": {},
   "outputs": [],
   "source": [
    "# Contraining Parametes and Saving Fitted Model\n",
    "Softmax = torch.nn.Softmax(0)\n",
    "Softplus = torch.nn.Softplus()\n",
    "\n",
    "pi_est = Softmax(Pi_fit)\n",
    "kappa_est = Softplus(Kappa_fit)\n",
    "mu_est = mu /torch.sqrt((mu_fit * mu_fit).sum(axis=0))\n",
    "\n",
    "with open('Torch_K=7.pickle','wb') as f:\n",
    "    pickle.dump([pi_est,kappa_est,mu_est], f)"
   ]
  }
 ],
 "metadata": {
  "kernelspec": {
   "display_name": "Python 3.9.13 ('ml')",
   "language": "python",
   "name": "python3"
  },
  "language_info": {
   "codemirror_mode": {
    "name": "ipython",
    "version": 3
   },
   "file_extension": ".py",
   "mimetype": "text/x-python",
   "name": "python",
   "nbconvert_exporter": "python",
   "pygments_lexer": "ipython3",
   "version": "3.9.12"
  },
  "orig_nbformat": 4,
  "vscode": {
   "interpreter": {
    "hash": "31d7989649452b8ff5b252a3e34caf45e4ffd8a5787fe28fc2ce0245f11b7782"
   }
  }
 },
 "nbformat": 4,
 "nbformat_minor": 2
}
